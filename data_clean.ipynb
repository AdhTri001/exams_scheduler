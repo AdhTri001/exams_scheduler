{
 "cells": [
  {
   "cell_type": "markdown",
   "metadata": {},
   "source": [
    "## EXAM SCHEDULER PROTOTYPE"
   ]
  },
  {
   "cell_type": "code",
   "execution_count": 100,
   "metadata": {},
   "outputs": [],
   "source": [
    "import pandas as pd\n",
    "from collections import defaultdict\n",
    "import os"
   ]
  },
  {
   "cell_type": "markdown",
   "metadata": {},
   "source": [
    "### CONSTANTS"
   ]
  },
  {
   "cell_type": "code",
   "execution_count": 101,
   "metadata": {},
   "outputs": [],
   "source": [
    "SEM = '2024-2025-1'\n",
    "DATA_PATH = './data/'"
   ]
  },
  {
   "cell_type": "code",
   "execution_count": 102,
   "metadata": {},
   "outputs": [],
   "source": [
    "courses : dict[str, str] = {}\n",
    "\n",
    "for file in os.listdir(DATA_PATH):\n",
    "\n",
    "    if file.startswith(SEM):\n",
    "\n",
    "        if file.endswith('report.csv'):\n",
    "            continue\n",
    "\n",
    "        df = pd.read_csv(DATA_PATH + file, usecols= [0, 1], index_col=0)\n",
    "        courses.update(\n",
    "            df['cname'].to_dict()\n",
    "        )"
   ]
  },
  {
   "cell_type": "code",
   "execution_count": 103,
   "metadata": {},
   "outputs": [],
   "source": [
    "enrolled : dict[str, set] = defaultdict(set)\n",
    "\n",
    "with open(DATA_PATH + SEM + '_report.csv') as f:\n",
    "\n",
    "    f.readline()\n",
    "\n",
    "    for line in f:\n",
    "\n",
    "        line = line.strip().split(',')\n",
    "        c_num = line[4].lstrip('\"').rstrip('\"')\n",
    "        c_name = courses.get(c_num, None)\n",
    "        if c_name is None:\n",
    "            c_name = line[5].lstrip('\"').rstrip('\"')\n",
    "            courses[c_num] = c_name\n",
    "\n",
    "        enrolled[c_name].add(int(line[0]))"
   ]
  },
  {
   "cell_type": "markdown",
   "metadata": {},
   "source": [
    "Printing all the courses that I am enrolled in"
   ]
  },
  {
   "cell_type": "code",
   "execution_count": 104,
   "metadata": {},
   "outputs": [
    {
     "name": "stdout",
     "output_type": "stream",
     "text": [
      "Law Relating to Intellectual Property and Patents\n",
      "Fundamentals of Database Systems\n",
      "Computer Vision\n",
      "Machine Learning\n",
      "Real Analysis I\n",
      "Theory of Computation\n",
      "EECS Laboratory I\n"
     ]
    }
   ],
   "source": [
    "for course in enrolled:\n",
    "    if 22016 in enrolled[course]:\n",
    "        print(course)"
   ]
  },
  {
   "cell_type": "markdown",
   "metadata": {},
   "source": [
    "### Creating the graph"
   ]
  },
  {
   "cell_type": "code",
   "execution_count": 105,
   "metadata": {},
   "outputs": [],
   "source": [
    "import networkx as nx"
   ]
  },
  {
   "cell_type": "code",
   "execution_count": 106,
   "metadata": {},
   "outputs": [],
   "source": [
    "g = nx.Graph()\n",
    "\n",
    "g.add_edge('a', 'b')"
   ]
  },
  {
   "cell_type": "code",
   "execution_count": 107,
   "metadata": {},
   "outputs": [],
   "source": [
    "g = nx.Graph()\n",
    "\n",
    "for course in enrolled:\n",
    "    for course2 in enrolled:\n",
    "\n",
    "        if course == course2:\n",
    "            continue\n",
    "\n",
    "        if course in g and course2 in g[course]:\n",
    "            continue\n",
    "\n",
    "        if not enrolled[course].isdisjoint(enrolled[course2]):\n",
    "            g.add_edge(course, course2)"
   ]
  },
  {
   "cell_type": "code",
   "execution_count": 108,
   "metadata": {},
   "outputs": [
    {
     "data": {
      "text/plain": [
       "{'Law Relating to Intellectual Property and Patents': 0,\n",
       " 'Reading Childrens Literature: Adventures, Ghosts and the Cultural Imagination': 1,\n",
       " 'Data Science in Practice': 2,\n",
       " 'Ethics for Research': 2,\n",
       " 'MS Thesis': 0,\n",
       " 'Learning, Memory, and Cognition': 3,\n",
       " 'Ph.D. Thesis': 4,\n",
       " 'Basic Organic Chemistry II': 4,\n",
       " 'Natural Language Processing': 5,\n",
       " 'Machine Learning': 3,\n",
       " 'Real Analysis I': 4,\n",
       " 'Waves and Optics': 5,\n",
       " 'Fundamentals of Database Systems': 6,\n",
       " 'Linear Algebra': 7,\n",
       " 'Statistical Mechanics': 3,\n",
       " 'Advances in Omics': 6,\n",
       " 'Migration, State, and Society': 4,\n",
       " 'Electromagnetism': 1,\n",
       " 'Computer Vision': 8,\n",
       " 'General Chemistry': 1,\n",
       " 'Philosophical Beginnings: Matter, Motion, and the Cosmos': 7,\n",
       " 'Introduction to Groups and Symmetry': 9,\n",
       " 'Basic Electronics': 10,\n",
       " 'Multivariable Calculus': 6,\n",
       " 'Main Group Chemistry': 7,\n",
       " 'Theory of Computation': 1,\n",
       " 'Econometrics I': 2,\n",
       " 'General Physics Laboratory I': 3,\n",
       " 'Geohydrology': 8,\n",
       " 'Basic Physical Chemistry': 8,\n",
       " 'Physical Organic Chemistry': 9,\n",
       " 'Discrete Mathematics I': 0,\n",
       " 'Classical Mechanics': 5,\n",
       " 'Biochemistry': 5,\n",
       " 'Cell Signaling and Stress Biology': 7,\n",
       " 'Computer Organisation': 4,\n",
       " 'Symmetry and Group Theory': 1,\n",
       " 'Inorganic Chemistry Laboratory': 0,\n",
       " 'Money, Banking and Financial Markets': 9,\n",
       " 'Biology Laboratory I': 10,\n",
       " 'Organic Chemistry I': 11,\n",
       " 'Condensed Matter Physics': 6,\n",
       " 'Chemistry and Physics of Materials': 2,\n",
       " 'Data Analyses and Statistics for Geosciences ': 6,\n",
       " 'Data Analyses and Statistics for Geosciences': 7,\n",
       " 'Physical Chemistry of Solutions': 12,\n",
       " 'Chemistry of Biological Systems': 4,\n",
       " 'Plant Physiology': 9,\n",
       " 'Evolutionary Ecology': 4,\n",
       " 'Multi-agent Reinformcement Learning': 10,\n",
       " 'Atmospheric Sciences': 13,\n",
       " 'Biology I: Biomolecules': 5,\n",
       " 'Heat Transfer Operations': 6,\n",
       " 'Microeconomics II': 8,\n",
       " 'Condensed Matter Physics Laboratory': 7,\n",
       " 'Electrodynamics': 8,\n",
       " 'Environmental Impact Assessment': 3,\n",
       " 'Cell Biology': 10,\n",
       " 'Introduction to Quantum Computer Science': 9,\n",
       " 'Computer Networks': 11,\n",
       " '3D Deep Learning and Applications': 12,\n",
       " 'Environmental Humanities': 2,\n",
       " 'Advanced Linear Algebra': 10,\n",
       " 'Solid Earth Geophysics': 11,\n",
       " 'Virology': 2,\n",
       " 'Systems Biology': 8,\n",
       " 'Polymer Processing': 5,\n",
       " 'Elementary Number Theory': 11,\n",
       " 'Complex Analysis I': 2,\n",
       " 'Introduction to Earth and Environmental Sciences Laboratory': 11,\n",
       " 'Mechanics': 4,\n",
       " 'Game Theory': 1,\n",
       " 'Mineralogy': 10,\n",
       " 'Environmental Chemistry': 13,\n",
       " 'General Theory of Relativity': 9,\n",
       " 'Advances in Microbiology': 9,\n",
       " 'Introduction to MEMS': 12,\n",
       " 'Applied Accelerated Artificial Intelligence': 6,\n",
       " 'Chemical Engineering Thermodynamics': 4,\n",
       " 'Mathematical Methods for Chemists': 9,\n",
       " 'Quantum Field Theory I': 3,\n",
       " 'Electronic Devices': 5,\n",
       " 'Experimental Techniques': 10,\n",
       " 'Advanced Deep Learning': 8,\n",
       " 'Cloud Computing': 13,\n",
       " 'Biology V: Diversity of Life I': 12,\n",
       " 'Oceanography': 14,\n",
       " 'Organic Chemistry Laboratory': 14,\n",
       " 'Engineering Design and Drawing': 9,\n",
       " 'Group Theory': 12,\n",
       " 'Earth Surface Processes': 7,\n",
       " 'Evolution of the Indian Plate': 8,\n",
       " 'Introduction to Quantum Mechanics': 8,\n",
       " 'Indian Monsoon and its Variability': 5,\n",
       " 'Epigenetics': 12,\n",
       " 'Biophysics and Structural Biology': 13,\n",
       " 'Advanced Inorganic Chemistry': 5,\n",
       " 'Developmental Biology': 14,\n",
       " 'Microbiology': 11,\n",
       " 'General Physics Laboratory II': 15,\n",
       " 'Econometrics II': 5,\n",
       " 'Biology Laboratory III': 12,\n",
       " 'Principles of Economics I': 8,\n",
       " 'Quantum Information Theory': 2,\n",
       " 'Mathematical Methods I': 3,\n",
       " 'Global Climate Change': 9,\n",
       " 'Control Systems': 9,\n",
       " 'Ph.D.Thesis': 4,\n",
       " 'Bioinorganic Chemistry': 6,\n",
       " 'Economic Theory: Mechanism Design': 4,\n",
       " 'Social Choice Theory': 10,\n",
       " 'Biology III: Fundamentals of Molecular Biology': 16,\n",
       " 'Chemistry Laboratory II': 17,\n",
       " 'Engineering Mechanics (Solid and Fluid)': 11,\n",
       " 'Advanced Organic Chemistry I(Organometallics and Asymmetric Synthesis)': 11,\n",
       " 'Advanced Molecular Spectroscopy': 6,\n",
       " 'Electro Chemical Engineering': 1,\n",
       " 'Fields and Galois Theory': 6,\n",
       " 'Partial Differential Equations': 7,\n",
       " 'General Biology Laboratory': 8,\n",
       " 'Macroeconomics II': 11,\n",
       " 'Advanced Academic Communication Skills': 12,\n",
       " 'Metamorphic Petrology': 0,\n",
       " 'Aerosol Science': 10,\n",
       " 'Functional Analysis': 3,\n",
       " 'Mineralogy Laboratory': 12,\n",
       " 'Environmental Chemistry Laboratory': 14,\n",
       " 'Metamorphic Petrology Laboratory': 11,\n",
       " 'Chemical Biology': 10,\n",
       " 'Advanced Statistical Mechanics': 3,\n",
       " 'Thermal Physics': 1,\n",
       " 'Real Analysis II': 0,\n",
       " 'Earth Materials and Processes': 10,\n",
       " 'Advanced Mineralogy': 12,\n",
       " 'Global Climate Change Laboratory': 11,\n",
       " 'Modern Cryptography': 3,\n",
       " 'Decoherence and Open Quantum Systems': 1,\n",
       " 'Spintronics and Nanomagnetics': 3,\n",
       " 'Chemical Reaction Engineering II': 0,\n",
       " 'Chemistry Laboratory I': 7,\n",
       " 'Analog Circuits': 4,\n",
       " 'EECS Laboratory I': 11,\n",
       " 'Representation Theory': 1,\n",
       " 'Infectious Disease Biology': 1,\n",
       " 'Introduction to Probability and its Applications': 1,\n",
       " 'Fluid Mechanics and Mechanical Operations': 3,\n",
       " 'Frontiers in Organic Chemistry': 1,\n",
       " 'Introduction to Algebraic Topology': 5,\n",
       " 'Soft Condensed Matter': 1,\n",
       " 'Numerical Methods in Chemical Engineering': 7,\n",
       " 'Advanced Mathematical Methods for Physics': 5,\n",
       " 'Non-Linear Dynamics and Chaos': 2,\n",
       " 'Physical Training': 0,\n",
       " 'National Cadet Corps': 0,\n",
       " 'Cosmology II': 1,\n",
       " 'Seminar Course - 2': 0,\n",
       " 'Physics Laboratory I': 6,\n",
       " 'Fundamentals of Solution-State NMR Spectroscopy: Principles and Applications': 1,\n",
       " 'Commutative Algebra': 5,\n",
       " 'Process Dynamics and Control': 6,\n",
       " 'Chemical Reaction Engineering and Process Control Laboratory': 7,\n",
       " 'An Introduction to Algebraic Number Theory': 3,\n",
       " 'Topics in Probability and Stochastic Processes': 0,\n",
       " 'Fluid Mechanics and Thermodynamics Laboratory': 4,\n",
       " 'Introduction to Differentiable Manifolds and Lie Groups': 3,\n",
       " 'Optimization Techniques': 1,\n",
       " 'Introduction to Stochastic Calculus and Mathematical Finance': 1,\n",
       " 'Introduction to Riemannian Geometry': 5,\n",
       " 'Fundamentals of  Supramolecular Chemistry': 2,\n",
       " 'Bioentrepreneurship': 0,\n",
       " 'Research Project': 1,\n",
       " 'Data Science and Machine Learning': 0,\n",
       " 'Algebra I': 1,\n",
       " 'Real Analysis': 2,\n",
       " 'MS Research': 0,\n",
       " 'Project Work': 0}"
      ]
     },
     "execution_count": 108,
     "metadata": {},
     "output_type": "execute_result"
    }
   ],
   "source": [
    "nx.coloring.greedy_color(g, strategy='largest_first')"
   ]
  }
 ],
 "metadata": {
  "kernelspec": {
   "display_name": "Python 3",
   "language": "python",
   "name": "python3"
  },
  "language_info": {
   "codemirror_mode": {
    "name": "ipython",
    "version": 3
   },
   "file_extension": ".py",
   "mimetype": "text/x-python",
   "name": "python",
   "nbconvert_exporter": "python",
   "pygments_lexer": "ipython3",
   "version": "3.9.13"
  }
 },
 "nbformat": 4,
 "nbformat_minor": 2
}
