{
 "cells": [
  {
   "cell_type": "markdown",
   "metadata": {},
   "source": [
    "## EXAM SCHEDULER PROTOTYPE"
   ]
  },
  {
   "cell_type": "code",
   "execution_count": 1,
   "metadata": {},
   "outputs": [],
   "source": [
    "import pandas as pd\n",
    "from collections import defaultdict\n",
    "import os"
   ]
  },
  {
   "cell_type": "markdown",
   "metadata": {},
   "source": [
    "### CONSTANTS"
   ]
  },
  {
   "cell_type": "code",
   "execution_count": 2,
   "metadata": {},
   "outputs": [],
   "source": [
    "SEM = '2024-2025-1'\n",
    "DATA_PATH = './data/'"
   ]
  },
  {
   "cell_type": "code",
   "execution_count": 3,
   "metadata": {},
   "outputs": [],
   "source": [
    "\"\"\"courses\n",
    "This dictionary represents:\n",
    "    key:    str     course_number\n",
    "    value:  str     course_name\n",
    "\"\"\"\n",
    "courses: dict[str, str] = {}\n",
    "\n",
    "# List all files in the specified directory\n",
    "for filename in os.listdir(DATA_PATH):\n",
    "    if filename.startswith(SEM) and not filename.endswith('report.csv'):\n",
    "        # Construct the full path for the CSV file\n",
    "        file_path = os.path.join(DATA_PATH, filename)\n",
    "        \n",
    "        # Load the relevant columns from the CSV file\n",
    "        df = pd.read_csv(file_path, usecols=[0, 1], index_col=0)\n",
    "        \n",
    "        # Update the courses dictionary with course names\n",
    "        courses.update(df['cname'].to_dict())\n",
    "\n",
    "# At this point, the courses dictionary is populated"
   ]
  },
  {
   "cell_type": "code",
   "execution_count": 4,
   "metadata": {},
   "outputs": [
    {
     "name": "stdout",
     "output_type": "stream",
     "text": [
      "[HSS105: Advanced Academic Communication Skills]\n",
      "[HSS316: Philosophical Beginnings: Matter, Motion, and the Cosmos]\n",
      "[HSS616: Philosophical Beginnings: Matter, Motion, and the Cosmos]\n",
      "[HSS325: Reading Childrens Literature: Adventures, Ghosts and the Cultural Imagination]\n",
      "[HSS625: Reading Childrens Literature: Adventures, Ghosts and the Cultural Imagination]\n",
      "[HSS327: Environmental Humanities]\n"
     ]
    }
   ],
   "source": [
    "count = 0\n",
    "for key, value in courses.items():\n",
    "    if count > 5:\n",
    "        break\n",
    "    count += 1\n",
    "    print(f\"[{key}: {value}]\")"
   ]
  },
  {
   "cell_type": "code",
   "execution_count": 5,
   "metadata": {},
   "outputs": [],
   "source": [
    "\"\"\"course_students_dict\n",
    "This dictionary represents:\n",
    "    key:    str         course_name\n",
    "    value:  set[int]    set of student IDs\n",
    "\"\"\"\n",
    "course_students_dict = defaultdict(set)\n",
    "\n",
    "# Read the csv file `2024-2025-1_report.csv`\n",
    "df = pd.read_csv(DATA_PATH + SEM + '_report.csv')\n",
    "\n",
    "for index, row in df.iterrows():\n",
    "    course_number = row['Course Number'].strip('\"') \n",
    "    student_id = int(row['Roll Number'])           \n",
    "\n",
    "    # Get course name; if not found, create a new entry\n",
    "    course_name = courses.get(course_number)\n",
    "    if course_name is None:\n",
    "        course_name = row['Course Title'].strip('\"')\n",
    "        courses[course_number] = course_name\n",
    "\n",
    "    # Add the student ID to the corresponding course name set\n",
    "    course_students_dict[course_name].add(student_id)"
   ]
  },
  {
   "cell_type": "markdown",
   "metadata": {},
   "source": [
    "#### `course_students_dict`: contains the mapping of course names to student IDs"
   ]
  },
  {
   "cell_type": "markdown",
   "metadata": {},
   "source": [
    "### Test"
   ]
  },
  {
   "cell_type": "code",
   "execution_count": 6,
   "metadata": {},
   "outputs": [
    {
     "name": "stdout",
     "output_type": "stream",
     "text": [
      "Adheesh:  Law Relating to Intellectual Property and Patents\n",
      "Adheesh:  Fundamentals of Database Systems\n",
      "Adheesh:  Computer Vision\n",
      "Adheesh:  Machine Learning\n",
      "Adheesh:  Real Analysis I\n",
      "Adheesh:  Theory of Computation\n",
      "Adheesh:  EECS Laboratory I\n"
     ]
    }
   ],
   "source": [
    "# Printing all the courses that I am enrolled in\n",
    "for course in course_students_dict:\n",
    "    Adheesh = 22016\n",
    "    if Adheesh in course_students_dict[course]:\n",
    "        print(\"Adheesh: \", course)"
   ]
  },
  {
   "cell_type": "markdown",
   "metadata": {},
   "source": [
    "### Creating the graph"
   ]
  },
  {
   "cell_type": "code",
   "execution_count": 7,
   "metadata": {},
   "outputs": [],
   "source": [
    "import networkx as nx"
   ]
  },
  {
   "cell_type": "code",
   "execution_count": 8,
   "metadata": {},
   "outputs": [],
   "source": [
    "g = nx.Graph()\n",
    "g.add_edge('a', 'b')"
   ]
  },
  {
   "cell_type": "code",
   "execution_count": 9,
   "metadata": {},
   "outputs": [],
   "source": [
    "g = nx.Graph()\n",
    "\n",
    "for course in course_students_dict:\n",
    "    for course2 in course_students_dict:\n",
    "\n",
    "        if course == course2:\n",
    "            continue\n",
    "\n",
    "        if course in g and course2 in g[course]:\n",
    "            continue\n",
    "\n",
    "        if not course_students_dict[course].isdisjoint(course_students_dict[course2]):\n",
    "            g.add_edge(course, course2)"
   ]
  },
  {
   "cell_type": "code",
   "execution_count": 10,
   "metadata": {},
   "outputs": [
    {
     "data": {
      "text/plain": [
       "{'Law Relating to Intellectual Property and Patents': 0,\n",
       " 'Reading Childrens Literature: Adventures, Ghosts and the Cultural Imagination': 1,\n",
       " 'Data Science in Practice': 2,\n",
       " 'Ethics for Research': 2,\n",
       " 'MS Thesis': 0,\n",
       " 'Learning, Memory, and Cognition': 3,\n",
       " 'Ph.D. Thesis': 4,\n",
       " 'Basic Organic Chemistry II': 4,\n",
       " 'Natural Language Processing': 5,\n",
       " 'Machine Learning': 3,\n",
       " 'Real Analysis I': 4,\n",
       " 'Waves and Optics': 5,\n",
       " 'Fundamentals of Database Systems': 6,\n",
       " 'Linear Algebra': 7,\n",
       " 'Statistical Mechanics': 3,\n",
       " 'Advances in Omics': 6,\n",
       " 'Migration, State, and Society': 4,\n",
       " 'Electromagnetism': 1,\n",
       " 'Computer Vision': 8,\n",
       " 'General Chemistry': 1,\n",
       " 'Philosophical Beginnings: Matter, Motion, and the Cosmos': 7,\n",
       " 'Introduction to Groups and Symmetry': 9,\n",
       " 'Basic Electronics': 10,\n",
       " 'Multivariable Calculus': 6,\n",
       " 'Main Group Chemistry': 7,\n",
       " 'Theory of Computation': 1,\n",
       " 'Econometrics I': 2,\n",
       " 'General Physics Laboratory I': 3,\n",
       " 'Geohydrology': 8,\n",
       " 'Basic Physical Chemistry': 8,\n",
       " 'Physical Organic Chemistry': 9,\n",
       " 'Discrete Mathematics I': 0,\n",
       " 'Classical Mechanics': 5,\n",
       " 'Biochemistry': 5,\n",
       " 'Cell Signaling and Stress Biology': 7,\n",
       " 'Computer Organisation': 4,\n",
       " 'Symmetry and Group Theory': 1,\n",
       " 'Inorganic Chemistry Laboratory': 0,\n",
       " 'Money, Banking and Financial Markets': 9,\n",
       " 'Biology Laboratory I': 10,\n",
       " 'Organic Chemistry I': 11,\n",
       " 'Condensed Matter Physics': 6,\n",
       " 'Chemistry and Physics of Materials': 2,\n",
       " 'Data Analyses and Statistics for Geosciences ': 6,\n",
       " 'Data Analyses and Statistics for Geosciences': 7,\n",
       " 'Physical Chemistry of Solutions': 12,\n",
       " 'Chemistry of Biological Systems': 4,\n",
       " 'Plant Physiology': 9,\n",
       " 'Evolutionary Ecology': 4,\n",
       " 'Multi-agent Reinformcement Learning': 10,\n",
       " 'Atmospheric Sciences': 13,\n",
       " 'Biology I: Biomolecules': 5,\n",
       " 'Heat Transfer Operations': 6,\n",
       " 'Microeconomics II': 8,\n",
       " 'Condensed Matter Physics Laboratory': 7,\n",
       " 'Electrodynamics': 8,\n",
       " 'Environmental Impact Assessment': 3,\n",
       " 'Cell Biology': 10,\n",
       " 'Introduction to Quantum Computer Science': 9,\n",
       " 'Computer Networks': 11,\n",
       " '3D Deep Learning and Applications': 12,\n",
       " 'Environmental Humanities': 2,\n",
       " 'Advanced Linear Algebra': 10,\n",
       " 'Solid Earth Geophysics': 11,\n",
       " 'Virology': 2,\n",
       " 'Systems Biology': 8,\n",
       " 'Polymer Processing': 5,\n",
       " 'Elementary Number Theory': 11,\n",
       " 'Complex Analysis I': 2,\n",
       " 'Introduction to Earth and Environmental Sciences Laboratory': 11,\n",
       " 'Mechanics': 4,\n",
       " 'Game Theory': 1,\n",
       " 'Mineralogy': 10,\n",
       " 'Environmental Chemistry': 13,\n",
       " 'General Theory of Relativity': 9,\n",
       " 'Advances in Microbiology': 9,\n",
       " 'Introduction to MEMS': 12,\n",
       " 'Applied Accelerated Artificial Intelligence': 6,\n",
       " 'Chemical Engineering Thermodynamics': 4,\n",
       " 'Mathematical Methods for Chemists': 9,\n",
       " 'Quantum Field Theory I': 3,\n",
       " 'Electronic Devices': 5,\n",
       " 'Experimental Techniques': 10,\n",
       " 'Advanced Deep Learning': 8,\n",
       " 'Cloud Computing': 13,\n",
       " 'Biology V: Diversity of Life I': 12,\n",
       " 'Oceanography': 14,\n",
       " 'Organic Chemistry Laboratory': 14,\n",
       " 'Engineering Design and Drawing': 9,\n",
       " 'Group Theory': 12,\n",
       " 'Earth Surface Processes': 7,\n",
       " 'Evolution of the Indian Plate': 8,\n",
       " 'Introduction to Quantum Mechanics': 8,\n",
       " 'Indian Monsoon and its Variability': 5,\n",
       " 'Epigenetics': 12,\n",
       " 'Biophysics and Structural Biology': 13,\n",
       " 'Advanced Inorganic Chemistry': 5,\n",
       " 'Developmental Biology': 14,\n",
       " 'Microbiology': 11,\n",
       " 'General Physics Laboratory II': 15,\n",
       " 'Econometrics II': 5,\n",
       " 'Biology Laboratory III': 12,\n",
       " 'Principles of Economics I': 8,\n",
       " 'Quantum Information Theory': 2,\n",
       " 'Mathematical Methods I': 3,\n",
       " 'Global Climate Change': 9,\n",
       " 'Control Systems': 9,\n",
       " 'Ph.D.Thesis': 4,\n",
       " 'Bioinorganic Chemistry': 6,\n",
       " 'Economic Theory: Mechanism Design': 4,\n",
       " 'Social Choice Theory': 10,\n",
       " 'Biology III: Fundamentals of Molecular Biology': 16,\n",
       " 'Chemistry Laboratory II': 17,\n",
       " 'Engineering Mechanics (Solid and Fluid)': 11,\n",
       " 'Advanced Organic Chemistry I(Organometallics and Asymmetric Synthesis)': 11,\n",
       " 'Advanced Molecular Spectroscopy': 6,\n",
       " 'Electro Chemical Engineering': 1,\n",
       " 'Fields and Galois Theory': 6,\n",
       " 'Partial Differential Equations': 7,\n",
       " 'General Biology Laboratory': 8,\n",
       " 'Macroeconomics II': 11,\n",
       " 'Advanced Academic Communication Skills': 12,\n",
       " 'Metamorphic Petrology': 0,\n",
       " 'Aerosol Science': 10,\n",
       " 'Functional Analysis': 3,\n",
       " 'Mineralogy Laboratory': 12,\n",
       " 'Environmental Chemistry Laboratory': 14,\n",
       " 'Metamorphic Petrology Laboratory': 11,\n",
       " 'Chemical Biology': 10,\n",
       " 'Advanced Statistical Mechanics': 3,\n",
       " 'Thermal Physics': 1,\n",
       " 'Real Analysis II': 0,\n",
       " 'Earth Materials and Processes': 10,\n",
       " 'Advanced Mineralogy': 12,\n",
       " 'Global Climate Change Laboratory': 11,\n",
       " 'Modern Cryptography': 3,\n",
       " 'Decoherence and Open Quantum Systems': 1,\n",
       " 'Spintronics and Nanomagnetics': 3,\n",
       " 'Chemical Reaction Engineering II': 0,\n",
       " 'Chemistry Laboratory I': 7,\n",
       " 'Analog Circuits': 4,\n",
       " 'EECS Laboratory I': 11,\n",
       " 'Representation Theory': 1,\n",
       " 'Infectious Disease Biology': 1,\n",
       " 'Introduction to Probability and its Applications': 1,\n",
       " 'Fluid Mechanics and Mechanical Operations': 3,\n",
       " 'Frontiers in Organic Chemistry': 1,\n",
       " 'Introduction to Algebraic Topology': 5,\n",
       " 'Soft Condensed Matter': 1,\n",
       " 'Numerical Methods in Chemical Engineering': 7,\n",
       " 'Advanced Mathematical Methods for Physics': 5,\n",
       " 'Non-Linear Dynamics and Chaos': 2,\n",
       " 'Physical Training': 0,\n",
       " 'National Cadet Corps': 0,\n",
       " 'Cosmology II': 1,\n",
       " 'Seminar Course - 2': 0,\n",
       " 'Physics Laboratory I': 6,\n",
       " 'Fundamentals of Solution-State NMR Spectroscopy: Principles and Applications': 1,\n",
       " 'Commutative Algebra': 5,\n",
       " 'Process Dynamics and Control': 6,\n",
       " 'Chemical Reaction Engineering and Process Control Laboratory': 7,\n",
       " 'An Introduction to Algebraic Number Theory': 3,\n",
       " 'Reading Course': 0,\n",
       " 'Fluid Mechanics and Thermodynamics Laboratory': 4,\n",
       " 'Introduction to Differentiable Manifolds and Lie Groups': 3,\n",
       " 'Optimization Techniques': 1,\n",
       " 'Introduction to Stochastic Calculus and Mathematical Finance': 1,\n",
       " 'Introduction to Riemannian Geometry': 5,\n",
       " 'Fundamentals of  Supramolecular Chemistry': 2,\n",
       " 'Bioentrepreneurship': 0,\n",
       " 'Research Project': 1,\n",
       " 'Data Science and Machine Learning': 0,\n",
       " 'Algebra I': 1,\n",
       " 'Real Analysis': 2,\n",
       " 'MS Research': 0,\n",
       " 'Project Work': 0}"
      ]
     },
     "execution_count": 10,
     "metadata": {},
     "output_type": "execute_result"
    }
   ],
   "source": [
    "nx.coloring.greedy_color(g, strategy='largest_first')"
   ]
  }
 ],
 "metadata": {
  "kernelspec": {
   "display_name": ".venv",
   "language": "python",
   "name": "python3"
  },
  "language_info": {
   "codemirror_mode": {
    "name": "ipython",
    "version": 3
   },
   "file_extension": ".py",
   "mimetype": "text/x-python",
   "name": "python",
   "nbconvert_exporter": "python",
   "pygments_lexer": "ipython3",
   "version": "3.12.3"
  }
 },
 "nbformat": 4,
 "nbformat_minor": 2
}
