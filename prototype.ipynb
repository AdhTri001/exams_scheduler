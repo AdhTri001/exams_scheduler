{
 "cells": [
  {
   "cell_type": "markdown",
   "metadata": {},
   "source": [
    "## EXAM SCHEDULER PROTOTYPE"
   ]
  },
  {
   "cell_type": "code",
   "execution_count": 22,
   "metadata": {},
   "outputs": [],
   "source": [
    "import pandas as pd\n",
    "from collections import defaultdict\n",
    "import os"
   ]
  },
  {
   "cell_type": "markdown",
   "metadata": {},
   "source": [
    "### CONSTANTS"
   ]
  },
  {
   "cell_type": "code",
   "execution_count": 23,
   "metadata": {},
   "outputs": [],
   "source": [
    "SEM = '2024-2025-1'\n",
    "# SEM = '2023-2024-2'\n",
    "DATA_PATH = './data/'"
   ]
  },
  {
   "cell_type": "markdown",
   "metadata": {},
   "source": [
    "### Loading the data\n",
    "\n",
    "First we will create a map from course code to course name. We are going to use course name as the key.\n",
    "\n",
    "Below code will search for all `'{SEM}_{dept}.csv'` files in `DATA_PATH` directory. It will ignore `{SEM}_report.csv` as it is assumed to have the data for relation between all the students and the course names."
   ]
  },
  {
   "cell_type": "code",
   "execution_count": 24,
   "metadata": {},
   "outputs": [],
   "source": [
    "courses : dict[str, str] = {}\n",
    "\n",
    "for file in os.listdir(DATA_PATH):\n",
    "\n",
    "    if file.startswith(SEM):\n",
    "\n",
    "        if file == f'{SEM}_report.csv':\n",
    "            continue\n",
    "\n",
    "        df = pd.read_csv(DATA_PATH + file, usecols= [0, 1], index_col=0)\n",
    "        courses.update(\n",
    "            df['cname'].to_dict()\n",
    "        )"
   ]
  },
  {
   "cell_type": "code",
   "execution_count": 25,
   "metadata": {},
   "outputs": [],
   "source": [
    "enrolled : dict[str, set] = defaultdict(set)\n",
    "\n",
    "with open(DATA_PATH + SEM + '_report.csv') as f:\n",
    "\n",
    "    f.readline()\n",
    "\n",
    "    for line in f:\n",
    "\n",
    "        line = line.strip().split(',')\n",
    "        c_num = line[4].lstrip('\"').rstrip('\"')\n",
    "        c_name = courses.get(c_num, None)\n",
    "        if c_name is None:\n",
    "            c_name = line[5].lstrip('\"').rstrip('\"')\n",
    "            courses[c_num] = c_name\n",
    "\n",
    "        enrolled[c_name].add(int(line[0]))"
   ]
  },
  {
   "cell_type": "markdown",
   "metadata": {},
   "source": [
    "Printing all the courses that I am enrolled in"
   ]
  },
  {
   "cell_type": "code",
   "execution_count": 26,
   "metadata": {},
   "outputs": [
    {
     "name": "stdout",
     "output_type": "stream",
     "text": [
      "Law Relating to Intellectual Property and Patents\n",
      "Fundamentals of Database Systems\n",
      "Computer Vision\n",
      "Machine Learning\n",
      "Real Analysis I\n",
      "Theory of Computation\n",
      "EECS Laboratory I\n"
     ]
    }
   ],
   "source": [
    "for course in enrolled:\n",
    "    if 22016 in enrolled[course]:\n",
    "        print(course)"
   ]
  },
  {
   "cell_type": "markdown",
   "metadata": {},
   "source": [
    "### Creating the graph\n",
    "\n",
    "We use the networkx library for graph processing."
   ]
  },
  {
   "cell_type": "code",
   "execution_count": 27,
   "metadata": {},
   "outputs": [],
   "source": [
    "import networkx as nx"
   ]
  },
  {
   "cell_type": "code",
   "execution_count": 28,
   "metadata": {},
   "outputs": [],
   "source": [
    "g = nx.Graph()"
   ]
  },
  {
   "cell_type": "markdown",
   "metadata": {},
   "source": [
    "We use the course names as the vertice and draw an edge between them if there is a common student between any two course."
   ]
  },
  {
   "cell_type": "code",
   "execution_count": 29,
   "metadata": {},
   "outputs": [],
   "source": [
    "g = nx.Graph()\n",
    "\n",
    "for course in enrolled:\n",
    "    for course2 in enrolled:\n",
    "\n",
    "        if course == course2:\n",
    "            continue\n",
    "\n",
    "        if course in g and course2 in g[course]:\n",
    "            continue\n",
    "\n",
    "        if not enrolled[course].isdisjoint(enrolled[course2]):\n",
    "            g.add_edge(course, course2)"
   ]
  },
  {
   "cell_type": "markdown",
   "metadata": {},
   "source": [
    "Now, getting number of slots for exams becomes same question as number of colors our graph can be colored in :)"
   ]
  },
  {
   "cell_type": "code",
   "execution_count": 30,
   "metadata": {},
   "outputs": [],
   "source": [
    "colors = nx.coloring.greedy_color(g)"
   ]
  },
  {
   "cell_type": "code",
   "execution_count": 31,
   "metadata": {},
   "outputs": [
    {
     "name": "stdout",
     "output_type": "stream",
     "text": [
      "Graph colored in total of 18 colors\n"
     ]
    }
   ],
   "source": [
    "max_colours = max(colors.values())\n",
    "\n",
    "print(\"Graph colored in total of\", max_colours + 1, \"colors\")"
   ]
  }
 ],
 "metadata": {
  "kernelspec": {
   "display_name": "Python 3",
   "language": "python",
   "name": "python3"
  },
  "language_info": {
   "codemirror_mode": {
    "name": "ipython",
    "version": 3
   },
   "file_extension": ".py",
   "mimetype": "text/x-python",
   "name": "python",
   "nbconvert_exporter": "python",
   "pygments_lexer": "ipython3",
   "version": "3.9.13"
  }
 },
 "nbformat": 4,
 "nbformat_minor": 2
}
