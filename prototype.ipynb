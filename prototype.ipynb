{
 "cells": [
  {
   "cell_type": "markdown",
   "metadata": {},
   "source": [
    "## EXAM SCHEDULER PROTOTYPE"
   ]
  },
  {
   "cell_type": "code",
   "execution_count": 52,
   "metadata": {},
   "outputs": [],
   "source": [
    "import pandas as pd\n",
    "from collections import defaultdict\n",
    "import os"
   ]
  },
  {
   "cell_type": "markdown",
   "metadata": {},
   "source": [
    "### CONSTANTS"
   ]
  },
  {
   "cell_type": "code",
   "execution_count": 53,
   "metadata": {},
   "outputs": [],
   "source": [
    "SEM = '2024-2025-1'\n",
    "DATA_PATH = './data/'"
   ]
  },
  {
   "cell_type": "code",
   "execution_count": 54,
   "metadata": {},
   "outputs": [],
   "source": [
    "\"\"\"courses\n",
    "This dictionary represents:\n",
    "    key:    str     course_number\n",
    "    value:  str     course_name\n",
    "\"\"\"\n",
    "courses: dict[str, str] = {}\n",
    "\n",
    "# List all files in the specified directory\n",
    "for filename in os.listdir(DATA_PATH):\n",
    "\n",
    "    if filename.startswith(SEM) and not filename.endswith('report.csv'):\n",
    "        # Construct the full path for the CSV file\n",
    "        file_path = os.path.join(DATA_PATH, filename)\n",
    "        \n",
    "        # Load the relevant columns from the CSV file\n",
    "        df = pd.read_csv(file_path, usecols=[0, 1], index_col=0)\n",
    "        \n",
    "        # Update the courses dictionary with course names\n",
    "        courses.update(df['cname'].to_dict())\n",
    "\n",
    "# At this point, the courses dictionary is populated"
   ]
  },
  {
   "cell_type": "markdown",
   "metadata": {},
   "source": [
    "Printing all the courses that I am enrolled in"
   ]
  },
  {
   "cell_type": "code",
   "execution_count": 55,
   "metadata": {},
   "outputs": [
    {
     "name": "stdout",
     "output_type": "stream",
     "text": [
      "[BIO101X: Biology I: Biomolecules]\n",
      "[BIO103X: General Biology Laboratory]\n",
      "[BIO201X: Biology III: Fundamentals of Molecular Biology]\n",
      "[BIO203X: Biology V: Diversity of Life I]\n",
      "[BIO205Y: Biology Laboratory I]\n",
      "[BIO301N: Cell Biology]\n"
     ]
    }
   ],
   "source": [
    "count = 0\n",
    "for key, value in courses.items():\n",
    "    if count > 5:\n",
    "        break\n",
    "    count += 1\n",
    "    print(f\"[{key}: {value}]\")"
   ]
  },
  {
   "cell_type": "code",
   "execution_count": 56,
   "metadata": {},
   "outputs": [],
   "source": [
    "\"\"\"course_students_dict\n",
    "This dictionary represents:\n",
    "    key:    str         course_name\n",
    "    value:  set[int]    set of student IDs\n",
    "\"\"\"\n",
    "course_students_dict : dict[str, set] = defaultdict(set)\n",
    "\n",
    "\n",
    "# Read the csv file `2024-2025-1_report.csv`\n",
    "df = pd.read_csv(DATA_PATH + SEM + '_report.csv')\n",
    "\n",
    "for index, row in df.iterrows():\n",
    "    course_number = row['Course Number'].strip('\"') \n",
    "    student_id = int(row['Roll Number'])           \n",
    "\n",
    "    # Get course name; if not found, create a new entry\n",
    "    course_name = courses.get(course_number)\n",
    "    if course_name is None:\n",
    "        course_name = row['Course Title'].strip('\"')\n",
    "        courses[course_number] = course_name\n",
    "\n",
    "    # Add the student ID to the corresponding course name set\n",
    "    course_students_dict[course_name].add(student_id)"
   ]
  },
  {
   "cell_type": "markdown",
   "metadata": {},
   "source": [
    "`course_students_dict`: contains the mapping of course names to student IDs"
   ]
  },
  {
   "cell_type": "code",
   "execution_count": 57,
   "metadata": {},
   "outputs": [],
   "source": [
    "import networkx as nx"
   ]
  },
  {
   "cell_type": "code",
   "execution_count": 58,
   "metadata": {},
   "outputs": [],
   "source": [
    "g = nx.Graph()\n",
    "g.add_edge('a', 'b')"
   ]
  },
  {
   "cell_type": "code",
   "execution_count": 59,
   "metadata": {},
   "outputs": [],
   "source": [
    "g = nx.Graph()\n",
    "\n",
    "for course in course_students_dict:\n",
    "    for course2 in course_students_dict:\n",
    "\n",
    "        if course == course2:\n",
    "            continue\n",
    "\n",
    "        if course in g and course2 in g[course]:\n",
    "            continue\n",
    "\n",
    "        if not course_students_dict[course].isdisjoint(course_students_dict[course2]):\n",
    "            g.add_edge(course, course2)"
   ]
  },
  {
   "cell_type": "code",
   "execution_count": 60,
   "metadata": {},
   "outputs": [],
   "source": [
    "colors = nx.coloring.greedy_color(g)"
   ]
  },
  {
   "cell_type": "code",
   "execution_count": 61,
   "metadata": {},
   "outputs": [
    {
     "data": {
      "text/plain": [
       "{'Law Relating to Intellectual Property and Patents': 0,\n",
       " 'Reading Childrens Literature: Adventures, Ghosts and the Cultural Imagination': 1,\n",
       " 'Data Science in Practice': 2,\n",
       " 'Ethics for Research': 2,\n",
       " 'MS Thesis': 0,\n",
       " 'Learning, Memory, and Cognition': 3,\n",
       " 'Ph.D. Thesis': 4,\n",
       " 'Basic Organic Chemistry II': 4,\n",
       " 'Natural Language Processing': 5,\n",
       " 'Machine Learning': 3,\n",
       " 'Real Analysis I': 4,\n",
       " 'Waves and Optics': 5,\n",
       " 'Fundamentals of Database Systems': 6,\n",
       " 'Linear Algebra': 7,\n",
       " 'Statistical Mechanics': 3,\n",
       " 'Advances in Omics': 6,\n",
       " 'Migration, State, and Society': 4,\n",
       " 'Electromagnetism': 1,\n",
       " 'Computer Vision': 8,\n",
       " 'General Chemistry': 1,\n",
       " 'Philosophical Beginnings: Matter, Motion, and the Cosmos': 7,\n",
       " 'Introduction to Groups and Symmetry': 9,\n",
       " 'Basic Electronics': 10,\n",
       " 'Multivariable Calculus': 6,\n",
       " 'Main Group Chemistry': 7,\n",
       " 'Theory of Computation': 1,\n",
       " 'Econometrics I': 2,\n",
       " 'General Physics Laboratory I': 3,\n",
       " 'Geohydrology': 8,\n",
       " 'Basic Physical Chemistry': 8,\n",
       " 'Physical Organic Chemistry': 9,\n",
       " 'Discrete Mathematics I': 0,\n",
       " 'Classical Mechanics': 5,\n",
       " 'Biochemistry': 5,\n",
       " 'Cell Signaling and Stress Biology': 7,\n",
       " 'Computer Organisation': 4,\n",
       " 'Symmetry and Group Theory': 1,\n",
       " 'Inorganic Chemistry Laboratory': 0,\n",
       " 'Money, Banking and Financial Markets': 9,\n",
       " 'Biology Laboratory I': 10,\n",
       " 'Organic Chemistry I': 11,\n",
       " 'Condensed Matter Physics': 6,\n",
       " 'Chemistry and Physics of Materials': 2,\n",
       " 'Data Analyses and Statistics for Geosciences ': 6,\n",
       " 'Data Analyses and Statistics for Geosciences': 7,\n",
       " 'Physical Chemistry of Solutions': 12,\n",
       " 'Chemistry of Biological Systems': 4,\n",
       " 'Plant Physiology': 9,\n",
       " 'Evolutionary Ecology': 4,\n",
       " 'Multi-agent Reinformcement Learning': 10,\n",
       " 'Atmospheric Sciences': 13,\n",
       " 'Biology I: Biomolecules': 5,\n",
       " 'Heat Transfer Operations': 6,\n",
       " 'Microeconomics II': 8,\n",
       " 'Condensed Matter Physics Laboratory': 7,\n",
       " 'Electrodynamics': 8,\n",
       " 'Environmental Impact Assessment': 3,\n",
       " 'Cell Biology': 10,\n",
       " 'Introduction to Quantum Computer Science': 9,\n",
       " 'Computer Networks': 11,\n",
       " '3D Deep Learning and Applications': 12,\n",
       " 'Environmental Humanities': 2,\n",
       " 'Advanced Linear Algebra': 10,\n",
       " 'Solid Earth Geophysics': 11,\n",
       " 'Virology': 2,\n",
       " 'Systems Biology': 8,\n",
       " 'Polymer Processing': 5,\n",
       " 'Elementary Number Theory': 11,\n",
       " 'Complex Analysis I': 2,\n",
       " 'Introduction to Earth and Environmental Sciences Laboratory': 11,\n",
       " 'Mechanics': 4,\n",
       " 'Game Theory': 1,\n",
       " 'Mineralogy': 10,\n",
       " 'Environmental Chemistry': 13,\n",
       " 'General Theory of Relativity': 9,\n",
       " 'Advances in Microbiology': 9,\n",
       " 'Introduction to MEMS': 12,\n",
       " 'Applied Accelerated Artificial Intelligence': 6,\n",
       " 'Chemical Engineering Thermodynamics': 4,\n",
       " 'Mathematical Methods for Chemists': 9,\n",
       " 'Quantum Field Theory I': 3,\n",
       " 'Electronic Devices': 5,\n",
       " 'Experimental Techniques': 10,\n",
       " 'Advanced Deep Learning': 8,\n",
       " 'Cloud Computing': 13,\n",
       " 'Biology V: Diversity of Life I': 12,\n",
       " 'Oceanography': 14,\n",
       " 'Organic Chemistry Laboratory': 14,\n",
       " 'Engineering Design and Drawing': 9,\n",
       " 'Group Theory': 12,\n",
       " 'Earth Surface Processes': 7,\n",
       " 'Evolution of the Indian Plate': 8,\n",
       " 'Introduction to Quantum Mechanics': 8,\n",
       " 'Indian Monsoon and its Variability': 5,\n",
       " 'Epigenetics': 12,\n",
       " 'Biophysics and Structural Biology': 13,\n",
       " 'Advanced Inorganic Chemistry': 5,\n",
       " 'Developmental Biology': 14,\n",
       " 'Microbiology': 11,\n",
       " 'General Physics Laboratory II': 15,\n",
       " 'Econometrics II': 5,\n",
       " 'Biology Laboratory III': 12,\n",
       " 'Principles of Economics I': 8,\n",
       " 'Quantum Information Theory': 2,\n",
       " 'Mathematical Methods I': 3,\n",
       " 'Global Climate Change': 9,\n",
       " 'Control Systems': 9,\n",
       " 'Ph.D.Thesis': 4,\n",
       " 'Bioinorganic Chemistry': 6,\n",
       " 'Economic Theory: Mechanism Design': 4,\n",
       " 'Social Choice Theory': 10,\n",
       " 'Biology III: Fundamentals of Molecular Biology': 16,\n",
       " 'Chemistry Laboratory II': 17,\n",
       " 'Engineering Mechanics (Solid and Fluid)': 11,\n",
       " 'Advanced Organic Chemistry I(Organometallics and Asymmetric Synthesis)': 11,\n",
       " 'Advanced Molecular Spectroscopy': 6,\n",
       " 'Electro Chemical Engineering': 1,\n",
       " 'Fields and Galois Theory': 6,\n",
       " 'Partial Differential Equations': 7,\n",
       " 'General Biology Laboratory': 8,\n",
       " 'Macroeconomics II': 11,\n",
       " 'Advanced Academic Communication Skills': 12,\n",
       " 'Metamorphic Petrology': 0,\n",
       " 'Aerosol Science': 10,\n",
       " 'Functional Analysis': 3,\n",
       " 'Mineralogy Laboratory': 12,\n",
       " 'Environmental Chemistry Laboratory': 14,\n",
       " 'Metamorphic Petrology Laboratory': 11,\n",
       " 'Chemical Biology': 10,\n",
       " 'Advanced Statistical Mechanics': 3,\n",
       " 'Thermal Physics': 1,\n",
       " 'Real Analysis II': 0,\n",
       " 'Earth Materials and Processes': 10,\n",
       " 'Advanced Mineralogy': 12,\n",
       " 'Global Climate Change Laboratory': 11,\n",
       " 'Modern Cryptography': 3,\n",
       " 'Decoherence and Open Quantum Systems': 1,\n",
       " 'Spintronics and Nanomagnetics': 3,\n",
       " 'Chemical Reaction Engineering II': 0,\n",
       " 'Chemistry Laboratory I': 7,\n",
       " 'Analog Circuits': 4,\n",
       " 'EECS Laboratory I': 11,\n",
       " 'Representation Theory': 1,\n",
       " 'Infectious Disease Biology': 1,\n",
       " 'Introduction to Probability and its Applications': 1,\n",
       " 'Fluid Mechanics and Mechanical Operations': 3,\n",
       " 'Frontiers in Organic Chemistry': 1,\n",
       " 'Introduction to Algebraic Topology': 5,\n",
       " 'Soft Condensed Matter': 1,\n",
       " 'Numerical Methods in Chemical Engineering': 7,\n",
       " 'Advanced Mathematical Methods for Physics': 5,\n",
       " 'Non-Linear Dynamics and Chaos': 2,\n",
       " 'Physical Training': 0,\n",
       " 'National Cadet Corps': 0,\n",
       " 'Cosmology II': 1,\n",
       " 'Seminar Course - 2': 0,\n",
       " 'Physics Laboratory I': 6,\n",
       " 'Fundamentals of Solution-State NMR Spectroscopy: Principles and Applications': 1,\n",
       " 'Commutative Algebra': 5,\n",
       " 'Process Dynamics and Control': 6,\n",
       " 'Chemical Reaction Engineering and Process Control Laboratory': 7,\n",
       " 'An Introduction to Algebraic Number Theory': 3,\n",
       " 'Topics in Probability and Stochastic Processes': 0,\n",
       " 'Fluid Mechanics and Thermodynamics Laboratory': 4,\n",
       " 'Introduction to Differentiable Manifolds and Lie Groups': 3,\n",
       " 'Optimization Techniques': 1,\n",
       " 'Introduction to Stochastic Calculus and Mathematical Finance': 1,\n",
       " 'Introduction to Riemannian Geometry': 5,\n",
       " 'Fundamentals of  Supramolecular Chemistry': 2,\n",
       " 'Bioentrepreneurship': 0,\n",
       " 'Research Project': 1,\n",
       " 'Data Science and Machine Learning': 0,\n",
       " 'Algebra I': 1,\n",
       " 'Real Analysis': 2,\n",
       " 'MS Research': 0,\n",
       " 'Project Work': 0}"
      ]
     },
     "execution_count": 61,
     "metadata": {},
     "output_type": "execute_result"
    }
   ],
   "source": [
    "nx.coloring.greedy_color(g)"
   ]
  },
  {
   "cell_type": "code",
   "execution_count": 62,
   "metadata": {},
   "outputs": [
    {
     "name": "stdout",
     "output_type": "stream",
     "text": [
      "Number of slots needed for exams:  18\n"
     ]
    }
   ],
   "source": [
    "max_colours = max(colors.values())\n",
    "\n",
    "print(\"Number of slots needed for exams: \", max_colours + 1)"
   ]
  },
  {
   "cell_type": "markdown",
   "metadata": {},
   "source": [
    "### Visualizing the graph"
   ]
  },
  {
   "cell_type": "code",
   "execution_count": 63,
   "metadata": {},
   "outputs": [],
   "source": [
    "import plotly.graph_objects as go"
   ]
  },
  {
   "cell_type": "code",
   "execution_count": 64,
   "metadata": {},
   "outputs": [
    {
     "data": {
      "application/vnd.plotly.v1+json": {
       "config": {
        "plotlyServerURL": "https://plot.ly"
       },
       "data": [
        {
         "mode": "lines",
         "type": "scatter",
         "x": [
          -1,
          -0.9993628263473511
         ],
         "y": [
          -8.742277657347586e-8,
          -0.03569234907627106
         ]
        },
        {
         "mode": "lines",
         "type": "scatter",
         "x": [
          -1,
          -0.9974520802497864
         ],
         "y": [
          -8.742277657347586e-8,
          -0.07133936882019043
         ]
        },
        {
         "mode": "lines",
         "type": "scatter",
         "x": [
          -1,
          -0.9942702651023865
         ],
         "y": [
          -8.742277657347586e-8,
          -0.10689523071050644
         ]
        },
        {
         "mode": "lines",
         "type": "scatter",
         "x": [
          -1,
          -0.9898214340209961
         ],
         "y": [
          -8.742277657347586e-8,
          -0.1423148810863495
         ]
        },
        {
         "mode": "lines",
         "type": "scatter",
         "x": [
          -1,
          -0.9841111898422241
         ],
         "y": [
          -8.742277657347586e-8,
          -0.17755316197872162
         ]
        },
        {
         "mode": "lines",
         "type": "scatter",
         "x": [
          -1,
          -0.9771468639373779
         ],
         "y": [
          -8.742277657347586e-8,
          -0.21256542205810547
         ]
        },
        {
         "mode": "lines",
         "type": "scatter",
         "x": [
          -1,
          -0.9689372777938843
         ],
         "y": [
          -8.742277657347586e-8,
          -0.24730655550956726
         ]
        },
        {
         "mode": "lines",
         "type": "scatter",
         "x": [
          -1,
          -0.9594929814338684
         ],
         "y": [
          -8.742277657347586e-8,
          -0.28173255920410156
         ]
        },
        {
         "mode": "lines",
         "type": "scatter",
         "x": [
          -1,
          -0.9488258957862854
         ],
         "y": [
          -8.742277657347586e-8,
          -0.315799742937088
         ]
        },
        {
         "mode": "lines",
         "type": "scatter",
         "x": [
          -1,
          -0.9369496703147888
         ],
         "y": [
          -8.742277657347586e-8,
          -0.3494642674922943
         ]
        },
        {
         "mode": "lines",
         "type": "scatter",
         "x": [
          -1,
          -0.9238795042037964
         ],
         "y": [
          -8.742277657347586e-8,
          -0.3826834559440613
         ]
        },
        {
         "mode": "lines",
         "type": "scatter",
         "x": [
          -1,
          -0.9096319079399109
         ],
         "y": [
          -8.742277657347586e-8,
          -0.4154151678085327
         ]
        },
        {
         "mode": "lines",
         "type": "scatter",
         "x": [
          -1,
          -0.8942252397537231
         ],
         "y": [
          -8.742277657347586e-8,
          -0.4476172924041748
         ]
        },
        {
         "mode": "lines",
         "type": "scatter",
         "x": [
          -1,
          -0.8776789903640747
         ],
         "y": [
          -8.742277657347586e-8,
          -0.4792490005493164
         ]
        },
        {
         "mode": "lines",
         "type": "scatter",
         "x": [
          -1,
          -0.8600141406059265
         ],
         "y": [
          -8.742277657347586e-8,
          -0.5102701783180237
         ]
        },
        {
         "mode": "lines",
         "type": "scatter",
         "x": [
          -1,
          -0.8412534594535828
         ],
         "y": [
          -8.742277657347586e-8,
          -0.5406408905982971
         ]
        },
        {
         "mode": "lines",
         "type": "scatter",
         "x": [
          -1,
          -0.8214207887649536
         ],
         "y": [
          -8.742277657347586e-8,
          -0.5703226327896118
         ]
        },
        {
         "mode": "lines",
         "type": "scatter",
         "x": [
          -1,
          -0.8005412817001343
         ],
         "y": [
          -8.742277657347586e-8,
          -0.5992776155471802
         ]
        },
        {
         "mode": "lines",
         "type": "scatter",
         "x": [
          -0.9993628263473511,
          -0.9974520802497864
         ],
         "y": [
          -0.03569234907627106,
          -0.07133936882019043
         ]
        },
        {
         "mode": "lines",
         "type": "scatter",
         "x": [
          -0.9993628263473511,
          -0.9942702651023865
         ],
         "y": [
          -0.03569234907627106,
          -0.10689523071050644
         ]
        },
        {
         "mode": "lines",
         "type": "scatter",
         "x": [
          -0.9993628263473511,
          -0.9898214340209961
         ],
         "y": [
          -0.03569234907627106,
          -0.1423148810863495
         ]
        },
        {
         "mode": "lines",
         "type": "scatter",
         "x": [
          -0.9993628263473511,
          -0.9841111898422241
         ],
         "y": [
          -0.03569234907627106,
          -0.17755316197872162
         ]
        },
        {
         "mode": "lines",
         "type": "scatter",
         "x": [
          -0.9993628263473511,
          -0.9771468639373779
         ],
         "y": [
          -0.03569234907627106,
          -0.21256542205810547
         ]
        },
        {
         "mode": "lines",
         "type": "scatter",
         "x": [
          -0.9993628263473511,
          -0.9689372777938843
         ],
         "y": [
          -0.03569234907627106,
          -0.24730655550956726
         ]
        },
        {
         "mode": "lines",
         "type": "scatter",
         "x": [
          -0.9993628263473511,
          -0.9594929814338684
         ],
         "y": [
          -0.03569234907627106,
          -0.28173255920410156
         ]
        },
        {
         "mode": "lines",
         "type": "scatter",
         "x": [
          -0.9993628263473511,
          -0.9488258957862854
         ],
         "y": [
          -0.03569234907627106,
          -0.315799742937088
         ]
        },
        {
         "mode": "lines",
         "type": "scatter",
         "x": [
          -0.9993628263473511,
          -0.9369496703147888
         ],
         "y": [
          -0.03569234907627106,
          -0.3494642674922943
         ]
        },
        {
         "mode": "lines",
         "type": "scatter",
         "x": [
          -0.9993628263473511,
          -0.9238795042037964
         ],
         "y": [
          -0.03569234907627106,
          -0.3826834559440613
         ]
        },
        {
         "mode": "lines",
         "type": "scatter",
         "x": [
          -0.9993628263473511,
          -0.9096319079399109
         ],
         "y": [
          -0.03569234907627106,
          -0.4154151678085327
         ]
        },
        {
         "mode": "lines",
         "type": "scatter",
         "x": [
          -0.9993628263473511,
          -0.8942252397537231
         ],
         "y": [
          -0.03569234907627106,
          -0.4476172924041748
         ]
        },
        {
         "mode": "lines",
         "type": "scatter",
         "x": [
          -0.9993628263473511,
          -0.8776789903640747
         ],
         "y": [
          -0.03569234907627106,
          -0.4792490005493164
         ]
        },
        {
         "mode": "lines",
         "type": "scatter",
         "x": [
          -0.9993628263473511,
          -0.8600141406059265
         ],
         "y": [
          -0.03569234907627106,
          -0.5102701783180237
         ]
        },
        {
         "mode": "lines",
         "type": "scatter",
         "x": [
          -0.9993628263473511,
          -0.8412534594535828
         ],
         "y": [
          -0.03569234907627106,
          -0.5406408905982971
         ]
        },
        {
         "mode": "lines",
         "type": "scatter",
         "x": [
          -0.9993628263473511,
          -0.8214207887649536
         ],
         "y": [
          -0.03569234907627106,
          -0.5703226327896118
         ]
        },
        {
         "mode": "lines",
         "type": "scatter",
         "x": [
          -0.9993628263473511,
          -0.8005412817001343
         ],
         "y": [
          -0.03569234907627106,
          -0.5992776155471802
         ]
        },
        {
         "mode": "lines",
         "type": "scatter",
         "x": [
          -0.9993628263473511,
          -0.7786414623260498
         ],
         "y": [
          -0.03569234907627106,
          -0.6274691224098206
         ]
        },
        {
         "mode": "lines",
         "type": "scatter",
         "x": [
          -0.9993628263473511,
          -0.755749523639679
         ],
         "y": [
          -0.03569234907627106,
          -0.65486079454422
         ]
        },
        {
         "mode": "lines",
         "type": "scatter",
         "x": [
          -0.9993628263473511,
          -0.7318945527076721
         ],
         "y": [
          -0.03569234907627106,
          -0.6814179420471191
         ]
        },
        {
         "mode": "lines",
         "type": "scatter",
         "x": [
          -0.9993628263473511,
          -0.7071066498756409
         ],
         "y": [
          -0.03569234907627106,
          -0.70710688829422
         ]
        },
        {
         "mode": "lines",
         "type": "scatter",
         "x": [
          -0.9974520802497864,
          -0.9942702651023865
         ],
         "y": [
          -0.07133936882019043,
          -0.10689523071050644
         ]
        },
        {
         "mode": "lines",
         "type": "scatter",
         "x": [
          -0.9974520802497864,
          -0.9898214340209961
         ],
         "y": [
          -0.07133936882019043,
          -0.1423148810863495
         ]
        },
        {
         "mode": "lines",
         "type": "scatter",
         "x": [
          -0.9974520802497864,
          -0.9841111898422241
         ],
         "y": [
          -0.07133936882019043,
          -0.17755316197872162
         ]
        },
        {
         "mode": "lines",
         "type": "scatter",
         "x": [
          -0.9974520802497864,
          -0.9771468639373779
         ],
         "y": [
          -0.07133936882019043,
          -0.21256542205810547
         ]
        },
        {
         "mode": "lines",
         "type": "scatter",
         "x": [
          -0.9974520802497864,
          -0.9689372777938843
         ],
         "y": [
          -0.07133936882019043,
          -0.24730655550956726
         ]
        },
        {
         "mode": "lines",
         "type": "scatter",
         "x": [
          -0.9974520802497864,
          -0.9594929814338684
         ],
         "y": [
          -0.07133936882019043,
          -0.28173255920410156
         ]
        },
        {
         "mode": "lines",
         "type": "scatter",
         "x": [
          -0.9974520802497864,
          -0.9488258957862854
         ],
         "y": [
          -0.07133936882019043,
          -0.315799742937088
         ]
        },
        {
         "mode": "lines",
         "type": "scatter",
         "x": [
          -0.9974520802497864,
          -0.9369496703147888
         ],
         "y": [
          -0.07133936882019043,
          -0.3494642674922943
         ]
        },
        {
         "mode": "lines",
         "type": "scatter",
         "x": [
          -0.9974520802497864,
          -0.9238795042037964
         ],
         "y": [
          -0.07133936882019043,
          -0.3826834559440613
         ]
        },
        {
         "mode": "lines",
         "type": "scatter",
         "x": [
          -0.9974520802497864,
          -0.9096319079399109
         ],
         "y": [
          -0.07133936882019043,
          -0.4154151678085327
         ]
        },
        {
         "mode": "lines",
         "type": "scatter",
         "x": [
          -0.9974520802497864,
          -0.8942252397537231
         ],
         "y": [
          -0.07133936882019043,
          -0.4476172924041748
         ]
        },
        {
         "mode": "lines",
         "type": "scatter",
         "x": [
          -0.9974520802497864,
          -0.8776789903640747
         ],
         "y": [
          -0.07133936882019043,
          -0.4792490005493164
         ]
        },
        {
         "mode": "lines",
         "type": "scatter",
         "x": [
          -0.9974520802497864,
          -0.8600141406059265
         ],
         "y": [
          -0.07133936882019043,
          -0.5102701783180237
         ]
        },
        {
         "mode": "lines",
         "type": "scatter",
         "x": [
          -0.9974520802497864,
          -0.8412534594535828
         ],
         "y": [
          -0.07133936882019043,
          -0.5406408905982971
         ]
        },
        {
         "mode": "lines",
         "type": "scatter",
         "x": [
          -0.9974520802497864,
          -0.8214207887649536
         ],
         "y": [
          -0.07133936882019043,
          -0.5703226327896118
         ]
        },
        {
         "mode": "lines",
         "type": "scatter",
         "x": [
          -0.9974520802497864,
          -0.8005412817001343
         ],
         "y": [
          -0.07133936882019043,
          -0.5992776155471802
         ]
        },
        {
         "mode": "lines",
         "type": "scatter",
         "x": [
          -0.9974520802497864,
          -0.6814178824424744
         ],
         "y": [
          -0.07133936882019043,
          -0.7318945527076721
         ]
        },
        {
         "mode": "lines",
         "type": "scatter",
         "x": [
          -0.9974520802497864,
          -0.6548607349395752
         ],
         "y": [
          -0.07133936882019043,
          -0.7557495832443237
         ]
        },
        {
         "mode": "lines",
         "type": "scatter",
         "x": [
          -0.9974520802497864,
          -0.6274690628051758
         ],
         "y": [
          -0.07133936882019043,
          -0.7786415219306946
         ]
        },
        {
         "mode": "lines",
         "type": "scatter",
         "x": [
          -0.9974520802497864,
          -0.5992777943611145
         ],
         "y": [
          -0.07133936882019043,
          -0.8005411624908447
         ]
        },
        {
         "mode": "lines",
         "type": "scatter",
         "x": [
          -0.9974520802497864,
          -0.5703223943710327
         ],
         "y": [
          -0.07133936882019043,
          -0.8214209079742432
         ]
        },
        {
         "mode": "lines",
         "type": "scatter",
         "x": [
          -0.9974520802497864,
          -0.540640652179718
         ],
         "y": [
          -0.07133936882019043,
          -0.8412536382675171
         ]
        },
        {
         "mode": "lines",
         "type": "scatter",
         "x": [
          -0.9974520802497864,
          -0.5102699398994446
         ],
         "y": [
          -0.07133936882019043,
          -0.8600143194198608
         ]
        },
        {
         "mode": "lines",
         "type": "scatter",
         "x": [
          -0.9974520802497864,
          -0.47924894094467163
         ],
         "y": [
          -0.07133936882019043,
          -0.8776789903640747
         ]
        },
        {
         "mode": "lines",
         "type": "scatter",
         "x": [
          -0.9974520802497864,
          -0.44761723279953003
         ],
         "y": [
          -0.07133936882019043,
          -0.8942252397537231
         ]
        },
        {
         "mode": "lines",
         "type": "scatter",
         "x": [
          -0.9974520802497864,
          -0.41541510820388794
         ],
         "y": [
          -0.07133936882019043,
          -0.9096319675445557
         ]
        },
        {
         "mode": "lines",
         "type": "scatter",
         "x": [
          -0.9974520802497864,
          -0.38268357515335083
         ],
         "y": [
          -0.07133936882019043,
          -0.9238794445991516
         ]
        },
        {
         "mode": "lines",
         "type": "scatter",
         "x": [
          -0.9974520802497864,
          -0.34946393966674805
         ],
         "y": [
          -0.07133936882019043,
          -0.9369497895240784
         ]
        },
        {
         "mode": "lines",
         "type": "scatter",
         "x": [
          -0.9974520802497864,
          -0.31579941511154175
         ],
         "y": [
          -0.07133936882019043,
          -0.9488259553909302
         ]
        },
        {
         "mode": "lines",
         "type": "scatter",
         "x": [
          -0.9942702651023865,
          -0.9898214340209961
         ],
         "y": [
          -0.10689523071050644,
          -0.1423148810863495
         ]
        },
        {
         "mode": "lines",
         "type": "scatter",
         "x": [
          -0.9942702651023865,
          -0.9841111898422241
         ],
         "y": [
          -0.10689523071050644,
          -0.17755316197872162
         ]
        },
        {
         "mode": "lines",
         "type": "scatter",
         "x": [
          -0.9942702651023865,
          -0.9771468639373779
         ],
         "y": [
          -0.10689523071050644,
          -0.21256542205810547
         ]
        },
        {
         "mode": "lines",
         "type": "scatter",
         "x": [
          -0.9942702651023865,
          -0.9689372777938843
         ],
         "y": [
          -0.10689523071050644,
          -0.24730655550956726
         ]
        },
        {
         "mode": "lines",
         "type": "scatter",
         "x": [
          -0.9942702651023865,
          -0.9594929814338684
         ],
         "y": [
          -0.10689523071050644,
          -0.28173255920410156
         ]
        },
        {
         "mode": "lines",
         "type": "scatter",
         "x": [
          -0.9942702651023865,
          -0.9488258957862854
         ],
         "y": [
          -0.10689523071050644,
          -0.315799742937088
         ]
        },
        {
         "mode": "lines",
         "type": "scatter",
         "x": [
          -0.9942702651023865,
          -0.9369496703147888
         ],
         "y": [
          -0.10689523071050644,
          -0.3494642674922943
         ]
        },
        {
         "mode": "lines",
         "type": "scatter",
         "x": [
          -0.9942702651023865,
          -0.9238795042037964
         ],
         "y": [
          -0.10689523071050644,
          -0.3826834559440613
         ]
        },
        {
         "mode": "lines",
         "type": "scatter",
         "x": [
          -0.9942702651023865,
          -0.9096319079399109
         ],
         "y": [
          -0.10689523071050644,
          -0.4154151678085327
         ]
        },
        {
         "mode": "lines",
         "type": "scatter",
         "x": [
          -0.9942702651023865,
          -0.8942252397537231
         ],
         "y": [
          -0.10689523071050644,
          -0.4476172924041748
         ]
        },
        {
         "mode": "lines",
         "type": "scatter",
         "x": [
          -0.9942702651023865,
          -0.8776789903640747
         ],
         "y": [
          -0.10689523071050644,
          -0.4792490005493164
         ]
        },
        {
         "mode": "lines",
         "type": "scatter",
         "x": [
          -0.9942702651023865,
          -0.8600141406059265
         ],
         "y": [
          -0.10689523071050644,
          -0.5102701783180237
         ]
        },
        {
         "mode": "lines",
         "type": "scatter",
         "x": [
          -0.9942702651023865,
          -0.8412534594535828
         ],
         "y": [
          -0.10689523071050644,
          -0.5406408905982971
         ]
        },
        {
         "mode": "lines",
         "type": "scatter",
         "x": [
          -0.9942702651023865,
          -0.8214207887649536
         ],
         "y": [
          -0.10689523071050644,
          -0.5703226327896118
         ]
        },
        {
         "mode": "lines",
         "type": "scatter",
         "x": [
          -0.9942702651023865,
          -0.8005412817001343
         ],
         "y": [
          -0.10689523071050644,
          -0.5992776155471802
         ]
        },
        {
         "mode": "lines",
         "type": "scatter",
         "x": [
          -0.9942702651023865,
          -0.2817324697971344
         ],
         "y": [
          -0.10689523071050644,
          -0.9594929814338684
         ]
        },
        {
         "mode": "lines",
         "type": "scatter",
         "x": [
          -0.9942702651023865,
          -0.2473064661026001
         ],
         "y": [
          -0.10689523071050644,
          -0.968937337398529
         ]
        },
        {
         "mode": "lines",
         "type": "scatter",
         "x": [
          -0.9942702651023865,
          -0.2125653177499771
         ],
         "y": [
          -0.10689523071050644,
          -0.9771468639373779
         ]
        },
        {
         "mode": "lines",
         "type": "scatter",
         "x": [
          -0.9942702651023865,
          -0.17755281925201416
         ],
         "y": [
          -0.10689523071050644,
          -0.9841112494468689
         ]
        },
        {
         "mode": "lines",
         "type": "scatter",
         "x": [
          -0.9942702651023865,
          -0.6814178824424744
         ],
         "y": [
          -0.10689523071050644,
          -0.7318945527076721
         ]
        },
        {
         "mode": "lines",
         "type": "scatter",
         "x": [
          -0.9942702651023865,
          -0.14231453835964203
         ],
         "y": [
          -0.10689523071050644,
          -0.9898214936256409
         ]
        },
        {
         "mode": "lines",
         "type": "scatter",
         "x": [
          -0.9942702651023865,
          -0.10689488798379898
         ],
         "y": [
          -0.10689523071050644,
          -0.9942703247070312
         ]
        },
        {
         "mode": "lines",
         "type": "scatter",
         "x": [
          -0.9942702651023865,
          -0.07133902609348297
         ],
         "y": [
          -0.10689523071050644,
          -0.9974521398544312
         ]
        },
        {
         "mode": "lines",
         "type": "scatter",
         "x": [
          -0.9942702651023865,
          -0.0356922522187233
         ],
         "y": [
          -0.10689523071050644,
          -0.9993628263473511
         ]
        },
        {
         "mode": "lines",
         "type": "scatter",
         "x": [
          -0.9942702651023865,
          -0.7786414623260498
         ],
         "y": [
          -0.10689523071050644,
          -0.6274691224098206
         ]
        },
        {
         "mode": "lines",
         "type": "scatter",
         "x": [
          -0.9942702651023865,
          -0.755749523639679
         ],
         "y": [
          -0.10689523071050644,
          -0.65486079454422
         ]
        },
        {
         "mode": "lines",
         "type": "scatter",
         "x": [
          -0.9942702651023865,
          -0.7318945527076721
         ],
         "y": [
          -0.10689523071050644,
          -0.6814179420471191
         ]
        },
        {
         "mode": "lines",
         "type": "scatter",
         "x": [
          -0.9942702651023865,
          1.1924880638503055e-8
         ],
         "y": [
          -0.10689523071050644,
          -1
         ]
        },
        {
         "mode": "lines",
         "type": "scatter",
         "x": [
          -0.9942702651023865,
          0.03569227457046509
         ],
         "y": [
          -0.10689523071050644,
          -0.9993628263473511
         ]
        },
        {
         "mode": "lines",
         "type": "scatter",
         "x": [
          -0.9942702651023865,
          0.07133905589580536
         ],
         "y": [
          -0.10689523071050644,
          -0.9974521398544312
         ]
        },
        {
         "mode": "lines",
         "type": "scatter",
         "x": [
          -0.9942702651023865,
          -0.7071066498756409
         ],
         "y": [
          -0.10689523071050644,
          -0.70710688829422
         ]
        },
        {
         "mode": "lines",
         "type": "scatter",
         "x": [
          -0.9942702651023865,
          0.10689491778612137
         ],
         "y": [
          -0.10689523071050644,
          -0.9942703247070312
         ]
        },
        {
         "mode": "lines",
         "type": "scatter",
         "x": [
          -0.9942702651023865,
          0.14231504499912262
         ],
         "y": [
          -0.10689523071050644,
          -0.9898214340209961
         ]
        },
        {
         "mode": "lines",
         "type": "scatter",
         "x": [
          -0.9898214340209961,
          -0.9841111898422241
         ],
         "y": [
          -0.1423148810863495,
          -0.17755316197872162
         ]
        },
        {
         "mode": "lines",
         "type": "scatter",
         "x": [
          -0.9898214340209961,
          -0.9771468639373779
         ],
         "y": [
          -0.1423148810863495,
          -0.21256542205810547
         ]
        },
        {
         "mode": "lines",
         "type": "scatter",
         "x": [
          -0.9898214340209961,
          -0.9689372777938843
         ],
         "y": [
          -0.1423148810863495,
          -0.24730655550956726
         ]
        },
        {
         "mode": "lines",
         "type": "scatter",
         "x": [
          -0.9898214340209961,
          -0.9594929814338684
         ],
         "y": [
          -0.1423148810863495,
          -0.28173255920410156
         ]
        },
        {
         "mode": "lines",
         "type": "scatter",
         "x": [
          -0.9898214340209961,
          -0.9488258957862854
         ],
         "y": [
          -0.1423148810863495,
          -0.315799742937088
         ]
        },
        {
         "mode": "lines",
         "type": "scatter",
         "x": [
          -0.9898214340209961,
          -0.9369496703147888
         ],
         "y": [
          -0.1423148810863495,
          -0.3494642674922943
         ]
        },
        {
         "mode": "lines",
         "type": "scatter",
         "x": [
          -0.9898214340209961,
          -0.9238795042037964
         ],
         "y": [
          -0.1423148810863495,
          -0.3826834559440613
         ]
        },
        {
         "mode": "lines",
         "type": "scatter",
         "x": [
          -0.9898214340209961,
          -0.9096319079399109
         ],
         "y": [
          -0.1423148810863495,
          -0.4154151678085327
         ]
        },
        {
         "mode": "lines",
         "type": "scatter",
         "x": [
          -0.9898214340209961,
          -0.8942252397537231
         ],
         "y": [
          -0.1423148810863495,
          -0.4476172924041748
         ]
        },
        {
         "mode": "lines",
         "type": "scatter",
         "x": [
          -0.9898214340209961,
          -0.8776789903640747
         ],
         "y": [
          -0.1423148810863495,
          -0.4792490005493164
         ]
        },
        {
         "mode": "lines",
         "type": "scatter",
         "x": [
          -0.9898214340209961,
          -0.8600141406059265
         ],
         "y": [
          -0.1423148810863495,
          -0.5102701783180237
         ]
        },
        {
         "mode": "lines",
         "type": "scatter",
         "x": [
          -0.9898214340209961,
          -0.8412534594535828
         ],
         "y": [
          -0.1423148810863495,
          -0.5406408905982971
         ]
        },
        {
         "mode": "lines",
         "type": "scatter",
         "x": [
          -0.9898214340209961,
          -0.8214207887649536
         ],
         "y": [
          -0.1423148810863495,
          -0.5703226327896118
         ]
        },
        {
         "mode": "lines",
         "type": "scatter",
         "x": [
          -0.9898214340209961,
          -0.8005412817001343
         ],
         "y": [
          -0.1423148810863495,
          -0.5992776155471802
         ]
        },
        {
         "mode": "lines",
         "type": "scatter",
         "x": [
          -0.9898214340209961,
          -0.2817324697971344
         ],
         "y": [
          -0.1423148810863495,
          -0.9594929814338684
         ]
        },
        {
         "mode": "lines",
         "type": "scatter",
         "x": [
          -0.9898214340209961,
          -0.2473064661026001
         ],
         "y": [
          -0.1423148810863495,
          -0.968937337398529
         ]
        },
        {
         "mode": "lines",
         "type": "scatter",
         "x": [
          -0.9898214340209961,
          -0.2125653177499771
         ],
         "y": [
          -0.1423148810863495,
          -0.9771468639373779
         ]
        },
        {
         "mode": "lines",
         "type": "scatter",
         "x": [
          -0.9898214340209961,
          -0.17755281925201416
         ],
         "y": [
          -0.1423148810863495,
          -0.9841112494468689
         ]
        },
        {
         "mode": "lines",
         "type": "scatter",
         "x": [
          -0.9898214340209961,
          -0.6814178824424744
         ],
         "y": [
          -0.1423148810863495,
          -0.7318945527076721
         ]
        },
        {
         "mode": "lines",
         "type": "scatter",
         "x": [
          -0.9898214340209961,
          0.17755332589149475
         ],
         "y": [
          -0.1423148810863495,
          -0.9841111898422241
         ]
        },
        {
         "mode": "lines",
         "type": "scatter",
         "x": [
          -0.9898214340209961,
          0.2125653475522995
         ],
         "y": [
          -0.1423148810863495,
          -0.9771468639373779
         ]
        },
        {
         "mode": "lines",
         "type": "scatter",
         "x": [
          -0.9898214340209961,
          0.2473064810037613
         ],
         "y": [
          -0.1423148810863495,
          -0.9689372777938843
         ]
        },
        {
         "mode": "lines",
         "type": "scatter",
         "x": [
          -0.9898214340209961,
          0.2817324697971344
         ],
         "y": [
          -0.1423148810863495,
          -0.9594929814338684
         ]
        },
        {
         "mode": "lines",
         "type": "scatter",
         "x": [
          -0.9898214340209961,
          0.31579986214637756
         ],
         "y": [
          -0.1423148810863495,
          -0.9488258361816406
         ]
        },
        {
         "mode": "lines",
         "type": "scatter",
         "x": [
          -0.9898214340209961,
          0.34946438670158386
         ],
         "y": [
          -0.1423148810863495,
          -0.9369496703147888
         ]
        },
        {
         "mode": "lines",
         "type": "scatter",
         "x": [
          -0.9898214340209961,
          0.38268357515335083
         ],
         "y": [
          -0.1423148810863495,
          -0.9238794445991516
         ]
        },
        {
         "mode": "lines",
         "type": "scatter",
         "x": [
          -0.9898214340209961,
          -0.7786414623260498
         ],
         "y": [
          -0.1423148810863495,
          -0.6274691224098206
         ]
        },
        {
         "mode": "lines",
         "type": "scatter",
         "x": [
          -0.9898214340209961,
          -0.755749523639679
         ],
         "y": [
          -0.1423148810863495,
          -0.65486079454422
         ]
        },
        {
         "mode": "lines",
         "type": "scatter",
         "x": [
          -0.9898214340209961,
          0.41541510820388794
         ],
         "y": [
          -0.1423148810863495,
          -0.9096319675445557
         ]
        },
        {
         "mode": "lines",
         "type": "scatter",
         "x": [
          -0.9898214340209961,
          0.44761723279953003
         ],
         "y": [
          -0.1423148810863495,
          -0.8942252397537231
         ]
        },
        {
         "mode": "lines",
         "type": "scatter",
         "x": [
          -0.9898214340209961,
          0.47924894094467163
         ],
         "y": [
          -0.1423148810863495,
          -0.8776789903640747
         ]
        },
        {
         "mode": "lines",
         "type": "scatter",
         "x": [
          -0.9898214340209961,
          0.5102699398994446
         ],
         "y": [
          -0.1423148810863495,
          -0.8600143194198608
         ]
        },
        {
         "mode": "lines",
         "type": "scatter",
         "x": [
          -0.9898214340209961,
          0.540640652179718
         ],
         "y": [
          -0.1423148810863495,
          -0.8412536382675171
         ]
        },
        {
         "mode": "lines",
         "type": "scatter",
         "x": [
          -0.9898214340209961,
          0.5703223943710327
         ],
         "y": [
          -0.1423148810863495,
          -0.8214209079742432
         ]
        },
        {
         "mode": "lines",
         "type": "scatter",
         "x": [
          -0.9841111898422241,
          -0.9771468639373779
         ],
         "y": [
          -0.17755316197872162,
          -0.21256542205810547
         ]
        },
        {
         "mode": "lines",
         "type": "scatter",
         "x": [
          -0.9841111898422241,
          -0.9689372777938843
         ],
         "y": [
          -0.17755316197872162,
          -0.24730655550956726
         ]
        },
        {
         "mode": "lines",
         "type": "scatter",
         "x": [
          -0.9841111898422241,
          -0.9594929814338684
         ],
         "y": [
          -0.17755316197872162,
          -0.28173255920410156
         ]
        },
        {
         "mode": "lines",
         "type": "scatter",
         "x": [
          -0.9841111898422241,
          -0.9488258957862854
         ],
         "y": [
          -0.17755316197872162,
          -0.315799742937088
         ]
        },
        {
         "mode": "lines",
         "type": "scatter",
         "x": [
          -0.9841111898422241,
          -0.9369496703147888
         ],
         "y": [
          -0.17755316197872162,
          -0.3494642674922943
         ]
        },
        {
         "mode": "lines",
         "type": "scatter",
         "x": [
          -0.9841111898422241,
          -0.9238795042037964
         ],
         "y": [
          -0.17755316197872162,
          -0.3826834559440613
         ]
        },
        {
         "mode": "lines",
         "type": "scatter",
         "x": [
          -0.9841111898422241,
          -0.9096319079399109
         ],
         "y": [
          -0.17755316197872162,
          -0.4154151678085327
         ]
        },
        {
         "mode": "lines",
         "type": "scatter",
         "x": [
          -0.9841111898422241,
          -0.8942252397537231
         ],
         "y": [
          -0.17755316197872162,
          -0.4476172924041748
         ]
        },
        {
         "mode": "lines",
         "type": "scatter",
         "x": [
          -0.9841111898422241,
          -0.8776789903640747
         ],
         "y": [
          -0.17755316197872162,
          -0.4792490005493164
         ]
        },
        {
         "mode": "lines",
         "type": "scatter",
         "x": [
          -0.9841111898422241,
          -0.8600141406059265
         ],
         "y": [
          -0.17755316197872162,
          -0.5102701783180237
         ]
        },
        {
         "mode": "lines",
         "type": "scatter",
         "x": [
          -0.9841111898422241,
          -0.8412534594535828
         ],
         "y": [
          -0.17755316197872162,
          -0.5406408905982971
         ]
        },
        {
         "mode": "lines",
         "type": "scatter",
         "x": [
          -0.9841111898422241,
          -0.8214207887649536
         ],
         "y": [
          -0.17755316197872162,
          -0.5703226327896118
         ]
        },
        {
         "mode": "lines",
         "type": "scatter",
         "x": [
          -0.9841111898422241,
          -0.2817324697971344
         ],
         "y": [
          -0.17755316197872162,
          -0.9594929814338684
         ]
        },
        {
         "mode": "lines",
         "type": "scatter",
         "x": [
          -0.9841111898422241,
          -0.2473064661026001
         ],
         "y": [
          -0.17755316197872162,
          -0.968937337398529
         ]
        },
        {
         "mode": "lines",
         "type": "scatter",
         "x": [
          -0.9841111898422241,
          -0.2125653177499771
         ],
         "y": [
          -0.17755316197872162,
          -0.9771468639373779
         ]
        },
        {
         "mode": "lines",
         "type": "scatter",
         "x": [
          -0.9841111898422241,
          -0.17755281925201416
         ],
         "y": [
          -0.17755316197872162,
          -0.9841112494468689
         ]
        },
        {
         "mode": "lines",
         "type": "scatter",
         "x": [
          -0.9841111898422241,
          0.5992777943611145
         ],
         "y": [
          -0.17755316197872162,
          -0.8005411624908447
         ]
        },
        {
         "mode": "lines",
         "type": "scatter",
         "x": [
          -0.9841111898422241,
          0.6274690628051758
         ],
         "y": [
          -0.17755316197872162,
          -0.7786415219306946
         ]
        },
        {
         "mode": "lines",
         "type": "scatter",
         "x": [
          -0.9841111898422241,
          0.6548607349395752
         ],
         "y": [
          -0.17755316197872162,
          -0.7557495832443237
         ]
        },
        {
         "mode": "lines",
         "type": "scatter",
         "x": [
          -0.9841111898422241,
          0.681418240070343
         ],
         "y": [
          -0.17755316197872162,
          -0.7318942546844482
         ]
        },
        {
         "mode": "lines",
         "type": "scatter",
         "x": [
          -0.9841111898422241,
          0.7071070075035095
         ],
         "y": [
          -0.17755316197872162,
          -0.7071065306663513
         ]
        },
        {
         "mode": "lines",
         "type": "scatter",
         "x": [
          -0.9841111898422241,
          0.7318947315216064
         ],
         "y": [
          -0.17755316197872162,
          -0.6814177632331848
         ]
        },
        {
         "mode": "lines",
         "type": "scatter",
         "x": [
          -0.9841111898422241,
          -0.6814178824424744
         ],
         "y": [
          -0.17755316197872162,
          -0.7318945527076721
         ]
        },
        {
         "mode": "lines",
         "type": "scatter",
         "x": [
          -0.9841111898422241,
          0.17755332589149475
         ],
         "y": [
          -0.17755316197872162,
          -0.9841111898422241
         ]
        },
        {
         "mode": "lines",
         "type": "scatter",
         "x": [
          -0.9841111898422241,
          0.2125653475522995
         ],
         "y": [
          -0.17755316197872162,
          -0.9771468639373779
         ]
        },
        {
         "mode": "lines",
         "type": "scatter",
         "x": [
          -0.9841111898422241,
          0.2473064810037613
         ],
         "y": [
          -0.17755316197872162,
          -0.9689372777938843
         ]
        },
        {
         "mode": "lines",
         "type": "scatter",
         "x": [
          -0.9841111898422241,
          -0.5102699398994446
         ],
         "y": [
          -0.17755316197872162,
          -0.8600143194198608
         ]
        },
        {
         "mode": "lines",
         "type": "scatter",
         "x": [
          -0.9841111898422241,
          -0.755749523639679
         ],
         "y": [
          -0.17755316197872162,
          -0.65486079454422
         ]
        },
        {
         "mode": "lines",
         "type": "scatter",
         "x": [
          -0.9841111898422241,
          -0.47924894094467163
         ],
         "y": [
          -0.17755316197872162,
          -0.8776789903640747
         ]
        },
        {
         "mode": "lines",
         "type": "scatter",
         "x": [
          -0.9841111898422241,
          0.7557497024536133
         ],
         "y": [
          -0.17755316197872162,
          -0.6548605561256409
         ]
        },
        {
         "mode": "lines",
         "type": "scatter",
         "x": [
          -0.9841111898422241,
          -0.44761723279953003
         ],
         "y": [
          -0.17755316197872162,
          -0.8942252397537231
         ]
        },
        {
         "mode": "lines",
         "type": "scatter",
         "x": [
          -0.9841111898422241,
          -0.41541510820388794
         ],
         "y": [
          -0.17755316197872162,
          -0.9096319675445557
         ]
        },
        {
         "mode": "lines",
         "type": "scatter",
         "x": [
          -0.9841111898422241,
          -0.38268357515335083
         ],
         "y": [
          -0.17755316197872162,
          -0.9238794445991516
         ]
        },
        {
         "mode": "lines",
         "type": "scatter",
         "x": [
          -0.9841111898422241,
          0.7786415815353394
         ],
         "y": [
          -0.17755316197872162,
          -0.6274688839912415
         ]
        },
        {
         "mode": "lines",
         "type": "scatter",
         "x": [
          -0.9841111898422241,
          0.8005412817001343
         ],
         "y": [
          -0.17755316197872162,
          -0.5992776155471802
         ]
        },
        {
         "mode": "lines",
         "type": "scatter",
         "x": [
          -0.9841111898422241,
          0.8214207887649536
         ],
         "y": [
          -0.17755316197872162,
          -0.5703226327896118
         ]
        },
        {
         "mode": "lines",
         "type": "scatter",
         "x": [
          -0.9841111898422241,
          0.8412534594535828
         ],
         "y": [
          -0.17755316197872162,
          -0.5406408905982971
         ]
        },
        {
         "mode": "lines",
         "type": "scatter",
         "x": [
          -0.9841111898422241,
          0.8600141406059265
         ],
         "y": [
          -0.17755316197872162,
          -0.5102701783180237
         ]
        },
        {
         "mode": "lines",
         "type": "scatter",
         "x": [
          -0.9841111898422241,
          0.8776788711547852
         ],
         "y": [
          -0.17755316197872162,
          -0.4792492091655731
         ]
        },
        {
         "mode": "lines",
         "type": "scatter",
         "x": [
          -0.9841111898422241,
          0.5102699398994446
         ],
         "y": [
          -0.17755316197872162,
          -0.8600143194198608
         ]
        },
        {
         "mode": "lines",
         "type": "scatter",
         "x": [
          -0.9841111898422241,
          0.8942253589630127
         ],
         "y": [
          -0.17755316197872162,
          -0.4476170539855957
         ]
        },
        {
         "mode": "lines",
         "type": "scatter",
         "x": [
          -0.9771468639373779,
          -0.9689372777938843
         ],
         "y": [
          -0.21256542205810547,
          -0.24730655550956726
         ]
        },
        {
         "mode": "lines",
         "type": "scatter",
         "x": [
          -0.9771468639373779,
          -0.9594929814338684
         ],
         "y": [
          -0.21256542205810547,
          -0.28173255920410156
         ]
        },
        {
         "mode": "lines",
         "type": "scatter",
         "x": [
          -0.9771468639373779,
          -0.9488258957862854
         ],
         "y": [
          -0.21256542205810547,
          -0.315799742937088
         ]
        },
        {
         "mode": "lines",
         "type": "scatter",
         "x": [
          -0.9771468639373779,
          -0.9369496703147888
         ],
         "y": [
          -0.21256542205810547,
          -0.3494642674922943
         ]
        },
        {
         "mode": "lines",
         "type": "scatter",
         "x": [
          -0.9771468639373779,
          -0.9238795042037964
         ],
         "y": [
          -0.21256542205810547,
          -0.3826834559440613
         ]
        },
        {
         "mode": "lines",
         "type": "scatter",
         "x": [
          -0.9771468639373779,
          -0.9096319079399109
         ],
         "y": [
          -0.21256542205810547,
          -0.4154151678085327
         ]
        },
        {
         "mode": "lines",
         "type": "scatter",
         "x": [
          -0.9771468639373779,
          -0.8942252397537231
         ],
         "y": [
          -0.21256542205810547,
          -0.4476172924041748
         ]
        },
        {
         "mode": "lines",
         "type": "scatter",
         "x": [
          -0.9771468639373779,
          -0.8776789903640747
         ],
         "y": [
          -0.21256542205810547,
          -0.4792490005493164
         ]
        },
        {
         "mode": "lines",
         "type": "scatter",
         "x": [
          -0.9771468639373779,
          -0.8600141406059265
         ],
         "y": [
          -0.21256542205810547,
          -0.5102701783180237
         ]
        },
        {
         "mode": "lines",
         "type": "scatter",
         "x": [
          -0.9771468639373779,
          -0.8412534594535828
         ],
         "y": [
          -0.21256542205810547,
          -0.5406408905982971
         ]
        },
        {
         "mode": "lines",
         "type": "scatter",
         "x": [
          -0.9771468639373779,
          -0.8214207887649536
         ],
         "y": [
          -0.21256542205810547,
          -0.5703226327896118
         ]
        },
        {
         "mode": "lines",
         "type": "scatter",
         "x": [
          -0.9771468639373779,
          -0.2817324697971344
         ],
         "y": [
          -0.21256542205810547,
          -0.9594929814338684
         ]
        },
        {
         "mode": "lines",
         "type": "scatter",
         "x": [
          -0.9771468639373779,
          -0.2473064661026001
         ],
         "y": [
          -0.21256542205810547,
          -0.968937337398529
         ]
        },
        {
         "mode": "lines",
         "type": "scatter",
         "x": [
          -0.9771468639373779,
          -0.2125653177499771
         ],
         "y": [
          -0.21256542205810547,
          -0.9771468639373779
         ]
        },
        {
         "mode": "lines",
         "type": "scatter",
         "x": [
          -0.9689372777938843,
          -0.9594929814338684
         ],
         "y": [
          -0.24730655550956726,
          -0.28173255920410156
         ]
        },
        {
         "mode": "lines",
         "type": "scatter",
         "x": [
          -0.9689372777938843,
          -0.9488258957862854
         ],
         "y": [
          -0.24730655550956726,
          -0.315799742937088
         ]
        },
        {
         "mode": "lines",
         "type": "scatter",
         "x": [
          -0.9689372777938843,
          -0.9369496703147888
         ],
         "y": [
          -0.24730655550956726,
          -0.3494642674922943
         ]
        },
        {
         "mode": "lines",
         "type": "scatter",
         "x": [
          -0.9689372777938843,
          -0.9238795042037964
         ],
         "y": [
          -0.24730655550956726,
          -0.3826834559440613
         ]
        },
        {
         "mode": "lines",
         "type": "scatter",
         "x": [
          -0.9689372777938843,
          -0.9096319079399109
         ],
         "y": [
          -0.24730655550956726,
          -0.4154151678085327
         ]
        },
        {
         "mode": "lines",
         "type": "scatter",
         "x": [
          -0.9689372777938843,
          -0.8942252397537231
         ],
         "y": [
          -0.24730655550956726,
          -0.4476172924041748
         ]
        },
        {
         "mode": "lines",
         "type": "scatter",
         "x": [
          -0.9689372777938843,
          -0.8776789903640747
         ],
         "y": [
          -0.24730655550956726,
          -0.4792490005493164
         ]
        },
        {
         "mode": "lines",
         "type": "scatter",
         "x": [
          -0.9689372777938843,
          -0.8600141406059265
         ],
         "y": [
          -0.24730655550956726,
          -0.5102701783180237
         ]
        },
        {
         "mode": "lines",
         "type": "scatter",
         "x": [
          -0.9689372777938843,
          -0.8412534594535828
         ],
         "y": [
          -0.24730655550956726,
          -0.5406408905982971
         ]
        },
        {
         "mode": "lines",
         "type": "scatter",
         "x": [
          -0.9689372777938843,
          -0.8214207887649536
         ],
         "y": [
          -0.24730655550956726,
          -0.5703226327896118
         ]
        },
        {
         "mode": "lines",
         "type": "scatter",
         "x": [
          -0.9689372777938843,
          -0.2817324697971344
         ],
         "y": [
          -0.24730655550956726,
          -0.9594929814338684
         ]
        },
        {
         "mode": "lines",
         "type": "scatter",
         "x": [
          -0.9689372777938843,
          -0.2473064661026001
         ],
         "y": [
          -0.24730655550956726,
          -0.968937337398529
         ]
        },
        {
         "mode": "lines",
         "type": "scatter",
         "x": [
          -0.9689372777938843,
          -0.2125653177499771
         ],
         "y": [
          -0.24730655550956726,
          -0.9771468639373779
         ]
        },
        {
         "mode": "lines",
         "type": "scatter",
         "x": [
          -0.9689372777938843,
          -0.6814178824424744
         ],
         "y": [
          -0.24730655550956726,
          -0.7318945527076721
         ]
        },
        {
         "mode": "lines",
         "type": "scatter",
         "x": [
          -0.9689372777938843,
          0.31579986214637756
         ],
         "y": [
          -0.24730655550956726,
          -0.9488258361816406
         ]
        },
        {
         "mode": "lines",
         "type": "scatter",
         "x": [
          -0.9689372777938843,
          0.9096320271492004
         ],
         "y": [
          -0.24730655550956726,
          -0.4154149293899536
         ]
        },
        {
         "mode": "lines",
         "type": "scatter",
         "x": [
          -0.9689372777938843,
          -0.7786414623260498
         ],
         "y": [
          -0.24730655550956726,
          -0.6274691224098206
         ]
        },
        {
         "mode": "lines",
         "type": "scatter",
         "x": [
          -0.9689372777938843,
          -0.755749523639679
         ],
         "y": [
          -0.24730655550956726,
          -0.65486079454422
         ]
        },
        {
         "mode": "lines",
         "type": "scatter",
         "x": [
          -0.9689372777938843,
          -0.7318945527076721
         ],
         "y": [
          -0.24730655550956726,
          -0.6814179420471191
         ]
        },
        {
         "mode": "lines",
         "type": "scatter",
         "x": [
          -0.9689372777938843,
          0.41541510820388794
         ],
         "y": [
          -0.24730655550956726,
          -0.9096319675445557
         ]
        },
        {
         "mode": "lines",
         "type": "scatter",
         "x": [
          -0.9689372777938843,
          0.44761723279953003
         ],
         "y": [
          -0.24730655550956726,
          -0.8942252397537231
         ]
        },
        {
         "mode": "lines",
         "type": "scatter",
         "x": [
          -0.9689372777938843,
          0.47924894094467163
         ],
         "y": [
          -0.24730655550956726,
          -0.8776789903640747
         ]
        },
        {
         "mode": "lines",
         "type": "scatter",
         "x": [
          -0.9689372777938843,
          0.9238795638084412
         ],
         "y": [
          -0.24730655550956726,
          -0.3826834261417389
         ]
        },
        {
         "mode": "lines",
         "type": "scatter",
         "x": [
          -0.9689372777938843,
          0.9369498491287231
         ],
         "y": [
          -0.24730655550956726,
          -0.3494637906551361
         ]
        },
        {
         "mode": "lines",
         "type": "scatter",
         "x": [
          -0.9689372777938843,
          0.948826014995575
         ],
         "y": [
          -0.24730655550956726,
          -0.3157992660999298
         ]
        },
        {
         "mode": "lines",
         "type": "scatter",
         "x": [
          -0.9689372777938843,
          0.9594930410385132
         ],
         "y": [
          -0.24730655550956726,
          -0.2817322909832001
         ]
        },
        {
         "mode": "lines",
         "type": "scatter",
         "x": [
          -0.9689372777938843,
          0.968937337398529
         ],
         "y": [
          -0.24730655550956726,
          -0.24730630218982697
         ]
        },
        {
         "mode": "lines",
         "type": "scatter",
         "x": [
          -0.9689372777938843,
          0.9771469235420227
         ],
         "y": [
          -0.24730655550956726,
          -0.21256515383720398
         ]
        },
        {
         "mode": "lines",
         "type": "scatter",
         "x": [
          -0.9689372777938843,
          0.9841111898422241
         ],
         "y": [
          -0.24730655550956726,
          -0.17755313217639923
         ]
        },
        {
         "mode": "lines",
         "type": "scatter",
         "x": [
          -0.9689372777938843,
          0.8005412817001343
         ],
         "y": [
          -0.24730655550956726,
          -0.5992776155471802
         ]
        },
        {
         "mode": "lines",
         "type": "scatter",
         "x": [
          -0.9689372777938843,
          0.8214207887649536
         ],
         "y": [
          -0.24730655550956726,
          -0.5703226327896118
         ]
        },
        {
         "mode": "lines",
         "type": "scatter",
         "x": [
          -0.9689372777938843,
          0.9898214340209961
         ],
         "y": [
          -0.24730655550956726,
          -0.1423148512840271
         ]
        },
        {
         "mode": "lines",
         "type": "scatter",
         "x": [
          -0.9689372777938843,
          0.9942702651023865
         ],
         "y": [
          -0.24730655550956726,
          -0.10689520835876465
         ]
        },
        {
         "mode": "lines",
         "type": "scatter",
         "x": [
          -0.9689372777938843,
          0.9974520802497864
         ],
         "y": [
          -0.24730655550956726,
          -0.07133934646844864
         ]
        },
        {
         "mode": "lines",
         "type": "scatter",
         "x": [
          -0.9594929814338684,
          -0.9488258957862854
         ],
         "y": [
          -0.28173255920410156,
          -0.315799742937088
         ]
        },
        {
         "mode": "lines",
         "type": "scatter",
         "x": [
          -0.9594929814338684,
          -0.9369496703147888
         ],
         "y": [
          -0.28173255920410156,
          -0.3494642674922943
         ]
        },
        {
         "mode": "lines",
         "type": "scatter",
         "x": [
          -0.9594929814338684,
          -0.9238795042037964
         ],
         "y": [
          -0.28173255920410156,
          -0.3826834559440613
         ]
        },
        {
         "mode": "lines",
         "type": "scatter",
         "x": [
          -0.9594929814338684,
          -0.9096319079399109
         ],
         "y": [
          -0.28173255920410156,
          -0.4154151678085327
         ]
        },
        {
         "mode": "lines",
         "type": "scatter",
         "x": [
          -0.9594929814338684,
          -0.8942252397537231
         ],
         "y": [
          -0.28173255920410156,
          -0.4476172924041748
         ]
        },
        {
         "mode": "lines",
         "type": "scatter",
         "x": [
          -0.9594929814338684,
          -0.8776789903640747
         ],
         "y": [
          -0.28173255920410156,
          -0.4792490005493164
         ]
        },
        {
         "mode": "lines",
         "type": "scatter",
         "x": [
          -0.9594929814338684,
          -0.8600141406059265
         ],
         "y": [
          -0.28173255920410156,
          -0.5102701783180237
         ]
        },
        {
         "mode": "lines",
         "type": "scatter",
         "x": [
          -0.9594929814338684,
          -0.8412534594535828
         ],
         "y": [
          -0.28173255920410156,
          -0.5406408905982971
         ]
        },
        {
         "mode": "lines",
         "type": "scatter",
         "x": [
          -0.9594929814338684,
          -0.8214207887649536
         ],
         "y": [
          -0.28173255920410156,
          -0.5703226327896118
         ]
        },
        {
         "mode": "lines",
         "type": "scatter",
         "x": [
          -0.9594929814338684,
          -0.8005412817001343
         ],
         "y": [
          -0.28173255920410156,
          -0.5992776155471802
         ]
        },
        {
         "mode": "lines",
         "type": "scatter",
         "x": [
          -0.9594929814338684,
          -0.17755281925201416
         ],
         "y": [
          -0.28173255920410156,
          -0.9841112494468689
         ]
        },
        {
         "mode": "lines",
         "type": "scatter",
         "x": [
          -0.9594929814338684,
          0.5992777943611145
         ],
         "y": [
          -0.28173255920410156,
          -0.8005411624908447
         ]
        },
        {
         "mode": "lines",
         "type": "scatter",
         "x": [
          -0.9594929814338684,
          0.6274690628051758
         ],
         "y": [
          -0.28173255920410156,
          -0.7786415219306946
         ]
        },
        {
         "mode": "lines",
         "type": "scatter",
         "x": [
          -0.9594929814338684,
          0.6548607349395752
         ],
         "y": [
          -0.28173255920410156,
          -0.7557495832443237
         ]
        },
        {
         "mode": "lines",
         "type": "scatter",
         "x": [
          -0.9594929814338684,
          0.681418240070343
         ],
         "y": [
          -0.28173255920410156,
          -0.7318942546844482
         ]
        },
        {
         "mode": "lines",
         "type": "scatter",
         "x": [
          -0.9594929814338684,
          0.7071070075035095
         ],
         "y": [
          -0.28173255920410156,
          -0.7071065306663513
         ]
        },
        {
         "mode": "lines",
         "type": "scatter",
         "x": [
          -0.9594929814338684,
          0.7318947315216064
         ],
         "y": [
          -0.28173255920410156,
          -0.6814177632331848
         ]
        },
        {
         "mode": "lines",
         "type": "scatter",
         "x": [
          -0.9594929814338684,
          -0.6814178824424744
         ],
         "y": [
          -0.28173255920410156,
          -0.7318945527076721
         ]
        },
        {
         "mode": "lines",
         "type": "scatter",
         "x": [
          -0.9594929814338684,
          -0.6548607349395752
         ],
         "y": [
          -0.28173255920410156,
          -0.7557495832443237
         ]
        },
        {
         "mode": "lines",
         "type": "scatter",
         "x": [
          -0.9594929814338684,
          -0.6274690628051758
         ],
         "y": [
          -0.28173255920410156,
          -0.7786415219306946
         ]
        },
        {
         "mode": "lines",
         "type": "scatter",
         "x": [
          -0.9594929814338684,
          -0.5992777943611145
         ],
         "y": [
          -0.28173255920410156,
          -0.8005411624908447
         ]
        },
        {
         "mode": "lines",
         "type": "scatter",
         "x": [
          -0.9594929814338684,
          -0.5703223943710327
         ],
         "y": [
          -0.28173255920410156,
          -0.8214209079742432
         ]
        },
        {
         "mode": "lines",
         "type": "scatter",
         "x": [
          -0.9594929814338684,
          -0.540640652179718
         ],
         "y": [
          -0.28173255920410156,
          -0.8412536382675171
         ]
        },
        {
         "mode": "lines",
         "type": "scatter",
         "x": [
          -0.9594929814338684,
          -0.5102699398994446
         ],
         "y": [
          -0.28173255920410156,
          -0.8600143194198608
         ]
        },
        {
         "mode": "lines",
         "type": "scatter",
         "x": [
          -0.9594929814338684,
          -0.755749523639679
         ],
         "y": [
          -0.28173255920410156,
          -0.65486079454422
         ]
        },
        {
         "mode": "lines",
         "type": "scatter",
         "x": [
          -0.9594929814338684,
          1.1924880638503055e-8
         ],
         "y": [
          -0.28173255920410156,
          -1
         ]
        },
        {
         "mode": "lines",
         "type": "scatter",
         "x": [
          -0.9594929814338684,
          0.9993628263473511
         ],
         "y": [
          -0.28173255920410156,
          -0.03569256514310837
         ]
        },
        {
         "mode": "lines",
         "type": "scatter",
         "x": [
          -0.9594929814338684,
          1
         ],
         "y": [
          -0.28173255920410156,
          1.7484555314695172e-7
         ]
        },
        {
         "mode": "lines",
         "type": "scatter",
         "x": [
          -0.9594929814338684,
          0.7557497024536133
         ],
         "y": [
          -0.28173255920410156,
          -0.6548605561256409
         ]
        },
        {
         "mode": "lines",
         "type": "scatter",
         "x": [
          -0.9594929814338684,
          -0.44761723279953003
         ],
         "y": [
          -0.28173255920410156,
          -0.8942252397537231
         ]
        },
        {
         "mode": "lines",
         "type": "scatter",
         "x": [
          -0.9594929814338684,
          -0.41541510820388794
         ],
         "y": [
          -0.28173255920410156,
          -0.9096319675445557
         ]
        },
        {
         "mode": "lines",
         "type": "scatter",
         "x": [
          -0.9594929814338684,
          -0.38268357515335083
         ],
         "y": [
          -0.28173255920410156,
          -0.9238794445991516
         ]
        },
        {
         "mode": "lines",
         "type": "scatter",
         "x": [
          -0.9594929814338684,
          0.7786415815353394
         ],
         "y": [
          -0.28173255920410156,
          -0.6274688839912415
         ]
        },
        {
         "mode": "lines",
         "type": "scatter",
         "x": [
          -0.9594929814338684,
          0.9771469235420227
         ],
         "y": [
          -0.28173255920410156,
          -0.21256515383720398
         ]
        },
        {
         "mode": "lines",
         "type": "scatter",
         "x": [
          -0.9594929814338684,
          0.9841111898422241
         ],
         "y": [
          -0.28173255920410156,
          -0.17755313217639923
         ]
        },
        {
         "mode": "lines",
         "type": "scatter",
         "x": [
          -0.9594929814338684,
          0.8005412817001343
         ],
         "y": [
          -0.28173255920410156,
          -0.5992776155471802
         ]
        },
        {
         "mode": "lines",
         "type": "scatter",
         "x": [
          -0.9594929814338684,
          0.8214207887649536
         ],
         "y": [
          -0.28173255920410156,
          -0.5703226327896118
         ]
        },
        {
         "mode": "lines",
         "type": "scatter",
         "x": [
          -0.9594929814338684,
          0.9898214340209961
         ],
         "y": [
          -0.28173255920410156,
          -0.1423148512840271
         ]
        },
        {
         "mode": "lines",
         "type": "scatter",
         "x": [
          -0.9594929814338684,
          0.9942702651023865
         ],
         "y": [
          -0.28173255920410156,
          -0.10689520835876465
         ]
        },
        {
         "mode": "lines",
         "type": "scatter",
         "x": [
          -0.9594929814338684,
          0.9993628263473511
         ],
         "y": [
          -0.28173255920410156,
          0.03569243848323822
         ]
        },
        {
         "mode": "lines",
         "type": "scatter",
         "x": [
          -0.9594929814338684,
          0.8412534594535828
         ],
         "y": [
          -0.28173255920410156,
          -0.5406408905982971
         ]
        },
        {
         "mode": "lines",
         "type": "scatter",
         "x": [
          -0.9594929814338684,
          0.8600141406059265
         ],
         "y": [
          -0.28173255920410156,
          -0.5102701783180237
         ]
        },
        {
         "mode": "lines",
         "type": "scatter",
         "x": [
          -0.9594929814338684,
          0.8776788711547852
         ],
         "y": [
          -0.28173255920410156,
          -0.4792492091655731
         ]
        },
        {
         "mode": "lines",
         "type": "scatter",
         "x": [
          -0.9594929814338684,
          0.9974520802497864
         ],
         "y": [
          -0.28173255920410156,
          -0.07133934646844864
         ]
        },
        {
         "mode": "lines",
         "type": "scatter",
         "x": [
          -0.9594929814338684,
          0.5102699398994446
         ],
         "y": [
          -0.28173255920410156,
          -0.8600143194198608
         ]
        },
        {
         "mode": "lines",
         "type": "scatter",
         "x": [
          -0.9594929814338684,
          0.9974521398544312
         ],
         "y": [
          -0.28173255920410156,
          0.0713392123579979
         ]
        },
        {
         "mode": "lines",
         "type": "scatter",
         "x": [
          -0.9594929814338684,
          0.9942702651023865
         ],
         "y": [
          -0.28173255920410156,
          0.1068955510854721
         ]
        },
        {
         "mode": "lines",
         "type": "scatter",
         "x": [
          -0.9488258957862854,
          -0.9369496703147888
         ],
         "y": [
          -0.315799742937088,
          -0.3494642674922943
         ]
        },
        {
         "mode": "lines",
         "type": "scatter",
         "x": [
          -0.9488258957862854,
          -0.9238795042037964
         ],
         "y": [
          -0.315799742937088,
          -0.3826834559440613
         ]
        },
        {
         "mode": "lines",
         "type": "scatter",
         "x": [
          -0.9488258957862854,
          -0.9096319079399109
         ],
         "y": [
          -0.315799742937088,
          -0.4154151678085327
         ]
        },
        {
         "mode": "lines",
         "type": "scatter",
         "x": [
          -0.9488258957862854,
          -0.8942252397537231
         ],
         "y": [
          -0.315799742937088,
          -0.4476172924041748
         ]
        },
        {
         "mode": "lines",
         "type": "scatter",
         "x": [
          -0.9488258957862854,
          -0.8776789903640747
         ],
         "y": [
          -0.315799742937088,
          -0.4792490005493164
         ]
        },
        {
         "mode": "lines",
         "type": "scatter",
         "x": [
          -0.9488258957862854,
          -0.8600141406059265
         ],
         "y": [
          -0.315799742937088,
          -0.5102701783180237
         ]
        },
        {
         "mode": "lines",
         "type": "scatter",
         "x": [
          -0.9488258957862854,
          -0.8412534594535828
         ],
         "y": [
          -0.315799742937088,
          -0.5406408905982971
         ]
        },
        {
         "mode": "lines",
         "type": "scatter",
         "x": [
          -0.9488258957862854,
          -0.8214207887649536
         ],
         "y": [
          -0.315799742937088,
          -0.5703226327896118
         ]
        },
        {
         "mode": "lines",
         "type": "scatter",
         "x": [
          -0.9488258957862854,
          -0.8005412817001343
         ],
         "y": [
          -0.315799742937088,
          -0.5992776155471802
         ]
        },
        {
         "mode": "lines",
         "type": "scatter",
         "x": [
          -0.9488258957862854,
          -0.6814178824424744
         ],
         "y": [
          -0.315799742937088,
          -0.7318945527076721
         ]
        },
        {
         "mode": "lines",
         "type": "scatter",
         "x": [
          -0.9488258957862854,
          -0.6548607349395752
         ],
         "y": [
          -0.315799742937088,
          -0.7557495832443237
         ]
        },
        {
         "mode": "lines",
         "type": "scatter",
         "x": [
          -0.9488258957862854,
          -0.6274690628051758
         ],
         "y": [
          -0.315799742937088,
          -0.7786415219306946
         ]
        },
        {
         "mode": "lines",
         "type": "scatter",
         "x": [
          -0.9488258957862854,
          -0.5992777943611145
         ],
         "y": [
          -0.315799742937088,
          -0.8005411624908447
         ]
        },
        {
         "mode": "lines",
         "type": "scatter",
         "x": [
          -0.9488258957862854,
          -0.5703223943710327
         ],
         "y": [
          -0.315799742937088,
          -0.8214209079742432
         ]
        },
        {
         "mode": "lines",
         "type": "scatter",
         "x": [
          -0.9488258957862854,
          -0.540640652179718
         ],
         "y": [
          -0.315799742937088,
          -0.8412536382675171
         ]
        },
        {
         "mode": "lines",
         "type": "scatter",
         "x": [
          -0.9488258957862854,
          -0.5102699398994446
         ],
         "y": [
          -0.315799742937088,
          -0.8600143194198608
         ]
        },
        {
         "mode": "lines",
         "type": "scatter",
         "x": [
          -0.9488258957862854,
          -0.755749523639679
         ],
         "y": [
          -0.315799742937088,
          -0.65486079454422
         ]
        },
        {
         "mode": "lines",
         "type": "scatter",
         "x": [
          -0.9488258957862854,
          -0.7318945527076721
         ],
         "y": [
          -0.315799742937088,
          -0.6814179420471191
         ]
        },
        {
         "mode": "lines",
         "type": "scatter",
         "x": [
          -0.9488258957862854,
          0.7557497024536133
         ],
         "y": [
          -0.315799742937088,
          -0.6548605561256409
         ]
        },
        {
         "mode": "lines",
         "type": "scatter",
         "x": [
          -0.9488258957862854,
          -0.44761723279953003
         ],
         "y": [
          -0.315799742937088,
          -0.8942252397537231
         ]
        },
        {
         "mode": "lines",
         "type": "scatter",
         "x": [
          -0.9488258957862854,
          -0.41541510820388794
         ],
         "y": [
          -0.315799742937088,
          -0.9096319675445557
         ]
        },
        {
         "mode": "lines",
         "type": "scatter",
         "x": [
          -0.9488258957862854,
          -0.38268357515335083
         ],
         "y": [
          -0.315799742937088,
          -0.9238794445991516
         ]
        },
        {
         "mode": "lines",
         "type": "scatter",
         "x": [
          -0.9488258957862854,
          0.9974521398544312
         ],
         "y": [
          -0.315799742937088,
          0.0713392123579979
         ]
        },
        {
         "mode": "lines",
         "type": "scatter",
         "x": [
          -0.9488258957862854,
          -0.34946393966674805
         ],
         "y": [
          -0.315799742937088,
          -0.9369497895240784
         ]
        },
        {
         "mode": "lines",
         "type": "scatter",
         "x": [
          -0.9488258957862854,
          -0.31579941511154175
         ],
         "y": [
          -0.315799742937088,
          -0.9488259553909302
         ]
        },
        {
         "mode": "lines",
         "type": "scatter",
         "x": [
          -0.9369496703147888,
          -0.9238795042037964
         ],
         "y": [
          -0.3494642674922943,
          -0.3826834559440613
         ]
        },
        {
         "mode": "lines",
         "type": "scatter",
         "x": [
          -0.9369496703147888,
          -0.9096319079399109
         ],
         "y": [
          -0.3494642674922943,
          -0.4154151678085327
         ]
        },
        {
         "mode": "lines",
         "type": "scatter",
         "x": [
          -0.9369496703147888,
          -0.8942252397537231
         ],
         "y": [
          -0.3494642674922943,
          -0.4476172924041748
         ]
        },
        {
         "mode": "lines",
         "type": "scatter",
         "x": [
          -0.9369496703147888,
          -0.8776789903640747
         ],
         "y": [
          -0.3494642674922943,
          -0.4792490005493164
         ]
        },
        {
         "mode": "lines",
         "type": "scatter",
         "x": [
          -0.9369496703147888,
          -0.8600141406059265
         ],
         "y": [
          -0.3494642674922943,
          -0.5102701783180237
         ]
        },
        {
         "mode": "lines",
         "type": "scatter",
         "x": [
          -0.9369496703147888,
          -0.8412534594535828
         ],
         "y": [
          -0.3494642674922943,
          -0.5406408905982971
         ]
        },
        {
         "mode": "lines",
         "type": "scatter",
         "x": [
          -0.9369496703147888,
          -0.8214207887649536
         ],
         "y": [
          -0.3494642674922943,
          -0.5703226327896118
         ]
        },
        {
         "mode": "lines",
         "type": "scatter",
         "x": [
          -0.9369496703147888,
          -0.8005412817001343
         ],
         "y": [
          -0.3494642674922943,
          -0.5992776155471802
         ]
        },
        {
         "mode": "lines",
         "type": "scatter",
         "x": [
          -0.9238795042037964,
          -0.9096319079399109
         ],
         "y": [
          -0.3826834559440613,
          -0.4154151678085327
         ]
        },
        {
         "mode": "lines",
         "type": "scatter",
         "x": [
          -0.9238795042037964,
          -0.8942252397537231
         ],
         "y": [
          -0.3826834559440613,
          -0.4476172924041748
         ]
        },
        {
         "mode": "lines",
         "type": "scatter",
         "x": [
          -0.9238795042037964,
          -0.8776789903640747
         ],
         "y": [
          -0.3826834559440613,
          -0.4792490005493164
         ]
        },
        {
         "mode": "lines",
         "type": "scatter",
         "x": [
          -0.9238795042037964,
          -0.8600141406059265
         ],
         "y": [
          -0.3826834559440613,
          -0.5102701783180237
         ]
        },
        {
         "mode": "lines",
         "type": "scatter",
         "x": [
          -0.9238795042037964,
          -0.8412534594535828
         ],
         "y": [
          -0.3826834559440613,
          -0.5406408905982971
         ]
        },
        {
         "mode": "lines",
         "type": "scatter",
         "x": [
          -0.9238795042037964,
          -0.8214207887649536
         ],
         "y": [
          -0.3826834559440613,
          -0.5703226327896118
         ]
        },
        {
         "mode": "lines",
         "type": "scatter",
         "x": [
          -0.9238795042037964,
          -0.8005412817001343
         ],
         "y": [
          -0.3826834559440613,
          -0.5992776155471802
         ]
        },
        {
         "mode": "lines",
         "type": "scatter",
         "x": [
          -0.9238795042037964,
          -0.6814178824424744
         ],
         "y": [
          -0.3826834559440613,
          -0.7318945527076721
         ]
        },
        {
         "mode": "lines",
         "type": "scatter",
         "x": [
          -0.9238795042037964,
          -0.6548607349395752
         ],
         "y": [
          -0.3826834559440613,
          -0.7557495832443237
         ]
        },
        {
         "mode": "lines",
         "type": "scatter",
         "x": [
          -0.9238795042037964,
          -0.6274690628051758
         ],
         "y": [
          -0.3826834559440613,
          -0.7786415219306946
         ]
        },
        {
         "mode": "lines",
         "type": "scatter",
         "x": [
          -0.9238795042037964,
          -0.5992777943611145
         ],
         "y": [
          -0.3826834559440613,
          -0.8005411624908447
         ]
        },
        {
         "mode": "lines",
         "type": "scatter",
         "x": [
          -0.9238795042037964,
          -0.5703223943710327
         ],
         "y": [
          -0.3826834559440613,
          -0.8214209079742432
         ]
        },
        {
         "mode": "lines",
         "type": "scatter",
         "x": [
          -0.9238795042037964,
          -0.540640652179718
         ],
         "y": [
          -0.3826834559440613,
          -0.8412536382675171
         ]
        },
        {
         "mode": "lines",
         "type": "scatter",
         "x": [
          -0.9238795042037964,
          -0.7786414623260498
         ],
         "y": [
          -0.3826834559440613,
          -0.6274691224098206
         ]
        },
        {
         "mode": "lines",
         "type": "scatter",
         "x": [
          -0.9238795042037964,
          -0.755749523639679
         ],
         "y": [
          -0.3826834559440613,
          -0.65486079454422
         ]
        },
        {
         "mode": "lines",
         "type": "scatter",
         "x": [
          -0.9238795042037964,
          -0.47924894094467163
         ],
         "y": [
          -0.3826834559440613,
          -0.8776789903640747
         ]
        },
        {
         "mode": "lines",
         "type": "scatter",
         "x": [
          -0.9238795042037964,
          -0.7318945527076721
         ],
         "y": [
          -0.3826834559440613,
          -0.6814179420471191
         ]
        },
        {
         "mode": "lines",
         "type": "scatter",
         "x": [
          -0.9238795042037964,
          -0.7071066498756409
         ],
         "y": [
          -0.3826834559440613,
          -0.70710688829422
         ]
        },
        {
         "mode": "lines",
         "type": "scatter",
         "x": [
          -0.9096319079399109,
          -0.8942252397537231
         ],
         "y": [
          -0.4154151678085327,
          -0.4476172924041748
         ]
        },
        {
         "mode": "lines",
         "type": "scatter",
         "x": [
          -0.9096319079399109,
          -0.8776789903640747
         ],
         "y": [
          -0.4154151678085327,
          -0.4792490005493164
         ]
        },
        {
         "mode": "lines",
         "type": "scatter",
         "x": [
          -0.9096319079399109,
          -0.8600141406059265
         ],
         "y": [
          -0.4154151678085327,
          -0.5102701783180237
         ]
        },
        {
         "mode": "lines",
         "type": "scatter",
         "x": [
          -0.9096319079399109,
          -0.8412534594535828
         ],
         "y": [
          -0.4154151678085327,
          -0.5406408905982971
         ]
        },
        {
         "mode": "lines",
         "type": "scatter",
         "x": [
          -0.9096319079399109,
          -0.8214207887649536
         ],
         "y": [
          -0.4154151678085327,
          -0.5703226327896118
         ]
        },
        {
         "mode": "lines",
         "type": "scatter",
         "x": [
          -0.9096319079399109,
          -0.8005412817001343
         ],
         "y": [
          -0.4154151678085327,
          -0.5992776155471802
         ]
        },
        {
         "mode": "lines",
         "type": "scatter",
         "x": [
          -0.9096319079399109,
          -0.7786414623260498
         ],
         "y": [
          -0.4154151678085327,
          -0.6274691224098206
         ]
        },
        {
         "mode": "lines",
         "type": "scatter",
         "x": [
          -0.9096319079399109,
          -0.755749523639679
         ],
         "y": [
          -0.4154151678085327,
          -0.65486079454422
         ]
        },
        {
         "mode": "lines",
         "type": "scatter",
         "x": [
          -0.9096319079399109,
          -0.7318945527076721
         ],
         "y": [
          -0.4154151678085327,
          -0.6814179420471191
         ]
        },
        {
         "mode": "lines",
         "type": "scatter",
         "x": [
          -0.9096319079399109,
          -0.7071066498756409
         ],
         "y": [
          -0.4154151678085327,
          -0.70710688829422
         ]
        },
        {
         "mode": "lines",
         "type": "scatter",
         "x": [
          -0.8942252397537231,
          -0.8776789903640747
         ],
         "y": [
          -0.4476172924041748,
          -0.4792490005493164
         ]
        },
        {
         "mode": "lines",
         "type": "scatter",
         "x": [
          -0.8942252397537231,
          -0.8600141406059265
         ],
         "y": [
          -0.4476172924041748,
          -0.5102701783180237
         ]
        },
        {
         "mode": "lines",
         "type": "scatter",
         "x": [
          -0.8942252397537231,
          -0.8412534594535828
         ],
         "y": [
          -0.4476172924041748,
          -0.5406408905982971
         ]
        },
        {
         "mode": "lines",
         "type": "scatter",
         "x": [
          -0.8942252397537231,
          -0.8214207887649536
         ],
         "y": [
          -0.4476172924041748,
          -0.5703226327896118
         ]
        },
        {
         "mode": "lines",
         "type": "scatter",
         "x": [
          -0.8942252397537231,
          -0.8005412817001343
         ],
         "y": [
          -0.4476172924041748,
          -0.5992776155471802
         ]
        },
        {
         "mode": "lines",
         "type": "scatter",
         "x": [
          -0.8942252397537231,
          -0.17755281925201416
         ],
         "y": [
          -0.4476172924041748,
          -0.9841112494468689
         ]
        },
        {
         "mode": "lines",
         "type": "scatter",
         "x": [
          -0.8942252397537231,
          -0.6814178824424744
         ],
         "y": [
          -0.4476172924041748,
          -0.7318945527076721
         ]
        },
        {
         "mode": "lines",
         "type": "scatter",
         "x": [
          -0.8942252397537231,
          0.17755332589149475
         ],
         "y": [
          -0.4476172924041748,
          -0.9841111898422241
         ]
        },
        {
         "mode": "lines",
         "type": "scatter",
         "x": [
          -0.8942252397537231,
          0.2125653475522995
         ],
         "y": [
          -0.4476172924041748,
          -0.9771468639373779
         ]
        },
        {
         "mode": "lines",
         "type": "scatter",
         "x": [
          -0.8942252397537231,
          0.2473064810037613
         ],
         "y": [
          -0.4476172924041748,
          -0.9689372777938843
         ]
        },
        {
         "mode": "lines",
         "type": "scatter",
         "x": [
          -0.8942252397537231,
          0.5102699398994446
         ],
         "y": [
          -0.4476172924041748,
          -0.8600143194198608
         ]
        },
        {
         "mode": "lines",
         "type": "scatter",
         "x": [
          -0.8776789903640747,
          -0.8600141406059265
         ],
         "y": [
          -0.4792490005493164,
          -0.5102701783180237
         ]
        },
        {
         "mode": "lines",
         "type": "scatter",
         "x": [
          -0.8776789903640747,
          -0.8412534594535828
         ],
         "y": [
          -0.4792490005493164,
          -0.5406408905982971
         ]
        },
        {
         "mode": "lines",
         "type": "scatter",
         "x": [
          -0.8776789903640747,
          -0.8214207887649536
         ],
         "y": [
          -0.4792490005493164,
          -0.5703226327896118
         ]
        },
        {
         "mode": "lines",
         "type": "scatter",
         "x": [
          -0.8776789903640747,
          -0.8005412817001343
         ],
         "y": [
          -0.4792490005493164,
          -0.5992776155471802
         ]
        },
        {
         "mode": "lines",
         "type": "scatter",
         "x": [
          -0.8776789903640747,
          -0.2817324697971344
         ],
         "y": [
          -0.4792490005493164,
          -0.9594929814338684
         ]
        },
        {
         "mode": "lines",
         "type": "scatter",
         "x": [
          -0.8776789903640747,
          -0.2473064661026001
         ],
         "y": [
          -0.4792490005493164,
          -0.968937337398529
         ]
        },
        {
         "mode": "lines",
         "type": "scatter",
         "x": [
          -0.8776789903640747,
          -0.2125653177499771
         ],
         "y": [
          -0.4792490005493164,
          -0.9771468639373779
         ]
        },
        {
         "mode": "lines",
         "type": "scatter",
         "x": [
          -0.8776789903640747,
          -0.6814178824424744
         ],
         "y": [
          -0.4792490005493164,
          -0.7318945527076721
         ]
        },
        {
         "mode": "lines",
         "type": "scatter",
         "x": [
          -0.8776789903640747,
          0.31579986214637756
         ],
         "y": [
          -0.4792490005493164,
          -0.9488258361816406
         ]
        },
        {
         "mode": "lines",
         "type": "scatter",
         "x": [
          -0.8776789903640747,
          -0.14231453835964203
         ],
         "y": [
          -0.4792490005493164,
          -0.9898214936256409
         ]
        },
        {
         "mode": "lines",
         "type": "scatter",
         "x": [
          -0.8776789903640747,
          -0.10689488798379898
         ],
         "y": [
          -0.4792490005493164,
          -0.9942703247070312
         ]
        },
        {
         "mode": "lines",
         "type": "scatter",
         "x": [
          -0.8776789903640747,
          -0.07133902609348297
         ],
         "y": [
          -0.4792490005493164,
          -0.9974521398544312
         ]
        },
        {
         "mode": "lines",
         "type": "scatter",
         "x": [
          -0.8776789903640747,
          -0.0356922522187233
         ],
         "y": [
          -0.4792490005493164,
          -0.9993628263473511
         ]
        },
        {
         "mode": "lines",
         "type": "scatter",
         "x": [
          -0.8776789903640747,
          -0.7786414623260498
         ],
         "y": [
          -0.4792490005493164,
          -0.6274691224098206
         ]
        },
        {
         "mode": "lines",
         "type": "scatter",
         "x": [
          -0.8776789903640747,
          -0.755749523639679
         ],
         "y": [
          -0.4792490005493164,
          -0.65486079454422
         ]
        },
        {
         "mode": "lines",
         "type": "scatter",
         "x": [
          -0.8776789903640747,
          -0.7318945527076721
         ],
         "y": [
          -0.4792490005493164,
          -0.6814179420471191
         ]
        },
        {
         "mode": "lines",
         "type": "scatter",
         "x": [
          -0.8776789903640747,
          0.03569227457046509
         ],
         "y": [
          -0.4792490005493164,
          -0.9993628263473511
         ]
        },
        {
         "mode": "lines",
         "type": "scatter",
         "x": [
          -0.8776789903640747,
          0.9898213744163513
         ],
         "y": [
          -0.4792490005493164,
          0.14231520891189575
         ]
        },
        {
         "mode": "lines",
         "type": "scatter",
         "x": [
          -0.8776789903640747,
          0.07133905589580536
         ],
         "y": [
          -0.4792490005493164,
          -0.9974521398544312
         ]
        },
        {
         "mode": "lines",
         "type": "scatter",
         "x": [
          -0.8776789903640747,
          -0.7071066498756409
         ],
         "y": [
          -0.4792490005493164,
          -0.70710688829422
         ]
        },
        {
         "mode": "lines",
         "type": "scatter",
         "x": [
          -0.8776789903640747,
          0.14231504499912262
         ],
         "y": [
          -0.4792490005493164,
          -0.9898214340209961
         ]
        },
        {
         "mode": "lines",
         "type": "scatter",
         "x": [
          -0.8600141406059265,
          -0.8412534594535828
         ],
         "y": [
          -0.5102701783180237,
          -0.5406408905982971
         ]
        },
        {
         "mode": "lines",
         "type": "scatter",
         "x": [
          -0.8600141406059265,
          -0.8214207887649536
         ],
         "y": [
          -0.5102701783180237,
          -0.5703226327896118
         ]
        },
        {
         "mode": "lines",
         "type": "scatter",
         "x": [
          -0.8600141406059265,
          -0.8005412817001343
         ],
         "y": [
          -0.5102701783180237,
          -0.5992776155471802
         ]
        },
        {
         "mode": "lines",
         "type": "scatter",
         "x": [
          -0.8600141406059265,
          -0.2817324697971344
         ],
         "y": [
          -0.5102701783180237,
          -0.9594929814338684
         ]
        },
        {
         "mode": "lines",
         "type": "scatter",
         "x": [
          -0.8600141406059265,
          -0.2473064661026001
         ],
         "y": [
          -0.5102701783180237,
          -0.968937337398529
         ]
        },
        {
         "mode": "lines",
         "type": "scatter",
         "x": [
          -0.8600141406059265,
          -0.2125653177499771
         ],
         "y": [
          -0.5102701783180237,
          -0.9771468639373779
         ]
        },
        {
         "mode": "lines",
         "type": "scatter",
         "x": [
          -0.8600141406059265,
          -0.7786414623260498
         ],
         "y": [
          -0.5102701783180237,
          -0.6274691224098206
         ]
        },
        {
         "mode": "lines",
         "type": "scatter",
         "x": [
          -0.8600141406059265,
          -0.755749523639679
         ],
         "y": [
          -0.5102701783180237,
          -0.65486079454422
         ]
        },
        {
         "mode": "lines",
         "type": "scatter",
         "x": [
          -0.8600141406059265,
          -0.7318945527076721
         ],
         "y": [
          -0.5102701783180237,
          -0.6814179420471191
         ]
        },
        {
         "mode": "lines",
         "type": "scatter",
         "x": [
          -0.8600141406059265,
          0.41541510820388794
         ],
         "y": [
          -0.5102701783180237,
          -0.9096319675445557
         ]
        },
        {
         "mode": "lines",
         "type": "scatter",
         "x": [
          -0.8600141406059265,
          0.44761723279953003
         ],
         "y": [
          -0.5102701783180237,
          -0.8942252397537231
         ]
        },
        {
         "mode": "lines",
         "type": "scatter",
         "x": [
          -0.8600141406059265,
          0.47924894094467163
         ],
         "y": [
          -0.5102701783180237,
          -0.8776789903640747
         ]
        },
        {
         "mode": "lines",
         "type": "scatter",
         "x": [
          -0.8600141406059265,
          0.9238795638084412
         ],
         "y": [
          -0.5102701783180237,
          -0.3826834261417389
         ]
        },
        {
         "mode": "lines",
         "type": "scatter",
         "x": [
          -0.8600141406059265,
          0.03569227457046509
         ],
         "y": [
          -0.5102701783180237,
          -0.9993628263473511
         ]
        },
        {
         "mode": "lines",
         "type": "scatter",
         "x": [
          -0.8600141406059265,
          0.540640652179718
         ],
         "y": [
          -0.5102701783180237,
          -0.8412536382675171
         ]
        },
        {
         "mode": "lines",
         "type": "scatter",
         "x": [
          -0.8600141406059265,
          0.07133905589580536
         ],
         "y": [
          -0.5102701783180237,
          -0.9974521398544312
         ]
        },
        {
         "mode": "lines",
         "type": "scatter",
         "x": [
          -0.8600141406059265,
          -0.7071066498756409
         ],
         "y": [
          -0.5102701783180237,
          -0.70710688829422
         ]
        },
        {
         "mode": "lines",
         "type": "scatter",
         "x": [
          -0.8600141406059265,
          0.14231504499912262
         ],
         "y": [
          -0.5102701783180237,
          -0.9898214340209961
         ]
        },
        {
         "mode": "lines",
         "type": "scatter",
         "x": [
          -0.8412534594535828,
          -0.8214207887649536
         ],
         "y": [
          -0.5406408905982971,
          -0.5703226327896118
         ]
        },
        {
         "mode": "lines",
         "type": "scatter",
         "x": [
          -0.8412534594535828,
          -0.8005412817001343
         ],
         "y": [
          -0.5406408905982971,
          -0.5992776155471802
         ]
        },
        {
         "mode": "lines",
         "type": "scatter",
         "x": [
          -0.8412534594535828,
          -0.2817324697971344
         ],
         "y": [
          -0.5406408905982971,
          -0.9594929814338684
         ]
        },
        {
         "mode": "lines",
         "type": "scatter",
         "x": [
          -0.8412534594535828,
          -0.2125653177499771
         ],
         "y": [
          -0.5406408905982971,
          -0.9771468639373779
         ]
        },
        {
         "mode": "lines",
         "type": "scatter",
         "x": [
          -0.8412534594535828,
          -0.17755281925201416
         ],
         "y": [
          -0.5406408905982971,
          -0.9841112494468689
         ]
        },
        {
         "mode": "lines",
         "type": "scatter",
         "x": [
          -0.8412534594535828,
          -0.6814178824424744
         ],
         "y": [
          -0.5406408905982971,
          -0.7318945527076721
         ]
        },
        {
         "mode": "lines",
         "type": "scatter",
         "x": [
          -0.8412534594535828,
          0.17755332589149475
         ],
         "y": [
          -0.5406408905982971,
          -0.9841111898422241
         ]
        },
        {
         "mode": "lines",
         "type": "scatter",
         "x": [
          -0.8412534594535828,
          0.2125653475522995
         ],
         "y": [
          -0.5406408905982971,
          -0.9771468639373779
         ]
        },
        {
         "mode": "lines",
         "type": "scatter",
         "x": [
          -0.8412534594535828,
          0.2473064810037613
         ],
         "y": [
          -0.5406408905982971,
          -0.9689372777938843
         ]
        },
        {
         "mode": "lines",
         "type": "scatter",
         "x": [
          -0.8412534594535828,
          -0.14231453835964203
         ],
         "y": [
          -0.5406408905982971,
          -0.9898214936256409
         ]
        },
        {
         "mode": "lines",
         "type": "scatter",
         "x": [
          -0.8412534594535828,
          -0.10689488798379898
         ],
         "y": [
          -0.5406408905982971,
          -0.9942703247070312
         ]
        },
        {
         "mode": "lines",
         "type": "scatter",
         "x": [
          -0.8412534594535828,
          -0.07133902609348297
         ],
         "y": [
          -0.5406408905982971,
          -0.9974521398544312
         ]
        },
        {
         "mode": "lines",
         "type": "scatter",
         "x": [
          -0.8412534594535828,
          -0.0356922522187233
         ],
         "y": [
          -0.5406408905982971,
          -0.9993628263473511
         ]
        },
        {
         "mode": "lines",
         "type": "scatter",
         "x": [
          -0.8412534594535828,
          -0.7786414623260498
         ],
         "y": [
          -0.5406408905982971,
          -0.6274691224098206
         ]
        },
        {
         "mode": "lines",
         "type": "scatter",
         "x": [
          -0.8412534594535828,
          -0.755749523639679
         ],
         "y": [
          -0.5406408905982971,
          -0.65486079454422
         ]
        },
        {
         "mode": "lines",
         "type": "scatter",
         "x": [
          -0.8412534594535828,
          -0.7318945527076721
         ],
         "y": [
          -0.5406408905982971,
          -0.6814179420471191
         ]
        },
        {
         "mode": "lines",
         "type": "scatter",
         "x": [
          -0.8412534594535828,
          1.1924880638503055e-8
         ],
         "y": [
          -0.5406408905982971,
          -1
         ]
        },
        {
         "mode": "lines",
         "type": "scatter",
         "x": [
          -0.8412534594535828,
          0.03569227457046509
         ],
         "y": [
          -0.5406408905982971,
          -0.9993628263473511
         ]
        },
        {
         "mode": "lines",
         "type": "scatter",
         "x": [
          -0.8412534594535828,
          0.5102699398994446
         ],
         "y": [
          -0.5406408905982971,
          -0.8600143194198608
         ]
        },
        {
         "mode": "lines",
         "type": "scatter",
         "x": [
          -0.8412534594535828,
          0.9841111302375793
         ],
         "y": [
          -0.5406408905982971,
          0.17755348980426788
         ]
        },
        {
         "mode": "lines",
         "type": "scatter",
         "x": [
          -0.8412534594535828,
          0.9771468043327332
         ],
         "y": [
          -0.5406408905982971,
          0.21256551146507263
         ]
        },
        {
         "mode": "lines",
         "type": "scatter",
         "x": [
          -0.8412534594535828,
          0.9689372777938843
         ],
         "y": [
          -0.5406408905982971,
          0.24730664491653442
         ]
        },
        {
         "mode": "lines",
         "type": "scatter",
         "x": [
          -0.8412534594535828,
          0.9594929218292236
         ],
         "y": [
          -0.5406408905982971,
          0.28173261880874634
         ]
        },
        {
         "mode": "lines",
         "type": "scatter",
         "x": [
          -0.8412534594535828,
          0.07133905589580536
         ],
         "y": [
          -0.5406408905982971,
          -0.9974521398544312
         ]
        },
        {
         "mode": "lines",
         "type": "scatter",
         "x": [
          -0.8412534594535828,
          -0.7071066498756409
         ],
         "y": [
          -0.5406408905982971,
          -0.70710688829422
         ]
        },
        {
         "mode": "lines",
         "type": "scatter",
         "x": [
          -0.8412534594535828,
          0.10689491778612137
         ],
         "y": [
          -0.5406408905982971,
          -0.9942703247070312
         ]
        },
        {
         "mode": "lines",
         "type": "scatter",
         "x": [
          -0.8412534594535828,
          0.14231504499912262
         ],
         "y": [
          -0.5406408905982971,
          -0.9898214340209961
         ]
        },
        {
         "mode": "lines",
         "type": "scatter",
         "x": [
          -0.8412534594535828,
          0.9488258957862854
         ],
         "y": [
          -0.5406408905982971,
          0.3157995939254761
         ]
        },
        {
         "mode": "lines",
         "type": "scatter",
         "x": [
          -0.8412534594535828,
          0.9369497299194336
         ],
         "y": [
          -0.5406408905982971,
          0.3494641184806824
         ]
        },
        {
         "mode": "lines",
         "type": "scatter",
         "x": [
          -0.8214207887649536,
          -0.8005412817001343
         ],
         "y": [
          -0.5703226327896118,
          -0.5992776155471802
         ]
        },
        {
         "mode": "lines",
         "type": "scatter",
         "x": [
          -0.8214207887649536,
          -0.2817324697971344
         ],
         "y": [
          -0.5703226327896118,
          -0.9594929814338684
         ]
        },
        {
         "mode": "lines",
         "type": "scatter",
         "x": [
          -0.8214207887649536,
          -0.2473064661026001
         ],
         "y": [
          -0.5703226327896118,
          -0.968937337398529
         ]
        },
        {
         "mode": "lines",
         "type": "scatter",
         "x": [
          -0.8214207887649536,
          -0.2125653177499771
         ],
         "y": [
          -0.5703226327896118,
          -0.9771468639373779
         ]
        },
        {
         "mode": "lines",
         "type": "scatter",
         "x": [
          -0.8214207887649536,
          -0.5703223943710327
         ],
         "y": [
          -0.5703226327896118,
          -0.8214209079742432
         ]
        },
        {
         "mode": "lines",
         "type": "scatter",
         "x": [
          -0.8214207887649536,
          -0.540640652179718
         ],
         "y": [
          -0.5703226327896118,
          -0.8412536382675171
         ]
        },
        {
         "mode": "lines",
         "type": "scatter",
         "x": [
          -0.8214207887649536,
          -0.7786414623260498
         ],
         "y": [
          -0.5703226327896118,
          -0.6274691224098206
         ]
        },
        {
         "mode": "lines",
         "type": "scatter",
         "x": [
          -0.8214207887649536,
          -0.755749523639679
         ],
         "y": [
          -0.5703226327896118,
          -0.65486079454422
         ]
        },
        {
         "mode": "lines",
         "type": "scatter",
         "x": [
          -0.8214207887649536,
          -0.7318945527076721
         ],
         "y": [
          -0.5703226327896118,
          -0.6814179420471191
         ]
        },
        {
         "mode": "lines",
         "type": "scatter",
         "x": [
          -0.8214207887649536,
          0.9238795638084412
         ],
         "y": [
          -0.5703226327896118,
          0.38268330693244934
         ]
        },
        {
         "mode": "lines",
         "type": "scatter",
         "x": [
          -0.8214207887649536,
          0.7557497024536133
         ],
         "y": [
          -0.5703226327896118,
          -0.6548605561256409
         ]
        },
        {
         "mode": "lines",
         "type": "scatter",
         "x": [
          -0.8214207887649536,
          0.03569227457046509
         ],
         "y": [
          -0.5703226327896118,
          -0.9993628263473511
         ]
        },
        {
         "mode": "lines",
         "type": "scatter",
         "x": [
          -0.8214207887649536,
          0.07133905589580536
         ],
         "y": [
          -0.5703226327896118,
          -0.9974521398544312
         ]
        },
        {
         "mode": "lines",
         "type": "scatter",
         "x": [
          -0.8214207887649536,
          -0.7071066498756409
         ],
         "y": [
          -0.5703226327896118,
          -0.70710688829422
         ]
        },
        {
         "mode": "lines",
         "type": "scatter",
         "x": [
          -0.8214207887649536,
          0.10689491778612137
         ],
         "y": [
          -0.5703226327896118,
          -0.9942703247070312
         ]
        },
        {
         "mode": "lines",
         "type": "scatter",
         "x": [
          -0.8214207887649536,
          0.14231504499912262
         ],
         "y": [
          -0.5703226327896118,
          -0.9898214340209961
         ]
        },
        {
         "mode": "lines",
         "type": "scatter",
         "x": [
          -0.8214207887649536,
          0.9488258957862854
         ],
         "y": [
          -0.5703226327896118,
          0.3157995939254761
         ]
        },
        {
         "mode": "lines",
         "type": "scatter",
         "x": [
          -0.8214207887649536,
          0.9369497299194336
         ],
         "y": [
          -0.5703226327896118,
          0.3494641184806824
         ]
        },
        {
         "mode": "lines",
         "type": "scatter",
         "x": [
          -0.8005412817001343,
          -0.2817324697971344
         ],
         "y": [
          -0.5992776155471802,
          -0.9594929814338684
         ]
        },
        {
         "mode": "lines",
         "type": "scatter",
         "x": [
          -0.8005412817001343,
          -0.2125653177499771
         ],
         "y": [
          -0.5992776155471802,
          -0.9771468639373779
         ]
        },
        {
         "mode": "lines",
         "type": "scatter",
         "x": [
          -0.8005412817001343,
          -0.6814178824424744
         ],
         "y": [
          -0.5992776155471802,
          -0.7318945527076721
         ]
        },
        {
         "mode": "lines",
         "type": "scatter",
         "x": [
          -0.8005412817001343,
          0.9096320867538452
         ],
         "y": [
          -0.5992776155471802,
          0.41541481018066406
         ]
        },
        {
         "mode": "lines",
         "type": "scatter",
         "x": [
          -0.8005412817001343,
          0.8942251801490784
         ],
         "y": [
          -0.5992776155471802,
          0.44761738181114197
         ]
        },
        {
         "mode": "lines",
         "type": "scatter",
         "x": [
          -0.8005412817001343,
          0.8776789307594299
         ],
         "y": [
          -0.5992776155471802,
          0.47924908995628357
         ]
        },
        {
         "mode": "lines",
         "type": "scatter",
         "x": [
          -0.8005412817001343,
          0.8600142002105713
         ],
         "y": [
          -0.5992776155471802,
          0.5102700591087341
         ]
        },
        {
         "mode": "lines",
         "type": "scatter",
         "x": [
          -0.8005412817001343,
          0.8412535190582275
         ],
         "y": [
          -0.5992776155471802,
          0.5406407713890076
         ]
        },
        {
         "mode": "lines",
         "type": "scatter",
         "x": [
          -0.8005412817001343,
          -0.7786414623260498
         ],
         "y": [
          -0.5992776155471802,
          -0.6274691224098206
         ]
        },
        {
         "mode": "lines",
         "type": "scatter",
         "x": [
          -0.8005412817001343,
          -0.755749523639679
         ],
         "y": [
          -0.5992776155471802,
          -0.65486079454422
         ]
        },
        {
         "mode": "lines",
         "type": "scatter",
         "x": [
          -0.8005412817001343,
          -0.47924894094467163
         ],
         "y": [
          -0.5992776155471802,
          -0.8776789903640747
         ]
        },
        {
         "mode": "lines",
         "type": "scatter",
         "x": [
          -0.8005412817001343,
          -0.7318945527076721
         ],
         "y": [
          -0.5992776155471802,
          -0.6814179420471191
         ]
        },
        {
         "mode": "lines",
         "type": "scatter",
         "x": [
          -0.8005412817001343,
          0.9238795638084412
         ],
         "y": [
          -0.5992776155471802,
          0.38268330693244934
         ]
        },
        {
         "mode": "lines",
         "type": "scatter",
         "x": [
          -0.8005412817001343,
          0.8214205503463745
         ],
         "y": [
          -0.5992776155471802,
          0.5703229308128357
         ]
        },
        {
         "mode": "lines",
         "type": "scatter",
         "x": [
          -0.8005412817001343,
          0.9993628263473511
         ],
         "y": [
          -0.5992776155471802,
          -0.03569256514310837
         ]
        },
        {
         "mode": "lines",
         "type": "scatter",
         "x": [
          -0.8005412817001343,
          0.8005410432815552
         ],
         "y": [
          -0.5992776155471802,
          0.599277913570404
         ]
        },
        {
         "mode": "lines",
         "type": "scatter",
         "x": [
          -0.8005412817001343,
          0.03569227457046509
         ],
         "y": [
          -0.5992776155471802,
          -0.9993628263473511
         ]
        },
        {
         "mode": "lines",
         "type": "scatter",
         "x": [
          -0.8005412817001343,
          0.778641402721405
         ],
         "y": [
          -0.5992776155471802,
          0.6274691820144653
         ]
        },
        {
         "mode": "lines",
         "type": "scatter",
         "x": [
          -0.8005412817001343,
          0.7557494640350342
         ],
         "y": [
          -0.5992776155471802,
          0.6548608541488647
         ]
        },
        {
         "mode": "lines",
         "type": "scatter",
         "x": [
          -0.8005412817001343,
          0.07133905589580536
         ],
         "y": [
          -0.5992776155471802,
          -0.9974521398544312
         ]
        },
        {
         "mode": "lines",
         "type": "scatter",
         "x": [
          -0.8005412817001343,
          -0.7071066498756409
         ],
         "y": [
          -0.5992776155471802,
          -0.70710688829422
         ]
        },
        {
         "mode": "lines",
         "type": "scatter",
         "x": [
          -0.8005412817001343,
          0.10689491778612137
         ],
         "y": [
          -0.5992776155471802,
          -0.9942703247070312
         ]
        },
        {
         "mode": "lines",
         "type": "scatter",
         "x": [
          -0.8005412817001343,
          0.14231504499912262
         ],
         "y": [
          -0.5992776155471802,
          -0.9898214340209961
         ]
        },
        {
         "mode": "lines",
         "type": "scatter",
         "x": [
          -0.8005412817001343,
          0.9488258957862854
         ],
         "y": [
          -0.5992776155471802,
          0.3157995939254761
         ]
        },
        {
         "mode": "lines",
         "type": "scatter",
         "x": [
          -0.8005412817001343,
          0.9369497299194336
         ],
         "y": [
          -0.5992776155471802,
          0.3494641184806824
         ]
        },
        {
         "mode": "lines",
         "type": "scatter",
         "x": [
          -0.7786414623260498,
          -0.2473064661026001
         ],
         "y": [
          -0.6274691224098206,
          -0.968937337398529
         ]
        },
        {
         "mode": "lines",
         "type": "scatter",
         "x": [
          -0.7786414623260498,
          -0.5102699398994446
         ],
         "y": [
          -0.6274691224098206,
          -0.8600143194198608
         ]
        },
        {
         "mode": "lines",
         "type": "scatter",
         "x": [
          -0.7786414623260498,
          -0.755749523639679
         ],
         "y": [
          -0.6274691224098206,
          -0.65486079454422
         ]
        },
        {
         "mode": "lines",
         "type": "scatter",
         "x": [
          -0.7786414623260498,
          -0.7318945527076721
         ],
         "y": [
          -0.6274691224098206,
          -0.6814179420471191
         ]
        },
        {
         "mode": "lines",
         "type": "scatter",
         "x": [
          -0.7786414623260498,
          0.03569227457046509
         ],
         "y": [
          -0.6274691224098206,
          -0.9993628263473511
         ]
        },
        {
         "mode": "lines",
         "type": "scatter",
         "x": [
          -0.7786414623260498,
          -0.9841112494468689
         ],
         "y": [
          -0.6274691224098206,
          0.17755281925201416
         ]
        },
        {
         "mode": "lines",
         "type": "scatter",
         "x": [
          -0.7786414623260498,
          -0.9369496703147888
         ],
         "y": [
          -0.6274691224098206,
          0.3494643568992615
         ]
        },
        {
         "mode": "lines",
         "type": "scatter",
         "x": [
          -0.7786414623260498,
          -0.9898214936256409
         ],
         "y": [
          -0.6274691224098206,
          0.14231452345848083
         ]
        },
        {
         "mode": "lines",
         "type": "scatter",
         "x": [
          -0.7786414623260498,
          -0.34946393966674805
         ],
         "y": [
          -0.6274691224098206,
          -0.9369497895240784
         ]
        },
        {
         "mode": "lines",
         "type": "scatter",
         "x": [
          -0.7786414623260498,
          0.07133905589580536
         ],
         "y": [
          -0.6274691224098206,
          -0.9974521398544312
         ]
        },
        {
         "mode": "lines",
         "type": "scatter",
         "x": [
          -0.7786414623260498,
          -0.7071066498756409
         ],
         "y": [
          -0.6274691224098206,
          -0.70710688829422
         ]
        },
        {
         "mode": "lines",
         "type": "scatter",
         "x": [
          -0.7786414623260498,
          0.14231504499912262
         ],
         "y": [
          -0.6274691224098206,
          -0.9898214340209961
         ]
        },
        {
         "mode": "lines",
         "type": "scatter",
         "x": [
          -0.755749523639679,
          -0.2473064661026001
         ],
         "y": [
          -0.65486079454422,
          -0.968937337398529
         ]
        },
        {
         "mode": "lines",
         "type": "scatter",
         "x": [
          -0.755749523639679,
          -0.17755281925201416
         ],
         "y": [
          -0.65486079454422,
          -0.9841112494468689
         ]
        },
        {
         "mode": "lines",
         "type": "scatter",
         "x": [
          -0.755749523639679,
          -0.6814178824424744
         ],
         "y": [
          -0.65486079454422,
          -0.7318945527076721
         ]
        },
        {
         "mode": "lines",
         "type": "scatter",
         "x": [
          -0.755749523639679,
          0.17755332589149475
         ],
         "y": [
          -0.65486079454422,
          -0.9841111898422241
         ]
        },
        {
         "mode": "lines",
         "type": "scatter",
         "x": [
          -0.755749523639679,
          0.2125653475522995
         ],
         "y": [
          -0.65486079454422,
          -0.9771468639373779
         ]
        },
        {
         "mode": "lines",
         "type": "scatter",
         "x": [
          -0.755749523639679,
          0.2473064810037613
         ],
         "y": [
          -0.65486079454422,
          -0.9689372777938843
         ]
        },
        {
         "mode": "lines",
         "type": "scatter",
         "x": [
          -0.755749523639679,
          0.31579986214637756
         ],
         "y": [
          -0.65486079454422,
          -0.9488258361816406
         ]
        },
        {
         "mode": "lines",
         "type": "scatter",
         "x": [
          -0.755749523639679,
          0.9096320271492004
         ],
         "y": [
          -0.65486079454422,
          -0.4154149293899536
         ]
        },
        {
         "mode": "lines",
         "type": "scatter",
         "x": [
          -0.755749523639679,
          -0.3494638204574585
         ],
         "y": [
          -0.65486079454422,
          0.9369498491287231
         ]
        },
        {
         "mode": "lines",
         "type": "scatter",
         "x": [
          -0.755749523639679,
          -0.7318945527076721
         ],
         "y": [
          -0.65486079454422,
          -0.6814179420471191
         ]
        },
        {
         "mode": "lines",
         "type": "scatter",
         "x": [
          -0.755749523639679,
          0.948826014995575
         ],
         "y": [
          -0.65486079454422,
          -0.3157992660999298
         ]
        },
        {
         "mode": "lines",
         "type": "scatter",
         "x": [
          -0.755749523639679,
          0.9594930410385132
         ],
         "y": [
          -0.65486079454422,
          -0.2817322909832001
         ]
        },
        {
         "mode": "lines",
         "type": "scatter",
         "x": [
          -0.755749523639679,
          0.968937337398529
         ],
         "y": [
          -0.65486079454422,
          -0.24730630218982697
         ]
        },
        {
         "mode": "lines",
         "type": "scatter",
         "x": [
          -0.755749523639679,
          0.03569227457046509
         ],
         "y": [
          -0.65486079454422,
          -0.9993628263473511
         ]
        },
        {
         "mode": "lines",
         "type": "scatter",
         "x": [
          -0.755749523639679,
          -0.4792492091655731
         ],
         "y": [
          -0.65486079454422,
          0.8776788711547852
         ]
        },
        {
         "mode": "lines",
         "type": "scatter",
         "x": [
          -0.755749523639679,
          -0.5102702379226685
         ],
         "y": [
          -0.65486079454422,
          0.8600141406059265
         ]
        },
        {
         "mode": "lines",
         "type": "scatter",
         "x": [
          -0.755749523639679,
          0.9993628263473511
         ],
         "y": [
          -0.65486079454422,
          0.03569243848323822
         ]
        },
        {
         "mode": "lines",
         "type": "scatter",
         "x": [
          -0.755749523639679,
          -0.5406409502029419
         ],
         "y": [
          -0.65486079454422,
          0.8412534594535828
         ]
        },
        {
         "mode": "lines",
         "type": "scatter",
         "x": [
          -0.755749523639679,
          -0.5703226923942566
         ],
         "y": [
          -0.65486079454422,
          0.8214207291603088
         ]
        },
        {
         "mode": "lines",
         "type": "scatter",
         "x": [
          -0.755749523639679,
          0.1775534451007843
         ],
         "y": [
          -0.65486079454422,
          0.9841111302375793
         ]
        },
        {
         "mode": "lines",
         "type": "scatter",
         "x": [
          -0.755749523639679,
          0.07133905589580536
         ],
         "y": [
          -0.65486079454422,
          -0.9974521398544312
         ]
        },
        {
         "mode": "lines",
         "type": "scatter",
         "x": [
          -0.755749523639679,
          -0.7071066498756409
         ],
         "y": [
          -0.65486079454422,
          -0.70710688829422
         ]
        },
        {
         "mode": "lines",
         "type": "scatter",
         "x": [
          -0.755749523639679,
          0.14231504499912262
         ],
         "y": [
          -0.65486079454422,
          -0.9898214340209961
         ]
        },
        {
         "mode": "lines",
         "type": "scatter",
         "x": [
          -0.7318945527076721,
          -0.2473064661026001
         ],
         "y": [
          -0.6814179420471191,
          -0.968937337398529
         ]
        },
        {
         "mode": "lines",
         "type": "scatter",
         "x": [
          -0.7318945527076721,
          0.03569227457046509
         ],
         "y": [
          -0.6814179420471191,
          -0.9993628263473511
         ]
        },
        {
         "mode": "lines",
         "type": "scatter",
         "x": [
          -0.7318945527076721,
          0.07133905589580536
         ],
         "y": [
          -0.6814179420471191,
          -0.9974521398544312
         ]
        },
        {
         "mode": "lines",
         "type": "scatter",
         "x": [
          -0.7318945527076721,
          -0.7071066498756409
         ],
         "y": [
          -0.6814179420471191,
          -0.70710688829422
         ]
        },
        {
         "mode": "lines",
         "type": "scatter",
         "x": [
          -0.7318945527076721,
          0.14231504499912262
         ],
         "y": [
          -0.6814179420471191,
          -0.9898214340209961
         ]
        },
        {
         "mode": "lines",
         "type": "scatter",
         "x": [
          -0.7071066498756409,
          -0.2125653177499771
         ],
         "y": [
          -0.70710688829422,
          -0.9771468639373779
         ]
        },
        {
         "mode": "lines",
         "type": "scatter",
         "x": [
          -0.7071066498756409,
          0.03569227457046509
         ],
         "y": [
          -0.70710688829422,
          -0.9993628263473511
         ]
        },
        {
         "mode": "lines",
         "type": "scatter",
         "x": [
          -0.7071066498756409,
          0.07133905589580536
         ],
         "y": [
          -0.70710688829422,
          -0.9974521398544312
         ]
        },
        {
         "mode": "lines",
         "type": "scatter",
         "x": [
          -0.7071066498756409,
          0.10689491778612137
         ],
         "y": [
          -0.70710688829422,
          -0.9942703247070312
         ]
        },
        {
         "mode": "lines",
         "type": "scatter",
         "x": [
          -0.7071066498756409,
          0.14231504499912262
         ],
         "y": [
          -0.70710688829422,
          -0.9898214340209961
         ]
        },
        {
         "mode": "lines",
         "type": "scatter",
         "x": [
          -0.7071066498756409,
          0.9488258957862854
         ],
         "y": [
          -0.70710688829422,
          0.3157995939254761
         ]
        },
        {
         "mode": "lines",
         "type": "scatter",
         "x": [
          -0.7071066498756409,
          0.9369497299194336
         ],
         "y": [
          -0.70710688829422,
          0.3494641184806824
         ]
        },
        {
         "mode": "lines",
         "type": "scatter",
         "x": [
          -0.6814178824424744,
          -0.2125653177499771
         ],
         "y": [
          -0.7318945527076721,
          -0.9771468639373779
         ]
        },
        {
         "mode": "lines",
         "type": "scatter",
         "x": [
          -0.6814178824424744,
          0.7318944334983826
         ],
         "y": [
          -0.7318945527076721,
          0.6814180016517639
         ]
        },
        {
         "mode": "lines",
         "type": "scatter",
         "x": [
          -0.6814178824424744,
          0.5406403541564941
         ],
         "y": [
          -0.7318945527076721,
          0.8412538170814514
         ]
        },
        {
         "mode": "lines",
         "type": "scatter",
         "x": [
          -0.6814178824424744,
          -0.17755281925201416
         ],
         "y": [
          -0.7318945527076721,
          -0.9841112494468689
         ]
        },
        {
         "mode": "lines",
         "type": "scatter",
         "x": [
          -0.6814178824424744,
          0.5992777943611145
         ],
         "y": [
          -0.7318945527076721,
          -0.8005411624908447
         ]
        },
        {
         "mode": "lines",
         "type": "scatter",
         "x": [
          -0.6814178824424744,
          0.6274690628051758
         ],
         "y": [
          -0.7318945527076721,
          -0.7786415219306946
         ]
        },
        {
         "mode": "lines",
         "type": "scatter",
         "x": [
          -0.6814178824424744,
          0.6548607349395752
         ],
         "y": [
          -0.7318945527076721,
          -0.7557495832443237
         ]
        },
        {
         "mode": "lines",
         "type": "scatter",
         "x": [
          -0.6814178824424744,
          0.681418240070343
         ],
         "y": [
          -0.7318945527076721,
          -0.7318942546844482
         ]
        },
        {
         "mode": "lines",
         "type": "scatter",
         "x": [
          -0.6814178824424744,
          0.7071070075035095
         ],
         "y": [
          -0.7318945527076721,
          -0.7071065306663513
         ]
        },
        {
         "mode": "lines",
         "type": "scatter",
         "x": [
          -0.6814178824424744,
          0.7318947315216064
         ],
         "y": [
          -0.7318945527076721,
          -0.6814177632331848
         ]
        },
        {
         "mode": "lines",
         "type": "scatter",
         "x": [
          -0.6814178824424744,
          0.17755332589149475
         ],
         "y": [
          -0.7318945527076721,
          -0.9841111898422241
         ]
        },
        {
         "mode": "lines",
         "type": "scatter",
         "x": [
          -0.6814178824424744,
          0.2125653475522995
         ],
         "y": [
          -0.7318945527076721,
          -0.9771468639373779
         ]
        },
        {
         "mode": "lines",
         "type": "scatter",
         "x": [
          -0.6814178824424744,
          0.2473064810037613
         ],
         "y": [
          -0.7318945527076721,
          -0.9689372777938843
         ]
        },
        {
         "mode": "lines",
         "type": "scatter",
         "x": [
          -0.6814178824424744,
          0.2817324697971344
         ],
         "y": [
          -0.7318945527076721,
          -0.9594929814338684
         ]
        },
        {
         "mode": "lines",
         "type": "scatter",
         "x": [
          -0.6814178824424744,
          0.31579986214637756
         ],
         "y": [
          -0.7318945527076721,
          -0.9488258361816406
         ]
        },
        {
         "mode": "lines",
         "type": "scatter",
         "x": [
          -0.6814178824424744,
          -0.14231453835964203
         ],
         "y": [
          -0.7318945527076721,
          -0.9898214936256409
         ]
        },
        {
         "mode": "lines",
         "type": "scatter",
         "x": [
          -0.6814178824424744,
          -0.10689488798379898
         ],
         "y": [
          -0.7318945527076721,
          -0.9942703247070312
         ]
        },
        {
         "mode": "lines",
         "type": "scatter",
         "x": [
          -0.6814178824424744,
          -0.07133902609348297
         ],
         "y": [
          -0.7318945527076721,
          -0.9974521398544312
         ]
        },
        {
         "mode": "lines",
         "type": "scatter",
         "x": [
          -0.6814178824424744,
          -0.0356922522187233
         ],
         "y": [
          -0.7318945527076721,
          -0.9993628263473511
         ]
        },
        {
         "mode": "lines",
         "type": "scatter",
         "x": [
          -0.6814178824424744,
          0.34946438670158386
         ],
         "y": [
          -0.7318945527076721,
          -0.9369496703147888
         ]
        },
        {
         "mode": "lines",
         "type": "scatter",
         "x": [
          -0.6814178824424744,
          0.38268357515335083
         ],
         "y": [
          -0.7318945527076721,
          -0.9238794445991516
         ]
        },
        {
         "mode": "lines",
         "type": "scatter",
         "x": [
          -0.6814178824424744,
          -0.8005414605140686
         ],
         "y": [
          -0.7318945527076721,
          0.5992773771286011
         ]
        },
        {
         "mode": "lines",
         "type": "scatter",
         "x": [
          -0.6814178824424744,
          -0.6548607349395752
         ],
         "y": [
          -0.7318945527076721,
          -0.7557495832443237
         ]
        },
        {
         "mode": "lines",
         "type": "scatter",
         "x": [
          -0.6814178824424744,
          -0.6274690628051758
         ],
         "y": [
          -0.7318945527076721,
          -0.7786415219306946
         ]
        },
        {
         "mode": "lines",
         "type": "scatter",
         "x": [
          -0.6814178824424744,
          -0.5992777943611145
         ],
         "y": [
          -0.7318945527076721,
          -0.8005411624908447
         ]
        },
        {
         "mode": "lines",
         "type": "scatter",
         "x": [
          -0.6814178824424744,
          -0.5703223943710327
         ],
         "y": [
          -0.7318945527076721,
          -0.8214209079742432
         ]
        },
        {
         "mode": "lines",
         "type": "scatter",
         "x": [
          -0.6814178824424744,
          -0.540640652179718
         ],
         "y": [
          -0.7318945527076721,
          -0.8412536382675171
         ]
        },
        {
         "mode": "lines",
         "type": "scatter",
         "x": [
          -0.6814178824424744,
          -0.8214209079742432
         ],
         "y": [
          -0.7318945527076721,
          0.5703223943710327
         ]
        },
        {
         "mode": "lines",
         "type": "scatter",
         "x": [
          -0.6814178824424744,
          0.9096320867538452
         ],
         "y": [
          -0.7318945527076721,
          0.41541481018066406
         ]
        },
        {
         "mode": "lines",
         "type": "scatter",
         "x": [
          -0.6814178824424744,
          0.8776789307594299
         ],
         "y": [
          -0.7318945527076721,
          0.47924908995628357
         ]
        },
        {
         "mode": "lines",
         "type": "scatter",
         "x": [
          -0.6814178824424744,
          0.8600142002105713
         ],
         "y": [
          -0.7318945527076721,
          0.5102700591087341
         ]
        },
        {
         "mode": "lines",
         "type": "scatter",
         "x": [
          -0.6814178824424744,
          0.8412535190582275
         ],
         "y": [
          -0.7318945527076721,
          0.5406407713890076
         ]
        },
        {
         "mode": "lines",
         "type": "scatter",
         "x": [
          -0.6814178824424744,
          -0.5102699398994446
         ],
         "y": [
          -0.7318945527076721,
          -0.8600143194198608
         ]
        },
        {
         "mode": "lines",
         "type": "scatter",
         "x": [
          -0.6814178824424744,
          0.7071067690849304
         ],
         "y": [
          -0.7318945527076721,
          0.7071067690849304
         ]
        },
        {
         "mode": "lines",
         "type": "scatter",
         "x": [
          -0.6814178824424744,
          0.9096320271492004
         ],
         "y": [
          -0.7318945527076721,
          -0.4154149293899536
         ]
        },
        {
         "mode": "lines",
         "type": "scatter",
         "x": [
          -0.6814178824424744,
          -0.3494638204574585
         ],
         "y": [
          -0.7318945527076721,
          0.9369498491287231
         ]
        },
        {
         "mode": "lines",
         "type": "scatter",
         "x": [
          -0.6814178824424744,
          -0.47924894094467163
         ],
         "y": [
          -0.7318945527076721,
          -0.8776789903640747
         ]
        },
        {
         "mode": "lines",
         "type": "scatter",
         "x": [
          -0.6814178824424744,
          1.1924880638503055e-8
         ],
         "y": [
          -0.7318945527076721,
          -1
         ]
        },
        {
         "mode": "lines",
         "type": "scatter",
         "x": [
          -0.6814178824424744,
          0.5102696418762207
         ],
         "y": [
          -0.7318945527076721,
          0.8600144982337952
         ]
        },
        {
         "mode": "lines",
         "type": "scatter",
         "x": [
          -0.6814178824424744,
          0.9238795638084412
         ],
         "y": [
          -0.7318945527076721,
          0.38268330693244934
         ]
        },
        {
         "mode": "lines",
         "type": "scatter",
         "x": [
          -0.6814178824424744,
          0.8214205503463745
         ],
         "y": [
          -0.7318945527076721,
          0.5703229308128357
         ]
        },
        {
         "mode": "lines",
         "type": "scatter",
         "x": [
          -0.6814178824424744,
          0.9993628263473511
         ],
         "y": [
          -0.7318945527076721,
          -0.03569256514310837
         ]
        },
        {
         "mode": "lines",
         "type": "scatter",
         "x": [
          -0.6814178824424744,
          0.8005410432815552
         ],
         "y": [
          -0.7318945527076721,
          0.599277913570404
         ]
        },
        {
         "mode": "lines",
         "type": "scatter",
         "x": [
          -0.6814178824424744,
          0.47924864292144775
         ],
         "y": [
          -0.7318945527076721,
          0.877679169178009
         ]
        },
        {
         "mode": "lines",
         "type": "scatter",
         "x": [
          -0.6814178824424744,
          1
         ],
         "y": [
          -0.7318945527076721,
          1.7484555314695172e-7
         ]
        },
        {
         "mode": "lines",
         "type": "scatter",
         "x": [
          -0.6814178824424744,
          0.41541510820388794
         ],
         "y": [
          -0.7318945527076721,
          -0.9096319675445557
         ]
        },
        {
         "mode": "lines",
         "type": "scatter",
         "x": [
          -0.6814178824424744,
          0.9238795638084412
         ],
         "y": [
          -0.7318945527076721,
          -0.3826834261417389
         ]
        },
        {
         "mode": "lines",
         "type": "scatter",
         "x": [
          -0.6814178824424744,
          0.9369498491287231
         ],
         "y": [
          -0.7318945527076721,
          -0.3494637906551361
         ]
        },
        {
         "mode": "lines",
         "type": "scatter",
         "x": [
          -0.6814178824424744,
          0.948826014995575
         ],
         "y": [
          -0.7318945527076721,
          -0.3157992660999298
         ]
        },
        {
         "mode": "lines",
         "type": "scatter",
         "x": [
          -0.6814178824424744,
          0.9594930410385132
         ],
         "y": [
          -0.7318945527076721,
          -0.2817322909832001
         ]
        },
        {
         "mode": "lines",
         "type": "scatter",
         "x": [
          -0.6814178824424744,
          0.968937337398529
         ],
         "y": [
          -0.7318945527076721,
          -0.24730630218982697
         ]
        },
        {
         "mode": "lines",
         "type": "scatter",
         "x": [
          -0.6814178824424744,
          0.03569227457046509
         ],
         "y": [
          -0.7318945527076721,
          -0.9993628263473511
         ]
        },
        {
         "mode": "lines",
         "type": "scatter",
         "x": [
          -0.6814178824424744,
          0.9898213744163513
         ],
         "y": [
          -0.7318945527076721,
          0.14231520891189575
         ]
        },
        {
         "mode": "lines",
         "type": "scatter",
         "x": [
          -0.6814178824424744,
          0.44761693477630615
         ],
         "y": [
          -0.7318945527076721,
          0.8942254185676575
         ]
        },
        {
         "mode": "lines",
         "type": "scatter",
         "x": [
          -0.6814178824424744,
          0.4154147803783417
         ],
         "y": [
          -0.7318945527076721,
          0.9096320867538452
         ]
        },
        {
         "mode": "lines",
         "type": "scatter",
         "x": [
          -0.6814178824424744,
          0.38268327713012695
         ],
         "y": [
          -0.7318945527076721,
          0.9238796234130859
         ]
        },
        {
         "mode": "lines",
         "type": "scatter",
         "x": [
          -0.6814178824424744,
          0.34946408867836
         ],
         "y": [
          -0.7318945527076721,
          0.9369497299194336
         ]
        },
        {
         "mode": "lines",
         "type": "scatter",
         "x": [
          -0.6814178824424744,
          -0.4792492091655731
         ],
         "y": [
          -0.7318945527076721,
          0.8776788711547852
         ]
        },
        {
         "mode": "lines",
         "type": "scatter",
         "x": [
          -0.6814178824424744,
          -0.5102702379226685
         ],
         "y": [
          -0.7318945527076721,
          0.8600141406059265
         ]
        },
        {
         "mode": "lines",
         "type": "scatter",
         "x": [
          -0.6814178824424744,
          0.3157995641231537
         ],
         "y": [
          -0.7318945527076721,
          0.9488259553909302
         ]
        },
        {
         "mode": "lines",
         "type": "scatter",
         "x": [
          -0.6814178824424744,
          0.28173258900642395
         ],
         "y": [
          -0.7318945527076721,
          0.9594929814338684
         ]
        },
        {
         "mode": "lines",
         "type": "scatter",
         "x": [
          -0.6814178824424744,
          -0.44761723279953003
         ],
         "y": [
          -0.7318945527076721,
          -0.8942252397537231
         ]
        },
        {
         "mode": "lines",
         "type": "scatter",
         "x": [
          -0.6814178824424744,
          -0.38268357515335083
         ],
         "y": [
          -0.7318945527076721,
          -0.9238794445991516
         ]
        },
        {
         "mode": "lines",
         "type": "scatter",
         "x": [
          -0.6814178824424744,
          0.7786415815353394
         ],
         "y": [
          -0.7318945527076721,
          -0.6274688839912415
         ]
        },
        {
         "mode": "lines",
         "type": "scatter",
         "x": [
          -0.6814178824424744,
          0.9771469235420227
         ],
         "y": [
          -0.7318945527076721,
          -0.21256515383720398
         ]
        },
        {
         "mode": "lines",
         "type": "scatter",
         "x": [
          -0.6814178824424744,
          0.8005412817001343
         ],
         "y": [
          -0.7318945527076721,
          -0.5992776155471802
         ]
        },
        {
         "mode": "lines",
         "type": "scatter",
         "x": [
          -0.6814178824424744,
          0.8214207887649536
         ],
         "y": [
          -0.7318945527076721,
          -0.5703226327896118
         ]
        },
        {
         "mode": "lines",
         "type": "scatter",
         "x": [
          -0.6814178824424744,
          0.9942702651023865
         ],
         "y": [
          -0.7318945527076721,
          -0.10689520835876465
         ]
        },
        {
         "mode": "lines",
         "type": "scatter",
         "x": [
          -0.6814178824424744,
          0.9993628263473511
         ],
         "y": [
          -0.7318945527076721,
          0.03569243848323822
         ]
        },
        {
         "mode": "lines",
         "type": "scatter",
         "x": [
          -0.6814178824424744,
          0.9974520802497864
         ],
         "y": [
          -0.7318945527076721,
          -0.07133934646844864
         ]
        },
        {
         "mode": "lines",
         "type": "scatter",
         "x": [
          -0.6814178824424744,
          -0.5406409502029419
         ],
         "y": [
          -0.7318945527076721,
          0.8412534594535828
         ]
        },
        {
         "mode": "lines",
         "type": "scatter",
         "x": [
          -0.6814178824424744,
          0.5102699398994446
         ],
         "y": [
          -0.7318945527076721,
          -0.8600143194198608
         ]
        },
        {
         "mode": "lines",
         "type": "scatter",
         "x": [
          -0.6814178824424744,
          0.778641402721405
         ],
         "y": [
          -0.7318945527076721,
          0.6274691820144653
         ]
        },
        {
         "mode": "lines",
         "type": "scatter",
         "x": [
          -0.6814178824424744,
          0.540640652179718
         ],
         "y": [
          -0.7318945527076721,
          -0.8412536382675171
         ]
        },
        {
         "mode": "lines",
         "type": "scatter",
         "x": [
          -0.6814178824424744,
          0.9974521398544312
         ],
         "y": [
          -0.7318945527076721,
          0.0713392123579979
         ]
        },
        {
         "mode": "lines",
         "type": "scatter",
         "x": [
          -0.6814178824424744,
          -0.8412536382675171
         ],
         "y": [
          -0.7318945527076721,
          0.540640652179718
         ]
        },
        {
         "mode": "lines",
         "type": "scatter",
         "x": [
          -0.6814178824424744,
          0.21256546676158905
         ],
         "y": [
          -0.7318945527076721,
          0.9771468043327332
         ]
        },
        {
         "mode": "lines",
         "type": "scatter",
         "x": [
          -0.6814178824424744,
          -0.8600143194198608
         ],
         "y": [
          -0.7318945527076721,
          0.5102699398994446
         ]
        },
        {
         "mode": "lines",
         "type": "scatter",
         "x": [
          -0.6814178824424744,
          -0.599277675151825
         ],
         "y": [
          -0.7318945527076721,
          0.8005412220954895
         ]
        },
        {
         "mode": "lines",
         "type": "scatter",
         "x": [
          -0.6814178824424744,
          0.1775534451007843
         ],
         "y": [
          -0.7318945527076721,
          0.9841111302375793
         ]
        },
        {
         "mode": "lines",
         "type": "scatter",
         "x": [
          -0.6814178824424744,
          -0.6274689435958862
         ],
         "y": [
          -0.7318945527076721,
          0.7786415815353394
         ]
        },
        {
         "mode": "lines",
         "type": "scatter",
         "x": [
          -0.6814178824424744,
          -0.6548606157302856
         ],
         "y": [
          -0.7318945527076721,
          0.7557497024536133
         ]
        },
        {
         "mode": "lines",
         "type": "scatter",
         "x": [
          -0.6814178824424744,
          0.7557494640350342
         ],
         "y": [
          -0.7318945527076721,
          0.6548608541488647
         ]
        },
        {
         "mode": "lines",
         "type": "scatter",
         "x": [
          -0.6814178824424744,
          0.10689457505941391
         ],
         "y": [
          -0.7318945527076721,
          0.994270384311676
         ]
        },
        {
         "mode": "lines",
         "type": "scatter",
         "x": [
          -0.6814178824424744,
          -0.34946393966674805
         ],
         "y": [
          -0.7318945527076721,
          -0.9369497895240784
         ]
        },
        {
         "mode": "lines",
         "type": "scatter",
         "x": [
          -0.6814178824424744,
          -0.31579941511154175
         ],
         "y": [
          -0.7318945527076721,
          -0.9488259553909302
         ]
        },
        {
         "mode": "lines",
         "type": "scatter",
         "x": [
          -0.6814178824424744,
          0.8942253589630127
         ],
         "y": [
          -0.7318945527076721,
          -0.4476170539855957
         ]
        },
        {
         "mode": "lines",
         "type": "scatter",
         "x": [
          -0.6814178824424744,
          0.6814179420471191
         ],
         "y": [
          -0.7318945527076721,
          0.7318944931030273
         ]
        },
        {
         "mode": "lines",
         "type": "scatter",
         "x": [
          -0.6814178824424744,
          -0.6814177632331848
         ],
         "y": [
          -0.7318945527076721,
          0.7318946719169617
         ]
        },
        {
         "mode": "lines",
         "type": "scatter",
         "x": [
          -0.6814178824424744,
          0.65486079454422
         ],
         "y": [
          -0.7318945527076721,
          0.755749523639679
         ]
        },
        {
         "mode": "lines",
         "type": "scatter",
         "x": [
          -0.6814178824424744,
          -3.3776623808989825e-7
         ],
         "y": [
          -0.7318945527076721,
          1
         ]
        },
        {
         "mode": "lines",
         "type": "scatter",
         "x": [
          -0.6814178824424744,
          0.9841111302375793
         ],
         "y": [
          -0.7318945527076721,
          0.17755348980426788
         ]
        },
        {
         "mode": "lines",
         "type": "scatter",
         "x": [
          -0.6814178824424744,
          0.9771468043327332
         ],
         "y": [
          -0.7318945527076721,
          0.21256551146507263
         ]
        },
        {
         "mode": "lines",
         "type": "scatter",
         "x": [
          -0.6814178824424744,
          0.9689372777938843
         ],
         "y": [
          -0.7318945527076721,
          0.24730664491653442
         ]
        },
        {
         "mode": "lines",
         "type": "scatter",
         "x": [
          -0.6814178824424744,
          0.9594929218292236
         ],
         "y": [
          -0.7318945527076721,
          0.28173261880874634
         ]
        },
        {
         "mode": "lines",
         "type": "scatter",
         "x": [
          -0.6814178824424744,
          -0.035692598670721054
         ],
         "y": [
          -0.7318945527076721,
          0.9993628263473511
         ]
        },
        {
         "mode": "lines",
         "type": "scatter",
         "x": [
          -0.6814178824424744,
          0.5992778539657593
         ],
         "y": [
          -0.7318945527076721,
          0.8005411028862
         ]
        },
        {
         "mode": "lines",
         "type": "scatter",
         "x": [
          -0.6814178824424744,
          0.07133905589580536
         ],
         "y": [
          -0.7318945527076721,
          -0.9974521398544312
         ]
        },
        {
         "mode": "lines",
         "type": "scatter",
         "x": [
          -0.6814178824424744,
          -0.07133937627077103
         ],
         "y": [
          -0.7318945527076721,
          0.9974520802497864
         ]
        },
        {
         "mode": "lines",
         "type": "scatter",
         "x": [
          -0.6814178824424744,
          -0.8776790499687195
         ],
         "y": [
          -0.7318945527076721,
          0.47924891114234924
         ]
        },
        {
         "mode": "lines",
         "type": "scatter",
         "x": [
          -0.6814178824424744,
          -0.8942252993583679
         ],
         "y": [
          -0.7318945527076721,
          0.44761720299720764
         ]
        },
        {
         "mode": "lines",
         "type": "scatter",
         "x": [
          -0.6814178824424744,
          -0.10689523816108704
         ],
         "y": [
          -0.7318945527076721,
          0.9942702651023865
         ]
        },
        {
         "mode": "lines",
         "type": "scatter",
         "x": [
          -0.6814178824424744,
          0.5703229308128357
         ],
         "y": [
          -0.7318945527076721,
          0.8214206099510193
         ]
        },
        {
         "mode": "lines",
         "type": "scatter",
         "x": [
          -0.6814178824424744,
          -0.21256519854068756
         ],
         "y": [
          -0.7318945527076721,
          0.9771468639373779
         ]
        },
        {
         "mode": "lines",
         "type": "scatter",
         "x": [
          -0.6814178824424744,
          -0.24730634689331055
         ],
         "y": [
          -0.7318945527076721,
          0.968937337398529
         ]
        },
        {
         "mode": "lines",
         "type": "scatter",
         "x": [
          -0.6814178824424744,
          -0.9096319675445557
         ],
         "y": [
          -0.7318945527076721,
          0.41541507840156555
         ]
        },
        {
         "mode": "lines",
         "type": "scatter",
         "x": [
          -0.6814178824424744,
          0.9942702651023865
         ],
         "y": [
          -0.7318945527076721,
          0.1068955510854721
         ]
        },
        {
         "mode": "lines",
         "type": "scatter",
         "x": [
          -0.6814178824424744,
          0.5703223943710327
         ],
         "y": [
          -0.7318945527076721,
          -0.8214209079742432
         ]
        },
        {
         "mode": "lines",
         "type": "scatter",
         "x": [
          -0.6548607349395752,
          0.7318944334983826
         ],
         "y": [
          -0.7557495832443237,
          0.6814180016517639
         ]
        },
        {
         "mode": "lines",
         "type": "scatter",
         "x": [
          -0.6548607349395752,
          -0.17755281925201416
         ],
         "y": [
          -0.7557495832443237,
          -0.9841112494468689
         ]
        },
        {
         "mode": "lines",
         "type": "scatter",
         "x": [
          -0.6548607349395752,
          -0.6274690628051758
         ],
         "y": [
          -0.7557495832443237,
          -0.7786415219306946
         ]
        },
        {
         "mode": "lines",
         "type": "scatter",
         "x": [
          -0.6548607349395752,
          -0.5992777943611145
         ],
         "y": [
          -0.7557495832443237,
          -0.8005411624908447
         ]
        },
        {
         "mode": "lines",
         "type": "scatter",
         "x": [
          -0.6548607349395752,
          -0.5703223943710327
         ],
         "y": [
          -0.7557495832443237,
          -0.8214209079742432
         ]
        },
        {
         "mode": "lines",
         "type": "scatter",
         "x": [
          -0.6548607349395752,
          -0.540640652179718
         ],
         "y": [
          -0.7557495832443237,
          -0.8412536382675171
         ]
        },
        {
         "mode": "lines",
         "type": "scatter",
         "x": [
          -0.6548607349395752,
          -0.8214209079742432
         ],
         "y": [
          -0.7557495832443237,
          0.5703223943710327
         ]
        },
        {
         "mode": "lines",
         "type": "scatter",
         "x": [
          -0.6548607349395752,
          0.8600142002105713
         ],
         "y": [
          -0.7557495832443237,
          0.5102700591087341
         ]
        },
        {
         "mode": "lines",
         "type": "scatter",
         "x": [
          -0.6548607349395752,
          -0.5102699398994446
         ],
         "y": [
          -0.7557495832443237,
          -0.8600143194198608
         ]
        },
        {
         "mode": "lines",
         "type": "scatter",
         "x": [
          -0.6548607349395752,
          -0.47924894094467163
         ],
         "y": [
          -0.7557495832443237,
          -0.8776789903640747
         ]
        },
        {
         "mode": "lines",
         "type": "scatter",
         "x": [
          -0.6548607349395752,
          1.1924880638503055e-8
         ],
         "y": [
          -0.7557495832443237,
          -1
         ]
        },
        {
         "mode": "lines",
         "type": "scatter",
         "x": [
          -0.6548607349395752,
          0.8214205503463745
         ],
         "y": [
          -0.7557495832443237,
          0.5703229308128357
         ]
        },
        {
         "mode": "lines",
         "type": "scatter",
         "x": [
          -0.6548607349395752,
          1
         ],
         "y": [
          -0.7557495832443237,
          1.7484555314695172e-7
         ]
        },
        {
         "mode": "lines",
         "type": "scatter",
         "x": [
          -0.6548607349395752,
          0.7557497024536133
         ],
         "y": [
          -0.7557495832443237,
          -0.6548605561256409
         ]
        },
        {
         "mode": "lines",
         "type": "scatter",
         "x": [
          -0.6548607349395752,
          -0.44761723279953003
         ],
         "y": [
          -0.7557495832443237,
          -0.8942252397537231
         ]
        },
        {
         "mode": "lines",
         "type": "scatter",
         "x": [
          -0.6548607349395752,
          -0.41541510820388794
         ],
         "y": [
          -0.7557495832443237,
          -0.9096319675445557
         ]
        },
        {
         "mode": "lines",
         "type": "scatter",
         "x": [
          -0.6548607349395752,
          -0.38268357515335083
         ],
         "y": [
          -0.7557495832443237,
          -0.9238794445991516
         ]
        },
        {
         "mode": "lines",
         "type": "scatter",
         "x": [
          -0.6548607349395752,
          0.7786415815353394
         ],
         "y": [
          -0.7557495832443237,
          -0.6274688839912415
         ]
        },
        {
         "mode": "lines",
         "type": "scatter",
         "x": [
          -0.6548607349395752,
          0.9993628263473511
         ],
         "y": [
          -0.7557495832443237,
          0.03569243848323822
         ]
        },
        {
         "mode": "lines",
         "type": "scatter",
         "x": [
          -0.6548607349395752,
          0.9974521398544312
         ],
         "y": [
          -0.7557495832443237,
          0.0713392123579979
         ]
        },
        {
         "mode": "lines",
         "type": "scatter",
         "x": [
          -0.6548607349395752,
          -0.8412536382675171
         ],
         "y": [
          -0.7557495832443237,
          0.540640652179718
         ]
        },
        {
         "mode": "lines",
         "type": "scatter",
         "x": [
          -0.6548607349395752,
          -0.34946393966674805
         ],
         "y": [
          -0.7557495832443237,
          -0.9369497895240784
         ]
        },
        {
         "mode": "lines",
         "type": "scatter",
         "x": [
          -0.6548607349395752,
          -0.31579941511154175
         ],
         "y": [
          -0.7557495832443237,
          -0.9488259553909302
         ]
        },
        {
         "mode": "lines",
         "type": "scatter",
         "x": [
          -0.6548607349395752,
          0.6814179420471191
         ],
         "y": [
          -0.7557495832443237,
          0.7318944931030273
         ]
        },
        {
         "mode": "lines",
         "type": "scatter",
         "x": [
          -0.6548607349395752,
          0.65486079454422
         ],
         "y": [
          -0.7557495832443237,
          0.755749523639679
         ]
        },
        {
         "mode": "lines",
         "type": "scatter",
         "x": [
          -0.6548607349395752,
          0.5992778539657593
         ],
         "y": [
          -0.7557495832443237,
          0.8005411028862
         ]
        },
        {
         "mode": "lines",
         "type": "scatter",
         "x": [
          -0.6548607349395752,
          0.9942702651023865
         ],
         "y": [
          -0.7557495832443237,
          0.1068955510854721
         ]
        },
        {
         "mode": "lines",
         "type": "scatter",
         "x": [
          -0.6274690628051758,
          -0.17755281925201416
         ],
         "y": [
          -0.7786415219306946,
          -0.9841112494468689
         ]
        },
        {
         "mode": "lines",
         "type": "scatter",
         "x": [
          -0.6274690628051758,
          0.6548607349395752
         ],
         "y": [
          -0.7786415219306946,
          -0.7557495832443237
         ]
        },
        {
         "mode": "lines",
         "type": "scatter",
         "x": [
          -0.6274690628051758,
          -0.5992777943611145
         ],
         "y": [
          -0.7786415219306946,
          -0.8005411624908447
         ]
        },
        {
         "mode": "lines",
         "type": "scatter",
         "x": [
          -0.6274690628051758,
          -0.5703223943710327
         ],
         "y": [
          -0.7786415219306946,
          -0.8214209079742432
         ]
        },
        {
         "mode": "lines",
         "type": "scatter",
         "x": [
          -0.6274690628051758,
          -0.540640652179718
         ],
         "y": [
          -0.7786415219306946,
          -0.8412536382675171
         ]
        },
        {
         "mode": "lines",
         "type": "scatter",
         "x": [
          -0.6274690628051758,
          -0.8214209079742432
         ],
         "y": [
          -0.7786415219306946,
          0.5703223943710327
         ]
        },
        {
         "mode": "lines",
         "type": "scatter",
         "x": [
          -0.6274690628051758,
          0.8600142002105713
         ],
         "y": [
          -0.7786415219306946,
          0.5102700591087341
         ]
        },
        {
         "mode": "lines",
         "type": "scatter",
         "x": [
          -0.6274690628051758,
          -0.5102699398994446
         ],
         "y": [
          -0.7786415219306946,
          -0.8600143194198608
         ]
        },
        {
         "mode": "lines",
         "type": "scatter",
         "x": [
          -0.6274690628051758,
          0.7071067690849304
         ],
         "y": [
          -0.7786415219306946,
          0.7071067690849304
         ]
        },
        {
         "mode": "lines",
         "type": "scatter",
         "x": [
          -0.6274690628051758,
          -0.47924894094467163
         ],
         "y": [
          -0.7786415219306946,
          -0.8776789903640747
         ]
        },
        {
         "mode": "lines",
         "type": "scatter",
         "x": [
          -0.6274690628051758,
          1.1924880638503055e-8
         ],
         "y": [
          -0.7786415219306946,
          -1
         ]
        },
        {
         "mode": "lines",
         "type": "scatter",
         "x": [
          -0.6274690628051758,
          0.8214205503463745
         ],
         "y": [
          -0.7786415219306946,
          0.5703229308128357
         ]
        },
        {
         "mode": "lines",
         "type": "scatter",
         "x": [
          -0.6274690628051758,
          1
         ],
         "y": [
          -0.7786415219306946,
          1.7484555314695172e-7
         ]
        },
        {
         "mode": "lines",
         "type": "scatter",
         "x": [
          -0.6274690628051758,
          -0.44761723279953003
         ],
         "y": [
          -0.7786415219306946,
          -0.8942252397537231
         ]
        },
        {
         "mode": "lines",
         "type": "scatter",
         "x": [
          -0.6274690628051758,
          -0.41541510820388794
         ],
         "y": [
          -0.7786415219306946,
          -0.9096319675445557
         ]
        },
        {
         "mode": "lines",
         "type": "scatter",
         "x": [
          -0.6274690628051758,
          -0.38268357515335083
         ],
         "y": [
          -0.7786415219306946,
          -0.9238794445991516
         ]
        },
        {
         "mode": "lines",
         "type": "scatter",
         "x": [
          -0.6274690628051758,
          0.7786415815353394
         ],
         "y": [
          -0.7786415219306946,
          -0.6274688839912415
         ]
        },
        {
         "mode": "lines",
         "type": "scatter",
         "x": [
          -0.6274690628051758,
          0.9993628263473511
         ],
         "y": [
          -0.7786415219306946,
          0.03569243848323822
         ]
        },
        {
         "mode": "lines",
         "type": "scatter",
         "x": [
          -0.6274690628051758,
          0.5102699398994446
         ],
         "y": [
          -0.7786415219306946,
          -0.8600143194198608
         ]
        },
        {
         "mode": "lines",
         "type": "scatter",
         "x": [
          -0.6274690628051758,
          0.9974521398544312
         ],
         "y": [
          -0.7786415219306946,
          0.0713392123579979
         ]
        },
        {
         "mode": "lines",
         "type": "scatter",
         "x": [
          -0.6274690628051758,
          -0.8412536382675171
         ],
         "y": [
          -0.7786415219306946,
          0.540640652179718
         ]
        },
        {
         "mode": "lines",
         "type": "scatter",
         "x": [
          -0.6274690628051758,
          0.10689457505941391
         ],
         "y": [
          -0.7786415219306946,
          0.994270384311676
         ]
        },
        {
         "mode": "lines",
         "type": "scatter",
         "x": [
          -0.6274690628051758,
          0.6814179420471191
         ],
         "y": [
          -0.7786415219306946,
          0.7318944931030273
         ]
        },
        {
         "mode": "lines",
         "type": "scatter",
         "x": [
          -0.6274690628051758,
          0.65486079454422
         ],
         "y": [
          -0.7786415219306946,
          0.755749523639679
         ]
        },
        {
         "mode": "lines",
         "type": "scatter",
         "x": [
          -0.6274690628051758,
          0.9942702651023865
         ],
         "y": [
          -0.7786415219306946,
          0.1068955510854721
         ]
        },
        {
         "mode": "lines",
         "type": "scatter",
         "x": [
          -0.5992777943611145,
          -0.17755281925201416
         ],
         "y": [
          -0.8005411624908447,
          -0.9841112494468689
         ]
        },
        {
         "mode": "lines",
         "type": "scatter",
         "x": [
          -0.5992777943611145,
          -0.5703223943710327
         ],
         "y": [
          -0.8005411624908447,
          -0.8214209079742432
         ]
        },
        {
         "mode": "lines",
         "type": "scatter",
         "x": [
          -0.5992777943611145,
          -0.540640652179718
         ],
         "y": [
          -0.8005411624908447,
          -0.8412536382675171
         ]
        },
        {
         "mode": "lines",
         "type": "scatter",
         "x": [
          -0.5992777943611145,
          -0.8214209079742432
         ],
         "y": [
          -0.8005411624908447,
          0.5703223943710327
         ]
        },
        {
         "mode": "lines",
         "type": "scatter",
         "x": [
          -0.5992777943611145,
          -0.47924894094467163
         ],
         "y": [
          -0.8005411624908447,
          -0.8776789903640747
         ]
        },
        {
         "mode": "lines",
         "type": "scatter",
         "x": [
          -0.5992777943611145,
          1.1924880638503055e-8
         ],
         "y": [
          -0.8005411624908447,
          -1
         ]
        },
        {
         "mode": "lines",
         "type": "scatter",
         "x": [
          -0.5992777943611145,
          0.8214205503463745
         ],
         "y": [
          -0.8005411624908447,
          0.5703229308128357
         ]
        },
        {
         "mode": "lines",
         "type": "scatter",
         "x": [
          -0.5992777943611145,
          1
         ],
         "y": [
          -0.8005411624908447,
          1.7484555314695172e-7
         ]
        },
        {
         "mode": "lines",
         "type": "scatter",
         "x": [
          -0.5992777943611145,
          -0.44761723279953003
         ],
         "y": [
          -0.8005411624908447,
          -0.8942252397537231
         ]
        },
        {
         "mode": "lines",
         "type": "scatter",
         "x": [
          -0.5992777943611145,
          0.7786415815353394
         ],
         "y": [
          -0.8005411624908447,
          -0.6274688839912415
         ]
        },
        {
         "mode": "lines",
         "type": "scatter",
         "x": [
          -0.5992777943611145,
          0.9993628263473511
         ],
         "y": [
          -0.8005411624908447,
          0.03569243848323822
         ]
        },
        {
         "mode": "lines",
         "type": "scatter",
         "x": [
          -0.5992777943611145,
          0.9974521398544312
         ],
         "y": [
          -0.8005411624908447,
          0.0713392123579979
         ]
        },
        {
         "mode": "lines",
         "type": "scatter",
         "x": [
          -0.5992777943611145,
          -0.8412536382675171
         ],
         "y": [
          -0.8005411624908447,
          0.540640652179718
         ]
        },
        {
         "mode": "lines",
         "type": "scatter",
         "x": [
          -0.5992777943611145,
          0.6814179420471191
         ],
         "y": [
          -0.8005411624908447,
          0.7318944931030273
         ]
        },
        {
         "mode": "lines",
         "type": "scatter",
         "x": [
          -0.5992777943611145,
          0.9942702651023865
         ],
         "y": [
          -0.8005411624908447,
          0.1068955510854721
         ]
        },
        {
         "mode": "lines",
         "type": "scatter",
         "x": [
          -0.5703223943710327,
          -0.17755281925201416
         ],
         "y": [
          -0.8214209079742432,
          -0.9841112494468689
         ]
        },
        {
         "mode": "lines",
         "type": "scatter",
         "x": [
          -0.5703223943710327,
          0.681418240070343
         ],
         "y": [
          -0.8214209079742432,
          -0.7318942546844482
         ]
        },
        {
         "mode": "lines",
         "type": "scatter",
         "x": [
          -0.5703223943710327,
          0.17755332589149475
         ],
         "y": [
          -0.8214209079742432,
          -0.9841111898422241
         ]
        },
        {
         "mode": "lines",
         "type": "scatter",
         "x": [
          -0.5703223943710327,
          0.2125653475522995
         ],
         "y": [
          -0.8214209079742432,
          -0.9771468639373779
         ]
        },
        {
         "mode": "lines",
         "type": "scatter",
         "x": [
          -0.5703223943710327,
          0.2473064810037613
         ],
         "y": [
          -0.8214209079742432,
          -0.9689372777938843
         ]
        },
        {
         "mode": "lines",
         "type": "scatter",
         "x": [
          -0.5703223943710327,
          -0.540640652179718
         ],
         "y": [
          -0.8214209079742432,
          -0.8412536382675171
         ]
        },
        {
         "mode": "lines",
         "type": "scatter",
         "x": [
          -0.5703223943710327,
          -0.8214209079742432
         ],
         "y": [
          -0.8214209079742432,
          0.5703223943710327
         ]
        },
        {
         "mode": "lines",
         "type": "scatter",
         "x": [
          -0.5703223943710327,
          -0.5102699398994446
         ],
         "y": [
          -0.8214209079742432,
          -0.8600143194198608
         ]
        },
        {
         "mode": "lines",
         "type": "scatter",
         "x": [
          -0.5703223943710327,
          -0.47924894094467163
         ],
         "y": [
          -0.8214209079742432,
          -0.8776789903640747
         ]
        },
        {
         "mode": "lines",
         "type": "scatter",
         "x": [
          -0.5703223943710327,
          1.1924880638503055e-8
         ],
         "y": [
          -0.8214209079742432,
          -1
         ]
        },
        {
         "mode": "lines",
         "type": "scatter",
         "x": [
          -0.5703223943710327,
          0.8214205503463745
         ],
         "y": [
          -0.8214209079742432,
          0.5703229308128357
         ]
        },
        {
         "mode": "lines",
         "type": "scatter",
         "x": [
          -0.5703223943710327,
          1
         ],
         "y": [
          -0.8214209079742432,
          1.7484555314695172e-7
         ]
        },
        {
         "mode": "lines",
         "type": "scatter",
         "x": [
          -0.5703223943710327,
          -0.44761723279953003
         ],
         "y": [
          -0.8214209079742432,
          -0.8942252397537231
         ]
        },
        {
         "mode": "lines",
         "type": "scatter",
         "x": [
          -0.5703223943710327,
          -0.41541510820388794
         ],
         "y": [
          -0.8214209079742432,
          -0.9096319675445557
         ]
        },
        {
         "mode": "lines",
         "type": "scatter",
         "x": [
          -0.5703223943710327,
          -0.38268357515335083
         ],
         "y": [
          -0.8214209079742432,
          -0.9238794445991516
         ]
        },
        {
         "mode": "lines",
         "type": "scatter",
         "x": [
          -0.5703223943710327,
          0.7786415815353394
         ],
         "y": [
          -0.8214209079742432,
          -0.6274688839912415
         ]
        },
        {
         "mode": "lines",
         "type": "scatter",
         "x": [
          -0.5703223943710327,
          0.9993628263473511
         ],
         "y": [
          -0.8214209079742432,
          0.03569243848323822
         ]
        },
        {
         "mode": "lines",
         "type": "scatter",
         "x": [
          -0.5703223943710327,
          0.5102699398994446
         ],
         "y": [
          -0.8214209079742432,
          -0.8600143194198608
         ]
        },
        {
         "mode": "lines",
         "type": "scatter",
         "x": [
          -0.5703223943710327,
          0.9974521398544312
         ],
         "y": [
          -0.8214209079742432,
          0.0713392123579979
         ]
        },
        {
         "mode": "lines",
         "type": "scatter",
         "x": [
          -0.5703223943710327,
          -0.8412536382675171
         ],
         "y": [
          -0.8214209079742432,
          0.540640652179718
         ]
        },
        {
         "mode": "lines",
         "type": "scatter",
         "x": [
          -0.5703223943710327,
          -0.31579941511154175
         ],
         "y": [
          -0.8214209079742432,
          -0.9488259553909302
         ]
        },
        {
         "mode": "lines",
         "type": "scatter",
         "x": [
          -0.540640652179718,
          -0.17755281925201416
         ],
         "y": [
          -0.8412536382675171,
          -0.9841112494468689
         ]
        },
        {
         "mode": "lines",
         "type": "scatter",
         "x": [
          -0.540640652179718,
          -0.8214209079742432
         ],
         "y": [
          -0.8412536382675171,
          0.5703223943710327
         ]
        },
        {
         "mode": "lines",
         "type": "scatter",
         "x": [
          -0.540640652179718,
          -0.47924894094467163
         ],
         "y": [
          -0.8412536382675171,
          -0.8776789903640747
         ]
        },
        {
         "mode": "lines",
         "type": "scatter",
         "x": [
          -0.540640652179718,
          1.1924880638503055e-8
         ],
         "y": [
          -0.8412536382675171,
          -1
         ]
        },
        {
         "mode": "lines",
         "type": "scatter",
         "x": [
          -0.540640652179718,
          0.8214205503463745
         ],
         "y": [
          -0.8412536382675171,
          0.5703229308128357
         ]
        },
        {
         "mode": "lines",
         "type": "scatter",
         "x": [
          -0.540640652179718,
          1
         ],
         "y": [
          -0.8412536382675171,
          1.7484555314695172e-7
         ]
        },
        {
         "mode": "lines",
         "type": "scatter",
         "x": [
          -0.540640652179718,
          -0.44761723279953003
         ],
         "y": [
          -0.8412536382675171,
          -0.8942252397537231
         ]
        },
        {
         "mode": "lines",
         "type": "scatter",
         "x": [
          -0.540640652179718,
          0.7786415815353394
         ],
         "y": [
          -0.8412536382675171,
          -0.6274688839912415
         ]
        },
        {
         "mode": "lines",
         "type": "scatter",
         "x": [
          -0.540640652179718,
          0.9993628263473511
         ],
         "y": [
          -0.8412536382675171,
          0.03569243848323822
         ]
        },
        {
         "mode": "lines",
         "type": "scatter",
         "x": [
          -0.540640652179718,
          0.9974521398544312
         ],
         "y": [
          -0.8412536382675171,
          0.0713392123579979
         ]
        },
        {
         "mode": "lines",
         "type": "scatter",
         "x": [
          -0.540640652179718,
          -0.8412536382675171
         ],
         "y": [
          -0.8412536382675171,
          0.540640652179718
         ]
        },
        {
         "mode": "lines",
         "type": "scatter",
         "x": [
          -0.540640652179718,
          0.6814179420471191
         ],
         "y": [
          -0.8412536382675171,
          0.7318944931030273
         ]
        },
        {
         "mode": "lines",
         "type": "scatter",
         "x": [
          -0.540640652179718,
          0.9942702651023865
         ],
         "y": [
          -0.8412536382675171,
          0.1068955510854721
         ]
        },
        {
         "mode": "lines",
         "type": "scatter",
         "x": [
          -0.5102699398994446,
          0.7318944334983826
         ],
         "y": [
          -0.8600143194198608,
          0.6814180016517639
         ]
        },
        {
         "mode": "lines",
         "type": "scatter",
         "x": [
          -0.5102699398994446,
          -0.17755281925201416
         ],
         "y": [
          -0.8600143194198608,
          -0.9841112494468689
         ]
        },
        {
         "mode": "lines",
         "type": "scatter",
         "x": [
          -0.5102699398994446,
          0.6548607349395752
         ],
         "y": [
          -0.8600143194198608,
          -0.7557495832443237
         ]
        },
        {
         "mode": "lines",
         "type": "scatter",
         "x": [
          -0.5102699398994446,
          0.681418240070343
         ],
         "y": [
          -0.8600143194198608,
          -0.7318942546844482
         ]
        },
        {
         "mode": "lines",
         "type": "scatter",
         "x": [
          -0.5102699398994446,
          0.9096320867538452
         ],
         "y": [
          -0.8600143194198608,
          0.41541481018066406
         ]
        },
        {
         "mode": "lines",
         "type": "scatter",
         "x": [
          -0.5102699398994446,
          0.8942251801490784
         ],
         "y": [
          -0.8600143194198608,
          0.44761738181114197
         ]
        },
        {
         "mode": "lines",
         "type": "scatter",
         "x": [
          -0.5102699398994446,
          0.8776789307594299
         ],
         "y": [
          -0.8600143194198608,
          0.47924908995628357
         ]
        },
        {
         "mode": "lines",
         "type": "scatter",
         "x": [
          -0.5102699398994446,
          0.8600142002105713
         ],
         "y": [
          -0.8600143194198608,
          0.5102700591087341
         ]
        },
        {
         "mode": "lines",
         "type": "scatter",
         "x": [
          -0.5102699398994446,
          0.8412535190582275
         ],
         "y": [
          -0.8600143194198608,
          0.5406407713890076
         ]
        },
        {
         "mode": "lines",
         "type": "scatter",
         "x": [
          -0.5102699398994446,
          0.7071067690849304
         ],
         "y": [
          -0.8600143194198608,
          0.7071067690849304
         ]
        },
        {
         "mode": "lines",
         "type": "scatter",
         "x": [
          -0.5102699398994446,
          -0.47924894094467163
         ],
         "y": [
          -0.8600143194198608,
          -0.8776789903640747
         ]
        },
        {
         "mode": "lines",
         "type": "scatter",
         "x": [
          -0.5102699398994446,
          0.8214205503463745
         ],
         "y": [
          -0.8600143194198608,
          0.5703229308128357
         ]
        },
        {
         "mode": "lines",
         "type": "scatter",
         "x": [
          -0.5102699398994446,
          0.7557497024536133
         ],
         "y": [
          -0.8600143194198608,
          -0.6548605561256409
         ]
        },
        {
         "mode": "lines",
         "type": "scatter",
         "x": [
          -0.5102699398994446,
          -0.44761723279953003
         ],
         "y": [
          -0.8600143194198608,
          -0.8942252397537231
         ]
        },
        {
         "mode": "lines",
         "type": "scatter",
         "x": [
          -0.5102699398994446,
          -0.41541510820388794
         ],
         "y": [
          -0.8600143194198608,
          -0.9096319675445557
         ]
        },
        {
         "mode": "lines",
         "type": "scatter",
         "x": [
          -0.5102699398994446,
          -0.38268357515335083
         ],
         "y": [
          -0.8600143194198608,
          -0.9238794445991516
         ]
        },
        {
         "mode": "lines",
         "type": "scatter",
         "x": [
          -0.5102699398994446,
          0.7786415815353394
         ],
         "y": [
          -0.8600143194198608,
          -0.6274688839912415
         ]
        },
        {
         "mode": "lines",
         "type": "scatter",
         "x": [
          -0.5102699398994446,
          0.9993628263473511
         ],
         "y": [
          -0.8600143194198608,
          0.03569243848323822
         ]
        },
        {
         "mode": "lines",
         "type": "scatter",
         "x": [
          -0.5102699398994446,
          0.8776788711547852
         ],
         "y": [
          -0.8600143194198608,
          -0.4792492091655731
         ]
        },
        {
         "mode": "lines",
         "type": "scatter",
         "x": [
          -0.5102699398994446,
          0.5102699398994446
         ],
         "y": [
          -0.8600143194198608,
          -0.8600143194198608
         ]
        },
        {
         "mode": "lines",
         "type": "scatter",
         "x": [
          -0.5102699398994446,
          -0.9841112494468689
         ],
         "y": [
          -0.8600143194198608,
          0.17755281925201416
         ]
        },
        {
         "mode": "lines",
         "type": "scatter",
         "x": [
          -0.5102699398994446,
          -0.9369496703147888
         ],
         "y": [
          -0.8600143194198608,
          0.3494643568992615
         ]
        },
        {
         "mode": "lines",
         "type": "scatter",
         "x": [
          -0.5102699398994446,
          -0.9898214936256409
         ],
         "y": [
          -0.8600143194198608,
          0.14231452345848083
         ]
        },
        {
         "mode": "lines",
         "type": "scatter",
         "x": [
          -0.5102699398994446,
          0.9974521398544312
         ],
         "y": [
          -0.8600143194198608,
          0.0713392123579979
         ]
        },
        {
         "mode": "lines",
         "type": "scatter",
         "x": [
          -0.5102699398994446,
          0.10689457505941391
         ],
         "y": [
          -0.8600143194198608,
          0.994270384311676
         ]
        },
        {
         "mode": "lines",
         "type": "scatter",
         "x": [
          -0.5102699398994446,
          -0.34946393966674805
         ],
         "y": [
          -0.8600143194198608,
          -0.9369497895240784
         ]
        },
        {
         "mode": "lines",
         "type": "scatter",
         "x": [
          -0.5102699398994446,
          -0.31579941511154175
         ],
         "y": [
          -0.8600143194198608,
          -0.9488259553909302
         ]
        },
        {
         "mode": "lines",
         "type": "scatter",
         "x": [
          -0.5102699398994446,
          0.6814179420471191
         ],
         "y": [
          -0.8600143194198608,
          0.7318944931030273
         ]
        },
        {
         "mode": "lines",
         "type": "scatter",
         "x": [
          -0.5102699398994446,
          -0.6814177632331848
         ],
         "y": [
          -0.8600143194198608,
          0.7318946719169617
         ]
        },
        {
         "mode": "lines",
         "type": "scatter",
         "x": [
          -0.5102699398994446,
          0.65486079454422
         ],
         "y": [
          -0.8600143194198608,
          0.755749523639679
         ]
        },
        {
         "mode": "lines",
         "type": "scatter",
         "x": [
          -0.5102699398994446,
          0.6274691224098206
         ],
         "y": [
          -0.8600143194198608,
          0.7786414623260498
         ]
        },
        {
         "mode": "lines",
         "type": "scatter",
         "x": [
          -0.5102699398994446,
          0.5992778539657593
         ],
         "y": [
          -0.8600143194198608,
          0.8005411028862
         ]
        },
        {
         "mode": "lines",
         "type": "scatter",
         "x": [
          -0.5102699398994446,
          0.07133905589580536
         ],
         "y": [
          -0.8600143194198608,
          -0.9974521398544312
         ]
        },
        {
         "mode": "lines",
         "type": "scatter",
         "x": [
          -0.5102699398994446,
          0.5703229308128357
         ],
         "y": [
          -0.8600143194198608,
          0.8214206099510193
         ]
        },
        {
         "mode": "lines",
         "type": "scatter",
         "x": [
          -0.5102699398994446,
          0.9942702651023865
         ],
         "y": [
          -0.8600143194198608,
          0.1068955510854721
         ]
        },
        {
         "mode": "lines",
         "type": "scatter",
         "x": [
          -0.47924894094467163,
          0.6548607349395752
         ],
         "y": [
          -0.8776789903640747,
          -0.7557495832443237
         ]
        },
        {
         "mode": "lines",
         "type": "scatter",
         "x": [
          -0.47924894094467163,
          0.681418240070343
         ],
         "y": [
          -0.8776789903640747,
          -0.7318942546844482
         ]
        },
        {
         "mode": "lines",
         "type": "scatter",
         "x": [
          -0.47924894094467163,
          0.7071067690849304
         ],
         "y": [
          -0.8776789903640747,
          0.7071067690849304
         ]
        },
        {
         "mode": "lines",
         "type": "scatter",
         "x": [
          -0.47924894094467163,
          0.9238795638084412
         ],
         "y": [
          -0.8776789903640747,
          0.38268330693244934
         ]
        },
        {
         "mode": "lines",
         "type": "scatter",
         "x": [
          -0.47924894094467163,
          0.8214205503463745
         ],
         "y": [
          -0.8776789903640747,
          0.5703229308128357
         ]
        },
        {
         "mode": "lines",
         "type": "scatter",
         "x": [
          -0.47924894094467163,
          0.9993628263473511
         ],
         "y": [
          -0.8776789903640747,
          -0.03569256514310837
         ]
        },
        {
         "mode": "lines",
         "type": "scatter",
         "x": [
          -0.47924894094467163,
          0.8005410432815552
         ],
         "y": [
          -0.8776789903640747,
          0.599277913570404
         ]
        },
        {
         "mode": "lines",
         "type": "scatter",
         "x": [
          -0.47924894094467163,
          0.47924864292144775
         ],
         "y": [
          -0.8776789903640747,
          0.877679169178009
         ]
        },
        {
         "mode": "lines",
         "type": "scatter",
         "x": [
          -0.47924894094467163,
          0.7557497024536133
         ],
         "y": [
          -0.8776789903640747,
          -0.6548605561256409
         ]
        },
        {
         "mode": "lines",
         "type": "scatter",
         "x": [
          -0.47924894094467163,
          -0.44761723279953003
         ],
         "y": [
          -0.8776789903640747,
          -0.8942252397537231
         ]
        },
        {
         "mode": "lines",
         "type": "scatter",
         "x": [
          -0.47924894094467163,
          -0.41541510820388794
         ],
         "y": [
          -0.8776789903640747,
          -0.9096319675445557
         ]
        },
        {
         "mode": "lines",
         "type": "scatter",
         "x": [
          -0.47924894094467163,
          -0.38268357515335083
         ],
         "y": [
          -0.8776789903640747,
          -0.9238794445991516
         ]
        },
        {
         "mode": "lines",
         "type": "scatter",
         "x": [
          -0.47924894094467163,
          0.7786415815353394
         ],
         "y": [
          -0.8776789903640747,
          -0.6274688839912415
         ]
        },
        {
         "mode": "lines",
         "type": "scatter",
         "x": [
          -0.47924894094467163,
          0.5102699398994446
         ],
         "y": [
          -0.8776789903640747,
          -0.8600143194198608
         ]
        },
        {
         "mode": "lines",
         "type": "scatter",
         "x": [
          -0.47924894094467163,
          0.778641402721405
         ],
         "y": [
          -0.8776789903640747,
          0.6274691820144653
         ]
        },
        {
         "mode": "lines",
         "type": "scatter",
         "x": [
          -0.47924894094467163,
          0.6814179420471191
         ],
         "y": [
          -0.8776789903640747,
          0.7318944931030273
         ]
        },
        {
         "mode": "lines",
         "type": "scatter",
         "x": [
          -0.47924894094467163,
          0.65486079454422
         ],
         "y": [
          -0.8776789903640747,
          0.755749523639679
         ]
        },
        {
         "mode": "lines",
         "type": "scatter",
         "x": [
          -0.47924894094467163,
          0.5992778539657593
         ],
         "y": [
          -0.8776789903640747,
          0.8005411028862
         ]
        },
        {
         "mode": "lines",
         "type": "scatter",
         "x": [
          -0.47924894094467163,
          0.5703229308128357
         ],
         "y": [
          -0.8776789903640747,
          0.8214206099510193
         ]
        },
        {
         "mode": "lines",
         "type": "scatter",
         "x": [
          -0.44761723279953003,
          0.7318944334983826
         ],
         "y": [
          -0.8942252397537231,
          0.6814180016517639
         ]
        },
        {
         "mode": "lines",
         "type": "scatter",
         "x": [
          -0.44761723279953003,
          0.6548607349395752
         ],
         "y": [
          -0.8942252397537231,
          -0.7557495832443237
         ]
        },
        {
         "mode": "lines",
         "type": "scatter",
         "x": [
          -0.44761723279953003,
          0.681418240070343
         ],
         "y": [
          -0.8942252397537231,
          -0.7318942546844482
         ]
        },
        {
         "mode": "lines",
         "type": "scatter",
         "x": [
          -0.44761723279953003,
          0.8942251801490784
         ],
         "y": [
          -0.8942252397537231,
          0.44761738181114197
         ]
        },
        {
         "mode": "lines",
         "type": "scatter",
         "x": [
          -0.44761723279953003,
          0.8600142002105713
         ],
         "y": [
          -0.8942252397537231,
          0.5102700591087341
         ]
        },
        {
         "mode": "lines",
         "type": "scatter",
         "x": [
          -0.44761723279953003,
          0.7071067690849304
         ],
         "y": [
          -0.8942252397537231,
          0.7071067690849304
         ]
        },
        {
         "mode": "lines",
         "type": "scatter",
         "x": [
          -0.44761723279953003,
          -0.41541510820388794
         ],
         "y": [
          -0.8942252397537231,
          -0.9096319675445557
         ]
        },
        {
         "mode": "lines",
         "type": "scatter",
         "x": [
          -0.44761723279953003,
          -0.38268357515335083
         ],
         "y": [
          -0.8942252397537231,
          -0.9238794445991516
         ]
        },
        {
         "mode": "lines",
         "type": "scatter",
         "x": [
          -0.44761723279953003,
          0.7786415815353394
         ],
         "y": [
          -0.8942252397537231,
          -0.6274688839912415
         ]
        },
        {
         "mode": "lines",
         "type": "scatter",
         "x": [
          -0.44761723279953003,
          0.9993628263473511
         ],
         "y": [
          -0.8942252397537231,
          0.03569243848323822
         ]
        },
        {
         "mode": "lines",
         "type": "scatter",
         "x": [
          -0.44761723279953003,
          0.8776788711547852
         ],
         "y": [
          -0.8942252397537231,
          -0.4792492091655731
         ]
        },
        {
         "mode": "lines",
         "type": "scatter",
         "x": [
          -0.44761723279953003,
          0.5102699398994446
         ],
         "y": [
          -0.8942252397537231,
          -0.8600143194198608
         ]
        },
        {
         "mode": "lines",
         "type": "scatter",
         "x": [
          -0.44761723279953003,
          0.9974521398544312
         ],
         "y": [
          -0.8942252397537231,
          0.0713392123579979
         ]
        },
        {
         "mode": "lines",
         "type": "scatter",
         "x": [
          -0.44761723279953003,
          0.10689457505941391
         ],
         "y": [
          -0.8942252397537231,
          0.994270384311676
         ]
        },
        {
         "mode": "lines",
         "type": "scatter",
         "x": [
          -0.44761723279953003,
          -0.34946393966674805
         ],
         "y": [
          -0.8942252397537231,
          -0.9369497895240784
         ]
        },
        {
         "mode": "lines",
         "type": "scatter",
         "x": [
          -0.44761723279953003,
          -0.31579941511154175
         ],
         "y": [
          -0.8942252397537231,
          -0.9488259553909302
         ]
        },
        {
         "mode": "lines",
         "type": "scatter",
         "x": [
          -0.44761723279953003,
          0.6814179420471191
         ],
         "y": [
          -0.8942252397537231,
          0.7318944931030273
         ]
        },
        {
         "mode": "lines",
         "type": "scatter",
         "x": [
          -0.44761723279953003,
          -0.6814177632331848
         ],
         "y": [
          -0.8942252397537231,
          0.7318946719169617
         ]
        },
        {
         "mode": "lines",
         "type": "scatter",
         "x": [
          -0.44761723279953003,
          0.65486079454422
         ],
         "y": [
          -0.8942252397537231,
          0.755749523639679
         ]
        },
        {
         "mode": "lines",
         "type": "scatter",
         "x": [
          -0.44761723279953003,
          0.6274691224098206
         ],
         "y": [
          -0.8942252397537231,
          0.7786414623260498
         ]
        },
        {
         "mode": "lines",
         "type": "scatter",
         "x": [
          -0.44761723279953003,
          0.5992778539657593
         ],
         "y": [
          -0.8942252397537231,
          0.8005411028862
         ]
        },
        {
         "mode": "lines",
         "type": "scatter",
         "x": [
          -0.44761723279953003,
          0.07133905589580536
         ],
         "y": [
          -0.8942252397537231,
          -0.9974521398544312
         ]
        },
        {
         "mode": "lines",
         "type": "scatter",
         "x": [
          -0.44761723279953003,
          0.5703229308128357
         ],
         "y": [
          -0.8942252397537231,
          0.8214206099510193
         ]
        },
        {
         "mode": "lines",
         "type": "scatter",
         "x": [
          -0.44761723279953003,
          0.9942702651023865
         ],
         "y": [
          -0.8942252397537231,
          0.1068955510854721
         ]
        },
        {
         "mode": "lines",
         "type": "scatter",
         "x": [
          -0.41541510820388794,
          0.6548607349395752
         ],
         "y": [
          -0.9096319675445557,
          -0.7557495832443237
         ]
        },
        {
         "mode": "lines",
         "type": "scatter",
         "x": [
          -0.41541510820388794,
          0.681418240070343
         ],
         "y": [
          -0.9096319675445557,
          -0.7318942546844482
         ]
        },
        {
         "mode": "lines",
         "type": "scatter",
         "x": [
          -0.41541510820388794,
          0.8942251801490784
         ],
         "y": [
          -0.9096319675445557,
          0.44761738181114197
         ]
        },
        {
         "mode": "lines",
         "type": "scatter",
         "x": [
          -0.41541510820388794,
          0.8600142002105713
         ],
         "y": [
          -0.9096319675445557,
          0.5102700591087341
         ]
        },
        {
         "mode": "lines",
         "type": "scatter",
         "x": [
          -0.41541510820388794,
          0.7071067690849304
         ],
         "y": [
          -0.9096319675445557,
          0.7071067690849304
         ]
        },
        {
         "mode": "lines",
         "type": "scatter",
         "x": [
          -0.41541510820388794,
          -0.38268357515335083
         ],
         "y": [
          -0.9096319675445557,
          -0.9238794445991516
         ]
        },
        {
         "mode": "lines",
         "type": "scatter",
         "x": [
          -0.41541510820388794,
          0.7786415815353394
         ],
         "y": [
          -0.9096319675445557,
          -0.6274688839912415
         ]
        },
        {
         "mode": "lines",
         "type": "scatter",
         "x": [
          -0.41541510820388794,
          0.9993628263473511
         ],
         "y": [
          -0.9096319675445557,
          0.03569243848323822
         ]
        },
        {
         "mode": "lines",
         "type": "scatter",
         "x": [
          -0.41541510820388794,
          0.8776788711547852
         ],
         "y": [
          -0.9096319675445557,
          -0.4792492091655731
         ]
        },
        {
         "mode": "lines",
         "type": "scatter",
         "x": [
          -0.41541510820388794,
          0.5102699398994446
         ],
         "y": [
          -0.9096319675445557,
          -0.8600143194198608
         ]
        },
        {
         "mode": "lines",
         "type": "scatter",
         "x": [
          -0.41541510820388794,
          0.9974521398544312
         ],
         "y": [
          -0.9096319675445557,
          0.0713392123579979
         ]
        },
        {
         "mode": "lines",
         "type": "scatter",
         "x": [
          -0.41541510820388794,
          0.10689457505941391
         ],
         "y": [
          -0.9096319675445557,
          0.994270384311676
         ]
        },
        {
         "mode": "lines",
         "type": "scatter",
         "x": [
          -0.41541510820388794,
          -0.34946393966674805
         ],
         "y": [
          -0.9096319675445557,
          -0.9369497895240784
         ]
        },
        {
         "mode": "lines",
         "type": "scatter",
         "x": [
          -0.41541510820388794,
          -0.31579941511154175
         ],
         "y": [
          -0.9096319675445557,
          -0.9488259553909302
         ]
        },
        {
         "mode": "lines",
         "type": "scatter",
         "x": [
          -0.41541510820388794,
          0.6814179420471191
         ],
         "y": [
          -0.9096319675445557,
          0.7318944931030273
         ]
        },
        {
         "mode": "lines",
         "type": "scatter",
         "x": [
          -0.41541510820388794,
          -0.6814177632331848
         ],
         "y": [
          -0.9096319675445557,
          0.7318946719169617
         ]
        },
        {
         "mode": "lines",
         "type": "scatter",
         "x": [
          -0.41541510820388794,
          0.65486079454422
         ],
         "y": [
          -0.9096319675445557,
          0.755749523639679
         ]
        },
        {
         "mode": "lines",
         "type": "scatter",
         "x": [
          -0.41541510820388794,
          0.6274691224098206
         ],
         "y": [
          -0.9096319675445557,
          0.7786414623260498
         ]
        },
        {
         "mode": "lines",
         "type": "scatter",
         "x": [
          -0.41541510820388794,
          0.5992778539657593
         ],
         "y": [
          -0.9096319675445557,
          0.8005411028862
         ]
        },
        {
         "mode": "lines",
         "type": "scatter",
         "x": [
          -0.41541510820388794,
          0.07133905589580536
         ],
         "y": [
          -0.9096319675445557,
          -0.9974521398544312
         ]
        },
        {
         "mode": "lines",
         "type": "scatter",
         "x": [
          -0.41541510820388794,
          0.5703229308128357
         ],
         "y": [
          -0.9096319675445557,
          0.8214206099510193
         ]
        },
        {
         "mode": "lines",
         "type": "scatter",
         "x": [
          -0.41541510820388794,
          0.9942702651023865
         ],
         "y": [
          -0.9096319675445557,
          0.1068955510854721
         ]
        },
        {
         "mode": "lines",
         "type": "scatter",
         "x": [
          -0.38268357515335083,
          0.7318944334983826
         ],
         "y": [
          -0.9238794445991516,
          0.6814180016517639
         ]
        },
        {
         "mode": "lines",
         "type": "scatter",
         "x": [
          -0.38268357515335083,
          0.6548607349395752
         ],
         "y": [
          -0.9238794445991516,
          -0.7557495832443237
         ]
        },
        {
         "mode": "lines",
         "type": "scatter",
         "x": [
          -0.38268357515335083,
          0.681418240070343
         ],
         "y": [
          -0.9238794445991516,
          -0.7318942546844482
         ]
        },
        {
         "mode": "lines",
         "type": "scatter",
         "x": [
          -0.38268357515335083,
          0.8942251801490784
         ],
         "y": [
          -0.9238794445991516,
          0.44761738181114197
         ]
        },
        {
         "mode": "lines",
         "type": "scatter",
         "x": [
          -0.38268357515335083,
          0.8600142002105713
         ],
         "y": [
          -0.9238794445991516,
          0.5102700591087341
         ]
        },
        {
         "mode": "lines",
         "type": "scatter",
         "x": [
          -0.38268357515335083,
          0.7071067690849304
         ],
         "y": [
          -0.9238794445991516,
          0.7071067690849304
         ]
        },
        {
         "mode": "lines",
         "type": "scatter",
         "x": [
          -0.38268357515335083,
          0.7786415815353394
         ],
         "y": [
          -0.9238794445991516,
          -0.6274688839912415
         ]
        },
        {
         "mode": "lines",
         "type": "scatter",
         "x": [
          -0.38268357515335083,
          0.9993628263473511
         ],
         "y": [
          -0.9238794445991516,
          0.03569243848323822
         ]
        },
        {
         "mode": "lines",
         "type": "scatter",
         "x": [
          -0.38268357515335083,
          0.8776788711547852
         ],
         "y": [
          -0.9238794445991516,
          -0.4792492091655731
         ]
        },
        {
         "mode": "lines",
         "type": "scatter",
         "x": [
          -0.38268357515335083,
          0.5102699398994446
         ],
         "y": [
          -0.9238794445991516,
          -0.8600143194198608
         ]
        },
        {
         "mode": "lines",
         "type": "scatter",
         "x": [
          -0.38268357515335083,
          0.9974521398544312
         ],
         "y": [
          -0.9238794445991516,
          0.0713392123579979
         ]
        },
        {
         "mode": "lines",
         "type": "scatter",
         "x": [
          -0.38268357515335083,
          0.10689457505941391
         ],
         "y": [
          -0.9238794445991516,
          0.994270384311676
         ]
        },
        {
         "mode": "lines",
         "type": "scatter",
         "x": [
          -0.38268357515335083,
          -0.34946393966674805
         ],
         "y": [
          -0.9238794445991516,
          -0.9369497895240784
         ]
        },
        {
         "mode": "lines",
         "type": "scatter",
         "x": [
          -0.38268357515335083,
          -0.31579941511154175
         ],
         "y": [
          -0.9238794445991516,
          -0.9488259553909302
         ]
        },
        {
         "mode": "lines",
         "type": "scatter",
         "x": [
          -0.38268357515335083,
          0.6814179420471191
         ],
         "y": [
          -0.9238794445991516,
          0.7318944931030273
         ]
        },
        {
         "mode": "lines",
         "type": "scatter",
         "x": [
          -0.38268357515335083,
          -0.6814177632331848
         ],
         "y": [
          -0.9238794445991516,
          0.7318946719169617
         ]
        },
        {
         "mode": "lines",
         "type": "scatter",
         "x": [
          -0.38268357515335083,
          0.65486079454422
         ],
         "y": [
          -0.9238794445991516,
          0.755749523639679
         ]
        },
        {
         "mode": "lines",
         "type": "scatter",
         "x": [
          -0.38268357515335083,
          0.6274691224098206
         ],
         "y": [
          -0.9238794445991516,
          0.7786414623260498
         ]
        },
        {
         "mode": "lines",
         "type": "scatter",
         "x": [
          -0.38268357515335083,
          0.5992778539657593
         ],
         "y": [
          -0.9238794445991516,
          0.8005411028862
         ]
        },
        {
         "mode": "lines",
         "type": "scatter",
         "x": [
          -0.38268357515335083,
          0.07133905589580536
         ],
         "y": [
          -0.9238794445991516,
          -0.9974521398544312
         ]
        },
        {
         "mode": "lines",
         "type": "scatter",
         "x": [
          -0.38268357515335083,
          0.5703229308128357
         ],
         "y": [
          -0.9238794445991516,
          0.8214206099510193
         ]
        },
        {
         "mode": "lines",
         "type": "scatter",
         "x": [
          -0.38268357515335083,
          0.9942702651023865
         ],
         "y": [
          -0.9238794445991516,
          0.1068955510854721
         ]
        },
        {
         "mode": "lines",
         "type": "scatter",
         "x": [
          -0.34946393966674805,
          0.5406403541564941
         ],
         "y": [
          -0.9369497895240784,
          0.8412538170814514
         ]
        },
        {
         "mode": "lines",
         "type": "scatter",
         "x": [
          -0.34946393966674805,
          -0.10689488798379898
         ],
         "y": [
          -0.9369497895240784,
          -0.9942703247070312
         ]
        },
        {
         "mode": "lines",
         "type": "scatter",
         "x": [
          -0.34946393966674805,
          0.8600142002105713
         ],
         "y": [
          -0.9369497895240784,
          0.5102700591087341
         ]
        },
        {
         "mode": "lines",
         "type": "scatter",
         "x": [
          -0.34946393966674805,
          0.7557497024536133
         ],
         "y": [
          -0.9369497895240784,
          -0.6548605561256409
         ]
        },
        {
         "mode": "lines",
         "type": "scatter",
         "x": [
          -0.34946393966674805,
          -0.3826838731765747
         ],
         "y": [
          -0.9369497895240784,
          0.9238793253898621
         ]
        },
        {
         "mode": "lines",
         "type": "scatter",
         "x": [
          -0.34946393966674805,
          0.9898213744163513
         ],
         "y": [
          -0.9369497895240784,
          0.14231520891189575
         ]
        },
        {
         "mode": "lines",
         "type": "scatter",
         "x": [
          -0.34946393966674805,
          -0.41541537642478943
         ],
         "y": [
          -0.9369497895240784,
          0.9096318483352661
         ]
        },
        {
         "mode": "lines",
         "type": "scatter",
         "x": [
          -0.34946393966674805,
          0.7786415815353394
         ],
         "y": [
          -0.9369497895240784,
          -0.6274688839912415
         ]
        },
        {
         "mode": "lines",
         "type": "scatter",
         "x": [
          -0.34946393966674805,
          -0.9841112494468689
         ],
         "y": [
          -0.9369497895240784,
          0.17755281925201416
         ]
        },
        {
         "mode": "lines",
         "type": "scatter",
         "x": [
          -0.34946393966674805,
          -0.9369496703147888
         ],
         "y": [
          -0.9369497895240784,
          0.3494643568992615
         ]
        },
        {
         "mode": "lines",
         "type": "scatter",
         "x": [
          -0.34946393966674805,
          -0.9898214936256409
         ],
         "y": [
          -0.9369497895240784,
          0.14231452345848083
         ]
        },
        {
         "mode": "lines",
         "type": "scatter",
         "x": [
          -0.34946393966674805,
          0.9974521398544312
         ],
         "y": [
          -0.9369497895240784,
          0.0713392123579979
         ]
        },
        {
         "mode": "lines",
         "type": "scatter",
         "x": [
          -0.34946393966674805,
          0.21256546676158905
         ],
         "y": [
          -0.9369497895240784,
          0.9771468043327332
         ]
        },
        {
         "mode": "lines",
         "type": "scatter",
         "x": [
          -0.34946393966674805,
          0.10689457505941391
         ],
         "y": [
          -0.9369497895240784,
          0.994270384311676
         ]
        },
        {
         "mode": "lines",
         "type": "scatter",
         "x": [
          -0.34946393966674805,
          -0.31579941511154175
         ],
         "y": [
          -0.9369497895240784,
          -0.9488259553909302
         ]
        },
        {
         "mode": "lines",
         "type": "scatter",
         "x": [
          -0.34946393966674805,
          0.9942702651023865
         ],
         "y": [
          -0.9369497895240784,
          0.1068955510854721
         ]
        },
        {
         "mode": "lines",
         "type": "scatter",
         "x": [
          -0.31579941511154175,
          0.7318944334983826
         ],
         "y": [
          -0.9488259553909302,
          0.6814180016517639
         ]
        },
        {
         "mode": "lines",
         "type": "scatter",
         "x": [
          -0.31579941511154175,
          0.681418240070343
         ],
         "y": [
          -0.9488259553909302,
          -0.7318942546844482
         ]
        },
        {
         "mode": "lines",
         "type": "scatter",
         "x": [
          -0.31579941511154175,
          0.7786415815353394
         ],
         "y": [
          -0.9488259553909302,
          -0.6274688839912415
         ]
        },
        {
         "mode": "lines",
         "type": "scatter",
         "x": [
          -0.31579941511154175,
          0.8776788711547852
         ],
         "y": [
          -0.9488259553909302,
          -0.4792492091655731
         ]
        },
        {
         "mode": "lines",
         "type": "scatter",
         "x": [
          -0.31579941511154175,
          0.5102699398994446
         ],
         "y": [
          -0.9488259553909302,
          -0.8600143194198608
         ]
        },
        {
         "mode": "lines",
         "type": "scatter",
         "x": [
          -0.31579941511154175,
          0.6814179420471191
         ],
         "y": [
          -0.9488259553909302,
          0.7318944931030273
         ]
        },
        {
         "mode": "lines",
         "type": "scatter",
         "x": [
          -0.31579941511154175,
          0.5992778539657593
         ],
         "y": [
          -0.9488259553909302,
          0.8005411028862
         ]
        },
        {
         "mode": "lines",
         "type": "scatter",
         "x": [
          -0.31579941511154175,
          0.9942702651023865
         ],
         "y": [
          -0.9488259553909302,
          0.1068955510854721
         ]
        },
        {
         "mode": "lines",
         "type": "scatter",
         "x": [
          -0.2817324697971344,
          -0.2473064661026001
         ],
         "y": [
          -0.9594929814338684,
          -0.968937337398529
         ]
        },
        {
         "mode": "lines",
         "type": "scatter",
         "x": [
          -0.2817324697971344,
          -0.2125653177499771
         ],
         "y": [
          -0.9594929814338684,
          -0.9771468639373779
         ]
        },
        {
         "mode": "lines",
         "type": "scatter",
         "x": [
          -0.2817324697971344,
          0.07133905589580536
         ],
         "y": [
          -0.9594929814338684,
          -0.9974521398544312
         ]
        },
        {
         "mode": "lines",
         "type": "scatter",
         "x": [
          -0.2817324697971344,
          0.10689491778612137
         ],
         "y": [
          -0.9594929814338684,
          -0.9942703247070312
         ]
        },
        {
         "mode": "lines",
         "type": "scatter",
         "x": [
          -0.2817324697971344,
          0.14231504499912262
         ],
         "y": [
          -0.9594929814338684,
          -0.9898214340209961
         ]
        },
        {
         "mode": "lines",
         "type": "scatter",
         "x": [
          -0.2817324697971344,
          0.9488258957862854
         ],
         "y": [
          -0.9594929814338684,
          0.3157995939254761
         ]
        },
        {
         "mode": "lines",
         "type": "scatter",
         "x": [
          -0.2817324697971344,
          0.9369497299194336
         ],
         "y": [
          -0.9594929814338684,
          0.3494641184806824
         ]
        },
        {
         "mode": "lines",
         "type": "scatter",
         "x": [
          -0.2125653177499771,
          -0.14231453835964203
         ],
         "y": [
          -0.9771468639373779,
          -0.9898214936256409
         ]
        },
        {
         "mode": "lines",
         "type": "scatter",
         "x": [
          -0.2125653177499771,
          -0.10689488798379898
         ],
         "y": [
          -0.9771468639373779,
          -0.9942703247070312
         ]
        },
        {
         "mode": "lines",
         "type": "scatter",
         "x": [
          -0.2125653177499771,
          -0.07133902609348297
         ],
         "y": [
          -0.9771468639373779,
          -0.9974521398544312
         ]
        },
        {
         "mode": "lines",
         "type": "scatter",
         "x": [
          -0.2125653177499771,
          -0.0356922522187233
         ],
         "y": [
          -0.9771468639373779,
          -0.9993628263473511
         ]
        },
        {
         "mode": "lines",
         "type": "scatter",
         "x": [
          -0.2125653177499771,
          0.03569227457046509
         ],
         "y": [
          -0.9771468639373779,
          -0.9993628263473511
         ]
        },
        {
         "mode": "lines",
         "type": "scatter",
         "x": [
          -0.2125653177499771,
          0.9898213744163513
         ],
         "y": [
          -0.9771468639373779,
          0.14231520891189575
         ]
        },
        {
         "mode": "lines",
         "type": "scatter",
         "x": [
          -0.2125653177499771,
          0.07133905589580536
         ],
         "y": [
          -0.9771468639373779,
          -0.9974521398544312
         ]
        },
        {
         "mode": "lines",
         "type": "scatter",
         "x": [
          -0.2125653177499771,
          0.10689491778612137
         ],
         "y": [
          -0.9771468639373779,
          -0.9942703247070312
         ]
        },
        {
         "mode": "lines",
         "type": "scatter",
         "x": [
          -0.2125653177499771,
          0.14231504499912262
         ],
         "y": [
          -0.9771468639373779,
          -0.9898214340209961
         ]
        },
        {
         "mode": "lines",
         "type": "scatter",
         "x": [
          -0.2125653177499771,
          0.9488258957862854
         ],
         "y": [
          -0.9771468639373779,
          0.3157995939254761
         ]
        },
        {
         "mode": "lines",
         "type": "scatter",
         "x": [
          -0.2125653177499771,
          0.9369497299194336
         ],
         "y": [
          -0.9771468639373779,
          0.3494641184806824
         ]
        },
        {
         "mode": "lines",
         "type": "scatter",
         "x": [
          -0.17755281925201416,
          0.7318944334983826
         ],
         "y": [
          -0.9841112494468689,
          0.6814180016517639
         ]
        },
        {
         "mode": "lines",
         "type": "scatter",
         "x": [
          -0.17755281925201416,
          0.5406403541564941
         ],
         "y": [
          -0.9841112494468689,
          0.8412538170814514
         ]
        },
        {
         "mode": "lines",
         "type": "scatter",
         "x": [
          -0.17755281925201416,
          0.5992777943611145
         ],
         "y": [
          -0.9841112494468689,
          -0.8005411624908447
         ]
        },
        {
         "mode": "lines",
         "type": "scatter",
         "x": [
          -0.17755281925201416,
          0.6274690628051758
         ],
         "y": [
          -0.9841112494468689,
          -0.7786415219306946
         ]
        },
        {
         "mode": "lines",
         "type": "scatter",
         "x": [
          -0.17755281925201416,
          0.6548607349395752
         ],
         "y": [
          -0.9841112494468689,
          -0.7557495832443237
         ]
        },
        {
         "mode": "lines",
         "type": "scatter",
         "x": [
          -0.17755281925201416,
          0.681418240070343
         ],
         "y": [
          -0.9841112494468689,
          -0.7318942546844482
         ]
        },
        {
         "mode": "lines",
         "type": "scatter",
         "x": [
          -0.17755281925201416,
          0.7071070075035095
         ],
         "y": [
          -0.9841112494468689,
          -0.7071065306663513
         ]
        },
        {
         "mode": "lines",
         "type": "scatter",
         "x": [
          -0.17755281925201416,
          0.7318947315216064
         ],
         "y": [
          -0.9841112494468689,
          -0.6814177632331848
         ]
        },
        {
         "mode": "lines",
         "type": "scatter",
         "x": [
          -0.17755281925201416,
          0.17755332589149475
         ],
         "y": [
          -0.9841112494468689,
          -0.9841111898422241
         ]
        },
        {
         "mode": "lines",
         "type": "scatter",
         "x": [
          -0.17755281925201416,
          0.2125653475522995
         ],
         "y": [
          -0.9841112494468689,
          -0.9771468639373779
         ]
        },
        {
         "mode": "lines",
         "type": "scatter",
         "x": [
          -0.17755281925201416,
          0.2473064810037613
         ],
         "y": [
          -0.9841112494468689,
          -0.9689372777938843
         ]
        },
        {
         "mode": "lines",
         "type": "scatter",
         "x": [
          -0.17755281925201416,
          0.2817324697971344
         ],
         "y": [
          -0.9841112494468689,
          -0.9594929814338684
         ]
        },
        {
         "mode": "lines",
         "type": "scatter",
         "x": [
          -0.17755281925201416,
          0.31579986214637756
         ],
         "y": [
          -0.9841112494468689,
          -0.9488258361816406
         ]
        },
        {
         "mode": "lines",
         "type": "scatter",
         "x": [
          -0.17755281925201416,
          -0.14231453835964203
         ],
         "y": [
          -0.9841112494468689,
          -0.9898214936256409
         ]
        },
        {
         "mode": "lines",
         "type": "scatter",
         "x": [
          -0.17755281925201416,
          -0.10689488798379898
         ],
         "y": [
          -0.9841112494468689,
          -0.9942703247070312
         ]
        },
        {
         "mode": "lines",
         "type": "scatter",
         "x": [
          -0.17755281925201416,
          -0.07133902609348297
         ],
         "y": [
          -0.9841112494468689,
          -0.9974521398544312
         ]
        },
        {
         "mode": "lines",
         "type": "scatter",
         "x": [
          -0.17755281925201416,
          -0.0356922522187233
         ],
         "y": [
          -0.9841112494468689,
          -0.9993628263473511
         ]
        },
        {
         "mode": "lines",
         "type": "scatter",
         "x": [
          -0.17755281925201416,
          0.34946438670158386
         ],
         "y": [
          -0.9841112494468689,
          -0.9369496703147888
         ]
        },
        {
         "mode": "lines",
         "type": "scatter",
         "x": [
          -0.17755281925201416,
          0.38268357515335083
         ],
         "y": [
          -0.9841112494468689,
          -0.9238794445991516
         ]
        },
        {
         "mode": "lines",
         "type": "scatter",
         "x": [
          -0.17755281925201416,
          0.8600142002105713
         ],
         "y": [
          -0.9841112494468689,
          0.5102700591087341
         ]
        },
        {
         "mode": "lines",
         "type": "scatter",
         "x": [
          -0.17755281925201416,
          0.9096320271492004
         ],
         "y": [
          -0.9841112494468689,
          -0.4154149293899536
         ]
        },
        {
         "mode": "lines",
         "type": "scatter",
         "x": [
          -0.17755281925201416,
          -0.3494638204574585
         ],
         "y": [
          -0.9841112494468689,
          0.9369498491287231
         ]
        },
        {
         "mode": "lines",
         "type": "scatter",
         "x": [
          -0.17755281925201416,
          0.9238795638084412
         ],
         "y": [
          -0.9841112494468689,
          0.38268330693244934
         ]
        },
        {
         "mode": "lines",
         "type": "scatter",
         "x": [
          -0.17755281925201416,
          0.8214205503463745
         ],
         "y": [
          -0.9841112494468689,
          0.5703229308128357
         ]
        },
        {
         "mode": "lines",
         "type": "scatter",
         "x": [
          -0.17755281925201416,
          0.9993628263473511
         ],
         "y": [
          -0.9841112494468689,
          -0.03569256514310837
         ]
        },
        {
         "mode": "lines",
         "type": "scatter",
         "x": [
          -0.17755281925201416,
          0.8005410432815552
         ],
         "y": [
          -0.9841112494468689,
          0.599277913570404
         ]
        },
        {
         "mode": "lines",
         "type": "scatter",
         "x": [
          -0.17755281925201416,
          0.948826014995575
         ],
         "y": [
          -0.9841112494468689,
          -0.3157992660999298
         ]
        },
        {
         "mode": "lines",
         "type": "scatter",
         "x": [
          -0.17755281925201416,
          0.9594930410385132
         ],
         "y": [
          -0.9841112494468689,
          -0.2817322909832001
         ]
        },
        {
         "mode": "lines",
         "type": "scatter",
         "x": [
          -0.17755281925201416,
          0.968937337398529
         ],
         "y": [
          -0.9841112494468689,
          -0.24730630218982697
         ]
        },
        {
         "mode": "lines",
         "type": "scatter",
         "x": [
          -0.17755281925201416,
          0.7557497024536133
         ],
         "y": [
          -0.9841112494468689,
          -0.6548605561256409
         ]
        },
        {
         "mode": "lines",
         "type": "scatter",
         "x": [
          -0.17755281925201416,
          0.03569227457046509
         ],
         "y": [
          -0.9841112494468689,
          -0.9993628263473511
         ]
        },
        {
         "mode": "lines",
         "type": "scatter",
         "x": [
          -0.17755281925201416,
          -0.3826838731765747
         ],
         "y": [
          -0.9841112494468689,
          0.9238793253898621
         ]
        },
        {
         "mode": "lines",
         "type": "scatter",
         "x": [
          -0.17755281925201416,
          0.9898213744163513
         ],
         "y": [
          -0.9841112494468689,
          0.14231520891189575
         ]
        },
        {
         "mode": "lines",
         "type": "scatter",
         "x": [
          -0.17755281925201416,
          -0.41541537642478943
         ],
         "y": [
          -0.9841112494468689,
          0.9096318483352661
         ]
        },
        {
         "mode": "lines",
         "type": "scatter",
         "x": [
          -0.17755281925201416,
          0.44761693477630615
         ],
         "y": [
          -0.9841112494468689,
          0.8942254185676575
         ]
        },
        {
         "mode": "lines",
         "type": "scatter",
         "x": [
          -0.17755281925201416,
          -0.4476175308227539
         ],
         "y": [
          -0.9841112494468689,
          0.8942251205444336
         ]
        },
        {
         "mode": "lines",
         "type": "scatter",
         "x": [
          -0.17755281925201416,
          0.38268327713012695
         ],
         "y": [
          -0.9841112494468689,
          0.9238796234130859
         ]
        },
        {
         "mode": "lines",
         "type": "scatter",
         "x": [
          -0.17755281925201416,
          0.34946408867836
         ],
         "y": [
          -0.9841112494468689,
          0.9369497299194336
         ]
        },
        {
         "mode": "lines",
         "type": "scatter",
         "x": [
          -0.17755281925201416,
          -0.4792492091655731
         ],
         "y": [
          -0.9841112494468689,
          0.8776788711547852
         ]
        },
        {
         "mode": "lines",
         "type": "scatter",
         "x": [
          -0.17755281925201416,
          -0.5102702379226685
         ],
         "y": [
          -0.9841112494468689,
          0.8600141406059265
         ]
        },
        {
         "mode": "lines",
         "type": "scatter",
         "x": [
          -0.17755281925201416,
          0.3157995641231537
         ],
         "y": [
          -0.9841112494468689,
          0.9488259553909302
         ]
        },
        {
         "mode": "lines",
         "type": "scatter",
         "x": [
          -0.17755281925201416,
          0.9771469235420227
         ],
         "y": [
          -0.9841112494468689,
          -0.21256515383720398
         ]
        },
        {
         "mode": "lines",
         "type": "scatter",
         "x": [
          -0.17755281925201416,
          0.8005412817001343
         ],
         "y": [
          -0.9841112494468689,
          -0.5992776155471802
         ]
        },
        {
         "mode": "lines",
         "type": "scatter",
         "x": [
          -0.17755281925201416,
          0.8214207887649536
         ],
         "y": [
          -0.9841112494468689,
          -0.5703226327896118
         ]
        },
        {
         "mode": "lines",
         "type": "scatter",
         "x": [
          -0.17755281925201416,
          0.9942702651023865
         ],
         "y": [
          -0.9841112494468689,
          -0.10689520835876465
         ]
        },
        {
         "mode": "lines",
         "type": "scatter",
         "x": [
          -0.17755281925201416,
          0.8412534594535828
         ],
         "y": [
          -0.9841112494468689,
          -0.5406408905982971
         ]
        },
        {
         "mode": "lines",
         "type": "scatter",
         "x": [
          -0.17755281925201416,
          0.8600141406059265
         ],
         "y": [
          -0.9841112494468689,
          -0.5102701783180237
         ]
        },
        {
         "mode": "lines",
         "type": "scatter",
         "x": [
          -0.17755281925201416,
          0.8776788711547852
         ],
         "y": [
          -0.9841112494468689,
          -0.4792492091655731
         ]
        },
        {
         "mode": "lines",
         "type": "scatter",
         "x": [
          -0.17755281925201416,
          0.9974520802497864
         ],
         "y": [
          -0.9841112494468689,
          -0.07133934646844864
         ]
        },
        {
         "mode": "lines",
         "type": "scatter",
         "x": [
          -0.17755281925201416,
          -0.5406409502029419
         ],
         "y": [
          -0.9841112494468689,
          0.8412534594535828
         ]
        },
        {
         "mode": "lines",
         "type": "scatter",
         "x": [
          -0.17755281925201416,
          0.5102699398994446
         ],
         "y": [
          -0.9841112494468689,
          -0.8600143194198608
         ]
        },
        {
         "mode": "lines",
         "type": "scatter",
         "x": [
          -0.17755281925201416,
          0.778641402721405
         ],
         "y": [
          -0.9841112494468689,
          0.6274691820144653
         ]
        },
        {
         "mode": "lines",
         "type": "scatter",
         "x": [
          -0.17755281925201416,
          -0.5703226923942566
         ],
         "y": [
          -0.9841112494468689,
          0.8214207291603088
         ]
        },
        {
         "mode": "lines",
         "type": "scatter",
         "x": [
          -0.17755281925201416,
          -0.599277675151825
         ],
         "y": [
          -0.9841112494468689,
          0.8005412220954895
         ]
        },
        {
         "mode": "lines",
         "type": "scatter",
         "x": [
          -0.17755281925201416,
          0.1775534451007843
         ],
         "y": [
          -0.9841112494468689,
          0.9841111302375793
         ]
        },
        {
         "mode": "lines",
         "type": "scatter",
         "x": [
          -0.17755281925201416,
          -0.6274689435958862
         ],
         "y": [
          -0.9841112494468689,
          0.7786415815353394
         ]
        },
        {
         "mode": "lines",
         "type": "scatter",
         "x": [
          -0.17755281925201416,
          -0.6548606157302856
         ],
         "y": [
          -0.9841112494468689,
          0.7557497024536133
         ]
        },
        {
         "mode": "lines",
         "type": "scatter",
         "x": [
          -0.17755281925201416,
          -0.6814177632331848
         ],
         "y": [
          -0.9841112494468689,
          0.7318946719169617
         ]
        },
        {
         "mode": "lines",
         "type": "scatter",
         "x": [
          -0.17755281925201416,
          -3.3776623808989825e-7
         ],
         "y": [
          -0.9841112494468689,
          1
         ]
        },
        {
         "mode": "lines",
         "type": "scatter",
         "x": [
          -0.17755281925201416,
          0.9841111302375793
         ],
         "y": [
          -0.9841112494468689,
          0.17755348980426788
         ]
        },
        {
         "mode": "lines",
         "type": "scatter",
         "x": [
          -0.17755281925201416,
          0.9771468043327332
         ],
         "y": [
          -0.9841112494468689,
          0.21256551146507263
         ]
        },
        {
         "mode": "lines",
         "type": "scatter",
         "x": [
          -0.17755281925201416,
          0.9689372777938843
         ],
         "y": [
          -0.9841112494468689,
          0.24730664491653442
         ]
        },
        {
         "mode": "lines",
         "type": "scatter",
         "x": [
          -0.17755281925201416,
          0.9594929218292236
         ],
         "y": [
          -0.9841112494468689,
          0.28173261880874634
         ]
        },
        {
         "mode": "lines",
         "type": "scatter",
         "x": [
          -0.17755281925201416,
          -0.1775531768798828
         ],
         "y": [
          -0.9841112494468689,
          0.9841111898422241
         ]
        },
        {
         "mode": "lines",
         "type": "scatter",
         "x": [
          -0.17755281925201416,
          0.10689491778612137
         ],
         "y": [
          -0.9841112494468689,
          -0.9942703247070312
         ]
        },
        {
         "mode": "lines",
         "type": "scatter",
         "x": [
          -0.17755281925201416,
          -0.7071065902709961
         ],
         "y": [
          -0.9841112494468689,
          0.7071070075035095
         ]
        },
        {
         "mode": "lines",
         "type": "scatter",
         "x": [
          -0.14231453835964203,
          0.17755332589149475
         ],
         "y": [
          -0.9898214936256409,
          -0.9841111898422241
         ]
        },
        {
         "mode": "lines",
         "type": "scatter",
         "x": [
          -0.14231453835964203,
          0.2473064810037613
         ],
         "y": [
          -0.9898214936256409,
          -0.9689372777938843
         ]
        },
        {
         "mode": "lines",
         "type": "scatter",
         "x": [
          -0.14231453835964203,
          0.31579986214637756
         ],
         "y": [
          -0.9898214936256409,
          -0.9488258361816406
         ]
        },
        {
         "mode": "lines",
         "type": "scatter",
         "x": [
          -0.14231453835964203,
          -0.10689488798379898
         ],
         "y": [
          -0.9898214936256409,
          -0.9942703247070312
         ]
        },
        {
         "mode": "lines",
         "type": "scatter",
         "x": [
          -0.14231453835964203,
          -0.07133902609348297
         ],
         "y": [
          -0.9898214936256409,
          -0.9974521398544312
         ]
        },
        {
         "mode": "lines",
         "type": "scatter",
         "x": [
          -0.14231453835964203,
          -0.0356922522187233
         ],
         "y": [
          -0.9898214936256409,
          -0.9993628263473511
         ]
        },
        {
         "mode": "lines",
         "type": "scatter",
         "x": [
          -0.14231453835964203,
          1.1924880638503055e-8
         ],
         "y": [
          -0.9898214936256409,
          -1
         ]
        },
        {
         "mode": "lines",
         "type": "scatter",
         "x": [
          -0.14231453835964203,
          -0.3826838731765747
         ],
         "y": [
          -0.9898214936256409,
          0.9238793253898621
         ]
        },
        {
         "mode": "lines",
         "type": "scatter",
         "x": [
          -0.14231453835964203,
          0.9898213744163513
         ],
         "y": [
          -0.9898214936256409,
          0.14231520891189575
         ]
        },
        {
         "mode": "lines",
         "type": "scatter",
         "x": [
          -0.14231453835964203,
          -0.41541537642478943
         ],
         "y": [
          -0.9898214936256409,
          0.9096318483352661
         ]
        },
        {
         "mode": "lines",
         "type": "scatter",
         "x": [
          -0.14231453835964203,
          -0.6814177632331848
         ],
         "y": [
          -0.9898214936256409,
          0.7318946719169617
         ]
        },
        {
         "mode": "lines",
         "type": "scatter",
         "x": [
          -0.10689488798379898,
          0.17755332589149475
         ],
         "y": [
          -0.9942703247070312,
          -0.9841111898422241
         ]
        },
        {
         "mode": "lines",
         "type": "scatter",
         "x": [
          -0.10689488798379898,
          0.2473064810037613
         ],
         "y": [
          -0.9942703247070312,
          -0.9689372777938843
         ]
        },
        {
         "mode": "lines",
         "type": "scatter",
         "x": [
          -0.10689488798379898,
          0.31579986214637756
         ],
         "y": [
          -0.9942703247070312,
          -0.9488258361816406
         ]
        },
        {
         "mode": "lines",
         "type": "scatter",
         "x": [
          -0.10689488798379898,
          -0.07133902609348297
         ],
         "y": [
          -0.9942703247070312,
          -0.9974521398544312
         ]
        },
        {
         "mode": "lines",
         "type": "scatter",
         "x": [
          -0.10689488798379898,
          -0.0356922522187233
         ],
         "y": [
          -0.9942703247070312,
          -0.9993628263473511
         ]
        },
        {
         "mode": "lines",
         "type": "scatter",
         "x": [
          -0.10689488798379898,
          1.1924880638503055e-8
         ],
         "y": [
          -0.9942703247070312,
          -1
         ]
        },
        {
         "mode": "lines",
         "type": "scatter",
         "x": [
          -0.10689488798379898,
          0.7557497024536133
         ],
         "y": [
          -0.9942703247070312,
          -0.6548605561256409
         ]
        },
        {
         "mode": "lines",
         "type": "scatter",
         "x": [
          -0.10689488798379898,
          -0.3826838731765747
         ],
         "y": [
          -0.9942703247070312,
          0.9238793253898621
         ]
        },
        {
         "mode": "lines",
         "type": "scatter",
         "x": [
          -0.10689488798379898,
          0.9898213744163513
         ],
         "y": [
          -0.9942703247070312,
          0.14231520891189575
         ]
        },
        {
         "mode": "lines",
         "type": "scatter",
         "x": [
          -0.10689488798379898,
          -0.41541537642478943
         ],
         "y": [
          -0.9942703247070312,
          0.9096318483352661
         ]
        },
        {
         "mode": "lines",
         "type": "scatter",
         "x": [
          -0.10689488798379898,
          0.44761693477630615
         ],
         "y": [
          -0.9942703247070312,
          0.8942254185676575
         ]
        },
        {
         "mode": "lines",
         "type": "scatter",
         "x": [
          -0.10689488798379898,
          -0.4476175308227539
         ],
         "y": [
          -0.9942703247070312,
          0.8942251205444336
         ]
        },
        {
         "mode": "lines",
         "type": "scatter",
         "x": [
          -0.10689488798379898,
          0.38268327713012695
         ],
         "y": [
          -0.9942703247070312,
          0.9238796234130859
         ]
        },
        {
         "mode": "lines",
         "type": "scatter",
         "x": [
          -0.10689488798379898,
          0.9898214340209961
         ],
         "y": [
          -0.9942703247070312,
          -0.1423148512840271
         ]
        },
        {
         "mode": "lines",
         "type": "scatter",
         "x": [
          -0.10689488798379898,
          -0.5406409502029419
         ],
         "y": [
          -0.9942703247070312,
          0.8412534594535828
         ]
        },
        {
         "mode": "lines",
         "type": "scatter",
         "x": [
          -0.10689488798379898,
          0.5102699398994446
         ],
         "y": [
          -0.9942703247070312,
          -0.8600143194198608
         ]
        },
        {
         "mode": "lines",
         "type": "scatter",
         "x": [
          -0.10689488798379898,
          -0.9369496703147888
         ],
         "y": [
          -0.9942703247070312,
          0.3494643568992615
         ]
        },
        {
         "mode": "lines",
         "type": "scatter",
         "x": [
          -0.10689488798379898,
          -0.5703226923942566
         ],
         "y": [
          -0.9942703247070312,
          0.8214207291603088
         ]
        },
        {
         "mode": "lines",
         "type": "scatter",
         "x": [
          -0.10689488798379898,
          -0.9488258361816406
         ],
         "y": [
          -0.9942703247070312,
          0.31579986214637756
         ]
        },
        {
         "mode": "lines",
         "type": "scatter",
         "x": [
          -0.10689488798379898,
          -0.6814177632331848
         ],
         "y": [
          -0.9942703247070312,
          0.7318946719169617
         ]
        },
        {
         "mode": "lines",
         "type": "scatter",
         "x": [
          -0.07133902609348297,
          0.2473064810037613
         ],
         "y": [
          -0.9974521398544312,
          -0.9689372777938843
         ]
        },
        {
         "mode": "lines",
         "type": "scatter",
         "x": [
          -0.07133902609348297,
          0.31579986214637756
         ],
         "y": [
          -0.9974521398544312,
          -0.9488258361816406
         ]
        },
        {
         "mode": "lines",
         "type": "scatter",
         "x": [
          -0.07133902609348297,
          -0.0356922522187233
         ],
         "y": [
          -0.9974521398544312,
          -0.9993628263473511
         ]
        },
        {
         "mode": "lines",
         "type": "scatter",
         "x": [
          -0.07133902609348297,
          1.1924880638503055e-8
         ],
         "y": [
          -0.9974521398544312,
          -1
         ]
        },
        {
         "mode": "lines",
         "type": "scatter",
         "x": [
          -0.07133902609348297,
          0.7557497024536133
         ],
         "y": [
          -0.9974521398544312,
          -0.6548605561256409
         ]
        },
        {
         "mode": "lines",
         "type": "scatter",
         "x": [
          -0.07133902609348297,
          -0.3826838731765747
         ],
         "y": [
          -0.9974521398544312,
          0.9238793253898621
         ]
        },
        {
         "mode": "lines",
         "type": "scatter",
         "x": [
          -0.07133902609348297,
          0.9898213744163513
         ],
         "y": [
          -0.9974521398544312,
          0.14231520891189575
         ]
        },
        {
         "mode": "lines",
         "type": "scatter",
         "x": [
          -0.07133902609348297,
          -0.41541537642478943
         ],
         "y": [
          -0.9974521398544312,
          0.9096318483352661
         ]
        },
        {
         "mode": "lines",
         "type": "scatter",
         "x": [
          -0.07133902609348297,
          -0.4476175308227539
         ],
         "y": [
          -0.9974521398544312,
          0.8942251205444336
         ]
        },
        {
         "mode": "lines",
         "type": "scatter",
         "x": [
          -0.07133902609348297,
          0.9993628263473511
         ],
         "y": [
          -0.9974521398544312,
          0.03569243848323822
         ]
        },
        {
         "mode": "lines",
         "type": "scatter",
         "x": [
          -0.07133902609348297,
          0.5102699398994446
         ],
         "y": [
          -0.9974521398544312,
          -0.8600143194198608
         ]
        },
        {
         "mode": "lines",
         "type": "scatter",
         "x": [
          -0.07133902609348297,
          -0.6814177632331848
         ],
         "y": [
          -0.9974521398544312,
          0.7318946719169617
         ]
        },
        {
         "mode": "lines",
         "type": "scatter",
         "x": [
          -0.0356922522187233,
          0.2473064810037613
         ],
         "y": [
          -0.9993628263473511,
          -0.9689372777938843
         ]
        },
        {
         "mode": "lines",
         "type": "scatter",
         "x": [
          -0.0356922522187233,
          0.2817324697971344
         ],
         "y": [
          -0.9993628263473511,
          -0.9594929814338684
         ]
        },
        {
         "mode": "lines",
         "type": "scatter",
         "x": [
          -0.0356922522187233,
          0.31579986214637756
         ],
         "y": [
          -0.9993628263473511,
          -0.9488258361816406
         ]
        },
        {
         "mode": "lines",
         "type": "scatter",
         "x": [
          -0.0356922522187233,
          0.34946438670158386
         ],
         "y": [
          -0.9993628263473511,
          -0.9369496703147888
         ]
        },
        {
         "mode": "lines",
         "type": "scatter",
         "x": [
          -0.0356922522187233,
          0.38268357515335083
         ],
         "y": [
          -0.9993628263473511,
          -0.9238794445991516
         ]
        },
        {
         "mode": "lines",
         "type": "scatter",
         "x": [
          -0.0356922522187233,
          1.1924880638503055e-8
         ],
         "y": [
          -0.9993628263473511,
          -1
         ]
        },
        {
         "mode": "lines",
         "type": "scatter",
         "x": [
          -0.0356922522187233,
          0.7557497024536133
         ],
         "y": [
          -0.9993628263473511,
          -0.6548605561256409
         ]
        },
        {
         "mode": "lines",
         "type": "scatter",
         "x": [
          -0.0356922522187233,
          0.9898213744163513
         ],
         "y": [
          -0.9993628263473511,
          0.14231520891189575
         ]
        },
        {
         "mode": "lines",
         "type": "scatter",
         "x": [
          -0.0356922522187233,
          0.44761693477630615
         ],
         "y": [
          -0.9993628263473511,
          0.8942254185676575
         ]
        },
        {
         "mode": "lines",
         "type": "scatter",
         "x": [
          -0.0356922522187233,
          0.34946408867836
         ],
         "y": [
          -0.9993628263473511,
          0.9369497299194336
         ]
        },
        {
         "mode": "lines",
         "type": "scatter",
         "x": [
          -0.0356922522187233,
          -0.5102702379226685
         ],
         "y": [
          -0.9993628263473511,
          0.8600141406059265
         ]
        },
        {
         "mode": "lines",
         "type": "scatter",
         "x": [
          -0.0356922522187233,
          -0.5406409502029419
         ],
         "y": [
          -0.9993628263473511,
          0.8412534594535828
         ]
        },
        {
         "mode": "lines",
         "type": "scatter",
         "x": [
          -0.0356922522187233,
          -0.6274689435958862
         ],
         "y": [
          -0.9993628263473511,
          0.7786415815353394
         ]
        },
        {
         "mode": "lines",
         "type": "scatter",
         "x": [
          -0.0356922522187233,
          -0.6814177632331848
         ],
         "y": [
          -0.9993628263473511,
          0.7318946719169617
         ]
        },
        {
         "mode": "lines",
         "type": "scatter",
         "x": [
          -0.0356922522187233,
          -3.3776623808989825e-7
         ],
         "y": [
          -0.9993628263473511,
          1
         ]
        },
        {
         "mode": "lines",
         "type": "scatter",
         "x": [
          1.1924880638503055e-8,
          0.5406403541564941
         ],
         "y": [
          -1,
          0.8412538170814514
         ]
        },
        {
         "mode": "lines",
         "type": "scatter",
         "x": [
          1.1924880638503055e-8,
          0.5992777943611145
         ],
         "y": [
          -1,
          -0.8005411624908447
         ]
        },
        {
         "mode": "lines",
         "type": "scatter",
         "x": [
          1.1924880638503055e-8,
          0.6274690628051758
         ],
         "y": [
          -1,
          -0.7786415219306946
         ]
        },
        {
         "mode": "lines",
         "type": "scatter",
         "x": [
          1.1924880638503055e-8,
          0.6548607349395752
         ],
         "y": [
          -1,
          -0.7557495832443237
         ]
        },
        {
         "mode": "lines",
         "type": "scatter",
         "x": [
          1.1924880638503055e-8,
          0.681418240070343
         ],
         "y": [
          -1,
          -0.7318942546844482
         ]
        },
        {
         "mode": "lines",
         "type": "scatter",
         "x": [
          1.1924880638503055e-8,
          0.7071070075035095
         ],
         "y": [
          -1,
          -0.7071065306663513
         ]
        },
        {
         "mode": "lines",
         "type": "scatter",
         "x": [
          1.1924880638503055e-8,
          0.7318947315216064
         ],
         "y": [
          -1,
          -0.6814177632331848
         ]
        },
        {
         "mode": "lines",
         "type": "scatter",
         "x": [
          1.1924880638503055e-8,
          0.2125653475522995
         ],
         "y": [
          -1,
          -0.9771468639373779
         ]
        },
        {
         "mode": "lines",
         "type": "scatter",
         "x": [
          1.1924880638503055e-8,
          0.9096320867538452
         ],
         "y": [
          -1,
          0.41541481018066406
         ]
        },
        {
         "mode": "lines",
         "type": "scatter",
         "x": [
          1.1924880638503055e-8,
          0.8942251801490784
         ],
         "y": [
          -1,
          0.44761738181114197
         ]
        },
        {
         "mode": "lines",
         "type": "scatter",
         "x": [
          1.1924880638503055e-8,
          0.8776789307594299
         ],
         "y": [
          -1,
          0.47924908995628357
         ]
        },
        {
         "mode": "lines",
         "type": "scatter",
         "x": [
          1.1924880638503055e-8,
          0.8600142002105713
         ],
         "y": [
          -1,
          0.5102700591087341
         ]
        },
        {
         "mode": "lines",
         "type": "scatter",
         "x": [
          1.1924880638503055e-8,
          0.8412535190582275
         ],
         "y": [
          -1,
          0.5406407713890076
         ]
        },
        {
         "mode": "lines",
         "type": "scatter",
         "x": [
          1.1924880638503055e-8,
          -0.7318942546844482
         ],
         "y": [
          -1,
          0.681418240070343
         ]
        },
        {
         "mode": "lines",
         "type": "scatter",
         "x": [
          1.1924880638503055e-8,
          -0.7557498812675476
         ],
         "y": [
          -1,
          0.6548603773117065
         ]
        },
        {
         "mode": "lines",
         "type": "scatter",
         "x": [
          1.1924880638503055e-8,
          -0.7786418199539185
         ],
         "y": [
          -1,
          0.6274687051773071
         ]
        },
        {
         "mode": "lines",
         "type": "scatter",
         "x": [
          1.1924880638503055e-8,
          0.5102696418762207
         ],
         "y": [
          -1,
          0.8600144982337952
         ]
        },
        {
         "mode": "lines",
         "type": "scatter",
         "x": [
          1.1924880638503055e-8,
          0.9238795638084412
         ],
         "y": [
          -1,
          0.38268330693244934
         ]
        },
        {
         "mode": "lines",
         "type": "scatter",
         "x": [
          1.1924880638503055e-8,
          0.8214205503463745
         ],
         "y": [
          -1,
          0.5703229308128357
         ]
        },
        {
         "mode": "lines",
         "type": "scatter",
         "x": [
          1.1924880638503055e-8,
          0.9993628263473511
         ],
         "y": [
          -1,
          -0.03569256514310837
         ]
        },
        {
         "mode": "lines",
         "type": "scatter",
         "x": [
          1.1924880638503055e-8,
          0.8005410432815552
         ],
         "y": [
          -1,
          0.599277913570404
         ]
        },
        {
         "mode": "lines",
         "type": "scatter",
         "x": [
          1.1924880638503055e-8,
          0.47924864292144775
         ],
         "y": [
          -1,
          0.877679169178009
         ]
        },
        {
         "mode": "lines",
         "type": "scatter",
         "x": [
          1.1924880638503055e-8,
          0.7557497024536133
         ],
         "y": [
          -1,
          -0.6548605561256409
         ]
        },
        {
         "mode": "lines",
         "type": "scatter",
         "x": [
          1.1924880638503055e-8,
          -0.3826838731765747
         ],
         "y": [
          -1,
          0.9238793253898621
         ]
        },
        {
         "mode": "lines",
         "type": "scatter",
         "x": [
          1.1924880638503055e-8,
          0.9898213744163513
         ],
         "y": [
          -1,
          0.14231520891189575
         ]
        },
        {
         "mode": "lines",
         "type": "scatter",
         "x": [
          1.1924880638503055e-8,
          -0.41541537642478943
         ],
         "y": [
          -1,
          0.9096318483352661
         ]
        },
        {
         "mode": "lines",
         "type": "scatter",
         "x": [
          1.1924880638503055e-8,
          0.44761693477630615
         ],
         "y": [
          -1,
          0.8942254185676575
         ]
        },
        {
         "mode": "lines",
         "type": "scatter",
         "x": [
          1.1924880638503055e-8,
          -0.4476175308227539
         ],
         "y": [
          -1,
          0.8942251205444336
         ]
        },
        {
         "mode": "lines",
         "type": "scatter",
         "x": [
          1.1924880638503055e-8,
          0.38268327713012695
         ],
         "y": [
          -1,
          0.9238796234130859
         ]
        },
        {
         "mode": "lines",
         "type": "scatter",
         "x": [
          1.1924880638503055e-8,
          0.34946408867836
         ],
         "y": [
          -1,
          0.9369497299194336
         ]
        },
        {
         "mode": "lines",
         "type": "scatter",
         "x": [
          1.1924880638503055e-8,
          -0.4792492091655731
         ],
         "y": [
          -1,
          0.8776788711547852
         ]
        },
        {
         "mode": "lines",
         "type": "scatter",
         "x": [
          1.1924880638503055e-8,
          -0.5102702379226685
         ],
         "y": [
          -1,
          0.8600141406059265
         ]
        },
        {
         "mode": "lines",
         "type": "scatter",
         "x": [
          1.1924880638503055e-8,
          0.3157995641231537
         ],
         "y": [
          -1,
          0.9488259553909302
         ]
        },
        {
         "mode": "lines",
         "type": "scatter",
         "x": [
          1.1924880638503055e-8,
          0.8214207887649536
         ],
         "y": [
          -1,
          -0.5703226327896118
         ]
        },
        {
         "mode": "lines",
         "type": "scatter",
         "x": [
          1.1924880638503055e-8,
          0.9993628263473511
         ],
         "y": [
          -1,
          0.03569243848323822
         ]
        },
        {
         "mode": "lines",
         "type": "scatter",
         "x": [
          1.1924880638503055e-8,
          -0.5406409502029419
         ],
         "y": [
          -1,
          0.8412534594535828
         ]
        },
        {
         "mode": "lines",
         "type": "scatter",
         "x": [
          1.1924880638503055e-8,
          0.5102699398994446
         ],
         "y": [
          -1,
          -0.8600143194198608
         ]
        },
        {
         "mode": "lines",
         "type": "scatter",
         "x": [
          1.1924880638503055e-8,
          0.778641402721405
         ],
         "y": [
          -1,
          0.6274691820144653
         ]
        },
        {
         "mode": "lines",
         "type": "scatter",
         "x": [
          1.1924880638503055e-8,
          -0.5703226923942566
         ],
         "y": [
          -1,
          0.8214207291603088
         ]
        },
        {
         "mode": "lines",
         "type": "scatter",
         "x": [
          1.1924880638503055e-8,
          0.1775534451007843
         ],
         "y": [
          -1,
          0.9841111302375793
         ]
        },
        {
         "mode": "lines",
         "type": "scatter",
         "x": [
          1.1924880638503055e-8,
          -0.6274689435958862
         ],
         "y": [
          -1,
          0.7786415815353394
         ]
        },
        {
         "mode": "lines",
         "type": "scatter",
         "x": [
          1.1924880638503055e-8,
          -0.6548606157302856
         ],
         "y": [
          -1,
          0.7557497024536133
         ]
        },
        {
         "mode": "lines",
         "type": "scatter",
         "x": [
          1.1924880638503055e-8,
          0.7557494640350342
         ],
         "y": [
          -1,
          0.6548608541488647
         ]
        },
        {
         "mode": "lines",
         "type": "scatter",
         "x": [
          1.1924880638503055e-8,
          -0.6814177632331848
         ],
         "y": [
          -1,
          0.7318946719169617
         ]
        },
        {
         "mode": "lines",
         "type": "scatter",
         "x": [
          1.1924880638503055e-8,
          -3.3776623808989825e-7
         ],
         "y": [
          -1,
          1
         ]
        },
        {
         "mode": "lines",
         "type": "scatter",
         "x": [
          1.1924880638503055e-8,
          0.9841111302375793
         ],
         "y": [
          -1,
          0.17755348980426788
         ]
        },
        {
         "mode": "lines",
         "type": "scatter",
         "x": [
          1.1924880638503055e-8,
          0.9771468043327332
         ],
         "y": [
          -1,
          0.21256551146507263
         ]
        },
        {
         "mode": "lines",
         "type": "scatter",
         "x": [
          0.03569227457046509,
          0.17755332589149475
         ],
         "y": [
          -0.9993628263473511,
          -0.9841111898422241
         ]
        },
        {
         "mode": "lines",
         "type": "scatter",
         "x": [
          0.03569227457046509,
          0.2125653475522995
         ],
         "y": [
          -0.9993628263473511,
          -0.9771468639373779
         ]
        },
        {
         "mode": "lines",
         "type": "scatter",
         "x": [
          0.03569227457046509,
          0.2473064810037613
         ],
         "y": [
          -0.9993628263473511,
          -0.9689372777938843
         ]
        },
        {
         "mode": "lines",
         "type": "scatter",
         "x": [
          0.03569227457046509,
          0.5102699398994446
         ],
         "y": [
          -0.9993628263473511,
          -0.8600143194198608
         ]
        },
        {
         "mode": "lines",
         "type": "scatter",
         "x": [
          0.03569227457046509,
          0.07133905589580536
         ],
         "y": [
          -0.9993628263473511,
          -0.9974521398544312
         ]
        },
        {
         "mode": "lines",
         "type": "scatter",
         "x": [
          0.03569227457046509,
          0.10689491778612137
         ],
         "y": [
          -0.9993628263473511,
          -0.9942703247070312
         ]
        },
        {
         "mode": "lines",
         "type": "scatter",
         "x": [
          0.03569227457046509,
          0.14231504499912262
         ],
         "y": [
          -0.9993628263473511,
          -0.9898214340209961
         ]
        },
        {
         "mode": "lines",
         "type": "scatter",
         "x": [
          0.03569227457046509,
          0.9488258957862854
         ],
         "y": [
          -0.9993628263473511,
          0.3157995939254761
         ]
        },
        {
         "mode": "lines",
         "type": "scatter",
         "x": [
          0.03569227457046509,
          0.9369497299194336
         ],
         "y": [
          -0.9993628263473511,
          0.3494641184806824
         ]
        },
        {
         "mode": "lines",
         "type": "scatter",
         "x": [
          0.07133905589580536,
          0.2817324697971344
         ],
         "y": [
          -0.9974521398544312,
          -0.9594929814338684
         ]
        },
        {
         "mode": "lines",
         "type": "scatter",
         "x": [
          0.07133905589580536,
          0.31579986214637756
         ],
         "y": [
          -0.9974521398544312,
          -0.9488258361816406
         ]
        },
        {
         "mode": "lines",
         "type": "scatter",
         "x": [
          0.07133905589580536,
          0.34946438670158386
         ],
         "y": [
          -0.9974521398544312,
          -0.9369496703147888
         ]
        },
        {
         "mode": "lines",
         "type": "scatter",
         "x": [
          0.07133905589580536,
          0.38268357515335083
         ],
         "y": [
          -0.9974521398544312,
          -0.9238794445991516
         ]
        },
        {
         "mode": "lines",
         "type": "scatter",
         "x": [
          0.07133905589580536,
          0.7786415815353394
         ],
         "y": [
          -0.9974521398544312,
          -0.6274688839912415
         ]
        },
        {
         "mode": "lines",
         "type": "scatter",
         "x": [
          0.07133905589580536,
          -0.5406409502029419
         ],
         "y": [
          -0.9974521398544312,
          0.8412534594535828
         ]
        },
        {
         "mode": "lines",
         "type": "scatter",
         "x": [
          0.07133905589580536,
          0.5102699398994446
         ],
         "y": [
          -0.9974521398544312,
          -0.8600143194198608
         ]
        },
        {
         "mode": "lines",
         "type": "scatter",
         "x": [
          0.07133905589580536,
          0.10689491778612137
         ],
         "y": [
          -0.9974521398544312,
          -0.9942703247070312
         ]
        },
        {
         "mode": "lines",
         "type": "scatter",
         "x": [
          0.07133905589580536,
          0.14231504499912262
         ],
         "y": [
          -0.9974521398544312,
          -0.9898214340209961
         ]
        },
        {
         "mode": "lines",
         "type": "scatter",
         "x": [
          0.07133905589580536,
          0.9488258957862854
         ],
         "y": [
          -0.9974521398544312,
          0.3157995939254761
         ]
        },
        {
         "mode": "lines",
         "type": "scatter",
         "x": [
          0.07133905589580536,
          0.9369497299194336
         ],
         "y": [
          -0.9974521398544312,
          0.3494641184806824
         ]
        },
        {
         "mode": "lines",
         "type": "scatter",
         "x": [
          0.10689491778612137,
          0.7557497024536133
         ],
         "y": [
          -0.9942703247070312,
          -0.6548605561256409
         ]
        },
        {
         "mode": "lines",
         "type": "scatter",
         "x": [
          0.10689491778612137,
          -0.1775531768798828
         ],
         "y": [
          -0.9942703247070312,
          0.9841111898422241
         ]
        },
        {
         "mode": "lines",
         "type": "scatter",
         "x": [
          0.10689491778612137,
          0.14231504499912262
         ],
         "y": [
          -0.9942703247070312,
          -0.9898214340209961
         ]
        },
        {
         "mode": "lines",
         "type": "scatter",
         "x": [
          0.10689491778612137,
          0.9488258957862854
         ],
         "y": [
          -0.9942703247070312,
          0.3157995939254761
         ]
        },
        {
         "mode": "lines",
         "type": "scatter",
         "x": [
          0.10689491778612137,
          0.9369497299194336
         ],
         "y": [
          -0.9942703247070312,
          0.3494641184806824
         ]
        },
        {
         "mode": "lines",
         "type": "scatter",
         "x": [
          0.14231504499912262,
          0.9488258957862854
         ],
         "y": [
          -0.9898214340209961,
          0.3157995939254761
         ]
        },
        {
         "mode": "lines",
         "type": "scatter",
         "x": [
          0.14231504499912262,
          0.9369497299194336
         ],
         "y": [
          -0.9898214340209961,
          0.3494641184806824
         ]
        },
        {
         "mode": "lines",
         "type": "scatter",
         "x": [
          0.17755332589149475,
          0.5992777943611145
         ],
         "y": [
          -0.9841111898422241,
          -0.8005411624908447
         ]
        },
        {
         "mode": "lines",
         "type": "scatter",
         "x": [
          0.17755332589149475,
          0.6274690628051758
         ],
         "y": [
          -0.9841111898422241,
          -0.7786415219306946
         ]
        },
        {
         "mode": "lines",
         "type": "scatter",
         "x": [
          0.17755332589149475,
          0.6548607349395752
         ],
         "y": [
          -0.9841111898422241,
          -0.7557495832443237
         ]
        },
        {
         "mode": "lines",
         "type": "scatter",
         "x": [
          0.17755332589149475,
          0.681418240070343
         ],
         "y": [
          -0.9841111898422241,
          -0.7318942546844482
         ]
        },
        {
         "mode": "lines",
         "type": "scatter",
         "x": [
          0.17755332589149475,
          0.7071070075035095
         ],
         "y": [
          -0.9841111898422241,
          -0.7071065306663513
         ]
        },
        {
         "mode": "lines",
         "type": "scatter",
         "x": [
          0.17755332589149475,
          0.7318947315216064
         ],
         "y": [
          -0.9841111898422241,
          -0.6814177632331848
         ]
        },
        {
         "mode": "lines",
         "type": "scatter",
         "x": [
          0.17755332589149475,
          0.2125653475522995
         ],
         "y": [
          -0.9841111898422241,
          -0.9771468639373779
         ]
        },
        {
         "mode": "lines",
         "type": "scatter",
         "x": [
          0.17755332589149475,
          0.2473064810037613
         ],
         "y": [
          -0.9841111898422241,
          -0.9689372777938843
         ]
        },
        {
         "mode": "lines",
         "type": "scatter",
         "x": [
          0.17755332589149475,
          0.2817324697971344
         ],
         "y": [
          -0.9841111898422241,
          -0.9594929814338684
         ]
        },
        {
         "mode": "lines",
         "type": "scatter",
         "x": [
          0.17755332589149475,
          0.31579986214637756
         ],
         "y": [
          -0.9841111898422241,
          -0.9488258361816406
         ]
        },
        {
         "mode": "lines",
         "type": "scatter",
         "x": [
          0.17755332589149475,
          0.34946438670158386
         ],
         "y": [
          -0.9841111898422241,
          -0.9369496703147888
         ]
        },
        {
         "mode": "lines",
         "type": "scatter",
         "x": [
          0.17755332589149475,
          0.38268357515335083
         ],
         "y": [
          -0.9841111898422241,
          -0.9238794445991516
         ]
        },
        {
         "mode": "lines",
         "type": "scatter",
         "x": [
          0.17755332589149475,
          0.9594930410385132
         ],
         "y": [
          -0.9841111898422241,
          -0.2817322909832001
         ]
        },
        {
         "mode": "lines",
         "type": "scatter",
         "x": [
          0.17755332589149475,
          -0.3826838731765747
         ],
         "y": [
          -0.9841111898422241,
          0.9238793253898621
         ]
        },
        {
         "mode": "lines",
         "type": "scatter",
         "x": [
          0.17755332589149475,
          0.9898213744163513
         ],
         "y": [
          -0.9841111898422241,
          0.14231520891189575
         ]
        },
        {
         "mode": "lines",
         "type": "scatter",
         "x": [
          0.17755332589149475,
          -0.41541537642478943
         ],
         "y": [
          -0.9841111898422241,
          0.9096318483352661
         ]
        },
        {
         "mode": "lines",
         "type": "scatter",
         "x": [
          0.17755332589149475,
          0.44761693477630615
         ],
         "y": [
          -0.9841111898422241,
          0.8942254185676575
         ]
        },
        {
         "mode": "lines",
         "type": "scatter",
         "x": [
          0.17755332589149475,
          -0.4476175308227539
         ],
         "y": [
          -0.9841111898422241,
          0.8942251205444336
         ]
        },
        {
         "mode": "lines",
         "type": "scatter",
         "x": [
          0.17755332589149475,
          0.38268327713012695
         ],
         "y": [
          -0.9841111898422241,
          0.9238796234130859
         ]
        },
        {
         "mode": "lines",
         "type": "scatter",
         "x": [
          0.17755332589149475,
          0.34946408867836
         ],
         "y": [
          -0.9841111898422241,
          0.9369497299194336
         ]
        },
        {
         "mode": "lines",
         "type": "scatter",
         "x": [
          0.17755332589149475,
          -0.4792492091655731
         ],
         "y": [
          -0.9841111898422241,
          0.8776788711547852
         ]
        },
        {
         "mode": "lines",
         "type": "scatter",
         "x": [
          0.17755332589149475,
          -0.5102702379226685
         ],
         "y": [
          -0.9841111898422241,
          0.8600141406059265
         ]
        },
        {
         "mode": "lines",
         "type": "scatter",
         "x": [
          0.17755332589149475,
          0.3157995641231537
         ],
         "y": [
          -0.9841111898422241,
          0.9488259553909302
         ]
        },
        {
         "mode": "lines",
         "type": "scatter",
         "x": [
          0.17755332589149475,
          -0.5406409502029419
         ],
         "y": [
          -0.9841111898422241,
          0.8412534594535828
         ]
        },
        {
         "mode": "lines",
         "type": "scatter",
         "x": [
          0.17755332589149475,
          0.5102699398994446
         ],
         "y": [
          -0.9841111898422241,
          -0.8600143194198608
         ]
        },
        {
         "mode": "lines",
         "type": "scatter",
         "x": [
          0.17755332589149475,
          0.778641402721405
         ],
         "y": [
          -0.9841111898422241,
          0.6274691820144653
         ]
        },
        {
         "mode": "lines",
         "type": "scatter",
         "x": [
          0.17755332589149475,
          -0.5703226923942566
         ],
         "y": [
          -0.9841111898422241,
          0.8214207291603088
         ]
        },
        {
         "mode": "lines",
         "type": "scatter",
         "x": [
          0.17755332589149475,
          -0.599277675151825
         ],
         "y": [
          -0.9841111898422241,
          0.8005412220954895
         ]
        },
        {
         "mode": "lines",
         "type": "scatter",
         "x": [
          0.17755332589149475,
          0.1775534451007843
         ],
         "y": [
          -0.9841111898422241,
          0.9841111302375793
         ]
        },
        {
         "mode": "lines",
         "type": "scatter",
         "x": [
          0.17755332589149475,
          -0.6814177632331848
         ],
         "y": [
          -0.9841111898422241,
          0.7318946719169617
         ]
        },
        {
         "mode": "lines",
         "type": "scatter",
         "x": [
          0.17755332589149475,
          0.9841111302375793
         ],
         "y": [
          -0.9841111898422241,
          0.17755348980426788
         ]
        },
        {
         "mode": "lines",
         "type": "scatter",
         "x": [
          0.17755332589149475,
          0.9771468043327332
         ],
         "y": [
          -0.9841111898422241,
          0.21256551146507263
         ]
        },
        {
         "mode": "lines",
         "type": "scatter",
         "x": [
          0.17755332589149475,
          0.9689372777938843
         ],
         "y": [
          -0.9841111898422241,
          0.24730664491653442
         ]
        },
        {
         "mode": "lines",
         "type": "scatter",
         "x": [
          0.17755332589149475,
          0.9594929218292236
         ],
         "y": [
          -0.9841111898422241,
          0.28173261880874634
         ]
        },
        {
         "mode": "lines",
         "type": "scatter",
         "x": [
          0.17755332589149475,
          -0.1775531768798828
         ],
         "y": [
          -0.9841111898422241,
          0.9841111898422241
         ]
        },
        {
         "mode": "lines",
         "type": "scatter",
         "x": [
          0.2125653475522995,
          0.2473064810037613
         ],
         "y": [
          -0.9771468639373779,
          -0.9689372777938843
         ]
        },
        {
         "mode": "lines",
         "type": "scatter",
         "x": [
          0.2125653475522995,
          0.2817324697971344
         ],
         "y": [
          -0.9771468639373779,
          -0.9594929814338684
         ]
        },
        {
         "mode": "lines",
         "type": "scatter",
         "x": [
          0.2125653475522995,
          0.31579986214637756
         ],
         "y": [
          -0.9771468639373779,
          -0.9488258361816406
         ]
        },
        {
         "mode": "lines",
         "type": "scatter",
         "x": [
          0.2125653475522995,
          0.34946438670158386
         ],
         "y": [
          -0.9771468639373779,
          -0.9369496703147888
         ]
        },
        {
         "mode": "lines",
         "type": "scatter",
         "x": [
          0.2125653475522995,
          0.9238795638084412
         ],
         "y": [
          -0.9771468639373779,
          0.38268330693244934
         ]
        },
        {
         "mode": "lines",
         "type": "scatter",
         "x": [
          0.2125653475522995,
          0.8214205503463745
         ],
         "y": [
          -0.9771468639373779,
          0.5703229308128357
         ]
        },
        {
         "mode": "lines",
         "type": "scatter",
         "x": [
          0.2125653475522995,
          0.9993628263473511
         ],
         "y": [
          -0.9771468639373779,
          -0.03569256514310837
         ]
        },
        {
         "mode": "lines",
         "type": "scatter",
         "x": [
          0.2125653475522995,
          0.8005410432815552
         ],
         "y": [
          -0.9771468639373779,
          0.599277913570404
         ]
        },
        {
         "mode": "lines",
         "type": "scatter",
         "x": [
          0.2125653475522995,
          0.9238795638084412
         ],
         "y": [
          -0.9771468639373779,
          -0.3826834261417389
         ]
        },
        {
         "mode": "lines",
         "type": "scatter",
         "x": [
          0.2125653475522995,
          0.9594930410385132
         ],
         "y": [
          -0.9771468639373779,
          -0.2817322909832001
         ]
        },
        {
         "mode": "lines",
         "type": "scatter",
         "x": [
          0.2125653475522995,
          0.7557497024536133
         ],
         "y": [
          -0.9771468639373779,
          -0.6548605561256409
         ]
        },
        {
         "mode": "lines",
         "type": "scatter",
         "x": [
          0.2125653475522995,
          0.9898213744163513
         ],
         "y": [
          -0.9771468639373779,
          0.14231520891189575
         ]
        },
        {
         "mode": "lines",
         "type": "scatter",
         "x": [
          0.2125653475522995,
          0.44761693477630615
         ],
         "y": [
          -0.9771468639373779,
          0.8942254185676575
         ]
        },
        {
         "mode": "lines",
         "type": "scatter",
         "x": [
          0.2125653475522995,
          0.38268327713012695
         ],
         "y": [
          -0.9771468639373779,
          0.9238796234130859
         ]
        },
        {
         "mode": "lines",
         "type": "scatter",
         "x": [
          0.2125653475522995,
          0.34946408867836
         ],
         "y": [
          -0.9771468639373779,
          0.9369497299194336
         ]
        },
        {
         "mode": "lines",
         "type": "scatter",
         "x": [
          0.2125653475522995,
          -0.4792492091655731
         ],
         "y": [
          -0.9771468639373779,
          0.8776788711547852
         ]
        },
        {
         "mode": "lines",
         "type": "scatter",
         "x": [
          0.2125653475522995,
          -0.5102702379226685
         ],
         "y": [
          -0.9771468639373779,
          0.8600141406059265
         ]
        },
        {
         "mode": "lines",
         "type": "scatter",
         "x": [
          0.2125653475522995,
          0.9993628263473511
         ],
         "y": [
          -0.9771468639373779,
          0.03569243848323822
         ]
        },
        {
         "mode": "lines",
         "type": "scatter",
         "x": [
          0.2125653475522995,
          -0.5406409502029419
         ],
         "y": [
          -0.9771468639373779,
          0.8412534594535828
         ]
        },
        {
         "mode": "lines",
         "type": "scatter",
         "x": [
          0.2125653475522995,
          0.5102699398994446
         ],
         "y": [
          -0.9771468639373779,
          -0.8600143194198608
         ]
        },
        {
         "mode": "lines",
         "type": "scatter",
         "x": [
          0.2125653475522995,
          0.778641402721405
         ],
         "y": [
          -0.9771468639373779,
          0.6274691820144653
         ]
        },
        {
         "mode": "lines",
         "type": "scatter",
         "x": [
          0.2125653475522995,
          -0.5703226923942566
         ],
         "y": [
          -0.9771468639373779,
          0.8214207291603088
         ]
        },
        {
         "mode": "lines",
         "type": "scatter",
         "x": [
          0.2125653475522995,
          -0.6274689435958862
         ],
         "y": [
          -0.9771468639373779,
          0.7786415815353394
         ]
        },
        {
         "mode": "lines",
         "type": "scatter",
         "x": [
          0.2125653475522995,
          -0.6548606157302856
         ],
         "y": [
          -0.9771468639373779,
          0.7557497024536133
         ]
        },
        {
         "mode": "lines",
         "type": "scatter",
         "x": [
          0.2125653475522995,
          -0.6814177632331848
         ],
         "y": [
          -0.9771468639373779,
          0.7318946719169617
         ]
        },
        {
         "mode": "lines",
         "type": "scatter",
         "x": [
          0.2125653475522995,
          0.9841111302375793
         ],
         "y": [
          -0.9771468639373779,
          0.17755348980426788
         ]
        },
        {
         "mode": "lines",
         "type": "scatter",
         "x": [
          0.2125653475522995,
          0.9771468043327332
         ],
         "y": [
          -0.9771468639373779,
          0.21256551146507263
         ]
        },
        {
         "mode": "lines",
         "type": "scatter",
         "x": [
          0.2125653475522995,
          0.9689372777938843
         ],
         "y": [
          -0.9771468639373779,
          0.24730664491653442
         ]
        },
        {
         "mode": "lines",
         "type": "scatter",
         "x": [
          0.2125653475522995,
          0.9594929218292236
         ],
         "y": [
          -0.9771468639373779,
          0.28173261880874634
         ]
        },
        {
         "mode": "lines",
         "type": "scatter",
         "x": [
          0.2125653475522995,
          -0.24730634689331055
         ],
         "y": [
          -0.9771468639373779,
          0.968937337398529
         ]
        },
        {
         "mode": "lines",
         "type": "scatter",
         "x": [
          0.2473064810037613,
          0.5406403541564941
         ],
         "y": [
          -0.9689372777938843,
          0.8412538170814514
         ]
        },
        {
         "mode": "lines",
         "type": "scatter",
         "x": [
          0.2473064810037613,
          0.2817324697971344
         ],
         "y": [
          -0.9689372777938843,
          -0.9594929814338684
         ]
        },
        {
         "mode": "lines",
         "type": "scatter",
         "x": [
          0.2473064810037613,
          0.31579986214637756
         ],
         "y": [
          -0.9689372777938843,
          -0.9488258361816406
         ]
        },
        {
         "mode": "lines",
         "type": "scatter",
         "x": [
          0.2473064810037613,
          0.34946438670158386
         ],
         "y": [
          -0.9689372777938843,
          -0.9369496703147888
         ]
        },
        {
         "mode": "lines",
         "type": "scatter",
         "x": [
          0.2473064810037613,
          0.38268357515335083
         ],
         "y": [
          -0.9689372777938843,
          -0.9238794445991516
         ]
        },
        {
         "mode": "lines",
         "type": "scatter",
         "x": [
          0.2473064810037613,
          0.41541510820388794
         ],
         "y": [
          -0.9689372777938843,
          -0.9096319675445557
         ]
        },
        {
         "mode": "lines",
         "type": "scatter",
         "x": [
          0.2473064810037613,
          0.44761723279953003
         ],
         "y": [
          -0.9689372777938843,
          -0.8942252397537231
         ]
        },
        {
         "mode": "lines",
         "type": "scatter",
         "x": [
          0.2473064810037613,
          0.47924894094467163
         ],
         "y": [
          -0.9689372777938843,
          -0.8776789903640747
         ]
        },
        {
         "mode": "lines",
         "type": "scatter",
         "x": [
          0.2473064810037613,
          0.9238795638084412
         ],
         "y": [
          -0.9689372777938843,
          -0.3826834261417389
         ]
        },
        {
         "mode": "lines",
         "type": "scatter",
         "x": [
          0.2473064810037613,
          0.9369498491287231
         ],
         "y": [
          -0.9689372777938843,
          -0.3494637906551361
         ]
        },
        {
         "mode": "lines",
         "type": "scatter",
         "x": [
          0.2473064810037613,
          0.9594930410385132
         ],
         "y": [
          -0.9689372777938843,
          -0.2817322909832001
         ]
        },
        {
         "mode": "lines",
         "type": "scatter",
         "x": [
          0.2473064810037613,
          0.7557497024536133
         ],
         "y": [
          -0.9689372777938843,
          -0.6548605561256409
         ]
        },
        {
         "mode": "lines",
         "type": "scatter",
         "x": [
          0.2473064810037613,
          -0.3826838731765747
         ],
         "y": [
          -0.9689372777938843,
          0.9238793253898621
         ]
        },
        {
         "mode": "lines",
         "type": "scatter",
         "x": [
          0.2473064810037613,
          0.9898213744163513
         ],
         "y": [
          -0.9689372777938843,
          0.14231520891189575
         ]
        },
        {
         "mode": "lines",
         "type": "scatter",
         "x": [
          0.2473064810037613,
          -0.41541537642478943
         ],
         "y": [
          -0.9689372777938843,
          0.9096318483352661
         ]
        },
        {
         "mode": "lines",
         "type": "scatter",
         "x": [
          0.2473064810037613,
          0.44761693477630615
         ],
         "y": [
          -0.9689372777938843,
          0.8942254185676575
         ]
        },
        {
         "mode": "lines",
         "type": "scatter",
         "x": [
          0.2473064810037613,
          -0.4476175308227539
         ],
         "y": [
          -0.9689372777938843,
          0.8942251205444336
         ]
        },
        {
         "mode": "lines",
         "type": "scatter",
         "x": [
          0.2473064810037613,
          0.38268327713012695
         ],
         "y": [
          -0.9689372777938843,
          0.9238796234130859
         ]
        },
        {
         "mode": "lines",
         "type": "scatter",
         "x": [
          0.2473064810037613,
          0.34946408867836
         ],
         "y": [
          -0.9689372777938843,
          0.9369497299194336
         ]
        },
        {
         "mode": "lines",
         "type": "scatter",
         "x": [
          0.2473064810037613,
          -0.4792492091655731
         ],
         "y": [
          -0.9689372777938843,
          0.8776788711547852
         ]
        },
        {
         "mode": "lines",
         "type": "scatter",
         "x": [
          0.2473064810037613,
          0.9974520802497864
         ],
         "y": [
          -0.9689372777938843,
          -0.07133934646844864
         ]
        },
        {
         "mode": "lines",
         "type": "scatter",
         "x": [
          0.2473064810037613,
          -0.5406409502029419
         ],
         "y": [
          -0.9689372777938843,
          0.8412534594535828
         ]
        },
        {
         "mode": "lines",
         "type": "scatter",
         "x": [
          0.2473064810037613,
          0.5102699398994446
         ],
         "y": [
          -0.9689372777938843,
          -0.8600143194198608
         ]
        },
        {
         "mode": "lines",
         "type": "scatter",
         "x": [
          0.2473064810037613,
          0.778641402721405
         ],
         "y": [
          -0.9689372777938843,
          0.6274691820144653
         ]
        },
        {
         "mode": "lines",
         "type": "scatter",
         "x": [
          0.2473064810037613,
          -0.6274689435958862
         ],
         "y": [
          -0.9689372777938843,
          0.7786415815353394
         ]
        },
        {
         "mode": "lines",
         "type": "scatter",
         "x": [
          0.2473064810037613,
          -0.6548606157302856
         ],
         "y": [
          -0.9689372777938843,
          0.7557497024536133
         ]
        },
        {
         "mode": "lines",
         "type": "scatter",
         "x": [
          0.2473064810037613,
          -0.6814177632331848
         ],
         "y": [
          -0.9689372777938843,
          0.7318946719169617
         ]
        },
        {
         "mode": "lines",
         "type": "scatter",
         "x": [
          0.2473064810037613,
          -3.3776623808989825e-7
         ],
         "y": [
          -0.9689372777938843,
          1
         ]
        },
        {
         "mode": "lines",
         "type": "scatter",
         "x": [
          0.2473064810037613,
          0.9841111302375793
         ],
         "y": [
          -0.9689372777938843,
          0.17755348980426788
         ]
        },
        {
         "mode": "lines",
         "type": "scatter",
         "x": [
          0.2473064810037613,
          0.9771468043327332
         ],
         "y": [
          -0.9689372777938843,
          0.21256551146507263
         ]
        },
        {
         "mode": "lines",
         "type": "scatter",
         "x": [
          0.2473064810037613,
          0.9689372777938843
         ],
         "y": [
          -0.9689372777938843,
          0.24730664491653442
         ]
        },
        {
         "mode": "lines",
         "type": "scatter",
         "x": [
          0.2473064810037613,
          0.9594929218292236
         ],
         "y": [
          -0.9689372777938843,
          0.28173261880874634
         ]
        },
        {
         "mode": "lines",
         "type": "scatter",
         "x": [
          0.2817324697971344,
          0.31579986214637756
         ],
         "y": [
          -0.9594929814338684,
          -0.9488258361816406
         ]
        },
        {
         "mode": "lines",
         "type": "scatter",
         "x": [
          0.2817324697971344,
          0.34946438670158386
         ],
         "y": [
          -0.9594929814338684,
          -0.9369496703147888
         ]
        },
        {
         "mode": "lines",
         "type": "scatter",
         "x": [
          0.2817324697971344,
          0.38268357515335083
         ],
         "y": [
          -0.9594929814338684,
          -0.9238794445991516
         ]
        },
        {
         "mode": "lines",
         "type": "scatter",
         "x": [
          0.2817324697971344,
          -0.8005414605140686
         ],
         "y": [
          -0.9594929814338684,
          0.5992773771286011
         ]
        },
        {
         "mode": "lines",
         "type": "scatter",
         "x": [
          0.2817324697971344,
          0.9096320271492004
         ],
         "y": [
          -0.9594929814338684,
          -0.4154149293899536
         ]
        },
        {
         "mode": "lines",
         "type": "scatter",
         "x": [
          0.2817324697971344,
          -0.3494638204574585
         ],
         "y": [
          -0.9594929814338684,
          0.9369498491287231
         ]
        },
        {
         "mode": "lines",
         "type": "scatter",
         "x": [
          0.2817324697971344,
          0.5102696418762207
         ],
         "y": [
          -0.9594929814338684,
          0.8600144982337952
         ]
        },
        {
         "mode": "lines",
         "type": "scatter",
         "x": [
          0.2817324697971344,
          0.9993628263473511
         ],
         "y": [
          -0.9594929814338684,
          -0.03569256514310837
         ]
        },
        {
         "mode": "lines",
         "type": "scatter",
         "x": [
          0.2817324697971344,
          0.9594930410385132
         ],
         "y": [
          -0.9594929814338684,
          -0.2817322909832001
         ]
        },
        {
         "mode": "lines",
         "type": "scatter",
         "x": [
          0.2817324697971344,
          -0.4792492091655731
         ],
         "y": [
          -0.9594929814338684,
          0.8776788711547852
         ]
        },
        {
         "mode": "lines",
         "type": "scatter",
         "x": [
          0.2817324697971344,
          0.9993628263473511
         ],
         "y": [
          -0.9594929814338684,
          0.03569243848323822
         ]
        },
        {
         "mode": "lines",
         "type": "scatter",
         "x": [
          0.2817324697971344,
          -0.5406409502029419
         ],
         "y": [
          -0.9594929814338684,
          0.8412534594535828
         ]
        },
        {
         "mode": "lines",
         "type": "scatter",
         "x": [
          0.2817324697971344,
          0.5102699398994446
         ],
         "y": [
          -0.9594929814338684,
          -0.8600143194198608
         ]
        },
        {
         "mode": "lines",
         "type": "scatter",
         "x": [
          0.2817324697971344,
          0.9771468043327332
         ],
         "y": [
          -0.9594929814338684,
          0.21256551146507263
         ]
        },
        {
         "mode": "lines",
         "type": "scatter",
         "x": [
          0.31579986214637756,
          0.34946438670158386
         ],
         "y": [
          -0.9488258361816406,
          -0.9369496703147888
         ]
        },
        {
         "mode": "lines",
         "type": "scatter",
         "x": [
          0.31579986214637756,
          0.38268357515335083
         ],
         "y": [
          -0.9488258361816406,
          -0.9238794445991516
         ]
        },
        {
         "mode": "lines",
         "type": "scatter",
         "x": [
          0.31579986214637756,
          -0.8005414605140686
         ],
         "y": [
          -0.9488258361816406,
          0.5992773771286011
         ]
        },
        {
         "mode": "lines",
         "type": "scatter",
         "x": [
          0.31579986214637756,
          0.9096320271492004
         ],
         "y": [
          -0.9488258361816406,
          -0.4154149293899536
         ]
        },
        {
         "mode": "lines",
         "type": "scatter",
         "x": [
          0.31579986214637756,
          -0.3494638204574585
         ],
         "y": [
          -0.9488258361816406,
          0.9369498491287231
         ]
        },
        {
         "mode": "lines",
         "type": "scatter",
         "x": [
          0.31579986214637756,
          -0.7318942546844482
         ],
         "y": [
          -0.9488258361816406,
          0.681418240070343
         ]
        },
        {
         "mode": "lines",
         "type": "scatter",
         "x": [
          0.31579986214637756,
          -0.7557498812675476
         ],
         "y": [
          -0.9488258361816406,
          0.6548603773117065
         ]
        },
        {
         "mode": "lines",
         "type": "scatter",
         "x": [
          0.31579986214637756,
          -0.7786418199539185
         ],
         "y": [
          -0.9488258361816406,
          0.6274687051773071
         ]
        },
        {
         "mode": "lines",
         "type": "scatter",
         "x": [
          0.31579986214637756,
          0.5102696418762207
         ],
         "y": [
          -0.9488258361816406,
          0.8600144982337952
         ]
        },
        {
         "mode": "lines",
         "type": "scatter",
         "x": [
          0.31579986214637756,
          0.9238795638084412
         ],
         "y": [
          -0.9488258361816406,
          0.38268330693244934
         ]
        },
        {
         "mode": "lines",
         "type": "scatter",
         "x": [
          0.31579986214637756,
          0.8214205503463745
         ],
         "y": [
          -0.9488258361816406,
          0.5703229308128357
         ]
        },
        {
         "mode": "lines",
         "type": "scatter",
         "x": [
          0.31579986214637756,
          0.9993628263473511
         ],
         "y": [
          -0.9488258361816406,
          -0.03569256514310837
         ]
        },
        {
         "mode": "lines",
         "type": "scatter",
         "x": [
          0.31579986214637756,
          0.8005410432815552
         ],
         "y": [
          -0.9488258361816406,
          0.599277913570404
         ]
        },
        {
         "mode": "lines",
         "type": "scatter",
         "x": [
          0.31579986214637756,
          0.41541510820388794
         ],
         "y": [
          -0.9488258361816406,
          -0.9096319675445557
         ]
        },
        {
         "mode": "lines",
         "type": "scatter",
         "x": [
          0.31579986214637756,
          0.44761723279953003
         ],
         "y": [
          -0.9488258361816406,
          -0.8942252397537231
         ]
        },
        {
         "mode": "lines",
         "type": "scatter",
         "x": [
          0.31579986214637756,
          0.47924894094467163
         ],
         "y": [
          -0.9488258361816406,
          -0.8776789903640747
         ]
        },
        {
         "mode": "lines",
         "type": "scatter",
         "x": [
          0.31579986214637756,
          0.948826014995575
         ],
         "y": [
          -0.9488258361816406,
          -0.3157992660999298
         ]
        },
        {
         "mode": "lines",
         "type": "scatter",
         "x": [
          0.31579986214637756,
          0.9594930410385132
         ],
         "y": [
          -0.9488258361816406,
          -0.2817322909832001
         ]
        },
        {
         "mode": "lines",
         "type": "scatter",
         "x": [
          0.31579986214637756,
          0.968937337398529
         ],
         "y": [
          -0.9488258361816406,
          -0.24730630218982697
         ]
        },
        {
         "mode": "lines",
         "type": "scatter",
         "x": [
          0.31579986214637756,
          0.7557497024536133
         ],
         "y": [
          -0.9488258361816406,
          -0.6548605561256409
         ]
        },
        {
         "mode": "lines",
         "type": "scatter",
         "x": [
          0.31579986214637756,
          0.9898213744163513
         ],
         "y": [
          -0.9488258361816406,
          0.14231520891189575
         ]
        },
        {
         "mode": "lines",
         "type": "scatter",
         "x": [
          0.31579986214637756,
          0.44761693477630615
         ],
         "y": [
          -0.9488258361816406,
          0.8942254185676575
         ]
        },
        {
         "mode": "lines",
         "type": "scatter",
         "x": [
          0.31579986214637756,
          -0.4792492091655731
         ],
         "y": [
          -0.9488258361816406,
          0.8776788711547852
         ]
        },
        {
         "mode": "lines",
         "type": "scatter",
         "x": [
          0.31579986214637756,
          0.9993628263473511
         ],
         "y": [
          -0.9488258361816406,
          0.03569243848323822
         ]
        },
        {
         "mode": "lines",
         "type": "scatter",
         "x": [
          0.31579986214637756,
          -0.5406409502029419
         ],
         "y": [
          -0.9488258361816406,
          0.8412534594535828
         ]
        },
        {
         "mode": "lines",
         "type": "scatter",
         "x": [
          0.31579986214637756,
          0.5102699398994446
         ],
         "y": [
          -0.9488258361816406,
          -0.8600143194198608
         ]
        },
        {
         "mode": "lines",
         "type": "scatter",
         "x": [
          0.31579986214637756,
          0.778641402721405
         ],
         "y": [
          -0.9488258361816406,
          0.6274691820144653
         ]
        },
        {
         "mode": "lines",
         "type": "scatter",
         "x": [
          0.31579986214637756,
          0.540640652179718
         ],
         "y": [
          -0.9488258361816406,
          -0.8412536382675171
         ]
        },
        {
         "mode": "lines",
         "type": "scatter",
         "x": [
          0.31579986214637756,
          -0.9238795042037964
         ],
         "y": [
          -0.9488258361816406,
          0.38268354535102844
         ]
        },
        {
         "mode": "lines",
         "type": "scatter",
         "x": [
          0.31579986214637756,
          0.9841111302375793
         ],
         "y": [
          -0.9488258361816406,
          0.17755348980426788
         ]
        },
        {
         "mode": "lines",
         "type": "scatter",
         "x": [
          0.31579986214637756,
          0.9771468043327332
         ],
         "y": [
          -0.9488258361816406,
          0.21256551146507263
         ]
        },
        {
         "mode": "lines",
         "type": "scatter",
         "x": [
          0.31579986214637756,
          0.9594929218292236
         ],
         "y": [
          -0.9488258361816406,
          0.28173261880874634
         ]
        },
        {
         "mode": "lines",
         "type": "scatter",
         "x": [
          0.34946438670158386,
          0.38268357515335083
         ],
         "y": [
          -0.9369496703147888,
          -0.9238794445991516
         ]
        },
        {
         "mode": "lines",
         "type": "scatter",
         "x": [
          0.34946438670158386,
          -0.8005414605140686
         ],
         "y": [
          -0.9369496703147888,
          0.5992773771286011
         ]
        },
        {
         "mode": "lines",
         "type": "scatter",
         "x": [
          0.34946438670158386,
          0.9096320271492004
         ],
         "y": [
          -0.9369496703147888,
          -0.4154149293899536
         ]
        },
        {
         "mode": "lines",
         "type": "scatter",
         "x": [
          0.34946438670158386,
          -0.3494638204574585
         ],
         "y": [
          -0.9369496703147888,
          0.9369498491287231
         ]
        },
        {
         "mode": "lines",
         "type": "scatter",
         "x": [
          0.34946438670158386,
          -0.7318942546844482
         ],
         "y": [
          -0.9369496703147888,
          0.681418240070343
         ]
        },
        {
         "mode": "lines",
         "type": "scatter",
         "x": [
          0.34946438670158386,
          -0.7557498812675476
         ],
         "y": [
          -0.9369496703147888,
          0.6548603773117065
         ]
        },
        {
         "mode": "lines",
         "type": "scatter",
         "x": [
          0.34946438670158386,
          -0.7786418199539185
         ],
         "y": [
          -0.9369496703147888,
          0.6274687051773071
         ]
        },
        {
         "mode": "lines",
         "type": "scatter",
         "x": [
          0.34946438670158386,
          0.5102696418762207
         ],
         "y": [
          -0.9369496703147888,
          0.8600144982337952
         ]
        },
        {
         "mode": "lines",
         "type": "scatter",
         "x": [
          0.34946438670158386,
          0.9993628263473511
         ],
         "y": [
          -0.9369496703147888,
          -0.03569256514310837
         ]
        },
        {
         "mode": "lines",
         "type": "scatter",
         "x": [
          0.34946438670158386,
          0.9594930410385132
         ],
         "y": [
          -0.9369496703147888,
          -0.2817322909832001
         ]
        },
        {
         "mode": "lines",
         "type": "scatter",
         "x": [
          0.34946438670158386,
          -0.4792492091655731
         ],
         "y": [
          -0.9369496703147888,
          0.8776788711547852
         ]
        },
        {
         "mode": "lines",
         "type": "scatter",
         "x": [
          0.34946438670158386,
          0.9993628263473511
         ],
         "y": [
          -0.9369496703147888,
          0.03569243848323822
         ]
        },
        {
         "mode": "lines",
         "type": "scatter",
         "x": [
          0.34946438670158386,
          -0.5406409502029419
         ],
         "y": [
          -0.9369496703147888,
          0.8412534594535828
         ]
        },
        {
         "mode": "lines",
         "type": "scatter",
         "x": [
          0.34946438670158386,
          0.5102699398994446
         ],
         "y": [
          -0.9369496703147888,
          -0.8600143194198608
         ]
        },
        {
         "mode": "lines",
         "type": "scatter",
         "x": [
          0.34946438670158386,
          0.9771468043327332
         ],
         "y": [
          -0.9369496703147888,
          0.21256551146507263
         ]
        },
        {
         "mode": "lines",
         "type": "scatter",
         "x": [
          0.38268357515335083,
          -0.8005414605140686
         ],
         "y": [
          -0.9238794445991516,
          0.5992773771286011
         ]
        },
        {
         "mode": "lines",
         "type": "scatter",
         "x": [
          0.38268357515335083,
          0.9096320271492004
         ],
         "y": [
          -0.9238794445991516,
          -0.4154149293899536
         ]
        },
        {
         "mode": "lines",
         "type": "scatter",
         "x": [
          0.38268357515335083,
          -0.3494638204574585
         ],
         "y": [
          -0.9238794445991516,
          0.9369498491287231
         ]
        },
        {
         "mode": "lines",
         "type": "scatter",
         "x": [
          0.38268357515335083,
          0.5102696418762207
         ],
         "y": [
          -0.9238794445991516,
          0.8600144982337952
         ]
        },
        {
         "mode": "lines",
         "type": "scatter",
         "x": [
          0.38268357515335083,
          0.9993628263473511
         ],
         "y": [
          -0.9238794445991516,
          -0.03569256514310837
         ]
        },
        {
         "mode": "lines",
         "type": "scatter",
         "x": [
          0.38268357515335083,
          0.41541510820388794
         ],
         "y": [
          -0.9238794445991516,
          -0.9096319675445557
         ]
        },
        {
         "mode": "lines",
         "type": "scatter",
         "x": [
          0.38268357515335083,
          0.44761723279953003
         ],
         "y": [
          -0.9238794445991516,
          -0.8942252397537231
         ]
        },
        {
         "mode": "lines",
         "type": "scatter",
         "x": [
          0.38268357515335083,
          0.47924894094467163
         ],
         "y": [
          -0.9238794445991516,
          -0.8776789903640747
         ]
        },
        {
         "mode": "lines",
         "type": "scatter",
         "x": [
          0.38268357515335083,
          0.9594930410385132
         ],
         "y": [
          -0.9238794445991516,
          -0.2817322909832001
         ]
        },
        {
         "mode": "lines",
         "type": "scatter",
         "x": [
          0.38268357515335083,
          -0.4792492091655731
         ],
         "y": [
          -0.9238794445991516,
          0.8776788711547852
         ]
        },
        {
         "mode": "lines",
         "type": "scatter",
         "x": [
          0.38268357515335083,
          0.9993628263473511
         ],
         "y": [
          -0.9238794445991516,
          0.03569243848323822
         ]
        },
        {
         "mode": "lines",
         "type": "scatter",
         "x": [
          0.38268357515335083,
          -0.5406409502029419
         ],
         "y": [
          -0.9238794445991516,
          0.8412534594535828
         ]
        },
        {
         "mode": "lines",
         "type": "scatter",
         "x": [
          0.38268357515335083,
          0.5102699398994446
         ],
         "y": [
          -0.9238794445991516,
          -0.8600143194198608
         ]
        },
        {
         "mode": "lines",
         "type": "scatter",
         "x": [
          0.38268357515335083,
          0.9771468043327332
         ],
         "y": [
          -0.9238794445991516,
          0.21256551146507263
         ]
        },
        {
         "mode": "lines",
         "type": "scatter",
         "x": [
          0.38268357515335083,
          0.9689372777938843
         ],
         "y": [
          -0.9238794445991516,
          0.24730664491653442
         ]
        },
        {
         "mode": "lines",
         "type": "scatter",
         "x": [
          0.38268357515335083,
          0.9594929218292236
         ],
         "y": [
          -0.9238794445991516,
          0.28173261880874634
         ]
        },
        {
         "mode": "lines",
         "type": "scatter",
         "x": [
          0.41541510820388794,
          0.5406403541564941
         ],
         "y": [
          -0.9096319675445557,
          0.8412538170814514
         ]
        },
        {
         "mode": "lines",
         "type": "scatter",
         "x": [
          0.41541510820388794,
          0.9096320271492004
         ],
         "y": [
          -0.9096319675445557,
          -0.4154149293899536
         ]
        },
        {
         "mode": "lines",
         "type": "scatter",
         "x": [
          0.41541510820388794,
          -0.3494638204574585
         ],
         "y": [
          -0.9096319675445557,
          0.9369498491287231
         ]
        },
        {
         "mode": "lines",
         "type": "scatter",
         "x": [
          0.41541510820388794,
          0.44761723279953003
         ],
         "y": [
          -0.9096319675445557,
          -0.8942252397537231
         ]
        },
        {
         "mode": "lines",
         "type": "scatter",
         "x": [
          0.41541510820388794,
          0.47924894094467163
         ],
         "y": [
          -0.9096319675445557,
          -0.8776789903640747
         ]
        },
        {
         "mode": "lines",
         "type": "scatter",
         "x": [
          0.41541510820388794,
          0.9238795638084412
         ],
         "y": [
          -0.9096319675445557,
          -0.3826834261417389
         ]
        },
        {
         "mode": "lines",
         "type": "scatter",
         "x": [
          0.41541510820388794,
          0.9369498491287231
         ],
         "y": [
          -0.9096319675445557,
          -0.3494637906551361
         ]
        },
        {
         "mode": "lines",
         "type": "scatter",
         "x": [
          0.41541510820388794,
          0.948826014995575
         ],
         "y": [
          -0.9096319675445557,
          -0.3157992660999298
         ]
        },
        {
         "mode": "lines",
         "type": "scatter",
         "x": [
          0.41541510820388794,
          0.9594930410385132
         ],
         "y": [
          -0.9096319675445557,
          -0.2817322909832001
         ]
        },
        {
         "mode": "lines",
         "type": "scatter",
         "x": [
          0.41541510820388794,
          0.7557497024536133
         ],
         "y": [
          -0.9096319675445557,
          -0.6548605561256409
         ]
        },
        {
         "mode": "lines",
         "type": "scatter",
         "x": [
          0.41541510820388794,
          0.44761693477630615
         ],
         "y": [
          -0.9096319675445557,
          0.8942254185676575
         ]
        },
        {
         "mode": "lines",
         "type": "scatter",
         "x": [
          0.41541510820388794,
          0.4154147803783417
         ],
         "y": [
          -0.9096319675445557,
          0.9096320867538452
         ]
        },
        {
         "mode": "lines",
         "type": "scatter",
         "x": [
          0.41541510820388794,
          -0.5102702379226685
         ],
         "y": [
          -0.9096319675445557,
          0.8600141406059265
         ]
        },
        {
         "mode": "lines",
         "type": "scatter",
         "x": [
          0.41541510820388794,
          0.9993628263473511
         ],
         "y": [
          -0.9096319675445557,
          0.03569243848323822
         ]
        },
        {
         "mode": "lines",
         "type": "scatter",
         "x": [
          0.41541510820388794,
          -0.5406409502029419
         ],
         "y": [
          -0.9096319675445557,
          0.8412534594535828
         ]
        },
        {
         "mode": "lines",
         "type": "scatter",
         "x": [
          0.41541510820388794,
          0.5102699398994446
         ],
         "y": [
          -0.9096319675445557,
          -0.8600143194198608
         ]
        },
        {
         "mode": "lines",
         "type": "scatter",
         "x": [
          0.41541510820388794,
          0.24730660021305084
         ],
         "y": [
          -0.9096319675445557,
          0.9689372777938843
         ]
        },
        {
         "mode": "lines",
         "type": "scatter",
         "x": [
          0.41541510820388794,
          0.540640652179718
         ],
         "y": [
          -0.9096319675445557,
          -0.8412536382675171
         ]
        },
        {
         "mode": "lines",
         "type": "scatter",
         "x": [
          0.41541510820388794,
          -0.9488258361816406
         ],
         "y": [
          -0.9096319675445557,
          0.31579986214637756
         ]
        },
        {
         "mode": "lines",
         "type": "scatter",
         "x": [
          0.41541510820388794,
          -0.6814177632331848
         ],
         "y": [
          -0.9096319675445557,
          0.7318946719169617
         ]
        },
        {
         "mode": "lines",
         "type": "scatter",
         "x": [
          0.41541510820388794,
          -0.9942703247070312
         ],
         "y": [
          -0.9096319675445557,
          0.10689488053321838
         ]
        },
        {
         "mode": "lines",
         "type": "scatter",
         "x": [
          0.41541510820388794,
          -0.07133937627077103
         ],
         "y": [
          -0.9096319675445557,
          0.9974520802497864
         ]
        },
        {
         "mode": "lines",
         "type": "scatter",
         "x": [
          0.41541510820388794,
          -0.21256519854068756
         ],
         "y": [
          -0.9096319675445557,
          0.9771468639373779
         ]
        },
        {
         "mode": "lines",
         "type": "scatter",
         "x": [
          0.41541510820388794,
          0.5703223943710327
         ],
         "y": [
          -0.9096319675445557,
          -0.8214209079742432
         ]
        },
        {
         "mode": "lines",
         "type": "scatter",
         "x": [
          0.44761723279953003,
          -0.3494638204574585
         ],
         "y": [
          -0.8942252397537231,
          0.9369498491287231
         ]
        },
        {
         "mode": "lines",
         "type": "scatter",
         "x": [
          0.44761723279953003,
          0.47924894094467163
         ],
         "y": [
          -0.8942252397537231,
          -0.8776789903640747
         ]
        },
        {
         "mode": "lines",
         "type": "scatter",
         "x": [
          0.44761723279953003,
          0.9238795638084412
         ],
         "y": [
          -0.8942252397537231,
          -0.3826834261417389
         ]
        },
        {
         "mode": "lines",
         "type": "scatter",
         "x": [
          0.44761723279953003,
          0.9369498491287231
         ],
         "y": [
          -0.8942252397537231,
          -0.3494637906551361
         ]
        },
        {
         "mode": "lines",
         "type": "scatter",
         "x": [
          0.44761723279953003,
          0.948826014995575
         ],
         "y": [
          -0.8942252397537231,
          -0.3157992660999298
         ]
        },
        {
         "mode": "lines",
         "type": "scatter",
         "x": [
          0.44761723279953003,
          0.9594930410385132
         ],
         "y": [
          -0.8942252397537231,
          -0.2817322909832001
         ]
        },
        {
         "mode": "lines",
         "type": "scatter",
         "x": [
          0.44761723279953003,
          0.44761693477630615
         ],
         "y": [
          -0.8942252397537231,
          0.8942254185676575
         ]
        },
        {
         "mode": "lines",
         "type": "scatter",
         "x": [
          0.44761723279953003,
          0.4154147803783417
         ],
         "y": [
          -0.8942252397537231,
          0.9096320867538452
         ]
        },
        {
         "mode": "lines",
         "type": "scatter",
         "x": [
          0.44761723279953003,
          -0.5102702379226685
         ],
         "y": [
          -0.8942252397537231,
          0.8600141406059265
         ]
        },
        {
         "mode": "lines",
         "type": "scatter",
         "x": [
          0.44761723279953003,
          0.3157995641231537
         ],
         "y": [
          -0.8942252397537231,
          0.9488259553909302
         ]
        },
        {
         "mode": "lines",
         "type": "scatter",
         "x": [
          0.44761723279953003,
          0.7786415815353394
         ],
         "y": [
          -0.8942252397537231,
          -0.6274688839912415
         ]
        },
        {
         "mode": "lines",
         "type": "scatter",
         "x": [
          0.44761723279953003,
          0.9993628263473511
         ],
         "y": [
          -0.8942252397537231,
          0.03569243848323822
         ]
        },
        {
         "mode": "lines",
         "type": "scatter",
         "x": [
          0.44761723279953003,
          0.5102699398994446
         ],
         "y": [
          -0.8942252397537231,
          -0.8600143194198608
         ]
        },
        {
         "mode": "lines",
         "type": "scatter",
         "x": [
          0.44761723279953003,
          0.24730660021305084
         ],
         "y": [
          -0.8942252397537231,
          0.9689372777938843
         ]
        },
        {
         "mode": "lines",
         "type": "scatter",
         "x": [
          0.44761723279953003,
          0.540640652179718
         ],
         "y": [
          -0.8942252397537231,
          -0.8412536382675171
         ]
        },
        {
         "mode": "lines",
         "type": "scatter",
         "x": [
          0.44761723279953003,
          -0.9488258361816406
         ],
         "y": [
          -0.8942252397537231,
          0.31579986214637756
         ]
        },
        {
         "mode": "lines",
         "type": "scatter",
         "x": [
          0.44761723279953003,
          -0.6814177632331848
         ],
         "y": [
          -0.8942252397537231,
          0.7318946719169617
         ]
        },
        {
         "mode": "lines",
         "type": "scatter",
         "x": [
          0.44761723279953003,
          -0.9942703247070312
         ],
         "y": [
          -0.8942252397537231,
          0.10689488053321838
         ]
        },
        {
         "mode": "lines",
         "type": "scatter",
         "x": [
          0.44761723279953003,
          -0.21256519854068756
         ],
         "y": [
          -0.8942252397537231,
          0.9771468639373779
         ]
        },
        {
         "mode": "lines",
         "type": "scatter",
         "x": [
          0.44761723279953003,
          -0.9974521398544312
         ],
         "y": [
          -0.8942252397537231,
          0.07133901864290237
         ]
        },
        {
         "mode": "lines",
         "type": "scatter",
         "x": [
          0.44761723279953003,
          0.5703223943710327
         ],
         "y": [
          -0.8942252397537231,
          -0.8214209079742432
         ]
        },
        {
         "mode": "lines",
         "type": "scatter",
         "x": [
          0.47924894094467163,
          -0.3494638204574585
         ],
         "y": [
          -0.8776789903640747,
          0.9369498491287231
         ]
        },
        {
         "mode": "lines",
         "type": "scatter",
         "x": [
          0.47924894094467163,
          0.9238795638084412
         ],
         "y": [
          -0.8776789903640747,
          -0.3826834261417389
         ]
        },
        {
         "mode": "lines",
         "type": "scatter",
         "x": [
          0.47924894094467163,
          0.9369498491287231
         ],
         "y": [
          -0.8776789903640747,
          -0.3494637906551361
         ]
        },
        {
         "mode": "lines",
         "type": "scatter",
         "x": [
          0.47924894094467163,
          0.948826014995575
         ],
         "y": [
          -0.8776789903640747,
          -0.3157992660999298
         ]
        },
        {
         "mode": "lines",
         "type": "scatter",
         "x": [
          0.47924894094467163,
          0.9594930410385132
         ],
         "y": [
          -0.8776789903640747,
          -0.2817322909832001
         ]
        },
        {
         "mode": "lines",
         "type": "scatter",
         "x": [
          0.47924894094467163,
          0.44761693477630615
         ],
         "y": [
          -0.8776789903640747,
          0.8942254185676575
         ]
        },
        {
         "mode": "lines",
         "type": "scatter",
         "x": [
          0.47924894094467163,
          0.4154147803783417
         ],
         "y": [
          -0.8776789903640747,
          0.9096320867538452
         ]
        },
        {
         "mode": "lines",
         "type": "scatter",
         "x": [
          0.47924894094467163,
          -0.5102702379226685
         ],
         "y": [
          -0.8776789903640747,
          0.8600141406059265
         ]
        },
        {
         "mode": "lines",
         "type": "scatter",
         "x": [
          0.47924894094467163,
          0.3157995641231537
         ],
         "y": [
          -0.8776789903640747,
          0.9488259553909302
         ]
        },
        {
         "mode": "lines",
         "type": "scatter",
         "x": [
          0.47924894094467163,
          0.7786415815353394
         ],
         "y": [
          -0.8776789903640747,
          -0.6274688839912415
         ]
        },
        {
         "mode": "lines",
         "type": "scatter",
         "x": [
          0.47924894094467163,
          0.9993628263473511
         ],
         "y": [
          -0.8776789903640747,
          0.03569243848323822
         ]
        },
        {
         "mode": "lines",
         "type": "scatter",
         "x": [
          0.47924894094467163,
          0.5102699398994446
         ],
         "y": [
          -0.8776789903640747,
          -0.8600143194198608
         ]
        },
        {
         "mode": "lines",
         "type": "scatter",
         "x": [
          0.47924894094467163,
          0.24730660021305084
         ],
         "y": [
          -0.8776789903640747,
          0.9689372777938843
         ]
        },
        {
         "mode": "lines",
         "type": "scatter",
         "x": [
          0.47924894094467163,
          0.540640652179718
         ],
         "y": [
          -0.8776789903640747,
          -0.8412536382675171
         ]
        },
        {
         "mode": "lines",
         "type": "scatter",
         "x": [
          0.47924894094467163,
          -0.9488258361816406
         ],
         "y": [
          -0.8776789903640747,
          0.31579986214637756
         ]
        },
        {
         "mode": "lines",
         "type": "scatter",
         "x": [
          0.47924894094467163,
          -0.6814177632331848
         ],
         "y": [
          -0.8776789903640747,
          0.7318946719169617
         ]
        },
        {
         "mode": "lines",
         "type": "scatter",
         "x": [
          0.47924894094467163,
          -0.9942703247070312
         ],
         "y": [
          -0.8776789903640747,
          0.10689488053321838
         ]
        },
        {
         "mode": "lines",
         "type": "scatter",
         "x": [
          0.47924894094467163,
          -0.21256519854068756
         ],
         "y": [
          -0.8776789903640747,
          0.9771468639373779
         ]
        },
        {
         "mode": "lines",
         "type": "scatter",
         "x": [
          0.47924894094467163,
          -0.9974521398544312
         ],
         "y": [
          -0.8776789903640747,
          0.07133901864290237
         ]
        },
        {
         "mode": "lines",
         "type": "scatter",
         "x": [
          0.47924894094467163,
          0.5703223943710327
         ],
         "y": [
          -0.8776789903640747,
          -0.8214209079742432
         ]
        },
        {
         "mode": "lines",
         "type": "scatter",
         "x": [
          0.5102699398994446,
          0.5406403541564941
         ],
         "y": [
          -0.8600143194198608,
          0.8412538170814514
         ]
        },
        {
         "mode": "lines",
         "type": "scatter",
         "x": [
          0.5102699398994446,
          0.5992777943611145
         ],
         "y": [
          -0.8600143194198608,
          -0.8005411624908447
         ]
        },
        {
         "mode": "lines",
         "type": "scatter",
         "x": [
          0.5102699398994446,
          0.6274690628051758
         ],
         "y": [
          -0.8600143194198608,
          -0.7786415219306946
         ]
        },
        {
         "mode": "lines",
         "type": "scatter",
         "x": [
          0.5102699398994446,
          0.6548607349395752
         ],
         "y": [
          -0.8600143194198608,
          -0.7557495832443237
         ]
        },
        {
         "mode": "lines",
         "type": "scatter",
         "x": [
          0.5102699398994446,
          0.681418240070343
         ],
         "y": [
          -0.8600143194198608,
          -0.7318942546844482
         ]
        },
        {
         "mode": "lines",
         "type": "scatter",
         "x": [
          0.5102699398994446,
          0.7071070075035095
         ],
         "y": [
          -0.8600143194198608,
          -0.7071065306663513
         ]
        },
        {
         "mode": "lines",
         "type": "scatter",
         "x": [
          0.5102699398994446,
          0.7318947315216064
         ],
         "y": [
          -0.8600143194198608,
          -0.6814177632331848
         ]
        },
        {
         "mode": "lines",
         "type": "scatter",
         "x": [
          0.5102699398994446,
          0.9096320867538452
         ],
         "y": [
          -0.8600143194198608,
          0.41541481018066406
         ]
        },
        {
         "mode": "lines",
         "type": "scatter",
         "x": [
          0.5102699398994446,
          0.8942251801490784
         ],
         "y": [
          -0.8600143194198608,
          0.44761738181114197
         ]
        },
        {
         "mode": "lines",
         "type": "scatter",
         "x": [
          0.5102699398994446,
          0.8600142002105713
         ],
         "y": [
          -0.8600143194198608,
          0.5102700591087341
         ]
        },
        {
         "mode": "lines",
         "type": "scatter",
         "x": [
          0.5102699398994446,
          0.8412535190582275
         ],
         "y": [
          -0.8600143194198608,
          0.5406407713890076
         ]
        },
        {
         "mode": "lines",
         "type": "scatter",
         "x": [
          0.5102699398994446,
          0.7071067690849304
         ],
         "y": [
          -0.8600143194198608,
          0.7071067690849304
         ]
        },
        {
         "mode": "lines",
         "type": "scatter",
         "x": [
          0.5102699398994446,
          -0.7318942546844482
         ],
         "y": [
          -0.8600143194198608,
          0.681418240070343
         ]
        },
        {
         "mode": "lines",
         "type": "scatter",
         "x": [
          0.5102699398994446,
          -0.7557498812675476
         ],
         "y": [
          -0.8600143194198608,
          0.6548603773117065
         ]
        },
        {
         "mode": "lines",
         "type": "scatter",
         "x": [
          0.5102699398994446,
          -0.7786418199539185
         ],
         "y": [
          -0.8600143194198608,
          0.6274687051773071
         ]
        },
        {
         "mode": "lines",
         "type": "scatter",
         "x": [
          0.5102699398994446,
          0.5102696418762207
         ],
         "y": [
          -0.8600143194198608,
          0.8600144982337952
         ]
        },
        {
         "mode": "lines",
         "type": "scatter",
         "x": [
          0.5102699398994446,
          0.9238795638084412
         ],
         "y": [
          -0.8600143194198608,
          0.38268330693244934
         ]
        },
        {
         "mode": "lines",
         "type": "scatter",
         "x": [
          0.5102699398994446,
          0.8214205503463745
         ],
         "y": [
          -0.8600143194198608,
          0.5703229308128357
         ]
        },
        {
         "mode": "lines",
         "type": "scatter",
         "x": [
          0.5102699398994446,
          0.47924864292144775
         ],
         "y": [
          -0.8600143194198608,
          0.877679169178009
         ]
        },
        {
         "mode": "lines",
         "type": "scatter",
         "x": [
          0.5102699398994446,
          1
         ],
         "y": [
          -0.8600143194198608,
          1.7484555314695172e-7
         ]
        },
        {
         "mode": "lines",
         "type": "scatter",
         "x": [
          0.5102699398994446,
          0.9238795638084412
         ],
         "y": [
          -0.8600143194198608,
          -0.3826834261417389
         ]
        },
        {
         "mode": "lines",
         "type": "scatter",
         "x": [
          0.5102699398994446,
          0.9369498491287231
         ],
         "y": [
          -0.8600143194198608,
          -0.3494637906551361
         ]
        },
        {
         "mode": "lines",
         "type": "scatter",
         "x": [
          0.5102699398994446,
          0.948826014995575
         ],
         "y": [
          -0.8600143194198608,
          -0.3157992660999298
         ]
        },
        {
         "mode": "lines",
         "type": "scatter",
         "x": [
          0.5102699398994446,
          0.9594930410385132
         ],
         "y": [
          -0.8600143194198608,
          -0.2817322909832001
         ]
        },
        {
         "mode": "lines",
         "type": "scatter",
         "x": [
          0.5102699398994446,
          0.7557497024536133
         ],
         "y": [
          -0.8600143194198608,
          -0.6548605561256409
         ]
        },
        {
         "mode": "lines",
         "type": "scatter",
         "x": [
          0.5102699398994446,
          -0.3826838731765747
         ],
         "y": [
          -0.8600143194198608,
          0.9238793253898621
         ]
        },
        {
         "mode": "lines",
         "type": "scatter",
         "x": [
          0.5102699398994446,
          0.9898213744163513
         ],
         "y": [
          -0.8600143194198608,
          0.14231520891189575
         ]
        },
        {
         "mode": "lines",
         "type": "scatter",
         "x": [
          0.5102699398994446,
          -0.41541537642478943
         ],
         "y": [
          -0.8600143194198608,
          0.9096318483352661
         ]
        },
        {
         "mode": "lines",
         "type": "scatter",
         "x": [
          0.5102699398994446,
          0.44761693477630615
         ],
         "y": [
          -0.8600143194198608,
          0.8942254185676575
         ]
        },
        {
         "mode": "lines",
         "type": "scatter",
         "x": [
          0.5102699398994446,
          0.4154147803783417
         ],
         "y": [
          -0.8600143194198608,
          0.9096320867538452
         ]
        },
        {
         "mode": "lines",
         "type": "scatter",
         "x": [
          0.5102699398994446,
          -0.4476175308227539
         ],
         "y": [
          -0.8600143194198608,
          0.8942251205444336
         ]
        },
        {
         "mode": "lines",
         "type": "scatter",
         "x": [
          0.5102699398994446,
          0.38268327713012695
         ],
         "y": [
          -0.8600143194198608,
          0.9238796234130859
         ]
        },
        {
         "mode": "lines",
         "type": "scatter",
         "x": [
          0.5102699398994446,
          0.34946408867836
         ],
         "y": [
          -0.8600143194198608,
          0.9369497299194336
         ]
        },
        {
         "mode": "lines",
         "type": "scatter",
         "x": [
          0.5102699398994446,
          -0.5102702379226685
         ],
         "y": [
          -0.8600143194198608,
          0.8600141406059265
         ]
        },
        {
         "mode": "lines",
         "type": "scatter",
         "x": [
          0.5102699398994446,
          0.3157995641231537
         ],
         "y": [
          -0.8600143194198608,
          0.9488259553909302
         ]
        },
        {
         "mode": "lines",
         "type": "scatter",
         "x": [
          0.5102699398994446,
          0.7786415815353394
         ],
         "y": [
          -0.8600143194198608,
          -0.6274688839912415
         ]
        },
        {
         "mode": "lines",
         "type": "scatter",
         "x": [
          0.5102699398994446,
          0.8005412817001343
         ],
         "y": [
          -0.8600143194198608,
          -0.5992776155471802
         ]
        },
        {
         "mode": "lines",
         "type": "scatter",
         "x": [
          0.5102699398994446,
          0.8214207887649536
         ],
         "y": [
          -0.8600143194198608,
          -0.5703226327896118
         ]
        },
        {
         "mode": "lines",
         "type": "scatter",
         "x": [
          0.5102699398994446,
          0.9898214340209961
         ],
         "y": [
          -0.8600143194198608,
          -0.1423148512840271
         ]
        },
        {
         "mode": "lines",
         "type": "scatter",
         "x": [
          0.5102699398994446,
          0.9993628263473511
         ],
         "y": [
          -0.8600143194198608,
          0.03569243848323822
         ]
        },
        {
         "mode": "lines",
         "type": "scatter",
         "x": [
          0.5102699398994446,
          0.8412534594535828
         ],
         "y": [
          -0.8600143194198608,
          -0.5406408905982971
         ]
        },
        {
         "mode": "lines",
         "type": "scatter",
         "x": [
          0.5102699398994446,
          0.8600141406059265
         ],
         "y": [
          -0.8600143194198608,
          -0.5102701783180237
         ]
        },
        {
         "mode": "lines",
         "type": "scatter",
         "x": [
          0.5102699398994446,
          0.8776788711547852
         ],
         "y": [
          -0.8600143194198608,
          -0.4792492091655731
         ]
        },
        {
         "mode": "lines",
         "type": "scatter",
         "x": [
          0.5102699398994446,
          0.9974520802497864
         ],
         "y": [
          -0.8600143194198608,
          -0.07133934646844864
         ]
        },
        {
         "mode": "lines",
         "type": "scatter",
         "x": [
          0.5102699398994446,
          -0.5406409502029419
         ],
         "y": [
          -0.8600143194198608,
          0.8412534594535828
         ]
        },
        {
         "mode": "lines",
         "type": "scatter",
         "x": [
          0.5102699398994446,
          -0.9841112494468689
         ],
         "y": [
          -0.8600143194198608,
          0.17755281925201416
         ]
        },
        {
         "mode": "lines",
         "type": "scatter",
         "x": [
          0.5102699398994446,
          -0.9369496703147888
         ],
         "y": [
          -0.8600143194198608,
          0.3494643568992615
         ]
        },
        {
         "mode": "lines",
         "type": "scatter",
         "x": [
          0.5102699398994446,
          -0.9898214936256409
         ],
         "y": [
          -0.8600143194198608,
          0.14231452345848083
         ]
        },
        {
         "mode": "lines",
         "type": "scatter",
         "x": [
          0.5102699398994446,
          -0.5703226923942566
         ],
         "y": [
          -0.8600143194198608,
          0.8214207291603088
         ]
        },
        {
         "mode": "lines",
         "type": "scatter",
         "x": [
          0.5102699398994446,
          0.540640652179718
         ],
         "y": [
          -0.8600143194198608,
          -0.8412536382675171
         ]
        },
        {
         "mode": "lines",
         "type": "scatter",
         "x": [
          0.5102699398994446,
          0.9974521398544312
         ],
         "y": [
          -0.8600143194198608,
          0.0713392123579979
         ]
        },
        {
         "mode": "lines",
         "type": "scatter",
         "x": [
          0.5102699398994446,
          -0.8412536382675171
         ],
         "y": [
          -0.8600143194198608,
          0.540640652179718
         ]
        },
        {
         "mode": "lines",
         "type": "scatter",
         "x": [
          0.5102699398994446,
          0.21256546676158905
         ],
         "y": [
          -0.8600143194198608,
          0.9771468043327332
         ]
        },
        {
         "mode": "lines",
         "type": "scatter",
         "x": [
          0.5102699398994446,
          -0.8600143194198608
         ],
         "y": [
          -0.8600143194198608,
          0.5102699398994446
         ]
        },
        {
         "mode": "lines",
         "type": "scatter",
         "x": [
          0.5102699398994446,
          0.1775534451007843
         ],
         "y": [
          -0.8600143194198608,
          0.9841111302375793
         ]
        },
        {
         "mode": "lines",
         "type": "scatter",
         "x": [
          0.5102699398994446,
          -0.6274689435958862
         ],
         "y": [
          -0.8600143194198608,
          0.7786415815353394
         ]
        },
        {
         "mode": "lines",
         "type": "scatter",
         "x": [
          0.5102699398994446,
          -0.6548606157302856
         ],
         "y": [
          -0.8600143194198608,
          0.7557497024536133
         ]
        },
        {
         "mode": "lines",
         "type": "scatter",
         "x": [
          0.5102699398994446,
          0.7557494640350342
         ],
         "y": [
          -0.8600143194198608,
          0.6548608541488647
         ]
        },
        {
         "mode": "lines",
         "type": "scatter",
         "x": [
          0.5102699398994446,
          -0.9488258361816406
         ],
         "y": [
          -0.8600143194198608,
          0.31579986214637756
         ]
        },
        {
         "mode": "lines",
         "type": "scatter",
         "x": [
          0.5102699398994446,
          0.8942253589630127
         ],
         "y": [
          -0.8600143194198608,
          -0.4476170539855957
         ]
        },
        {
         "mode": "lines",
         "type": "scatter",
         "x": [
          0.5102699398994446,
          -0.6814177632331848
         ],
         "y": [
          -0.8600143194198608,
          0.7318946719169617
         ]
        },
        {
         "mode": "lines",
         "type": "scatter",
         "x": [
          0.5102699398994446,
          0.65486079454422
         ],
         "y": [
          -0.8600143194198608,
          0.755749523639679
         ]
        },
        {
         "mode": "lines",
         "type": "scatter",
         "x": [
          0.5102699398994446,
          -3.3776623808989825e-7
         ],
         "y": [
          -0.8600143194198608,
          1
         ]
        },
        {
         "mode": "lines",
         "type": "scatter",
         "x": [
          0.5102699398994446,
          0.9841111302375793
         ],
         "y": [
          -0.8600143194198608,
          0.17755348980426788
         ]
        },
        {
         "mode": "lines",
         "type": "scatter",
         "x": [
          0.5102699398994446,
          -0.9942703247070312
         ],
         "y": [
          -0.8600143194198608,
          0.10689488053321838
         ]
        },
        {
         "mode": "lines",
         "type": "scatter",
         "x": [
          0.5102699398994446,
          -0.1775531768798828
         ],
         "y": [
          -0.8600143194198608,
          0.9841111898422241
         ]
        },
        {
         "mode": "lines",
         "type": "scatter",
         "x": [
          0.5102699398994446,
          -0.21256519854068756
         ],
         "y": [
          -0.8600143194198608,
          0.9771468639373779
         ]
        },
        {
         "mode": "lines",
         "type": "scatter",
         "x": [
          0.540640652179718,
          0.5406403541564941
         ],
         "y": [
          -0.8412536382675171,
          0.8412538170814514
         ]
        },
        {
         "mode": "lines",
         "type": "scatter",
         "x": [
          0.540640652179718,
          -0.7318942546844482
         ],
         "y": [
          -0.8412536382675171,
          0.681418240070343
         ]
        },
        {
         "mode": "lines",
         "type": "scatter",
         "x": [
          0.540640652179718,
          -0.7557498812675476
         ],
         "y": [
          -0.8412536382675171,
          0.6548603773117065
         ]
        },
        {
         "mode": "lines",
         "type": "scatter",
         "x": [
          0.540640652179718,
          -0.7786418199539185
         ],
         "y": [
          -0.8412536382675171,
          0.6274687051773071
         ]
        },
        {
         "mode": "lines",
         "type": "scatter",
         "x": [
          0.540640652179718,
          0.5102696418762207
         ],
         "y": [
          -0.8412536382675171,
          0.8600144982337952
         ]
        },
        {
         "mode": "lines",
         "type": "scatter",
         "x": [
          0.540640652179718,
          0.9238795638084412
         ],
         "y": [
          -0.8412536382675171,
          -0.3826834261417389
         ]
        },
        {
         "mode": "lines",
         "type": "scatter",
         "x": [
          0.540640652179718,
          0.9369498491287231
         ],
         "y": [
          -0.8412536382675171,
          -0.3494637906551361
         ]
        },
        {
         "mode": "lines",
         "type": "scatter",
         "x": [
          0.540640652179718,
          0.7557497024536133
         ],
         "y": [
          -0.8412536382675171,
          -0.6548605561256409
         ]
        },
        {
         "mode": "lines",
         "type": "scatter",
         "x": [
          0.540640652179718,
          0.44761693477630615
         ],
         "y": [
          -0.8412536382675171,
          0.8942254185676575
         ]
        },
        {
         "mode": "lines",
         "type": "scatter",
         "x": [
          0.540640652179718,
          0.4154147803783417
         ],
         "y": [
          -0.8412536382675171,
          0.9096320867538452
         ]
        },
        {
         "mode": "lines",
         "type": "scatter",
         "x": [
          0.540640652179718,
          -0.5102702379226685
         ],
         "y": [
          -0.8412536382675171,
          0.8600141406059265
         ]
        },
        {
         "mode": "lines",
         "type": "scatter",
         "x": [
          0.540640652179718,
          -0.07133937627077103
         ],
         "y": [
          -0.8412536382675171,
          0.9974520802497864
         ]
        },
        {
         "mode": "lines",
         "type": "scatter",
         "x": [
          0.540640652179718,
          -0.24730634689331055
         ],
         "y": [
          -0.8412536382675171,
          0.968937337398529
         ]
        },
        {
         "mode": "lines",
         "type": "scatter",
         "x": [
          0.540640652179718,
          -0.9974521398544312
         ],
         "y": [
          -0.8412536382675171,
          0.07133901864290237
         ]
        },
        {
         "mode": "lines",
         "type": "scatter",
         "x": [
          0.540640652179718,
          0.5703223943710327
         ],
         "y": [
          -0.8412536382675171,
          -0.8214209079742432
         ]
        },
        {
         "mode": "lines",
         "type": "scatter",
         "x": [
          0.5703223943710327,
          0.5406403541564941
         ],
         "y": [
          -0.8214209079742432,
          0.8412538170814514
         ]
        },
        {
         "mode": "lines",
         "type": "scatter",
         "x": [
          0.5703223943710327,
          0.9369498491287231
         ],
         "y": [
          -0.8214209079742432,
          -0.3494637906551361
         ]
        },
        {
         "mode": "lines",
         "type": "scatter",
         "x": [
          0.5703223943710327,
          0.7557497024536133
         ],
         "y": [
          -0.8214209079742432,
          -0.6548605561256409
         ]
        },
        {
         "mode": "lines",
         "type": "scatter",
         "x": [
          0.5703223943710327,
          0.3157995641231537
         ],
         "y": [
          -0.8214209079742432,
          0.9488259553909302
         ]
        },
        {
         "mode": "lines",
         "type": "scatter",
         "x": [
          0.5703223943710327,
          -0.07133937627077103
         ],
         "y": [
          -0.8214209079742432,
          0.9974520802497864
         ]
        },
        {
         "mode": "lines",
         "type": "scatter",
         "x": [
          0.5703223943710327,
          -0.21256519854068756
         ],
         "y": [
          -0.8214209079742432,
          0.9771468639373779
         ]
        },
        {
         "mode": "lines",
         "type": "scatter",
         "x": [
          0.5703223943710327,
          -0.9974521398544312
         ],
         "y": [
          -0.8214209079742432,
          0.07133901864290237
         ]
        },
        {
         "mode": "lines",
         "type": "scatter",
         "x": [
          0.5992777943611145,
          0.6274690628051758
         ],
         "y": [
          -0.8005411624908447,
          -0.7786415219306946
         ]
        },
        {
         "mode": "lines",
         "type": "scatter",
         "x": [
          0.5992777943611145,
          0.6548607349395752
         ],
         "y": [
          -0.8005411624908447,
          -0.7557495832443237
         ]
        },
        {
         "mode": "lines",
         "type": "scatter",
         "x": [
          0.5992777943611145,
          0.681418240070343
         ],
         "y": [
          -0.8005411624908447,
          -0.7318942546844482
         ]
        },
        {
         "mode": "lines",
         "type": "scatter",
         "x": [
          0.5992777943611145,
          0.7071070075035095
         ],
         "y": [
          -0.8005411624908447,
          -0.7071065306663513
         ]
        },
        {
         "mode": "lines",
         "type": "scatter",
         "x": [
          0.5992777943611145,
          0.7318947315216064
         ],
         "y": [
          -0.8005411624908447,
          -0.6814177632331848
         ]
        },
        {
         "mode": "lines",
         "type": "scatter",
         "x": [
          0.5992777943611145,
          0.9993628263473511
         ],
         "y": [
          -0.8005411624908447,
          -0.03569256514310837
         ]
        },
        {
         "mode": "lines",
         "type": "scatter",
         "x": [
          0.5992777943611145,
          0.8005412817001343
         ],
         "y": [
          -0.8005411624908447,
          -0.5992776155471802
         ]
        },
        {
         "mode": "lines",
         "type": "scatter",
         "x": [
          0.5992777943611145,
          0.8214207887649536
         ],
         "y": [
          -0.8005411624908447,
          -0.5703226327896118
         ]
        },
        {
         "mode": "lines",
         "type": "scatter",
         "x": [
          0.5992777943611145,
          0.9898214340209961
         ],
         "y": [
          -0.8005411624908447,
          -0.1423148512840271
         ]
        },
        {
         "mode": "lines",
         "type": "scatter",
         "x": [
          0.5992777943611145,
          0.9993628263473511
         ],
         "y": [
          -0.8005411624908447,
          0.03569243848323822
         ]
        },
        {
         "mode": "lines",
         "type": "scatter",
         "x": [
          0.5992777943611145,
          0.8412534594535828
         ],
         "y": [
          -0.8005411624908447,
          -0.5406408905982971
         ]
        },
        {
         "mode": "lines",
         "type": "scatter",
         "x": [
          0.5992777943611145,
          0.8600141406059265
         ],
         "y": [
          -0.8005411624908447,
          -0.5102701783180237
         ]
        },
        {
         "mode": "lines",
         "type": "scatter",
         "x": [
          0.5992777943611145,
          0.8776788711547852
         ],
         "y": [
          -0.8005411624908447,
          -0.4792492091655731
         ]
        },
        {
         "mode": "lines",
         "type": "scatter",
         "x": [
          0.5992777943611145,
          0.9974520802497864
         ],
         "y": [
          -0.8005411624908447,
          -0.07133934646844864
         ]
        },
        {
         "mode": "lines",
         "type": "scatter",
         "x": [
          0.5992777943611145,
          0.778641402721405
         ],
         "y": [
          -0.8005411624908447,
          0.6274691820144653
         ]
        },
        {
         "mode": "lines",
         "type": "scatter",
         "x": [
          0.5992777943611145,
          0.9974521398544312
         ],
         "y": [
          -0.8005411624908447,
          0.0713392123579979
         ]
        },
        {
         "mode": "lines",
         "type": "scatter",
         "x": [
          0.5992777943611145,
          0.8942253589630127
         ],
         "y": [
          -0.8005411624908447,
          -0.4476170539855957
         ]
        },
        {
         "mode": "lines",
         "type": "scatter",
         "x": [
          0.6274690628051758,
          0.6548607349395752
         ],
         "y": [
          -0.7786415219306946,
          -0.7557495832443237
         ]
        },
        {
         "mode": "lines",
         "type": "scatter",
         "x": [
          0.6274690628051758,
          0.681418240070343
         ],
         "y": [
          -0.7786415219306946,
          -0.7318942546844482
         ]
        },
        {
         "mode": "lines",
         "type": "scatter",
         "x": [
          0.6274690628051758,
          0.7071070075035095
         ],
         "y": [
          -0.7786415219306946,
          -0.7071065306663513
         ]
        },
        {
         "mode": "lines",
         "type": "scatter",
         "x": [
          0.6274690628051758,
          0.7318947315216064
         ],
         "y": [
          -0.7786415219306946,
          -0.6814177632331848
         ]
        },
        {
         "mode": "lines",
         "type": "scatter",
         "x": [
          0.6274690628051758,
          0.9993628263473511
         ],
         "y": [
          -0.7786415219306946,
          -0.03569256514310837
         ]
        },
        {
         "mode": "lines",
         "type": "scatter",
         "x": [
          0.6274690628051758,
          0.9993628263473511
         ],
         "y": [
          -0.7786415219306946,
          0.03569243848323822
         ]
        },
        {
         "mode": "lines",
         "type": "scatter",
         "x": [
          0.6274690628051758,
          0.778641402721405
         ],
         "y": [
          -0.7786415219306946,
          0.6274691820144653
         ]
        },
        {
         "mode": "lines",
         "type": "scatter",
         "x": [
          0.6274690628051758,
          0.9974521398544312
         ],
         "y": [
          -0.7786415219306946,
          0.0713392123579979
         ]
        },
        {
         "mode": "lines",
         "type": "scatter",
         "x": [
          0.6548607349395752,
          0.681418240070343
         ],
         "y": [
          -0.7557495832443237,
          -0.7318942546844482
         ]
        },
        {
         "mode": "lines",
         "type": "scatter",
         "x": [
          0.6548607349395752,
          0.7071070075035095
         ],
         "y": [
          -0.7557495832443237,
          -0.7071065306663513
         ]
        },
        {
         "mode": "lines",
         "type": "scatter",
         "x": [
          0.6548607349395752,
          0.7318947315216064
         ],
         "y": [
          -0.7557495832443237,
          -0.6814177632331848
         ]
        },
        {
         "mode": "lines",
         "type": "scatter",
         "x": [
          0.6548607349395752,
          -0.7318942546844482
         ],
         "y": [
          -0.7557495832443237,
          0.681418240070343
         ]
        },
        {
         "mode": "lines",
         "type": "scatter",
         "x": [
          0.6548607349395752,
          -0.7557498812675476
         ],
         "y": [
          -0.7557495832443237,
          0.6548603773117065
         ]
        },
        {
         "mode": "lines",
         "type": "scatter",
         "x": [
          0.6548607349395752,
          -0.7786418199539185
         ],
         "y": [
          -0.7557495832443237,
          0.6274687051773071
         ]
        },
        {
         "mode": "lines",
         "type": "scatter",
         "x": [
          0.6548607349395752,
          0.5102696418762207
         ],
         "y": [
          -0.7557495832443237,
          0.8600144982337952
         ]
        },
        {
         "mode": "lines",
         "type": "scatter",
         "x": [
          0.6548607349395752,
          0.9238795638084412
         ],
         "y": [
          -0.7557495832443237,
          0.38268330693244934
         ]
        },
        {
         "mode": "lines",
         "type": "scatter",
         "x": [
          0.6548607349395752,
          0.8214205503463745
         ],
         "y": [
          -0.7557495832443237,
          0.5703229308128357
         ]
        },
        {
         "mode": "lines",
         "type": "scatter",
         "x": [
          0.6548607349395752,
          0.9993628263473511
         ],
         "y": [
          -0.7557495832443237,
          -0.03569256514310837
         ]
        },
        {
         "mode": "lines",
         "type": "scatter",
         "x": [
          0.6548607349395752,
          0.8005410432815552
         ],
         "y": [
          -0.7557495832443237,
          0.599277913570404
         ]
        },
        {
         "mode": "lines",
         "type": "scatter",
         "x": [
          0.6548607349395752,
          0.47924864292144775
         ],
         "y": [
          -0.7557495832443237,
          0.877679169178009
         ]
        },
        {
         "mode": "lines",
         "type": "scatter",
         "x": [
          0.6548607349395752,
          1
         ],
         "y": [
          -0.7557495832443237,
          1.7484555314695172e-7
         ]
        },
        {
         "mode": "lines",
         "type": "scatter",
         "x": [
          0.6548607349395752,
          0.7557497024536133
         ],
         "y": [
          -0.7557495832443237,
          -0.6548605561256409
         ]
        },
        {
         "mode": "lines",
         "type": "scatter",
         "x": [
          0.6548607349395752,
          0.7786415815353394
         ],
         "y": [
          -0.7557495832443237,
          -0.6274688839912415
         ]
        },
        {
         "mode": "lines",
         "type": "scatter",
         "x": [
          0.6548607349395752,
          0.8214207887649536
         ],
         "y": [
          -0.7557495832443237,
          -0.5703226327896118
         ]
        },
        {
         "mode": "lines",
         "type": "scatter",
         "x": [
          0.6548607349395752,
          0.9993628263473511
         ],
         "y": [
          -0.7557495832443237,
          0.03569243848323822
         ]
        },
        {
         "mode": "lines",
         "type": "scatter",
         "x": [
          0.6548607349395752,
          0.778641402721405
         ],
         "y": [
          -0.7557495832443237,
          0.6274691820144653
         ]
        },
        {
         "mode": "lines",
         "type": "scatter",
         "x": [
          0.6548607349395752,
          0.9974521398544312
         ],
         "y": [
          -0.7557495832443237,
          0.0713392123579979
         ]
        },
        {
         "mode": "lines",
         "type": "scatter",
         "x": [
          0.6548607349395752,
          0.65486079454422
         ],
         "y": [
          -0.7557495832443237,
          0.755749523639679
         ]
        },
        {
         "mode": "lines",
         "type": "scatter",
         "x": [
          0.681418240070343,
          0.7071070075035095
         ],
         "y": [
          -0.7318942546844482,
          -0.7071065306663513
         ]
        },
        {
         "mode": "lines",
         "type": "scatter",
         "x": [
          0.681418240070343,
          0.7318947315216064
         ],
         "y": [
          -0.7318942546844482,
          -0.6814177632331848
         ]
        },
        {
         "mode": "lines",
         "type": "scatter",
         "x": [
          0.681418240070343,
          0.9993628263473511
         ],
         "y": [
          -0.7318942546844482,
          -0.03569256514310837
         ]
        },
        {
         "mode": "lines",
         "type": "scatter",
         "x": [
          0.681418240070343,
          0.9993628263473511
         ],
         "y": [
          -0.7318942546844482,
          0.03569243848323822
         ]
        },
        {
         "mode": "lines",
         "type": "scatter",
         "x": [
          0.681418240070343,
          0.778641402721405
         ],
         "y": [
          -0.7318942546844482,
          0.6274691820144653
         ]
        },
        {
         "mode": "lines",
         "type": "scatter",
         "x": [
          0.681418240070343,
          0.9974521398544312
         ],
         "y": [
          -0.7318942546844482,
          0.0713392123579979
         ]
        },
        {
         "mode": "lines",
         "type": "scatter",
         "x": [
          0.681418240070343,
          0.65486079454422
         ],
         "y": [
          -0.7318942546844482,
          0.755749523639679
         ]
        },
        {
         "mode": "lines",
         "type": "scatter",
         "x": [
          0.7071070075035095,
          0.7318947315216064
         ],
         "y": [
          -0.7071065306663513,
          -0.6814177632331848
         ]
        },
        {
         "mode": "lines",
         "type": "scatter",
         "x": [
          0.7071070075035095,
          0.9993628263473511
         ],
         "y": [
          -0.7071065306663513,
          -0.03569256514310837
         ]
        },
        {
         "mode": "lines",
         "type": "scatter",
         "x": [
          0.7071070075035095,
          0.9993628263473511
         ],
         "y": [
          -0.7071065306663513,
          0.03569243848323822
         ]
        },
        {
         "mode": "lines",
         "type": "scatter",
         "x": [
          0.7071070075035095,
          0.778641402721405
         ],
         "y": [
          -0.7071065306663513,
          0.6274691820144653
         ]
        },
        {
         "mode": "lines",
         "type": "scatter",
         "x": [
          0.7071070075035095,
          0.9974521398544312
         ],
         "y": [
          -0.7071065306663513,
          0.0713392123579979
         ]
        },
        {
         "mode": "lines",
         "type": "scatter",
         "x": [
          0.7318947315216064,
          0.9096320867538452
         ],
         "y": [
          -0.6814177632331848,
          0.41541481018066406
         ]
        },
        {
         "mode": "lines",
         "type": "scatter",
         "x": [
          0.7318947315216064,
          0.8942251801490784
         ],
         "y": [
          -0.6814177632331848,
          0.44761738181114197
         ]
        },
        {
         "mode": "lines",
         "type": "scatter",
         "x": [
          0.7318947315216064,
          0.8776789307594299
         ],
         "y": [
          -0.6814177632331848,
          0.47924908995628357
         ]
        },
        {
         "mode": "lines",
         "type": "scatter",
         "x": [
          0.7318947315216064,
          0.8600142002105713
         ],
         "y": [
          -0.6814177632331848,
          0.5102700591087341
         ]
        },
        {
         "mode": "lines",
         "type": "scatter",
         "x": [
          0.7318947315216064,
          0.8412535190582275
         ],
         "y": [
          -0.6814177632331848,
          0.5406407713890076
         ]
        },
        {
         "mode": "lines",
         "type": "scatter",
         "x": [
          0.7318947315216064,
          0.9238795638084412
         ],
         "y": [
          -0.6814177632331848,
          0.38268330693244934
         ]
        },
        {
         "mode": "lines",
         "type": "scatter",
         "x": [
          0.7318947315216064,
          0.8214205503463745
         ],
         "y": [
          -0.6814177632331848,
          0.5703229308128357
         ]
        },
        {
         "mode": "lines",
         "type": "scatter",
         "x": [
          0.7318947315216064,
          0.9993628263473511
         ],
         "y": [
          -0.6814177632331848,
          -0.03569256514310837
         ]
        },
        {
         "mode": "lines",
         "type": "scatter",
         "x": [
          0.7318947315216064,
          0.8005410432815552
         ],
         "y": [
          -0.6814177632331848,
          0.599277913570404
         ]
        },
        {
         "mode": "lines",
         "type": "scatter",
         "x": [
          0.7318947315216064,
          1
         ],
         "y": [
          -0.6814177632331848,
          1.7484555314695172e-7
         ]
        },
        {
         "mode": "lines",
         "type": "scatter",
         "x": [
          0.7318947315216064,
          0.7557497024536133
         ],
         "y": [
          -0.6814177632331848,
          -0.6548605561256409
         ]
        },
        {
         "mode": "lines",
         "type": "scatter",
         "x": [
          0.7318947315216064,
          0.9993628263473511
         ],
         "y": [
          -0.6814177632331848,
          0.03569243848323822
         ]
        },
        {
         "mode": "lines",
         "type": "scatter",
         "x": [
          0.7318947315216064,
          0.778641402721405
         ],
         "y": [
          -0.6814177632331848,
          0.6274691820144653
         ]
        },
        {
         "mode": "lines",
         "type": "scatter",
         "x": [
          0.7318947315216064,
          0.9974521398544312
         ],
         "y": [
          -0.6814177632331848,
          0.0713392123579979
         ]
        },
        {
         "mode": "lines",
         "type": "scatter",
         "x": [
          0.7557497024536133,
          -0.8005414605140686
         ],
         "y": [
          -0.6548605561256409,
          0.5992773771286011
         ]
        },
        {
         "mode": "lines",
         "type": "scatter",
         "x": [
          0.7557497024536133,
          0.8776789307594299
         ],
         "y": [
          -0.6548605561256409,
          0.47924908995628357
         ]
        },
        {
         "mode": "lines",
         "type": "scatter",
         "x": [
          0.7557497024536133,
          0.8600142002105713
         ],
         "y": [
          -0.6548605561256409,
          0.5102700591087341
         ]
        },
        {
         "mode": "lines",
         "type": "scatter",
         "x": [
          0.7557497024536133,
          0.7071067690849304
         ],
         "y": [
          -0.6548605561256409,
          0.7071067690849304
         ]
        },
        {
         "mode": "lines",
         "type": "scatter",
         "x": [
          0.7557497024536133,
          -0.7318942546844482
         ],
         "y": [
          -0.6548605561256409,
          0.681418240070343
         ]
        },
        {
         "mode": "lines",
         "type": "scatter",
         "x": [
          0.7557497024536133,
          -0.7786418199539185
         ],
         "y": [
          -0.6548605561256409,
          0.6274687051773071
         ]
        },
        {
         "mode": "lines",
         "type": "scatter",
         "x": [
          0.7557497024536133,
          0.9238795638084412
         ],
         "y": [
          -0.6548605561256409,
          0.38268330693244934
         ]
        },
        {
         "mode": "lines",
         "type": "scatter",
         "x": [
          0.7557497024536133,
          0.9238795638084412
         ],
         "y": [
          -0.6548605561256409,
          -0.3826834261417389
         ]
        },
        {
         "mode": "lines",
         "type": "scatter",
         "x": [
          0.7557497024536133,
          0.9369498491287231
         ],
         "y": [
          -0.6548605561256409,
          -0.3494637906551361
         ]
        },
        {
         "mode": "lines",
         "type": "scatter",
         "x": [
          0.7557497024536133,
          0.948826014995575
         ],
         "y": [
          -0.6548605561256409,
          -0.3157992660999298
         ]
        },
        {
         "mode": "lines",
         "type": "scatter",
         "x": [
          0.7557497024536133,
          0.9594930410385132
         ],
         "y": [
          -0.6548605561256409,
          -0.2817322909832001
         ]
        },
        {
         "mode": "lines",
         "type": "scatter",
         "x": [
          0.7557497024536133,
          -0.3826838731765747
         ],
         "y": [
          -0.6548605561256409,
          0.9238793253898621
         ]
        },
        {
         "mode": "lines",
         "type": "scatter",
         "x": [
          0.7557497024536133,
          0.9898213744163513
         ],
         "y": [
          -0.6548605561256409,
          0.14231520891189575
         ]
        },
        {
         "mode": "lines",
         "type": "scatter",
         "x": [
          0.7557497024536133,
          -0.41541537642478943
         ],
         "y": [
          -0.6548605561256409,
          0.9096318483352661
         ]
        },
        {
         "mode": "lines",
         "type": "scatter",
         "x": [
          0.7557497024536133,
          0.44761693477630615
         ],
         "y": [
          -0.6548605561256409,
          0.8942254185676575
         ]
        },
        {
         "mode": "lines",
         "type": "scatter",
         "x": [
          0.7557497024536133,
          0.4154147803783417
         ],
         "y": [
          -0.6548605561256409,
          0.9096320867538452
         ]
        },
        {
         "mode": "lines",
         "type": "scatter",
         "x": [
          0.7557497024536133,
          -0.4476175308227539
         ],
         "y": [
          -0.6548605561256409,
          0.8942251205444336
         ]
        },
        {
         "mode": "lines",
         "type": "scatter",
         "x": [
          0.7557497024536133,
          0.38268327713012695
         ],
         "y": [
          -0.6548605561256409,
          0.9238796234130859
         ]
        },
        {
         "mode": "lines",
         "type": "scatter",
         "x": [
          0.7557497024536133,
          0.34946408867836
         ],
         "y": [
          -0.6548605561256409,
          0.9369497299194336
         ]
        },
        {
         "mode": "lines",
         "type": "scatter",
         "x": [
          0.7557497024536133,
          -0.4792492091655731
         ],
         "y": [
          -0.6548605561256409,
          0.8776788711547852
         ]
        },
        {
         "mode": "lines",
         "type": "scatter",
         "x": [
          0.7557497024536133,
          0.8214207887649536
         ],
         "y": [
          -0.6548605561256409,
          -0.5703226327896118
         ]
        },
        {
         "mode": "lines",
         "type": "scatter",
         "x": [
          0.7557497024536133,
          0.9898214340209961
         ],
         "y": [
          -0.6548605561256409,
          -0.1423148512840271
         ]
        },
        {
         "mode": "lines",
         "type": "scatter",
         "x": [
          0.7557497024536133,
          0.9993628263473511
         ],
         "y": [
          -0.6548605561256409,
          0.03569243848323822
         ]
        },
        {
         "mode": "lines",
         "type": "scatter",
         "x": [
          0.7557497024536133,
          -0.5406409502029419
         ],
         "y": [
          -0.6548605561256409,
          0.8412534594535828
         ]
        },
        {
         "mode": "lines",
         "type": "scatter",
         "x": [
          0.7557497024536133,
          0.24730660021305084
         ],
         "y": [
          -0.6548605561256409,
          0.9689372777938843
         ]
        },
        {
         "mode": "lines",
         "type": "scatter",
         "x": [
          0.7557497024536133,
          0.778641402721405
         ],
         "y": [
          -0.6548605561256409,
          0.6274691820144653
         ]
        },
        {
         "mode": "lines",
         "type": "scatter",
         "x": [
          0.7557497024536133,
          -0.5703226923942566
         ],
         "y": [
          -0.6548605561256409,
          0.8214207291603088
         ]
        },
        {
         "mode": "lines",
         "type": "scatter",
         "x": [
          0.7557497024536133,
          0.9974521398544312
         ],
         "y": [
          -0.6548605561256409,
          0.0713392123579979
         ]
        },
        {
         "mode": "lines",
         "type": "scatter",
         "x": [
          0.7557497024536133,
          -0.6274689435958862
         ],
         "y": [
          -0.6548605561256409,
          0.7786415815353394
         ]
        },
        {
         "mode": "lines",
         "type": "scatter",
         "x": [
          0.7557497024536133,
          -0.6548606157302856
         ],
         "y": [
          -0.6548605561256409,
          0.7557497024536133
         ]
        },
        {
         "mode": "lines",
         "type": "scatter",
         "x": [
          0.7557497024536133,
          0.10689457505941391
         ],
         "y": [
          -0.6548605561256409,
          0.994270384311676
         ]
        },
        {
         "mode": "lines",
         "type": "scatter",
         "x": [
          0.7557497024536133,
          -0.9488258361816406
         ],
         "y": [
          -0.6548605561256409,
          0.31579986214637756
         ]
        },
        {
         "mode": "lines",
         "type": "scatter",
         "x": [
          0.7557497024536133,
          -0.9238795042037964
         ],
         "y": [
          -0.6548605561256409,
          0.38268354535102844
         ]
        },
        {
         "mode": "lines",
         "type": "scatter",
         "x": [
          0.7557497024536133,
          0.6814179420471191
         ],
         "y": [
          -0.6548605561256409,
          0.7318944931030273
         ]
        },
        {
         "mode": "lines",
         "type": "scatter",
         "x": [
          0.7557497024536133,
          -0.6814177632331848
         ],
         "y": [
          -0.6548605561256409,
          0.7318946719169617
         ]
        },
        {
         "mode": "lines",
         "type": "scatter",
         "x": [
          0.7557497024536133,
          0.0713387057185173
         ],
         "y": [
          -0.6548605561256409,
          0.9974521398544312
         ]
        },
        {
         "mode": "lines",
         "type": "scatter",
         "x": [
          0.7557497024536133,
          -3.3776623808989825e-7
         ],
         "y": [
          -0.6548605561256409,
          1
         ]
        },
        {
         "mode": "lines",
         "type": "scatter",
         "x": [
          0.7557497024536133,
          0.9841111302375793
         ],
         "y": [
          -0.6548605561256409,
          0.17755348980426788
         ]
        },
        {
         "mode": "lines",
         "type": "scatter",
         "x": [
          0.7557497024536133,
          0.9771468043327332
         ],
         "y": [
          -0.6548605561256409,
          0.21256551146507263
         ]
        },
        {
         "mode": "lines",
         "type": "scatter",
         "x": [
          0.7557497024536133,
          0.6274691224098206
         ],
         "y": [
          -0.6548605561256409,
          0.7786414623260498
         ]
        },
        {
         "mode": "lines",
         "type": "scatter",
         "x": [
          0.7557497024536133,
          -0.9942703247070312
         ],
         "y": [
          -0.6548605561256409,
          0.10689488053321838
         ]
        },
        {
         "mode": "lines",
         "type": "scatter",
         "x": [
          0.7557497024536133,
          -0.10689523816108704
         ],
         "y": [
          -0.6548605561256409,
          0.9942702651023865
         ]
        },
        {
         "mode": "lines",
         "type": "scatter",
         "x": [
          0.7557497024536133,
          -0.14231489598751068
         ],
         "y": [
          -0.6548605561256409,
          0.9898214340209961
         ]
        },
        {
         "mode": "lines",
         "type": "scatter",
         "x": [
          0.7557497024536133,
          -0.1775531768798828
         ],
         "y": [
          -0.6548605561256409,
          0.9841111898422241
         ]
        },
        {
         "mode": "lines",
         "type": "scatter",
         "x": [
          0.7557497024536133,
          -0.21256519854068756
         ],
         "y": [
          -0.6548605561256409,
          0.9771468639373779
         ]
        },
        {
         "mode": "lines",
         "type": "scatter",
         "x": [
          0.7557497024536133,
          -0.24730634689331055
         ],
         "y": [
          -0.6548605561256409,
          0.968937337398529
         ]
        },
        {
         "mode": "lines",
         "type": "scatter",
         "x": [
          0.7557497024536133,
          0.9942702651023865
         ],
         "y": [
          -0.6548605561256409,
          0.1068955510854721
         ]
        },
        {
         "mode": "lines",
         "type": "scatter",
         "x": [
          0.7786415815353394,
          0.7318944334983826
         ],
         "y": [
          -0.6274688839912415,
          0.6814180016517639
         ]
        },
        {
         "mode": "lines",
         "type": "scatter",
         "x": [
          0.7786415815353394,
          0.7071067690849304
         ],
         "y": [
          -0.6274688839912415,
          0.7071067690849304
         ]
        },
        {
         "mode": "lines",
         "type": "scatter",
         "x": [
          0.7786415815353394,
          0.4154147803783417
         ],
         "y": [
          -0.6274688839912415,
          0.9096320867538452
         ]
        },
        {
         "mode": "lines",
         "type": "scatter",
         "x": [
          0.7786415815353394,
          0.9974521398544312
         ],
         "y": [
          -0.6274688839912415,
          0.0713392123579979
         ]
        },
        {
         "mode": "lines",
         "type": "scatter",
         "x": [
          0.7786415815353394,
          0.10689457505941391
         ],
         "y": [
          -0.6274688839912415,
          0.994270384311676
         ]
        },
        {
         "mode": "lines",
         "type": "scatter",
         "x": [
          0.7786415815353394,
          0.6814179420471191
         ],
         "y": [
          -0.6274688839912415,
          0.7318944931030273
         ]
        },
        {
         "mode": "lines",
         "type": "scatter",
         "x": [
          0.7786415815353394,
          0.65486079454422
         ],
         "y": [
          -0.6274688839912415,
          0.755749523639679
         ]
        },
        {
         "mode": "lines",
         "type": "scatter",
         "x": [
          0.7786415815353394,
          0.5992778539657593
         ],
         "y": [
          -0.6274688839912415,
          0.8005411028862
         ]
        },
        {
         "mode": "lines",
         "type": "scatter",
         "x": [
          0.7786415815353394,
          -0.21256519854068756
         ],
         "y": [
          -0.6274688839912415,
          0.9771468639373779
         ]
        },
        {
         "mode": "lines",
         "type": "scatter",
         "x": [
          0.7786415815353394,
          -0.9974521398544312
         ],
         "y": [
          -0.6274688839912415,
          0.07133901864290237
         ]
        },
        {
         "mode": "lines",
         "type": "scatter",
         "x": [
          0.7786415815353394,
          0.9942702651023865
         ],
         "y": [
          -0.6274688839912415,
          0.1068955510854721
         ]
        },
        {
         "mode": "lines",
         "type": "scatter",
         "x": [
          0.8005412817001343,
          0.5406403541564941
         ],
         "y": [
          -0.5992776155471802,
          0.8412538170814514
         ]
        },
        {
         "mode": "lines",
         "type": "scatter",
         "x": [
          0.8005412817001343,
          0.8942251801490784
         ],
         "y": [
          -0.5992776155471802,
          0.44761738181114197
         ]
        },
        {
         "mode": "lines",
         "type": "scatter",
         "x": [
          0.8005412817001343,
          0.9096320271492004
         ],
         "y": [
          -0.5992776155471802,
          -0.4154149293899536
         ]
        },
        {
         "mode": "lines",
         "type": "scatter",
         "x": [
          0.8005412817001343,
          0.9771469235420227
         ],
         "y": [
          -0.5992776155471802,
          -0.21256515383720398
         ]
        },
        {
         "mode": "lines",
         "type": "scatter",
         "x": [
          0.8005412817001343,
          0.9841111898422241
         ],
         "y": [
          -0.5992776155471802,
          -0.17755313217639923
         ]
        },
        {
         "mode": "lines",
         "type": "scatter",
         "x": [
          0.8005412817001343,
          0.8214207887649536
         ],
         "y": [
          -0.5992776155471802,
          -0.5703226327896118
         ]
        },
        {
         "mode": "lines",
         "type": "scatter",
         "x": [
          0.8005412817001343,
          0.9898214340209961
         ],
         "y": [
          -0.5992776155471802,
          -0.1423148512840271
         ]
        },
        {
         "mode": "lines",
         "type": "scatter",
         "x": [
          0.8005412817001343,
          0.9942702651023865
         ],
         "y": [
          -0.5992776155471802,
          -0.10689520835876465
         ]
        },
        {
         "mode": "lines",
         "type": "scatter",
         "x": [
          0.8005412817001343,
          0.9993628263473511
         ],
         "y": [
          -0.5992776155471802,
          0.03569243848323822
         ]
        },
        {
         "mode": "lines",
         "type": "scatter",
         "x": [
          0.8005412817001343,
          0.8412534594535828
         ],
         "y": [
          -0.5992776155471802,
          -0.5406408905982971
         ]
        },
        {
         "mode": "lines",
         "type": "scatter",
         "x": [
          0.8005412817001343,
          0.8600141406059265
         ],
         "y": [
          -0.5992776155471802,
          -0.5102701783180237
         ]
        },
        {
         "mode": "lines",
         "type": "scatter",
         "x": [
          0.8005412817001343,
          0.8776788711547852
         ],
         "y": [
          -0.5992776155471802,
          -0.4792492091655731
         ]
        },
        {
         "mode": "lines",
         "type": "scatter",
         "x": [
          0.8005412817001343,
          0.9974520802497864
         ],
         "y": [
          -0.5992776155471802,
          -0.07133934646844864
         ]
        },
        {
         "mode": "lines",
         "type": "scatter",
         "x": [
          0.8005412817001343,
          -0.9488258361816406
         ],
         "y": [
          -0.5992776155471802,
          0.31579986214637756
         ]
        },
        {
         "mode": "lines",
         "type": "scatter",
         "x": [
          0.8005412817001343,
          0.8942253589630127
         ],
         "y": [
          -0.5992776155471802,
          -0.4476170539855957
         ]
        },
        {
         "mode": "lines",
         "type": "scatter",
         "x": [
          0.8214207887649536,
          0.5406403541564941
         ],
         "y": [
          -0.5703226327896118,
          0.8412538170814514
         ]
        },
        {
         "mode": "lines",
         "type": "scatter",
         "x": [
          0.8214207887649536,
          0.8942251801490784
         ],
         "y": [
          -0.5703226327896118,
          0.44761738181114197
         ]
        },
        {
         "mode": "lines",
         "type": "scatter",
         "x": [
          0.8214207887649536,
          0.9096320271492004
         ],
         "y": [
          -0.5703226327896118,
          -0.4154149293899536
         ]
        },
        {
         "mode": "lines",
         "type": "scatter",
         "x": [
          0.8214207887649536,
          0.34946408867836
         ],
         "y": [
          -0.5703226327896118,
          0.9369497299194336
         ]
        },
        {
         "mode": "lines",
         "type": "scatter",
         "x": [
          0.8214207887649536,
          -0.5102702379226685
         ],
         "y": [
          -0.5703226327896118,
          0.8600141406059265
         ]
        },
        {
         "mode": "lines",
         "type": "scatter",
         "x": [
          0.8214207887649536,
          0.3157995641231537
         ],
         "y": [
          -0.5703226327896118,
          0.9488259553909302
         ]
        },
        {
         "mode": "lines",
         "type": "scatter",
         "x": [
          0.8214207887649536,
          0.9771469235420227
         ],
         "y": [
          -0.5703226327896118,
          -0.21256515383720398
         ]
        },
        {
         "mode": "lines",
         "type": "scatter",
         "x": [
          0.8214207887649536,
          0.9841111898422241
         ],
         "y": [
          -0.5703226327896118,
          -0.17755313217639923
         ]
        },
        {
         "mode": "lines",
         "type": "scatter",
         "x": [
          0.8214207887649536,
          0.9898214340209961
         ],
         "y": [
          -0.5703226327896118,
          -0.1423148512840271
         ]
        },
        {
         "mode": "lines",
         "type": "scatter",
         "x": [
          0.8214207887649536,
          0.9942702651023865
         ],
         "y": [
          -0.5703226327896118,
          -0.10689520835876465
         ]
        },
        {
         "mode": "lines",
         "type": "scatter",
         "x": [
          0.8214207887649536,
          0.9993628263473511
         ],
         "y": [
          -0.5703226327896118,
          0.03569243848323822
         ]
        },
        {
         "mode": "lines",
         "type": "scatter",
         "x": [
          0.8214207887649536,
          0.8412534594535828
         ],
         "y": [
          -0.5703226327896118,
          -0.5406408905982971
         ]
        },
        {
         "mode": "lines",
         "type": "scatter",
         "x": [
          0.8214207887649536,
          0.8600141406059265
         ],
         "y": [
          -0.5703226327896118,
          -0.5102701783180237
         ]
        },
        {
         "mode": "lines",
         "type": "scatter",
         "x": [
          0.8214207887649536,
          0.8776788711547852
         ],
         "y": [
          -0.5703226327896118,
          -0.4792492091655731
         ]
        },
        {
         "mode": "lines",
         "type": "scatter",
         "x": [
          0.8214207887649536,
          0.9974520802497864
         ],
         "y": [
          -0.5703226327896118,
          -0.07133934646844864
         ]
        },
        {
         "mode": "lines",
         "type": "scatter",
         "x": [
          0.8214207887649536,
          -0.5703226923942566
         ],
         "y": [
          -0.5703226327896118,
          0.8214207291603088
         ]
        },
        {
         "mode": "lines",
         "type": "scatter",
         "x": [
          0.8214207887649536,
          -0.599277675151825
         ],
         "y": [
          -0.5703226327896118,
          0.8005412220954895
         ]
        },
        {
         "mode": "lines",
         "type": "scatter",
         "x": [
          0.8214207887649536,
          0.1775534451007843
         ],
         "y": [
          -0.5703226327896118,
          0.9841111302375793
         ]
        },
        {
         "mode": "lines",
         "type": "scatter",
         "x": [
          0.8214207887649536,
          -0.9488258361816406
         ],
         "y": [
          -0.5703226327896118,
          0.31579986214637756
         ]
        },
        {
         "mode": "lines",
         "type": "scatter",
         "x": [
          0.8214207887649536,
          0.8942253589630127
         ],
         "y": [
          -0.5703226327896118,
          -0.4476170539855957
         ]
        },
        {
         "mode": "lines",
         "type": "scatter",
         "x": [
          0.8412534594535828,
          0.8942251801490784
         ],
         "y": [
          -0.5406408905982971,
          0.44761738181114197
         ]
        },
        {
         "mode": "lines",
         "type": "scatter",
         "x": [
          0.8412534594535828,
          0.9771469235420227
         ],
         "y": [
          -0.5406408905982971,
          -0.21256515383720398
         ]
        },
        {
         "mode": "lines",
         "type": "scatter",
         "x": [
          0.8412534594535828,
          0.9841111898422241
         ],
         "y": [
          -0.5406408905982971,
          -0.17755313217639923
         ]
        },
        {
         "mode": "lines",
         "type": "scatter",
         "x": [
          0.8412534594535828,
          0.9898214340209961
         ],
         "y": [
          -0.5406408905982971,
          -0.1423148512840271
         ]
        },
        {
         "mode": "lines",
         "type": "scatter",
         "x": [
          0.8412534594535828,
          0.9942702651023865
         ],
         "y": [
          -0.5406408905982971,
          -0.10689520835876465
         ]
        },
        {
         "mode": "lines",
         "type": "scatter",
         "x": [
          0.8412534594535828,
          0.9993628263473511
         ],
         "y": [
          -0.5406408905982971,
          0.03569243848323822
         ]
        },
        {
         "mode": "lines",
         "type": "scatter",
         "x": [
          0.8412534594535828,
          0.8600141406059265
         ],
         "y": [
          -0.5406408905982971,
          -0.5102701783180237
         ]
        },
        {
         "mode": "lines",
         "type": "scatter",
         "x": [
          0.8412534594535828,
          0.8776788711547852
         ],
         "y": [
          -0.5406408905982971,
          -0.4792492091655731
         ]
        },
        {
         "mode": "lines",
         "type": "scatter",
         "x": [
          0.8412534594535828,
          0.9974520802497864
         ],
         "y": [
          -0.5406408905982971,
          -0.07133934646844864
         ]
        },
        {
         "mode": "lines",
         "type": "scatter",
         "x": [
          0.8412534594535828,
          0.8942253589630127
         ],
         "y": [
          -0.5406408905982971,
          -0.4476170539855957
         ]
        },
        {
         "mode": "lines",
         "type": "scatter",
         "x": [
          0.8600141406059265,
          0.8942251801490784
         ],
         "y": [
          -0.5102701783180237,
          0.44761738181114197
         ]
        },
        {
         "mode": "lines",
         "type": "scatter",
         "x": [
          0.8600141406059265,
          0.9771469235420227
         ],
         "y": [
          -0.5102701783180237,
          -0.21256515383720398
         ]
        },
        {
         "mode": "lines",
         "type": "scatter",
         "x": [
          0.8600141406059265,
          0.9898214340209961
         ],
         "y": [
          -0.5102701783180237,
          -0.1423148512840271
         ]
        },
        {
         "mode": "lines",
         "type": "scatter",
         "x": [
          0.8600141406059265,
          0.9942702651023865
         ],
         "y": [
          -0.5102701783180237,
          -0.10689520835876465
         ]
        },
        {
         "mode": "lines",
         "type": "scatter",
         "x": [
          0.8600141406059265,
          0.9993628263473511
         ],
         "y": [
          -0.5102701783180237,
          0.03569243848323822
         ]
        },
        {
         "mode": "lines",
         "type": "scatter",
         "x": [
          0.8600141406059265,
          0.8776788711547852
         ],
         "y": [
          -0.5102701783180237,
          -0.4792492091655731
         ]
        },
        {
         "mode": "lines",
         "type": "scatter",
         "x": [
          0.8600141406059265,
          0.9974520802497864
         ],
         "y": [
          -0.5102701783180237,
          -0.07133934646844864
         ]
        },
        {
         "mode": "lines",
         "type": "scatter",
         "x": [
          0.8600141406059265,
          0.8942253589630127
         ],
         "y": [
          -0.5102701783180237,
          -0.4476170539855957
         ]
        },
        {
         "mode": "lines",
         "type": "scatter",
         "x": [
          0.8776788711547852,
          0.8942251801490784
         ],
         "y": [
          -0.4792492091655731,
          0.44761738181114197
         ]
        },
        {
         "mode": "lines",
         "type": "scatter",
         "x": [
          0.8776788711547852,
          0.9771469235420227
         ],
         "y": [
          -0.4792492091655731,
          -0.21256515383720398
         ]
        },
        {
         "mode": "lines",
         "type": "scatter",
         "x": [
          0.8776788711547852,
          0.9841111898422241
         ],
         "y": [
          -0.4792492091655731,
          -0.17755313217639923
         ]
        },
        {
         "mode": "lines",
         "type": "scatter",
         "x": [
          0.8776788711547852,
          0.9898214340209961
         ],
         "y": [
          -0.4792492091655731,
          -0.1423148512840271
         ]
        },
        {
         "mode": "lines",
         "type": "scatter",
         "x": [
          0.8776788711547852,
          0.9942702651023865
         ],
         "y": [
          -0.4792492091655731,
          -0.10689520835876465
         ]
        },
        {
         "mode": "lines",
         "type": "scatter",
         "x": [
          0.8776788711547852,
          0.9993628263473511
         ],
         "y": [
          -0.4792492091655731,
          0.03569243848323822
         ]
        },
        {
         "mode": "lines",
         "type": "scatter",
         "x": [
          0.8776788711547852,
          0.9974520802497864
         ],
         "y": [
          -0.4792492091655731,
          -0.07133934646844864
         ]
        },
        {
         "mode": "lines",
         "type": "scatter",
         "x": [
          0.8776788711547852,
          0.8942253589630127
         ],
         "y": [
          -0.4792492091655731,
          -0.4476170539855957
         ]
        },
        {
         "mode": "lines",
         "type": "scatter",
         "x": [
          0.8942253589630127,
          0.5406403541564941
         ],
         "y": [
          -0.4476170539855957,
          0.8412538170814514
         ]
        },
        {
         "mode": "lines",
         "type": "scatter",
         "x": [
          0.8942253589630127,
          0.9771469235420227
         ],
         "y": [
          -0.4476170539855957,
          -0.21256515383720398
         ]
        },
        {
         "mode": "lines",
         "type": "scatter",
         "x": [
          0.8942253589630127,
          0.9841111898422241
         ],
         "y": [
          -0.4476170539855957,
          -0.17755313217639923
         ]
        },
        {
         "mode": "lines",
         "type": "scatter",
         "x": [
          0.8942253589630127,
          0.9898214340209961
         ],
         "y": [
          -0.4476170539855957,
          -0.1423148512840271
         ]
        },
        {
         "mode": "lines",
         "type": "scatter",
         "x": [
          0.8942253589630127,
          0.9993628263473511
         ],
         "y": [
          -0.4476170539855957,
          0.03569243848323822
         ]
        },
        {
         "mode": "lines",
         "type": "scatter",
         "x": [
          0.8942253589630127,
          0.9974520802497864
         ],
         "y": [
          -0.4476170539855957,
          -0.07133934646844864
         ]
        },
        {
         "mode": "lines",
         "type": "scatter",
         "x": [
          0.9096320271492004,
          -0.3494638204574585
         ],
         "y": [
          -0.4154149293899536,
          0.9369498491287231
         ]
        },
        {
         "mode": "lines",
         "type": "scatter",
         "x": [
          0.9096320271492004,
          0.948826014995575
         ],
         "y": [
          -0.4154149293899536,
          -0.3157992660999298
         ]
        },
        {
         "mode": "lines",
         "type": "scatter",
         "x": [
          0.9096320271492004,
          0.9594930410385132
         ],
         "y": [
          -0.4154149293899536,
          -0.2817322909832001
         ]
        },
        {
         "mode": "lines",
         "type": "scatter",
         "x": [
          0.9096320271492004,
          0.968937337398529
         ],
         "y": [
          -0.4154149293899536,
          -0.24730630218982697
         ]
        },
        {
         "mode": "lines",
         "type": "scatter",
         "x": [
          0.9096320271492004,
          -0.4792492091655731
         ],
         "y": [
          -0.4154149293899536,
          0.8776788711547852
         ]
        },
        {
         "mode": "lines",
         "type": "scatter",
         "x": [
          0.9096320271492004,
          0.9771469235420227
         ],
         "y": [
          -0.4154149293899536,
          -0.21256515383720398
         ]
        },
        {
         "mode": "lines",
         "type": "scatter",
         "x": [
          0.9096320271492004,
          0.9841111898422241
         ],
         "y": [
          -0.4154149293899536,
          -0.17755313217639923
         ]
        },
        {
         "mode": "lines",
         "type": "scatter",
         "x": [
          0.9096320271492004,
          0.9898214340209961
         ],
         "y": [
          -0.4154149293899536,
          -0.1423148512840271
         ]
        },
        {
         "mode": "lines",
         "type": "scatter",
         "x": [
          0.9096320271492004,
          0.9942702651023865
         ],
         "y": [
          -0.4154149293899536,
          -0.10689520835876465
         ]
        },
        {
         "mode": "lines",
         "type": "scatter",
         "x": [
          0.9096320271492004,
          0.9974520802497864
         ],
         "y": [
          -0.4154149293899536,
          -0.07133934646844864
         ]
        },
        {
         "mode": "lines",
         "type": "scatter",
         "x": [
          0.9096320271492004,
          0.9771468043327332
         ],
         "y": [
          -0.4154149293899536,
          0.21256551146507263
         ]
        },
        {
         "mode": "lines",
         "type": "scatter",
         "x": [
          0.9238795638084412,
          0.5406403541564941
         ],
         "y": [
          -0.3826834261417389,
          0.8412538170814514
         ]
        },
        {
         "mode": "lines",
         "type": "scatter",
         "x": [
          0.9238795638084412,
          0.9369498491287231
         ],
         "y": [
          -0.3826834261417389,
          -0.3494637906551361
         ]
        },
        {
         "mode": "lines",
         "type": "scatter",
         "x": [
          0.9238795638084412,
          0.9594930410385132
         ],
         "y": [
          -0.3826834261417389,
          -0.2817322909832001
         ]
        },
        {
         "mode": "lines",
         "type": "scatter",
         "x": [
          0.9238795638084412,
          0.44761693477630615
         ],
         "y": [
          -0.3826834261417389,
          0.8942254185676575
         ]
        },
        {
         "mode": "lines",
         "type": "scatter",
         "x": [
          0.9238795638084412,
          0.4154147803783417
         ],
         "y": [
          -0.3826834261417389,
          0.9096320867538452
         ]
        },
        {
         "mode": "lines",
         "type": "scatter",
         "x": [
          0.9238795638084412,
          -0.5406409502029419
         ],
         "y": [
          -0.3826834261417389,
          0.8412534594535828
         ]
        },
        {
         "mode": "lines",
         "type": "scatter",
         "x": [
          0.9238795638084412,
          0.24730660021305084
         ],
         "y": [
          -0.3826834261417389,
          0.9689372777938843
         ]
        },
        {
         "mode": "lines",
         "type": "scatter",
         "x": [
          0.9238795638084412,
          -0.9488258361816406
         ],
         "y": [
          -0.3826834261417389,
          0.31579986214637756
         ]
        },
        {
         "mode": "lines",
         "type": "scatter",
         "x": [
          0.9238795638084412,
          -0.9942703247070312
         ],
         "y": [
          -0.3826834261417389,
          0.10689488053321838
         ]
        },
        {
         "mode": "lines",
         "type": "scatter",
         "x": [
          0.9238795638084412,
          -0.07133937627077103
         ],
         "y": [
          -0.3826834261417389,
          0.9974520802497864
         ]
        },
        {
         "mode": "lines",
         "type": "scatter",
         "x": [
          0.9238795638084412,
          -0.21256519854068756
         ],
         "y": [
          -0.3826834261417389,
          0.9771468639373779
         ]
        },
        {
         "mode": "lines",
         "type": "scatter",
         "x": [
          0.9238795638084412,
          -0.24730634689331055
         ],
         "y": [
          -0.3826834261417389,
          0.968937337398529
         ]
        },
        {
         "mode": "lines",
         "type": "scatter",
         "x": [
          0.9238795638084412,
          -0.9974521398544312
         ],
         "y": [
          -0.3826834261417389,
          0.07133901864290237
         ]
        },
        {
         "mode": "lines",
         "type": "scatter",
         "x": [
          0.9369498491287231,
          0.5406403541564941
         ],
         "y": [
          -0.3494637906551361,
          0.8412538170814514
         ]
        },
        {
         "mode": "lines",
         "type": "scatter",
         "x": [
          0.9369498491287231,
          0.948826014995575
         ],
         "y": [
          -0.3494637906551361,
          -0.3157992660999298
         ]
        },
        {
         "mode": "lines",
         "type": "scatter",
         "x": [
          0.9369498491287231,
          0.9594930410385132
         ],
         "y": [
          -0.3494637906551361,
          -0.2817322909832001
         ]
        },
        {
         "mode": "lines",
         "type": "scatter",
         "x": [
          0.9369498491287231,
          0.4154147803783417
         ],
         "y": [
          -0.3494637906551361,
          0.9096320867538452
         ]
        },
        {
         "mode": "lines",
         "type": "scatter",
         "x": [
          0.9369498491287231,
          0.24730660021305084
         ],
         "y": [
          -0.3494637906551361,
          0.9689372777938843
         ]
        },
        {
         "mode": "lines",
         "type": "scatter",
         "x": [
          0.9369498491287231,
          -0.07133937627077103
         ],
         "y": [
          -0.3494637906551361,
          0.9974520802497864
         ]
        },
        {
         "mode": "lines",
         "type": "scatter",
         "x": [
          0.9369498491287231,
          -0.21256519854068756
         ],
         "y": [
          -0.3494637906551361,
          0.9771468639373779
         ]
        },
        {
         "mode": "lines",
         "type": "scatter",
         "x": [
          0.9369498491287231,
          -0.9974521398544312
         ],
         "y": [
          -0.3494637906551361,
          0.07133901864290237
         ]
        },
        {
         "mode": "lines",
         "type": "scatter",
         "x": [
          0.948826014995575,
          -0.3494638204574585
         ],
         "y": [
          -0.3157992660999298,
          0.9369498491287231
         ]
        },
        {
         "mode": "lines",
         "type": "scatter",
         "x": [
          0.948826014995575,
          0.9594930410385132
         ],
         "y": [
          -0.3157992660999298,
          -0.2817322909832001
         ]
        },
        {
         "mode": "lines",
         "type": "scatter",
         "x": [
          0.948826014995575,
          0.968937337398529
         ],
         "y": [
          -0.3157992660999298,
          -0.24730630218982697
         ]
        },
        {
         "mode": "lines",
         "type": "scatter",
         "x": [
          0.948826014995575,
          0.44761693477630615
         ],
         "y": [
          -0.3157992660999298,
          0.8942254185676575
         ]
        },
        {
         "mode": "lines",
         "type": "scatter",
         "x": [
          0.948826014995575,
          0.4154147803783417
         ],
         "y": [
          -0.3157992660999298,
          0.9096320867538452
         ]
        },
        {
         "mode": "lines",
         "type": "scatter",
         "x": [
          0.948826014995575,
          0.24730660021305084
         ],
         "y": [
          -0.3157992660999298,
          0.9689372777938843
         ]
        },
        {
         "mode": "lines",
         "type": "scatter",
         "x": [
          0.948826014995575,
          -0.6814177632331848
         ],
         "y": [
          -0.3157992660999298,
          0.7318946719169617
         ]
        },
        {
         "mode": "lines",
         "type": "scatter",
         "x": [
          0.9594930410385132,
          0.7071067690849304
         ],
         "y": [
          -0.2817322909832001,
          0.7071067690849304
         ]
        },
        {
         "mode": "lines",
         "type": "scatter",
         "x": [
          0.9594930410385132,
          -0.3494638204574585
         ],
         "y": [
          -0.2817322909832001,
          0.9369498491287231
         ]
        },
        {
         "mode": "lines",
         "type": "scatter",
         "x": [
          0.9594930410385132,
          0.968937337398529
         ],
         "y": [
          -0.2817322909832001,
          -0.24730630218982697
         ]
        },
        {
         "mode": "lines",
         "type": "scatter",
         "x": [
          0.9594930410385132,
          0.4154147803783417
         ],
         "y": [
          -0.2817322909832001,
          0.9096320867538452
         ]
        },
        {
         "mode": "lines",
         "type": "scatter",
         "x": [
          0.9594930410385132,
          -0.4792492091655731
         ],
         "y": [
          -0.2817322909832001,
          0.8776788711547852
         ]
        },
        {
         "mode": "lines",
         "type": "scatter",
         "x": [
          0.9594930410385132,
          -0.5102702379226685
         ],
         "y": [
          -0.2817322909832001,
          0.8600141406059265
         ]
        },
        {
         "mode": "lines",
         "type": "scatter",
         "x": [
          0.9594930410385132,
          0.3157995641231537
         ],
         "y": [
          -0.2817322909832001,
          0.9488259553909302
         ]
        },
        {
         "mode": "lines",
         "type": "scatter",
         "x": [
          0.9594930410385132,
          0.9974521398544312
         ],
         "y": [
          -0.2817322909832001,
          0.0713392123579979
         ]
        },
        {
         "mode": "lines",
         "type": "scatter",
         "x": [
          0.9594930410385132,
          -0.8412536382675171
         ],
         "y": [
          -0.2817322909832001,
          0.540640652179718
         ]
        },
        {
         "mode": "lines",
         "type": "scatter",
         "x": [
          0.9594930410385132,
          0.21256546676158905
         ],
         "y": [
          -0.2817322909832001,
          0.9771468043327332
         ]
        },
        {
         "mode": "lines",
         "type": "scatter",
         "x": [
          0.9594930410385132,
          -0.8600143194198608
         ],
         "y": [
          -0.2817322909832001,
          0.5102699398994446
         ]
        },
        {
         "mode": "lines",
         "type": "scatter",
         "x": [
          0.9594930410385132,
          0.1775534451007843
         ],
         "y": [
          -0.2817322909832001,
          0.9841111302375793
         ]
        },
        {
         "mode": "lines",
         "type": "scatter",
         "x": [
          0.9594930410385132,
          -0.9942703247070312
         ],
         "y": [
          -0.2817322909832001,
          0.10689488053321838
         ]
        },
        {
         "mode": "lines",
         "type": "scatter",
         "x": [
          0.968937337398529,
          -0.3494638204574585
         ],
         "y": [
          -0.24730630218982697,
          0.9369498491287231
         ]
        },
        {
         "mode": "lines",
         "type": "scatter",
         "x": [
          0.9771469235420227,
          0.5406403541564941
         ],
         "y": [
          -0.21256515383720398,
          0.8412538170814514
         ]
        },
        {
         "mode": "lines",
         "type": "scatter",
         "x": [
          0.9771469235420227,
          0.8942251801490784
         ],
         "y": [
          -0.21256515383720398,
          0.44761738181114197
         ]
        },
        {
         "mode": "lines",
         "type": "scatter",
         "x": [
          0.9771469235420227,
          0.9841111898422241
         ],
         "y": [
          -0.21256515383720398,
          -0.17755313217639923
         ]
        },
        {
         "mode": "lines",
         "type": "scatter",
         "x": [
          0.9771469235420227,
          0.9898214340209961
         ],
         "y": [
          -0.21256515383720398,
          -0.1423148512840271
         ]
        },
        {
         "mode": "lines",
         "type": "scatter",
         "x": [
          0.9771469235420227,
          0.9942702651023865
         ],
         "y": [
          -0.21256515383720398,
          -0.10689520835876465
         ]
        },
        {
         "mode": "lines",
         "type": "scatter",
         "x": [
          0.9771469235420227,
          0.9993628263473511
         ],
         "y": [
          -0.21256515383720398,
          0.03569243848323822
         ]
        },
        {
         "mode": "lines",
         "type": "scatter",
         "x": [
          0.9771469235420227,
          0.9974520802497864
         ],
         "y": [
          -0.21256515383720398,
          -0.07133934646844864
         ]
        },
        {
         "mode": "lines",
         "type": "scatter",
         "x": [
          0.9771469235420227,
          -0.9488258361816406
         ],
         "y": [
          -0.21256515383720398,
          0.31579986214637756
         ]
        },
        {
         "mode": "lines",
         "type": "scatter",
         "x": [
          0.9841111898422241,
          0.9898214340209961
         ],
         "y": [
          -0.17755313217639923,
          -0.1423148512840271
         ]
        },
        {
         "mode": "lines",
         "type": "scatter",
         "x": [
          0.9841111898422241,
          0.9942702651023865
         ],
         "y": [
          -0.17755313217639923,
          -0.10689520835876465
         ]
        },
        {
         "mode": "lines",
         "type": "scatter",
         "x": [
          0.9841111898422241,
          0.9993628263473511
         ],
         "y": [
          -0.17755313217639923,
          0.03569243848323822
         ]
        },
        {
         "mode": "lines",
         "type": "scatter",
         "x": [
          0.9841111898422241,
          0.9974520802497864
         ],
         "y": [
          -0.17755313217639923,
          -0.07133934646844864
         ]
        },
        {
         "mode": "lines",
         "type": "scatter",
         "x": [
          0.9841111898422241,
          -0.9488258361816406
         ],
         "y": [
          -0.17755313217639923,
          0.31579986214637756
         ]
        },
        {
         "mode": "lines",
         "type": "scatter",
         "x": [
          0.9898214340209961,
          -0.3826838731765747
         ],
         "y": [
          -0.1423148512840271,
          0.9238793253898621
         ]
        },
        {
         "mode": "lines",
         "type": "scatter",
         "x": [
          0.9898214340209961,
          0.9898213744163513
         ],
         "y": [
          -0.1423148512840271,
          0.14231520891189575
         ]
        },
        {
         "mode": "lines",
         "type": "scatter",
         "x": [
          0.9898214340209961,
          -0.41541537642478943
         ],
         "y": [
          -0.1423148512840271,
          0.9096318483352661
         ]
        },
        {
         "mode": "lines",
         "type": "scatter",
         "x": [
          0.9898214340209961,
          0.44761693477630615
         ],
         "y": [
          -0.1423148512840271,
          0.8942254185676575
         ]
        },
        {
         "mode": "lines",
         "type": "scatter",
         "x": [
          0.9898214340209961,
          -0.4476175308227539
         ],
         "y": [
          -0.1423148512840271,
          0.8942251205444336
         ]
        },
        {
         "mode": "lines",
         "type": "scatter",
         "x": [
          0.9898214340209961,
          0.38268327713012695
         ],
         "y": [
          -0.1423148512840271,
          0.9238796234130859
         ]
        },
        {
         "mode": "lines",
         "type": "scatter",
         "x": [
          0.9898214340209961,
          0.9942702651023865
         ],
         "y": [
          -0.1423148512840271,
          -0.10689520835876465
         ]
        },
        {
         "mode": "lines",
         "type": "scatter",
         "x": [
          0.9898214340209961,
          0.9993628263473511
         ],
         "y": [
          -0.1423148512840271,
          0.03569243848323822
         ]
        },
        {
         "mode": "lines",
         "type": "scatter",
         "x": [
          0.9898214340209961,
          0.9974520802497864
         ],
         "y": [
          -0.1423148512840271,
          -0.07133934646844864
         ]
        },
        {
         "mode": "lines",
         "type": "scatter",
         "x": [
          0.9898214340209961,
          -0.6274689435958862
         ],
         "y": [
          -0.1423148512840271,
          0.7786415815353394
         ]
        },
        {
         "mode": "lines",
         "type": "scatter",
         "x": [
          0.9898214340209961,
          -0.6548606157302856
         ],
         "y": [
          -0.1423148512840271,
          0.7557497024536133
         ]
        },
        {
         "mode": "lines",
         "type": "scatter",
         "x": [
          0.9898214340209961,
          -0.9488258361816406
         ],
         "y": [
          -0.1423148512840271,
          0.31579986214637756
         ]
        },
        {
         "mode": "lines",
         "type": "scatter",
         "x": [
          0.9898214340209961,
          -0.6814177632331848
         ],
         "y": [
          -0.1423148512840271,
          0.7318946719169617
         ]
        },
        {
         "mode": "lines",
         "type": "scatter",
         "x": [
          0.9942702651023865,
          0.5406403541564941
         ],
         "y": [
          -0.10689520835876465,
          0.8412538170814514
         ]
        },
        {
         "mode": "lines",
         "type": "scatter",
         "x": [
          0.9942702651023865,
          0.8942251801490784
         ],
         "y": [
          -0.10689520835876465,
          0.44761738181114197
         ]
        },
        {
         "mode": "lines",
         "type": "scatter",
         "x": [
          0.9942702651023865,
          0.9993628263473511
         ],
         "y": [
          -0.10689520835876465,
          0.03569243848323822
         ]
        },
        {
         "mode": "lines",
         "type": "scatter",
         "x": [
          0.9942702651023865,
          0.9974520802497864
         ],
         "y": [
          -0.10689520835876465,
          -0.07133934646844864
         ]
        },
        {
         "mode": "lines",
         "type": "scatter",
         "x": [
          0.9974520802497864,
          0.5406403541564941
         ],
         "y": [
          -0.07133934646844864,
          0.8412538170814514
         ]
        },
        {
         "mode": "lines",
         "type": "scatter",
         "x": [
          0.9974520802497864,
          0.8942251801490784
         ],
         "y": [
          -0.07133934646844864,
          0.44761738181114197
         ]
        },
        {
         "mode": "lines",
         "type": "scatter",
         "x": [
          0.9974520802497864,
          0.9993628263473511
         ],
         "y": [
          -0.07133934646844864,
          0.03569243848323822
         ]
        },
        {
         "mode": "lines",
         "type": "scatter",
         "x": [
          0.9974520802497864,
          -0.9488258361816406
         ],
         "y": [
          -0.07133934646844864,
          0.31579986214637756
         ]
        },
        {
         "mode": "lines",
         "type": "scatter",
         "x": [
          0.9993628263473511,
          0.5406403541564941
         ],
         "y": [
          -0.03569256514310837,
          0.8412538170814514
         ]
        },
        {
         "mode": "lines",
         "type": "scatter",
         "x": [
          0.9993628263473511,
          0.8600142002105713
         ],
         "y": [
          -0.03569256514310837,
          0.5102700591087341
         ]
        },
        {
         "mode": "lines",
         "type": "scatter",
         "x": [
          0.9993628263473511,
          0.9238795638084412
         ],
         "y": [
          -0.03569256514310837,
          0.38268330693244934
         ]
        },
        {
         "mode": "lines",
         "type": "scatter",
         "x": [
          0.9993628263473511,
          0.8214205503463745
         ],
         "y": [
          -0.03569256514310837,
          0.5703229308128357
         ]
        },
        {
         "mode": "lines",
         "type": "scatter",
         "x": [
          0.9993628263473511,
          0.8005410432815552
         ],
         "y": [
          -0.03569256514310837,
          0.599277913570404
         ]
        },
        {
         "mode": "lines",
         "type": "scatter",
         "x": [
          0.9993628263473511,
          0.47924864292144775
         ],
         "y": [
          -0.03569256514310837,
          0.877679169178009
         ]
        },
        {
         "mode": "lines",
         "type": "scatter",
         "x": [
          0.9993628263473511,
          1
         ],
         "y": [
          -0.03569256514310837,
          1.7484555314695172e-7
         ]
        },
        {
         "mode": "lines",
         "type": "scatter",
         "x": [
          0.9993628263473511,
          0.44761693477630615
         ],
         "y": [
          -0.03569256514310837,
          0.8942254185676575
         ]
        },
        {
         "mode": "lines",
         "type": "scatter",
         "x": [
          0.9993628263473511,
          0.34946408867836
         ],
         "y": [
          -0.03569256514310837,
          0.9369497299194336
         ]
        },
        {
         "mode": "lines",
         "type": "scatter",
         "x": [
          0.9993628263473511,
          0.9993628263473511
         ],
         "y": [
          -0.03569256514310837,
          0.03569243848323822
         ]
        },
        {
         "mode": "lines",
         "type": "scatter",
         "x": [
          0.9993628263473511,
          0.778641402721405
         ],
         "y": [
          -0.03569256514310837,
          0.6274691820144653
         ]
        },
        {
         "mode": "lines",
         "type": "scatter",
         "x": [
          0.9993628263473511,
          -0.6814177632331848
         ],
         "y": [
          -0.03569256514310837,
          0.7318946719169617
         ]
        },
        {
         "mode": "lines",
         "type": "scatter",
         "x": [
          0.9993628263473511,
          -3.3776623808989825e-7
         ],
         "y": [
          -0.03569256514310837,
          1
         ]
        },
        {
         "mode": "lines",
         "type": "scatter",
         "x": [
          1,
          0.5406403541564941
         ],
         "y": [
          1.7484555314695172e-7,
          0.8412538170814514
         ]
        },
        {
         "mode": "lines",
         "type": "scatter",
         "x": [
          1,
          0.9096320867538452
         ],
         "y": [
          1.7484555314695172e-7,
          0.41541481018066406
         ]
        },
        {
         "mode": "lines",
         "type": "scatter",
         "x": [
          1,
          0.8942251801490784
         ],
         "y": [
          1.7484555314695172e-7,
          0.44761738181114197
         ]
        },
        {
         "mode": "lines",
         "type": "scatter",
         "x": [
          1,
          0.8776789307594299
         ],
         "y": [
          1.7484555314695172e-7,
          0.47924908995628357
         ]
        },
        {
         "mode": "lines",
         "type": "scatter",
         "x": [
          1,
          0.8600142002105713
         ],
         "y": [
          1.7484555314695172e-7,
          0.5102700591087341
         ]
        },
        {
         "mode": "lines",
         "type": "scatter",
         "x": [
          1,
          0.8412535190582275
         ],
         "y": [
          1.7484555314695172e-7,
          0.5406407713890076
         ]
        },
        {
         "mode": "lines",
         "type": "scatter",
         "x": [
          1,
          0.9238795638084412
         ],
         "y": [
          1.7484555314695172e-7,
          0.38268330693244934
         ]
        },
        {
         "mode": "lines",
         "type": "scatter",
         "x": [
          1,
          0.8214205503463745
         ],
         "y": [
          1.7484555314695172e-7,
          0.5703229308128357
         ]
        },
        {
         "mode": "lines",
         "type": "scatter",
         "x": [
          1,
          0.8005410432815552
         ],
         "y": [
          1.7484555314695172e-7,
          0.599277913570404
         ]
        },
        {
         "mode": "lines",
         "type": "scatter",
         "x": [
          1,
          0.47924864292144775
         ],
         "y": [
          1.7484555314695172e-7,
          0.877679169178009
         ]
        },
        {
         "mode": "lines",
         "type": "scatter",
         "x": [
          1,
          0.778641402721405
         ],
         "y": [
          1.7484555314695172e-7,
          0.6274691820144653
         ]
        },
        {
         "mode": "lines",
         "type": "scatter",
         "x": [
          1,
          0.7557494640350342
         ],
         "y": [
          1.7484555314695172e-7,
          0.6548608541488647
         ]
        },
        {
         "mode": "lines",
         "type": "scatter",
         "x": [
          1,
          -0.9689374566078186
         ],
         "y": [
          1.7484555314695172e-7,
          0.2473059892654419
         ]
        },
        {
         "mode": "lines",
         "type": "scatter",
         "x": [
          1,
          -0.9771469831466675
         ],
         "y": [
          1.7484555314695172e-7,
          0.2125648409128189
         ]
        },
        {
         "mode": "lines",
         "type": "scatter",
         "x": [
          1,
          -0.035692598670721054
         ],
         "y": [
          1.7484555314695172e-7,
          0.9993628263473511
         ]
        },
        {
         "mode": "lines",
         "type": "scatter",
         "x": [
          0.9993628263473511,
          0.5406403541564941
         ],
         "y": [
          0.03569243848323822,
          0.8412538170814514
         ]
        },
        {
         "mode": "lines",
         "type": "scatter",
         "x": [
          0.9993628263473511,
          0.9096320867538452
         ],
         "y": [
          0.03569243848323822,
          0.41541481018066406
         ]
        },
        {
         "mode": "lines",
         "type": "scatter",
         "x": [
          0.9993628263473511,
          0.8942251801490784
         ],
         "y": [
          0.03569243848323822,
          0.44761738181114197
         ]
        },
        {
         "mode": "lines",
         "type": "scatter",
         "x": [
          0.9993628263473511,
          0.8776789307594299
         ],
         "y": [
          0.03569243848323822,
          0.47924908995628357
         ]
        },
        {
         "mode": "lines",
         "type": "scatter",
         "x": [
          0.9993628263473511,
          0.8600142002105713
         ],
         "y": [
          0.03569243848323822,
          0.5102700591087341
         ]
        },
        {
         "mode": "lines",
         "type": "scatter",
         "x": [
          0.9993628263473511,
          0.8412535190582275
         ],
         "y": [
          0.03569243848323822,
          0.5406407713890076
         ]
        },
        {
         "mode": "lines",
         "type": "scatter",
         "x": [
          0.9993628263473511,
          -0.3494638204574585
         ],
         "y": [
          0.03569243848323822,
          0.9369498491287231
         ]
        },
        {
         "mode": "lines",
         "type": "scatter",
         "x": [
          0.9993628263473511,
          0.9238795638084412
         ],
         "y": [
          0.03569243848323822,
          0.38268330693244934
         ]
        },
        {
         "mode": "lines",
         "type": "scatter",
         "x": [
          0.9993628263473511,
          0.8214205503463745
         ],
         "y": [
          0.03569243848323822,
          0.5703229308128357
         ]
        },
        {
         "mode": "lines",
         "type": "scatter",
         "x": [
          0.9993628263473511,
          0.8005410432815552
         ],
         "y": [
          0.03569243848323822,
          0.599277913570404
         ]
        },
        {
         "mode": "lines",
         "type": "scatter",
         "x": [
          0.9993628263473511,
          -0.3826838731765747
         ],
         "y": [
          0.03569243848323822,
          0.9238793253898621
         ]
        },
        {
         "mode": "lines",
         "type": "scatter",
         "x": [
          0.9993628263473511,
          0.9898213744163513
         ],
         "y": [
          0.03569243848323822,
          0.14231520891189575
         ]
        },
        {
         "mode": "lines",
         "type": "scatter",
         "x": [
          0.9993628263473511,
          -0.41541537642478943
         ],
         "y": [
          0.03569243848323822,
          0.9096318483352661
         ]
        },
        {
         "mode": "lines",
         "type": "scatter",
         "x": [
          0.9993628263473511,
          0.44761693477630615
         ],
         "y": [
          0.03569243848323822,
          0.8942254185676575
         ]
        },
        {
         "mode": "lines",
         "type": "scatter",
         "x": [
          0.9993628263473511,
          0.4154147803783417
         ],
         "y": [
          0.03569243848323822,
          0.9096320867538452
         ]
        },
        {
         "mode": "lines",
         "type": "scatter",
         "x": [
          0.9993628263473511,
          -0.4476175308227539
         ],
         "y": [
          0.03569243848323822,
          0.8942251205444336
         ]
        },
        {
         "mode": "lines",
         "type": "scatter",
         "x": [
          0.9993628263473511,
          0.34946408867836
         ],
         "y": [
          0.03569243848323822,
          0.9369497299194336
         ]
        },
        {
         "mode": "lines",
         "type": "scatter",
         "x": [
          0.9993628263473511,
          -0.4792492091655731
         ],
         "y": [
          0.03569243848323822,
          0.8776788711547852
         ]
        },
        {
         "mode": "lines",
         "type": "scatter",
         "x": [
          0.9993628263473511,
          -0.5102702379226685
         ],
         "y": [
          0.03569243848323822,
          0.8600141406059265
         ]
        },
        {
         "mode": "lines",
         "type": "scatter",
         "x": [
          0.9993628263473511,
          0.3157995641231537
         ],
         "y": [
          0.03569243848323822,
          0.9488259553909302
         ]
        },
        {
         "mode": "lines",
         "type": "scatter",
         "x": [
          0.9993628263473511,
          -0.5406409502029419
         ],
         "y": [
          0.03569243848323822,
          0.8412534594535828
         ]
        },
        {
         "mode": "lines",
         "type": "scatter",
         "x": [
          0.9993628263473511,
          0.778641402721405
         ],
         "y": [
          0.03569243848323822,
          0.6274691820144653
         ]
        },
        {
         "mode": "lines",
         "type": "scatter",
         "x": [
          0.9993628263473511,
          -0.9841112494468689
         ],
         "y": [
          0.03569243848323822,
          0.17755281925201416
         ]
        },
        {
         "mode": "lines",
         "type": "scatter",
         "x": [
          0.9993628263473511,
          -0.9369496703147888
         ],
         "y": [
          0.03569243848323822,
          0.3494643568992615
         ]
        },
        {
         "mode": "lines",
         "type": "scatter",
         "x": [
          0.9993628263473511,
          -0.9898214936256409
         ],
         "y": [
          0.03569243848323822,
          0.14231452345848083
         ]
        },
        {
         "mode": "lines",
         "type": "scatter",
         "x": [
          0.9993628263473511,
          -0.5703226923942566
         ],
         "y": [
          0.03569243848323822,
          0.8214207291603088
         ]
        },
        {
         "mode": "lines",
         "type": "scatter",
         "x": [
          0.9993628263473511,
          0.9974521398544312
         ],
         "y": [
          0.03569243848323822,
          0.0713392123579979
         ]
        },
        {
         "mode": "lines",
         "type": "scatter",
         "x": [
          0.9993628263473511,
          -0.8412536382675171
         ],
         "y": [
          0.03569243848323822,
          0.540640652179718
         ]
        },
        {
         "mode": "lines",
         "type": "scatter",
         "x": [
          0.9993628263473511,
          0.21256546676158905
         ],
         "y": [
          0.03569243848323822,
          0.9771468043327332
         ]
        },
        {
         "mode": "lines",
         "type": "scatter",
         "x": [
          0.9993628263473511,
          -0.8600143194198608
         ],
         "y": [
          0.03569243848323822,
          0.5102699398994446
         ]
        },
        {
         "mode": "lines",
         "type": "scatter",
         "x": [
          0.9993628263473511,
          0.1775534451007843
         ],
         "y": [
          0.03569243848323822,
          0.9841111302375793
         ]
        },
        {
         "mode": "lines",
         "type": "scatter",
         "x": [
          0.9993628263473511,
          0.7557494640350342
         ],
         "y": [
          0.03569243848323822,
          0.6548608541488647
         ]
        },
        {
         "mode": "lines",
         "type": "scatter",
         "x": [
          0.9993628263473511,
          0.65486079454422
         ],
         "y": [
          0.03569243848323822,
          0.755749523639679
         ]
        },
        {
         "mode": "lines",
         "type": "scatter",
         "x": [
          0.9993628263473511,
          -3.3776623808989825e-7
         ],
         "y": [
          0.03569243848323822,
          1
         ]
        },
        {
         "mode": "lines",
         "type": "scatter",
         "x": [
          0.9974521398544312,
          0.5406403541564941
         ],
         "y": [
          0.0713392123579979,
          0.8412538170814514
         ]
        },
        {
         "mode": "lines",
         "type": "scatter",
         "x": [
          0.9974521398544312,
          -0.8412536382675171
         ],
         "y": [
          0.0713392123579979,
          0.540640652179718
         ]
        },
        {
         "mode": "lines",
         "type": "scatter",
         "x": [
          0.9974521398544312,
          0.21256546676158905
         ],
         "y": [
          0.0713392123579979,
          0.9771468043327332
         ]
        },
        {
         "mode": "lines",
         "type": "scatter",
         "x": [
          0.9974521398544312,
          -0.8600143194198608
         ],
         "y": [
          0.0713392123579979,
          0.5102699398994446
         ]
        },
        {
         "mode": "lines",
         "type": "scatter",
         "x": [
          0.9974521398544312,
          0.10689457505941391
         ],
         "y": [
          0.0713392123579979,
          0.994270384311676
         ]
        },
        {
         "mode": "lines",
         "type": "scatter",
         "x": [
          0.9942702651023865,
          0.7318944334983826
         ],
         "y": [
          0.1068955510854721,
          0.6814180016517639
         ]
        },
        {
         "mode": "lines",
         "type": "scatter",
         "x": [
          0.9942702651023865,
          0.5406403541564941
         ],
         "y": [
          0.1068955510854721,
          0.8412538170814514
         ]
        },
        {
         "mode": "lines",
         "type": "scatter",
         "x": [
          0.9942702651023865,
          0.10689457505941391
         ],
         "y": [
          0.1068955510854721,
          0.994270384311676
         ]
        },
        {
         "mode": "lines",
         "type": "scatter",
         "x": [
          0.9942702651023865,
          0.65486079454422
         ],
         "y": [
          0.1068955510854721,
          0.755749523639679
         ]
        },
        {
         "mode": "lines",
         "type": "scatter",
         "x": [
          0.9898213744163513,
          0.5406403541564941
         ],
         "y": [
          0.14231520891189575,
          0.8412538170814514
         ]
        },
        {
         "mode": "lines",
         "type": "scatter",
         "x": [
          0.9898213744163513,
          0.8600142002105713
         ],
         "y": [
          0.14231520891189575,
          0.5102700591087341
         ]
        },
        {
         "mode": "lines",
         "type": "scatter",
         "x": [
          0.9898213744163513,
          -0.3826838731765747
         ],
         "y": [
          0.14231520891189575,
          0.9238793253898621
         ]
        },
        {
         "mode": "lines",
         "type": "scatter",
         "x": [
          0.9898213744163513,
          -0.41541537642478943
         ],
         "y": [
          0.14231520891189575,
          0.9096318483352661
         ]
        },
        {
         "mode": "lines",
         "type": "scatter",
         "x": [
          0.9898213744163513,
          0.44761693477630615
         ],
         "y": [
          0.14231520891189575,
          0.8942254185676575
         ]
        },
        {
         "mode": "lines",
         "type": "scatter",
         "x": [
          0.9898213744163513,
          -0.4476175308227539
         ],
         "y": [
          0.14231520891189575,
          0.8942251205444336
         ]
        },
        {
         "mode": "lines",
         "type": "scatter",
         "x": [
          0.9898213744163513,
          0.38268327713012695
         ],
         "y": [
          0.14231520891189575,
          0.9238796234130859
         ]
        },
        {
         "mode": "lines",
         "type": "scatter",
         "x": [
          0.9898213744163513,
          -0.5406409502029419
         ],
         "y": [
          0.14231520891189575,
          0.8412534594535828
         ]
        },
        {
         "mode": "lines",
         "type": "scatter",
         "x": [
          0.9898213744163513,
          -0.9369496703147888
         ],
         "y": [
          0.14231520891189575,
          0.3494643568992615
         ]
        },
        {
         "mode": "lines",
         "type": "scatter",
         "x": [
          0.9898213744163513,
          -0.5703226923942566
         ],
         "y": [
          0.14231520891189575,
          0.8214207291603088
         ]
        },
        {
         "mode": "lines",
         "type": "scatter",
         "x": [
          0.9898213744163513,
          -0.6274689435958862
         ],
         "y": [
          0.14231520891189575,
          0.7786415815353394
         ]
        },
        {
         "mode": "lines",
         "type": "scatter",
         "x": [
          0.9898213744163513,
          -0.6548606157302856
         ],
         "y": [
          0.14231520891189575,
          0.7557497024536133
         ]
        },
        {
         "mode": "lines",
         "type": "scatter",
         "x": [
          0.9898213744163513,
          -0.9488258361816406
         ],
         "y": [
          0.14231520891189575,
          0.31579986214637756
         ]
        },
        {
         "mode": "lines",
         "type": "scatter",
         "x": [
          0.9898213744163513,
          -3.3776623808989825e-7
         ],
         "y": [
          0.14231520891189575,
          1
         ]
        },
        {
         "mode": "lines",
         "type": "scatter",
         "x": [
          0.9841111302375793,
          -0.4476175308227539
         ],
         "y": [
          0.17755348980426788,
          0.8942251205444336
         ]
        },
        {
         "mode": "lines",
         "type": "scatter",
         "x": [
          0.9841111302375793,
          0.34946408867836
         ],
         "y": [
          0.17755348980426788,
          0.9369497299194336
         ]
        },
        {
         "mode": "lines",
         "type": "scatter",
         "x": [
          0.9841111302375793,
          -0.4792492091655731
         ],
         "y": [
          0.17755348980426788,
          0.8776788711547852
         ]
        },
        {
         "mode": "lines",
         "type": "scatter",
         "x": [
          0.9841111302375793,
          -0.5102702379226685
         ],
         "y": [
          0.17755348980426788,
          0.8600141406059265
         ]
        },
        {
         "mode": "lines",
         "type": "scatter",
         "x": [
          0.9841111302375793,
          -0.5703226923942566
         ],
         "y": [
          0.17755348980426788,
          0.8214207291603088
         ]
        },
        {
         "mode": "lines",
         "type": "scatter",
         "x": [
          0.9841111302375793,
          0.1775534451007843
         ],
         "y": [
          0.17755348980426788,
          0.9841111302375793
         ]
        },
        {
         "mode": "lines",
         "type": "scatter",
         "x": [
          0.9841111302375793,
          -0.6274689435958862
         ],
         "y": [
          0.17755348980426788,
          0.7786415815353394
         ]
        },
        {
         "mode": "lines",
         "type": "scatter",
         "x": [
          0.9841111302375793,
          -0.6548606157302856
         ],
         "y": [
          0.17755348980426788,
          0.7557497024536133
         ]
        },
        {
         "mode": "lines",
         "type": "scatter",
         "x": [
          0.9841111302375793,
          -0.6814177632331848
         ],
         "y": [
          0.17755348980426788,
          0.7318946719169617
         ]
        },
        {
         "mode": "lines",
         "type": "scatter",
         "x": [
          0.9841111302375793,
          0.9771468043327332
         ],
         "y": [
          0.17755348980426788,
          0.21256551146507263
         ]
        },
        {
         "mode": "lines",
         "type": "scatter",
         "x": [
          0.9841111302375793,
          0.9689372777938843
         ],
         "y": [
          0.17755348980426788,
          0.24730664491653442
         ]
        },
        {
         "mode": "lines",
         "type": "scatter",
         "x": [
          0.9841111302375793,
          0.9594929218292236
         ],
         "y": [
          0.17755348980426788,
          0.28173261880874634
         ]
        },
        {
         "mode": "lines",
         "type": "scatter",
         "x": [
          0.9841111302375793,
          -0.1775531768798828
         ],
         "y": [
          0.17755348980426788,
          0.9841111898422241
         ]
        },
        {
         "mode": "lines",
         "type": "scatter",
         "x": [
          0.9771468043327332,
          0.34946408867836
         ],
         "y": [
          0.21256551146507263,
          0.9369497299194336
         ]
        },
        {
         "mode": "lines",
         "type": "scatter",
         "x": [
          0.9771468043327332,
          -0.4792492091655731
         ],
         "y": [
          0.21256551146507263,
          0.8776788711547852
         ]
        },
        {
         "mode": "lines",
         "type": "scatter",
         "x": [
          0.9771468043327332,
          0.9689372777938843
         ],
         "y": [
          0.21256551146507263,
          0.24730664491653442
         ]
        },
        {
         "mode": "lines",
         "type": "scatter",
         "x": [
          0.9771468043327332,
          0.9594929218292236
         ],
         "y": [
          0.21256551146507263,
          0.28173261880874634
         ]
        },
        {
         "mode": "lines",
         "type": "scatter",
         "x": [
          0.9771468043327332,
          -0.1775531768798828
         ],
         "y": [
          0.21256551146507263,
          0.9841111898422241
         ]
        },
        {
         "mode": "lines",
         "type": "scatter",
         "x": [
          0.9689372777938843,
          -0.4792492091655731
         ],
         "y": [
          0.24730664491653442,
          0.8776788711547852
         ]
        },
        {
         "mode": "lines",
         "type": "scatter",
         "x": [
          0.9689372777938843,
          0.9594929218292236
         ],
         "y": [
          0.24730664491653442,
          0.28173261880874634
         ]
        },
        {
         "mode": "lines",
         "type": "scatter",
         "x": [
          0.9689372777938843,
          -0.9993628263473511
         ],
         "y": [
          0.24730664491653442,
          0.0356922410428524
         ]
        },
        {
         "mode": "lines",
         "type": "scatter",
         "x": [
          0.9594929218292236,
          -0.4792492091655731
         ],
         "y": [
          0.28173261880874634,
          0.8776788711547852
         ]
        },
        {
         "mode": "lines",
         "type": "scatter",
         "x": [
          0.9238795638084412,
          0.5406403541564941
         ],
         "y": [
          0.38268330693244934,
          0.8412538170814514
         ]
        },
        {
         "mode": "lines",
         "type": "scatter",
         "x": [
          0.9238795638084412,
          0.9096320867538452
         ],
         "y": [
          0.38268330693244934,
          0.41541481018066406
         ]
        },
        {
         "mode": "lines",
         "type": "scatter",
         "x": [
          0.9238795638084412,
          0.8776789307594299
         ],
         "y": [
          0.38268330693244934,
          0.47924908995628357
         ]
        },
        {
         "mode": "lines",
         "type": "scatter",
         "x": [
          0.9238795638084412,
          0.8600142002105713
         ],
         "y": [
          0.38268330693244934,
          0.5102700591087341
         ]
        },
        {
         "mode": "lines",
         "type": "scatter",
         "x": [
          0.9238795638084412,
          0.8412535190582275
         ],
         "y": [
          0.38268330693244934,
          0.5406407713890076
         ]
        },
        {
         "mode": "lines",
         "type": "scatter",
         "x": [
          0.9238795638084412,
          0.8214205503463745
         ],
         "y": [
          0.38268330693244934,
          0.5703229308128357
         ]
        },
        {
         "mode": "lines",
         "type": "scatter",
         "x": [
          0.9238795638084412,
          0.8005410432815552
         ],
         "y": [
          0.38268330693244934,
          0.599277913570404
         ]
        },
        {
         "mode": "lines",
         "type": "scatter",
         "x": [
          0.9238795638084412,
          0.47924864292144775
         ],
         "y": [
          0.38268330693244934,
          0.877679169178009
         ]
        },
        {
         "mode": "lines",
         "type": "scatter",
         "x": [
          0.9238795638084412,
          0.44761693477630615
         ],
         "y": [
          0.38268330693244934,
          0.8942254185676575
         ]
        },
        {
         "mode": "lines",
         "type": "scatter",
         "x": [
          0.9238795638084412,
          0.778641402721405
         ],
         "y": [
          0.38268330693244934,
          0.6274691820144653
         ]
        },
        {
         "mode": "lines",
         "type": "scatter",
         "x": [
          0.9238795638084412,
          0.7557494640350342
         ],
         "y": [
          0.38268330693244934,
          0.6548608541488647
         ]
        },
        {
         "mode": "lines",
         "type": "scatter",
         "x": [
          0.9238795638084412,
          -0.6814177632331848
         ],
         "y": [
          0.38268330693244934,
          0.7318946719169617
         ]
        },
        {
         "mode": "lines",
         "type": "scatter",
         "x": [
          0.9238795638084412,
          -0.035692598670721054
         ],
         "y": [
          0.38268330693244934,
          0.9993628263473511
         ]
        },
        {
         "mode": "lines",
         "type": "scatter",
         "x": [
          0.9096320867538452,
          0.5406403541564941
         ],
         "y": [
          0.41541481018066406,
          0.8412538170814514
         ]
        },
        {
         "mode": "lines",
         "type": "scatter",
         "x": [
          0.9096320867538452,
          0.8942251801490784
         ],
         "y": [
          0.41541481018066406,
          0.44761738181114197
         ]
        },
        {
         "mode": "lines",
         "type": "scatter",
         "x": [
          0.9096320867538452,
          0.8776789307594299
         ],
         "y": [
          0.41541481018066406,
          0.47924908995628357
         ]
        },
        {
         "mode": "lines",
         "type": "scatter",
         "x": [
          0.9096320867538452,
          0.8600142002105713
         ],
         "y": [
          0.41541481018066406,
          0.5102700591087341
         ]
        },
        {
         "mode": "lines",
         "type": "scatter",
         "x": [
          0.9096320867538452,
          0.8412535190582275
         ],
         "y": [
          0.41541481018066406,
          0.5406407713890076
         ]
        },
        {
         "mode": "lines",
         "type": "scatter",
         "x": [
          0.9096320867538452,
          0.7071067690849304
         ],
         "y": [
          0.41541481018066406,
          0.7071067690849304
         ]
        },
        {
         "mode": "lines",
         "type": "scatter",
         "x": [
          0.9096320867538452,
          0.8214205503463745
         ],
         "y": [
          0.41541481018066406,
          0.5703229308128357
         ]
        },
        {
         "mode": "lines",
         "type": "scatter",
         "x": [
          0.9096320867538452,
          0.47924864292144775
         ],
         "y": [
          0.41541481018066406,
          0.877679169178009
         ]
        },
        {
         "mode": "lines",
         "type": "scatter",
         "x": [
          0.9096320867538452,
          -0.5406409502029419
         ],
         "y": [
          0.41541481018066406,
          0.8412534594535828
         ]
        },
        {
         "mode": "lines",
         "type": "scatter",
         "x": [
          0.9096320867538452,
          0.778641402721405
         ],
         "y": [
          0.41541481018066406,
          0.6274691820144653
         ]
        },
        {
         "mode": "lines",
         "type": "scatter",
         "x": [
          0.9096320867538452,
          0.7557494640350342
         ],
         "y": [
          0.41541481018066406,
          0.6548608541488647
         ]
        },
        {
         "mode": "lines",
         "type": "scatter",
         "x": [
          0.9096320867538452,
          -0.035692598670721054
         ],
         "y": [
          0.41541481018066406,
          0.9993628263473511
         ]
        },
        {
         "mode": "lines",
         "type": "scatter",
         "x": [
          0.8942251801490784,
          0.8776789307594299
         ],
         "y": [
          0.44761738181114197,
          0.47924908995628357
         ]
        },
        {
         "mode": "lines",
         "type": "scatter",
         "x": [
          0.8942251801490784,
          0.8600142002105713
         ],
         "y": [
          0.44761738181114197,
          0.5102700591087341
         ]
        },
        {
         "mode": "lines",
         "type": "scatter",
         "x": [
          0.8942251801490784,
          0.8412535190582275
         ],
         "y": [
          0.44761738181114197,
          0.5406407713890076
         ]
        },
        {
         "mode": "lines",
         "type": "scatter",
         "x": [
          0.8942251801490784,
          0.7071067690849304
         ],
         "y": [
          0.44761738181114197,
          0.7071067690849304
         ]
        },
        {
         "mode": "lines",
         "type": "scatter",
         "x": [
          0.8942251801490784,
          0.8214205503463745
         ],
         "y": [
          0.44761738181114197,
          0.5703229308128357
         ]
        },
        {
         "mode": "lines",
         "type": "scatter",
         "x": [
          0.8942251801490784,
          0.47924864292144775
         ],
         "y": [
          0.44761738181114197,
          0.877679169178009
         ]
        },
        {
         "mode": "lines",
         "type": "scatter",
         "x": [
          0.8942251801490784,
          -0.5406409502029419
         ],
         "y": [
          0.44761738181114197,
          0.8412534594535828
         ]
        },
        {
         "mode": "lines",
         "type": "scatter",
         "x": [
          0.8942251801490784,
          0.778641402721405
         ],
         "y": [
          0.44761738181114197,
          0.6274691820144653
         ]
        },
        {
         "mode": "lines",
         "type": "scatter",
         "x": [
          0.8942251801490784,
          0.7557494640350342
         ],
         "y": [
          0.44761738181114197,
          0.6548608541488647
         ]
        },
        {
         "mode": "lines",
         "type": "scatter",
         "x": [
          0.8942251801490784,
          0.65486079454422
         ],
         "y": [
          0.44761738181114197,
          0.755749523639679
         ]
        },
        {
         "mode": "lines",
         "type": "scatter",
         "x": [
          0.8942251801490784,
          -0.035692598670721054
         ],
         "y": [
          0.44761738181114197,
          0.9993628263473511
         ]
        },
        {
         "mode": "lines",
         "type": "scatter",
         "x": [
          0.8776789307594299,
          0.5406403541564941
         ],
         "y": [
          0.47924908995628357,
          0.8412538170814514
         ]
        },
        {
         "mode": "lines",
         "type": "scatter",
         "x": [
          0.8776789307594299,
          0.8600142002105713
         ],
         "y": [
          0.47924908995628357,
          0.5102700591087341
         ]
        },
        {
         "mode": "lines",
         "type": "scatter",
         "x": [
          0.8776789307594299,
          0.8412535190582275
         ],
         "y": [
          0.47924908995628357,
          0.5406407713890076
         ]
        },
        {
         "mode": "lines",
         "type": "scatter",
         "x": [
          0.8776789307594299,
          0.7071067690849304
         ],
         "y": [
          0.47924908995628357,
          0.7071067690849304
         ]
        },
        {
         "mode": "lines",
         "type": "scatter",
         "x": [
          0.8776789307594299,
          0.8214205503463745
         ],
         "y": [
          0.47924908995628357,
          0.5703229308128357
         ]
        },
        {
         "mode": "lines",
         "type": "scatter",
         "x": [
          0.8776789307594299,
          0.47924864292144775
         ],
         "y": [
          0.47924908995628357,
          0.877679169178009
         ]
        },
        {
         "mode": "lines",
         "type": "scatter",
         "x": [
          0.8776789307594299,
          0.778641402721405
         ],
         "y": [
          0.47924908995628357,
          0.6274691820144653
         ]
        },
        {
         "mode": "lines",
         "type": "scatter",
         "x": [
          0.8776789307594299,
          0.7557494640350342
         ],
         "y": [
          0.47924908995628357,
          0.6548608541488647
         ]
        },
        {
         "mode": "lines",
         "type": "scatter",
         "x": [
          0.8776789307594299,
          -0.9689374566078186
         ],
         "y": [
          0.47924908995628357,
          0.2473059892654419
         ]
        },
        {
         "mode": "lines",
         "type": "scatter",
         "x": [
          0.8776789307594299,
          -0.9771469831466675
         ],
         "y": [
          0.47924908995628357,
          0.2125648409128189
         ]
        },
        {
         "mode": "lines",
         "type": "scatter",
         "x": [
          0.8776789307594299,
          -0.035692598670721054
         ],
         "y": [
          0.47924908995628357,
          0.9993628263473511
         ]
        },
        {
         "mode": "lines",
         "type": "scatter",
         "x": [
          0.8600142002105713,
          0.7318944334983826
         ],
         "y": [
          0.5102700591087341,
          0.6814180016517639
         ]
        },
        {
         "mode": "lines",
         "type": "scatter",
         "x": [
          0.8600142002105713,
          0.5406403541564941
         ],
         "y": [
          0.5102700591087341,
          0.8412538170814514
         ]
        },
        {
         "mode": "lines",
         "type": "scatter",
         "x": [
          0.8600142002105713,
          0.8412535190582275
         ],
         "y": [
          0.5102700591087341,
          0.5406407713890076
         ]
        },
        {
         "mode": "lines",
         "type": "scatter",
         "x": [
          0.8600142002105713,
          0.7071067690849304
         ],
         "y": [
          0.5102700591087341,
          0.7071067690849304
         ]
        },
        {
         "mode": "lines",
         "type": "scatter",
         "x": [
          0.8600142002105713,
          0.8214205503463745
         ],
         "y": [
          0.5102700591087341,
          0.5703229308128357
         ]
        },
        {
         "mode": "lines",
         "type": "scatter",
         "x": [
          0.8600142002105713,
          0.8005410432815552
         ],
         "y": [
          0.5102700591087341,
          0.599277913570404
         ]
        },
        {
         "mode": "lines",
         "type": "scatter",
         "x": [
          0.8600142002105713,
          0.47924864292144775
         ],
         "y": [
          0.5102700591087341,
          0.877679169178009
         ]
        },
        {
         "mode": "lines",
         "type": "scatter",
         "x": [
          0.8600142002105713,
          0.44761693477630615
         ],
         "y": [
          0.5102700591087341,
          0.8942254185676575
         ]
        },
        {
         "mode": "lines",
         "type": "scatter",
         "x": [
          0.8600142002105713,
          -0.4476175308227539
         ],
         "y": [
          0.5102700591087341,
          0.8942251205444336
         ]
        },
        {
         "mode": "lines",
         "type": "scatter",
         "x": [
          0.8600142002105713,
          0.34946408867836
         ],
         "y": [
          0.5102700591087341,
          0.9369497299194336
         ]
        },
        {
         "mode": "lines",
         "type": "scatter",
         "x": [
          0.8600142002105713,
          -0.4792492091655731
         ],
         "y": [
          0.5102700591087341,
          0.8776788711547852
         ]
        },
        {
         "mode": "lines",
         "type": "scatter",
         "x": [
          0.8600142002105713,
          -0.5406409502029419
         ],
         "y": [
          0.5102700591087341,
          0.8412534594535828
         ]
        },
        {
         "mode": "lines",
         "type": "scatter",
         "x": [
          0.8600142002105713,
          0.778641402721405
         ],
         "y": [
          0.5102700591087341,
          0.6274691820144653
         ]
        },
        {
         "mode": "lines",
         "type": "scatter",
         "x": [
          0.8600142002105713,
          -0.6548606157302856
         ],
         "y": [
          0.5102700591087341,
          0.7557497024536133
         ]
        },
        {
         "mode": "lines",
         "type": "scatter",
         "x": [
          0.8600142002105713,
          0.7557494640350342
         ],
         "y": [
          0.5102700591087341,
          0.6548608541488647
         ]
        },
        {
         "mode": "lines",
         "type": "scatter",
         "x": [
          0.8600142002105713,
          0.10689457505941391
         ],
         "y": [
          0.5102700591087341,
          0.994270384311676
         ]
        },
        {
         "mode": "lines",
         "type": "scatter",
         "x": [
          0.8600142002105713,
          -0.9689374566078186
         ],
         "y": [
          0.5102700591087341,
          0.2473059892654419
         ]
        },
        {
         "mode": "lines",
         "type": "scatter",
         "x": [
          0.8600142002105713,
          -0.9771469831466675
         ],
         "y": [
          0.5102700591087341,
          0.2125648409128189
         ]
        },
        {
         "mode": "lines",
         "type": "scatter",
         "x": [
          0.8600142002105713,
          0.65486079454422
         ],
         "y": [
          0.5102700591087341,
          0.755749523639679
         ]
        },
        {
         "mode": "lines",
         "type": "scatter",
         "x": [
          0.8600142002105713,
          -3.3776623808989825e-7
         ],
         "y": [
          0.5102700591087341,
          1
         ]
        },
        {
         "mode": "lines",
         "type": "scatter",
         "x": [
          0.8600142002105713,
          -0.035692598670721054
         ],
         "y": [
          0.5102700591087341,
          0.9993628263473511
         ]
        },
        {
         "mode": "lines",
         "type": "scatter",
         "x": [
          0.8600142002105713,
          0.5992778539657593
         ],
         "y": [
          0.5102700591087341,
          0.8005411028862
         ]
        },
        {
         "mode": "lines",
         "type": "scatter",
         "x": [
          0.8412535190582275,
          0.5406403541564941
         ],
         "y": [
          0.5406407713890076,
          0.8412538170814514
         ]
        },
        {
         "mode": "lines",
         "type": "scatter",
         "x": [
          0.8412535190582275,
          0.7071067690849304
         ],
         "y": [
          0.5406407713890076,
          0.7071067690849304
         ]
        },
        {
         "mode": "lines",
         "type": "scatter",
         "x": [
          0.8412535190582275,
          0.8214205503463745
         ],
         "y": [
          0.5406407713890076,
          0.5703229308128357
         ]
        },
        {
         "mode": "lines",
         "type": "scatter",
         "x": [
          0.8412535190582275,
          0.8005410432815552
         ],
         "y": [
          0.5406407713890076,
          0.599277913570404
         ]
        },
        {
         "mode": "lines",
         "type": "scatter",
         "x": [
          0.8412535190582275,
          0.47924864292144775
         ],
         "y": [
          0.5406407713890076,
          0.877679169178009
         ]
        },
        {
         "mode": "lines",
         "type": "scatter",
         "x": [
          0.8412535190582275,
          -0.5406409502029419
         ],
         "y": [
          0.5406407713890076,
          0.8412534594535828
         ]
        },
        {
         "mode": "lines",
         "type": "scatter",
         "x": [
          0.8412535190582275,
          0.778641402721405
         ],
         "y": [
          0.5406407713890076,
          0.6274691820144653
         ]
        },
        {
         "mode": "lines",
         "type": "scatter",
         "x": [
          0.8412535190582275,
          0.7557494640350342
         ],
         "y": [
          0.5406407713890076,
          0.6548608541488647
         ]
        },
        {
         "mode": "lines",
         "type": "scatter",
         "x": [
          0.8412535190582275,
          -0.035692598670721054
         ],
         "y": [
          0.5406407713890076,
          0.9993628263473511
         ]
        },
        {
         "mode": "lines",
         "type": "scatter",
         "x": [
          0.8214205503463745,
          0.7318944334983826
         ],
         "y": [
          0.5703229308128357,
          0.6814180016517639
         ]
        },
        {
         "mode": "lines",
         "type": "scatter",
         "x": [
          0.8214205503463745,
          0.5406403541564941
         ],
         "y": [
          0.5703229308128357,
          0.8412538170814514
         ]
        },
        {
         "mode": "lines",
         "type": "scatter",
         "x": [
          0.8214205503463745,
          0.8005410432815552
         ],
         "y": [
          0.5703229308128357,
          0.599277913570404
         ]
        },
        {
         "mode": "lines",
         "type": "scatter",
         "x": [
          0.8214205503463745,
          0.47924864292144775
         ],
         "y": [
          0.5703229308128357,
          0.877679169178009
         ]
        },
        {
         "mode": "lines",
         "type": "scatter",
         "x": [
          0.8214205503463745,
          0.778641402721405
         ],
         "y": [
          0.5703229308128357,
          0.6274691820144653
         ]
        },
        {
         "mode": "lines",
         "type": "scatter",
         "x": [
          0.8214205503463745,
          0.7557494640350342
         ],
         "y": [
          0.5703229308128357,
          0.6548608541488647
         ]
        },
        {
         "mode": "lines",
         "type": "scatter",
         "x": [
          0.8214205503463745,
          -0.6814177632331848
         ],
         "y": [
          0.5703229308128357,
          0.7318946719169617
         ]
        },
        {
         "mode": "lines",
         "type": "scatter",
         "x": [
          0.8214205503463745,
          -0.035692598670721054
         ],
         "y": [
          0.5703229308128357,
          0.9993628263473511
         ]
        },
        {
         "mode": "lines",
         "type": "scatter",
         "x": [
          0.8005410432815552,
          0.47924864292144775
         ],
         "y": [
          0.599277913570404,
          0.877679169178009
         ]
        },
        {
         "mode": "lines",
         "type": "scatter",
         "x": [
          0.8005410432815552,
          0.778641402721405
         ],
         "y": [
          0.599277913570404,
          0.6274691820144653
         ]
        },
        {
         "mode": "lines",
         "type": "scatter",
         "x": [
          0.8005410432815552,
          0.7557494640350342
         ],
         "y": [
          0.599277913570404,
          0.6548608541488647
         ]
        },
        {
         "mode": "lines",
         "type": "scatter",
         "x": [
          0.8005410432815552,
          -0.6814177632331848
         ],
         "y": [
          0.599277913570404,
          0.7318946719169617
         ]
        },
        {
         "mode": "lines",
         "type": "scatter",
         "x": [
          0.778641402721405,
          0.7318944334983826
         ],
         "y": [
          0.6274691820144653,
          0.6814180016517639
         ]
        },
        {
         "mode": "lines",
         "type": "scatter",
         "x": [
          0.778641402721405,
          0.5406403541564941
         ],
         "y": [
          0.6274691820144653,
          0.8412538170814514
         ]
        },
        {
         "mode": "lines",
         "type": "scatter",
         "x": [
          0.778641402721405,
          0.7071067690849304
         ],
         "y": [
          0.6274691820144653,
          0.7071067690849304
         ]
        },
        {
         "mode": "lines",
         "type": "scatter",
         "x": [
          0.778641402721405,
          0.47924864292144775
         ],
         "y": [
          0.6274691820144653,
          0.877679169178009
         ]
        },
        {
         "mode": "lines",
         "type": "scatter",
         "x": [
          0.778641402721405,
          0.7557494640350342
         ],
         "y": [
          0.6274691820144653,
          0.6548608541488647
         ]
        },
        {
         "mode": "lines",
         "type": "scatter",
         "x": [
          0.778641402721405,
          -0.6814177632331848
         ],
         "y": [
          0.6274691820144653,
          0.7318946719169617
         ]
        },
        {
         "mode": "lines",
         "type": "scatter",
         "x": [
          0.7557494640350342,
          0.7318944334983826
         ],
         "y": [
          0.6548608541488647,
          0.6814180016517639
         ]
        },
        {
         "mode": "lines",
         "type": "scatter",
         "x": [
          0.7557494640350342,
          0.5406403541564941
         ],
         "y": [
          0.6548608541488647,
          0.8412538170814514
         ]
        },
        {
         "mode": "lines",
         "type": "scatter",
         "x": [
          0.7557494640350342,
          0.7071067690849304
         ],
         "y": [
          0.6548608541488647,
          0.7071067690849304
         ]
        },
        {
         "mode": "lines",
         "type": "scatter",
         "x": [
          0.7557494640350342,
          0.47924864292144775
         ],
         "y": [
          0.6548608541488647,
          0.877679169178009
         ]
        },
        {
         "mode": "lines",
         "type": "scatter",
         "x": [
          0.7557494640350342,
          -0.5406409502029419
         ],
         "y": [
          0.6548608541488647,
          0.8412534594535828
         ]
        },
        {
         "mode": "lines",
         "type": "scatter",
         "x": [
          0.7557494640350342,
          -0.9689374566078186
         ],
         "y": [
          0.6548608541488647,
          0.2473059892654419
         ]
        },
        {
         "mode": "lines",
         "type": "scatter",
         "x": [
          0.7557494640350342,
          -0.9771469831466675
         ],
         "y": [
          0.6548608541488647,
          0.2125648409128189
         ]
        },
        {
         "mode": "lines",
         "type": "scatter",
         "x": [
          0.7557494640350342,
          -0.035692598670721054
         ],
         "y": [
          0.6548608541488647,
          0.9993628263473511
         ]
        },
        {
         "mode": "lines",
         "type": "scatter",
         "x": [
          0.7557494640350342,
          0.6274691224098206
         ],
         "y": [
          0.6548608541488647,
          0.7786414623260498
         ]
        },
        {
         "mode": "lines",
         "type": "scatter",
         "x": [
          0.7318944334983826,
          0.7071067690849304
         ],
         "y": [
          0.6814180016517639,
          0.7071067690849304
         ]
        },
        {
         "mode": "lines",
         "type": "scatter",
         "x": [
          0.7318944334983826,
          0.6814179420471191
         ],
         "y": [
          0.6814180016517639,
          0.7318944931030273
         ]
        },
        {
         "mode": "lines",
         "type": "scatter",
         "x": [
          0.7318944334983826,
          0.65486079454422
         ],
         "y": [
          0.6814180016517639,
          0.755749523639679
         ]
        },
        {
         "mode": "lines",
         "type": "scatter",
         "x": [
          0.7318944334983826,
          0.6274691224098206
         ],
         "y": [
          0.6814180016517639,
          0.7786414623260498
         ]
        },
        {
         "mode": "lines",
         "type": "scatter",
         "x": [
          0.7318944334983826,
          0.5992778539657593
         ],
         "y": [
          0.6814180016517639,
          0.8005411028862
         ]
        },
        {
         "mode": "lines",
         "type": "scatter",
         "x": [
          0.7318944334983826,
          0.5703229308128357
         ],
         "y": [
          0.6814180016517639,
          0.8214206099510193
         ]
        },
        {
         "mode": "lines",
         "type": "scatter",
         "x": [
          0.7071067690849304,
          -0.5102702379226685
         ],
         "y": [
          0.7071067690849304,
          0.8600141406059265
         ]
        },
        {
         "mode": "lines",
         "type": "scatter",
         "x": [
          0.7071067690849304,
          0.3157995641231537
         ],
         "y": [
          0.7071067690849304,
          0.9488259553909302
         ]
        },
        {
         "mode": "lines",
         "type": "scatter",
         "x": [
          0.7071067690849304,
          0.1775534451007843
         ],
         "y": [
          0.7071067690849304,
          0.9841111302375793
         ]
        },
        {
         "mode": "lines",
         "type": "scatter",
         "x": [
          0.7071067690849304,
          0.6814179420471191
         ],
         "y": [
          0.7071067690849304,
          0.7318944931030273
         ]
        },
        {
         "mode": "lines",
         "type": "scatter",
         "x": [
          0.7071067690849304,
          0.6274691224098206
         ],
         "y": [
          0.7071067690849304,
          0.7786414623260498
         ]
        },
        {
         "mode": "lines",
         "type": "scatter",
         "x": [
          0.7071067690849304,
          0.5992778539657593
         ],
         "y": [
          0.7071067690849304,
          0.8005411028862
         ]
        },
        {
         "mode": "lines",
         "type": "scatter",
         "x": [
          0.7071067690849304,
          0.5703229308128357
         ],
         "y": [
          0.7071067690849304,
          0.8214206099510193
         ]
        },
        {
         "mode": "lines",
         "type": "scatter",
         "x": [
          0.6814179420471191,
          -0.6814177632331848
         ],
         "y": [
          0.7318944931030273,
          0.7318946719169617
         ]
        },
        {
         "mode": "lines",
         "type": "scatter",
         "x": [
          0.6814179420471191,
          0.65486079454422
         ],
         "y": [
          0.7318944931030273,
          0.755749523639679
         ]
        },
        {
         "mode": "lines",
         "type": "scatter",
         "x": [
          0.6814179420471191,
          0.5992778539657593
         ],
         "y": [
          0.7318944931030273,
          0.8005411028862
         ]
        },
        {
         "mode": "lines",
         "type": "scatter",
         "x": [
          0.6814179420471191,
          0.5703229308128357
         ],
         "y": [
          0.7318944931030273,
          0.8214206099510193
         ]
        },
        {
         "mode": "lines",
         "type": "scatter",
         "x": [
          0.65486079454422,
          0.10689457505941391
         ],
         "y": [
          0.755749523639679,
          0.994270384311676
         ]
        },
        {
         "mode": "lines",
         "type": "scatter",
         "x": [
          0.65486079454422,
          0.6274691224098206
         ],
         "y": [
          0.755749523639679,
          0.7786414623260498
         ]
        },
        {
         "mode": "lines",
         "type": "scatter",
         "x": [
          0.65486079454422,
          0.5992778539657593
         ],
         "y": [
          0.755749523639679,
          0.8005411028862
         ]
        },
        {
         "mode": "lines",
         "type": "scatter",
         "x": [
          0.65486079454422,
          0.5703229308128357
         ],
         "y": [
          0.755749523639679,
          0.8214206099510193
         ]
        },
        {
         "mode": "lines",
         "type": "scatter",
         "x": [
          0.5992778539657593,
          -0.6814177632331848
         ],
         "y": [
          0.8005411028862,
          0.7318946719169617
         ]
        },
        {
         "mode": "lines",
         "type": "scatter",
         "x": [
          0.5992778539657593,
          0.5703229308128357
         ],
         "y": [
          0.8005411028862,
          0.8214206099510193
         ]
        },
        {
         "mode": "lines",
         "type": "scatter",
         "x": [
          0.5406403541564941,
          0.5102696418762207
         ],
         "y": [
          0.8412538170814514,
          0.8600144982337952
         ]
        },
        {
         "mode": "lines",
         "type": "scatter",
         "x": [
          0.5406403541564941,
          0.47924864292144775
         ],
         "y": [
          0.8412538170814514,
          0.877679169178009
         ]
        },
        {
         "mode": "lines",
         "type": "scatter",
         "x": [
          0.5406403541564941,
          0.44761693477630615
         ],
         "y": [
          0.8412538170814514,
          0.8942254185676575
         ]
        },
        {
         "mode": "lines",
         "type": "scatter",
         "x": [
          0.5406403541564941,
          0.4154147803783417
         ],
         "y": [
          0.8412538170814514,
          0.9096320867538452
         ]
        },
        {
         "mode": "lines",
         "type": "scatter",
         "x": [
          0.5406403541564941,
          0.38268327713012695
         ],
         "y": [
          0.8412538170814514,
          0.9238796234130859
         ]
        },
        {
         "mode": "lines",
         "type": "scatter",
         "x": [
          0.5406403541564941,
          0.34946408867836
         ],
         "y": [
          0.8412538170814514,
          0.9369497299194336
         ]
        },
        {
         "mode": "lines",
         "type": "scatter",
         "x": [
          0.5406403541564941,
          0.3157995641231537
         ],
         "y": [
          0.8412538170814514,
          0.9488259553909302
         ]
        },
        {
         "mode": "lines",
         "type": "scatter",
         "x": [
          0.5406403541564941,
          0.28173258900642395
         ],
         "y": [
          0.8412538170814514,
          0.9594929814338684
         ]
        },
        {
         "mode": "lines",
         "type": "scatter",
         "x": [
          0.5406403541564941,
          0.24730660021305084
         ],
         "y": [
          0.8412538170814514,
          0.9689372777938843
         ]
        },
        {
         "mode": "lines",
         "type": "scatter",
         "x": [
          0.5406403541564941,
          0.21256546676158905
         ],
         "y": [
          0.8412538170814514,
          0.9771468043327332
         ]
        },
        {
         "mode": "lines",
         "type": "scatter",
         "x": [
          0.5406403541564941,
          0.1775534451007843
         ],
         "y": [
          0.8412538170814514,
          0.9841111302375793
         ]
        },
        {
         "mode": "lines",
         "type": "scatter",
         "x": [
          0.5406403541564941,
          0.14231516420841217
         ],
         "y": [
          0.8412538170814514,
          0.9898213744163513
         ]
        },
        {
         "mode": "lines",
         "type": "scatter",
         "x": [
          0.5406403541564941,
          0.10689457505941391
         ],
         "y": [
          0.8412538170814514,
          0.994270384311676
         ]
        },
        {
         "mode": "lines",
         "type": "scatter",
         "x": [
          0.5406403541564941,
          0.0713387057185173
         ],
         "y": [
          0.8412538170814514,
          0.9974521398544312
         ]
        },
        {
         "mode": "lines",
         "type": "scatter",
         "x": [
          0.5406403541564941,
          0.03569192439317703
         ],
         "y": [
          0.8412538170814514,
          0.9993628263473511
         ]
        },
        {
         "mode": "lines",
         "type": "scatter",
         "x": [
          0.5406403541564941,
          -3.3776623808989825e-7
         ],
         "y": [
          0.8412538170814514,
          1
         ]
        },
        {
         "mode": "lines",
         "type": "scatter",
         "x": [
          0.5406403541564941,
          -0.035692598670721054
         ],
         "y": [
          0.8412538170814514,
          0.9993628263473511
         ]
        },
        {
         "mode": "lines",
         "type": "scatter",
         "x": [
          0.5406403541564941,
          -0.07133937627077103
         ],
         "y": [
          0.8412538170814514,
          0.9974520802497864
         ]
        },
        {
         "mode": "lines",
         "type": "scatter",
         "x": [
          0.5406403541564941,
          -0.10689523816108704
         ],
         "y": [
          0.8412538170814514,
          0.9942702651023865
         ]
        },
        {
         "mode": "lines",
         "type": "scatter",
         "x": [
          0.5406403541564941,
          -0.14231489598751068
         ],
         "y": [
          0.8412538170814514,
          0.9898214340209961
         ]
        },
        {
         "mode": "lines",
         "type": "scatter",
         "x": [
          0.5406403541564941,
          -0.1775531768798828
         ],
         "y": [
          0.8412538170814514,
          0.9841111898422241
         ]
        },
        {
         "mode": "lines",
         "type": "scatter",
         "x": [
          0.5406403541564941,
          -0.21256519854068756
         ],
         "y": [
          0.8412538170814514,
          0.9771468639373779
         ]
        },
        {
         "mode": "lines",
         "type": "scatter",
         "x": [
          0.5406403541564941,
          -0.24730634689331055
         ],
         "y": [
          0.8412538170814514,
          0.968937337398529
         ]
        },
        {
         "mode": "lines",
         "type": "scatter",
         "x": [
          0.5406403541564941,
          -0.28173232078552246
         ],
         "y": [
          0.8412538170814514,
          0.9594930410385132
         ]
        },
        {
         "mode": "lines",
         "type": "scatter",
         "x": [
          0.5406403541564941,
          -0.3157992959022522
         ],
         "y": [
          0.8412538170814514,
          0.948826014995575
         ]
        },
        {
         "mode": "lines",
         "type": "scatter",
         "x": [
          0.5102696418762207,
          -0.8005414605140686
         ],
         "y": [
          0.8600144982337952,
          0.5992773771286011
         ]
        },
        {
         "mode": "lines",
         "type": "scatter",
         "x": [
          0.5102696418762207,
          -0.7318942546844482
         ],
         "y": [
          0.8600144982337952,
          0.681418240070343
         ]
        },
        {
         "mode": "lines",
         "type": "scatter",
         "x": [
          0.5102696418762207,
          -0.7557498812675476
         ],
         "y": [
          0.8600144982337952,
          0.6548603773117065
         ]
        },
        {
         "mode": "lines",
         "type": "scatter",
         "x": [
          0.5102696418762207,
          -0.7786418199539185
         ],
         "y": [
          0.8600144982337952,
          0.6274687051773071
         ]
        },
        {
         "mode": "lines",
         "type": "scatter",
         "x": [
          0.5102696418762207,
          0.44761693477630615
         ],
         "y": [
          0.8600144982337952,
          0.8942254185676575
         ]
        },
        {
         "mode": "lines",
         "type": "scatter",
         "x": [
          0.5102696418762207,
          0.28173258900642395
         ],
         "y": [
          0.8600144982337952,
          0.9594929814338684
         ]
        },
        {
         "mode": "lines",
         "type": "scatter",
         "x": [
          0.5102696418762207,
          0.14231516420841217
         ],
         "y": [
          0.8600144982337952,
          0.9898213744163513
         ]
        },
        {
         "mode": "lines",
         "type": "scatter",
         "x": [
          0.5102696418762207,
          -0.9238795042037964
         ],
         "y": [
          0.8600144982337952,
          0.38268354535102844
         ]
        },
        {
         "mode": "lines",
         "type": "scatter",
         "x": [
          0.5102696418762207,
          0.0713387057185173
         ],
         "y": [
          0.8600144982337952,
          0.9974521398544312
         ]
        },
        {
         "mode": "lines",
         "type": "scatter",
         "x": [
          0.5102696418762207,
          0.03569192439317703
         ],
         "y": [
          0.8600144982337952,
          0.9993628263473511
         ]
        },
        {
         "mode": "lines",
         "type": "scatter",
         "x": [
          0.5102696418762207,
          -0.10689523816108704
         ],
         "y": [
          0.8600144982337952,
          0.9942702651023865
         ]
        },
        {
         "mode": "lines",
         "type": "scatter",
         "x": [
          0.5102696418762207,
          -0.14231489598751068
         ],
         "y": [
          0.8600144982337952,
          0.9898214340209961
         ]
        },
        {
         "mode": "lines",
         "type": "scatter",
         "x": [
          0.5102696418762207,
          -0.9096319675445557
         ],
         "y": [
          0.8600144982337952,
          0.41541507840156555
         ]
        },
        {
         "mode": "lines",
         "type": "scatter",
         "x": [
          0.5102696418762207,
          -0.28173232078552246
         ],
         "y": [
          0.8600144982337952,
          0.9594930410385132
         ]
        },
        {
         "mode": "lines",
         "type": "scatter",
         "x": [
          0.5102696418762207,
          -0.3157992959022522
         ],
         "y": [
          0.8600144982337952,
          0.948826014995575
         ]
        },
        {
         "mode": "lines",
         "type": "scatter",
         "x": [
          0.47924864292144775,
          -0.9689374566078186
         ],
         "y": [
          0.877679169178009,
          0.2473059892654419
         ]
        },
        {
         "mode": "lines",
         "type": "scatter",
         "x": [
          0.47924864292144775,
          -0.9771469831466675
         ],
         "y": [
          0.877679169178009,
          0.2125648409128189
         ]
        },
        {
         "mode": "lines",
         "type": "scatter",
         "x": [
          0.47924864292144775,
          -0.035692598670721054
         ],
         "y": [
          0.877679169178009,
          0.9993628263473511
         ]
        },
        {
         "mode": "lines",
         "type": "scatter",
         "x": [
          0.44761693477630615,
          -0.7318942546844482
         ],
         "y": [
          0.8942254185676575,
          0.681418240070343
         ]
        },
        {
         "mode": "lines",
         "type": "scatter",
         "x": [
          0.44761693477630615,
          -0.7557498812675476
         ],
         "y": [
          0.8942254185676575,
          0.6548603773117065
         ]
        },
        {
         "mode": "lines",
         "type": "scatter",
         "x": [
          0.44761693477630615,
          -0.7786418199539185
         ],
         "y": [
          0.8942254185676575,
          0.6274687051773071
         ]
        },
        {
         "mode": "lines",
         "type": "scatter",
         "x": [
          0.44761693477630615,
          -0.3826838731765747
         ],
         "y": [
          0.8942254185676575,
          0.9238793253898621
         ]
        },
        {
         "mode": "lines",
         "type": "scatter",
         "x": [
          0.44761693477630615,
          -0.41541537642478943
         ],
         "y": [
          0.8942254185676575,
          0.9096318483352661
         ]
        },
        {
         "mode": "lines",
         "type": "scatter",
         "x": [
          0.44761693477630615,
          0.4154147803783417
         ],
         "y": [
          0.8942254185676575,
          0.9096320867538452
         ]
        },
        {
         "mode": "lines",
         "type": "scatter",
         "x": [
          0.44761693477630615,
          -0.4476175308227539
         ],
         "y": [
          0.8942254185676575,
          0.8942251205444336
         ]
        },
        {
         "mode": "lines",
         "type": "scatter",
         "x": [
          0.44761693477630615,
          0.38268327713012695
         ],
         "y": [
          0.8942254185676575,
          0.9238796234130859
         ]
        },
        {
         "mode": "lines",
         "type": "scatter",
         "x": [
          0.44761693477630615,
          0.34946408867836
         ],
         "y": [
          0.8942254185676575,
          0.9369497299194336
         ]
        },
        {
         "mode": "lines",
         "type": "scatter",
         "x": [
          0.44761693477630615,
          -0.4792492091655731
         ],
         "y": [
          0.8942254185676575,
          0.8776788711547852
         ]
        },
        {
         "mode": "lines",
         "type": "scatter",
         "x": [
          0.44761693477630615,
          -0.5102702379226685
         ],
         "y": [
          0.8942254185676575,
          0.8600141406059265
         ]
        },
        {
         "mode": "lines",
         "type": "scatter",
         "x": [
          0.44761693477630615,
          0.3157995641231537
         ],
         "y": [
          0.8942254185676575,
          0.9488259553909302
         ]
        },
        {
         "mode": "lines",
         "type": "scatter",
         "x": [
          0.44761693477630615,
          -0.5406409502029419
         ],
         "y": [
          0.8942254185676575,
          0.8412534594535828
         ]
        },
        {
         "mode": "lines",
         "type": "scatter",
         "x": [
          0.44761693477630615,
          0.24730660021305084
         ],
         "y": [
          0.8942254185676575,
          0.9689372777938843
         ]
        },
        {
         "mode": "lines",
         "type": "scatter",
         "x": [
          0.44761693477630615,
          -0.5703226923942566
         ],
         "y": [
          0.8942254185676575,
          0.8214207291603088
         ]
        },
        {
         "mode": "lines",
         "type": "scatter",
         "x": [
          0.44761693477630615,
          -0.599277675151825
         ],
         "y": [
          0.8942254185676575,
          0.8005412220954895
         ]
        },
        {
         "mode": "lines",
         "type": "scatter",
         "x": [
          0.44761693477630615,
          0.1775534451007843
         ],
         "y": [
          0.8942254185676575,
          0.9841111302375793
         ]
        },
        {
         "mode": "lines",
         "type": "scatter",
         "x": [
          0.44761693477630615,
          -0.6274689435958862
         ],
         "y": [
          0.8942254185676575,
          0.7786415815353394
         ]
        },
        {
         "mode": "lines",
         "type": "scatter",
         "x": [
          0.44761693477630615,
          -0.6548606157302856
         ],
         "y": [
          0.8942254185676575,
          0.7557497024536133
         ]
        },
        {
         "mode": "lines",
         "type": "scatter",
         "x": [
          0.44761693477630615,
          -0.9488258361816406
         ],
         "y": [
          0.8942254185676575,
          0.31579986214637756
         ]
        },
        {
         "mode": "lines",
         "type": "scatter",
         "x": [
          0.44761693477630615,
          -0.6814177632331848
         ],
         "y": [
          0.8942254185676575,
          0.7318946719169617
         ]
        },
        {
         "mode": "lines",
         "type": "scatter",
         "x": [
          0.44761693477630615,
          -3.3776623808989825e-7
         ],
         "y": [
          0.8942254185676575,
          1
         ]
        },
        {
         "mode": "lines",
         "type": "scatter",
         "x": [
          0.44761693477630615,
          -0.9942703247070312
         ],
         "y": [
          0.8942254185676575,
          0.10689488053321838
         ]
        },
        {
         "mode": "lines",
         "type": "scatter",
         "x": [
          0.4154147803783417,
          -0.3494638204574585
         ],
         "y": [
          0.9096320867538452,
          0.9369498491287231
         ]
        },
        {
         "mode": "lines",
         "type": "scatter",
         "x": [
          0.4154147803783417,
          -0.4476175308227539
         ],
         "y": [
          0.9096320867538452,
          0.8942251205444336
         ]
        },
        {
         "mode": "lines",
         "type": "scatter",
         "x": [
          0.4154147803783417,
          0.24730660021305084
         ],
         "y": [
          0.9096320867538452,
          0.9689372777938843
         ]
        },
        {
         "mode": "lines",
         "type": "scatter",
         "x": [
          0.4154147803783417,
          -0.6814177632331848
         ],
         "y": [
          0.9096320867538452,
          0.7318946719169617
         ]
        },
        {
         "mode": "lines",
         "type": "scatter",
         "x": [
          0.4154147803783417,
          -0.9942703247070312
         ],
         "y": [
          0.9096320867538452,
          0.10689488053321838
         ]
        },
        {
         "mode": "lines",
         "type": "scatter",
         "x": [
          0.4154147803783417,
          -0.07133937627077103
         ],
         "y": [
          0.9096320867538452,
          0.9974520802497864
         ]
        },
        {
         "mode": "lines",
         "type": "scatter",
         "x": [
          0.4154147803783417,
          -0.21256519854068756
         ],
         "y": [
          0.9096320867538452,
          0.9771468639373779
         ]
        },
        {
         "mode": "lines",
         "type": "scatter",
         "x": [
          0.4154147803783417,
          -0.9974521398544312
         ],
         "y": [
          0.9096320867538452,
          0.07133901864290237
         ]
        },
        {
         "mode": "lines",
         "type": "scatter",
         "x": [
          0.38268327713012695,
          -0.4476175308227539
         ],
         "y": [
          0.9238796234130859,
          0.8942251205444336
         ]
        },
        {
         "mode": "lines",
         "type": "scatter",
         "x": [
          0.38268327713012695,
          0.34946408867836
         ],
         "y": [
          0.9238796234130859,
          0.9369497299194336
         ]
        },
        {
         "mode": "lines",
         "type": "scatter",
         "x": [
          0.38268327713012695,
          -0.4792492091655731
         ],
         "y": [
          0.9238796234130859,
          0.8776788711547852
         ]
        },
        {
         "mode": "lines",
         "type": "scatter",
         "x": [
          0.38268327713012695,
          -0.5102702379226685
         ],
         "y": [
          0.9238796234130859,
          0.8600141406059265
         ]
        },
        {
         "mode": "lines",
         "type": "scatter",
         "x": [
          0.38268327713012695,
          0.3157995641231537
         ],
         "y": [
          0.9238796234130859,
          0.9488259553909302
         ]
        },
        {
         "mode": "lines",
         "type": "scatter",
         "x": [
          0.38268327713012695,
          -0.5406409502029419
         ],
         "y": [
          0.9238796234130859,
          0.8412534594535828
         ]
        },
        {
         "mode": "lines",
         "type": "scatter",
         "x": [
          0.38268327713012695,
          -0.5703226923942566
         ],
         "y": [
          0.9238796234130859,
          0.8214207291603088
         ]
        },
        {
         "mode": "lines",
         "type": "scatter",
         "x": [
          0.38268327713012695,
          -0.599277675151825
         ],
         "y": [
          0.9238796234130859,
          0.8005412220954895
         ]
        },
        {
         "mode": "lines",
         "type": "scatter",
         "x": [
          0.38268327713012695,
          -0.6274689435958862
         ],
         "y": [
          0.9238796234130859,
          0.7786415815353394
         ]
        },
        {
         "mode": "lines",
         "type": "scatter",
         "x": [
          0.38268327713012695,
          -0.6548606157302856
         ],
         "y": [
          0.9238796234130859,
          0.7557497024536133
         ]
        },
        {
         "mode": "lines",
         "type": "scatter",
         "x": [
          0.38268327713012695,
          -0.9488258361816406
         ],
         "y": [
          0.9238796234130859,
          0.31579986214637756
         ]
        },
        {
         "mode": "lines",
         "type": "scatter",
         "x": [
          0.38268327713012695,
          -0.6814177632331848
         ],
         "y": [
          0.9238796234130859,
          0.7318946719169617
         ]
        },
        {
         "mode": "lines",
         "type": "scatter",
         "x": [
          0.38268327713012695,
          -3.3776623808989825e-7
         ],
         "y": [
          0.9238796234130859,
          1
         ]
        },
        {
         "mode": "lines",
         "type": "scatter",
         "x": [
          0.38268327713012695,
          -0.24730634689331055
         ],
         "y": [
          0.9238796234130859,
          0.968937337398529
         ]
        },
        {
         "mode": "lines",
         "type": "scatter",
         "x": [
          0.34946408867836,
          -0.4476175308227539
         ],
         "y": [
          0.9369497299194336,
          0.8942251205444336
         ]
        },
        {
         "mode": "lines",
         "type": "scatter",
         "x": [
          0.34946408867836,
          -0.4792492091655731
         ],
         "y": [
          0.9369497299194336,
          0.8776788711547852
         ]
        },
        {
         "mode": "lines",
         "type": "scatter",
         "x": [
          0.34946408867836,
          -0.5102702379226685
         ],
         "y": [
          0.9369497299194336,
          0.8600141406059265
         ]
        },
        {
         "mode": "lines",
         "type": "scatter",
         "x": [
          0.34946408867836,
          0.3157995641231537
         ],
         "y": [
          0.9369497299194336,
          0.9488259553909302
         ]
        },
        {
         "mode": "lines",
         "type": "scatter",
         "x": [
          0.34946408867836,
          -0.5406409502029419
         ],
         "y": [
          0.9369497299194336,
          0.8412534594535828
         ]
        },
        {
         "mode": "lines",
         "type": "scatter",
         "x": [
          0.34946408867836,
          -0.5703226923942566
         ],
         "y": [
          0.9369497299194336,
          0.8214207291603088
         ]
        },
        {
         "mode": "lines",
         "type": "scatter",
         "x": [
          0.34946408867836,
          -0.599277675151825
         ],
         "y": [
          0.9369497299194336,
          0.8005412220954895
         ]
        },
        {
         "mode": "lines",
         "type": "scatter",
         "x": [
          0.34946408867836,
          0.1775534451007843
         ],
         "y": [
          0.9369497299194336,
          0.9841111302375793
         ]
        },
        {
         "mode": "lines",
         "type": "scatter",
         "x": [
          0.34946408867836,
          -0.6274689435958862
         ],
         "y": [
          0.9369497299194336,
          0.7786415815353394
         ]
        },
        {
         "mode": "lines",
         "type": "scatter",
         "x": [
          0.34946408867836,
          -0.6548606157302856
         ],
         "y": [
          0.9369497299194336,
          0.7557497024536133
         ]
        },
        {
         "mode": "lines",
         "type": "scatter",
         "x": [
          0.34946408867836,
          -0.6814177632331848
         ],
         "y": [
          0.9369497299194336,
          0.7318946719169617
         ]
        },
        {
         "mode": "lines",
         "type": "scatter",
         "x": [
          0.34946408867836,
          -3.3776623808989825e-7
         ],
         "y": [
          0.9369497299194336,
          1
         ]
        },
        {
         "mode": "lines",
         "type": "scatter",
         "x": [
          0.3157995641231537,
          -0.4476175308227539
         ],
         "y": [
          0.9488259553909302,
          0.8942251205444336
         ]
        },
        {
         "mode": "lines",
         "type": "scatter",
         "x": [
          0.3157995641231537,
          -0.4792492091655731
         ],
         "y": [
          0.9488259553909302,
          0.8776788711547852
         ]
        },
        {
         "mode": "lines",
         "type": "scatter",
         "x": [
          0.3157995641231537,
          -0.5102702379226685
         ],
         "y": [
          0.9488259553909302,
          0.8600141406059265
         ]
        },
        {
         "mode": "lines",
         "type": "scatter",
         "x": [
          0.3157995641231537,
          -0.5406409502029419
         ],
         "y": [
          0.9488259553909302,
          0.8412534594535828
         ]
        },
        {
         "mode": "lines",
         "type": "scatter",
         "x": [
          0.3157995641231537,
          -0.5703226923942566
         ],
         "y": [
          0.9488259553909302,
          0.8214207291603088
         ]
        },
        {
         "mode": "lines",
         "type": "scatter",
         "x": [
          0.3157995641231537,
          -0.599277675151825
         ],
         "y": [
          0.9488259553909302,
          0.8005412220954895
         ]
        },
        {
         "mode": "lines",
         "type": "scatter",
         "x": [
          0.3157995641231537,
          0.1775534451007843
         ],
         "y": [
          0.9488259553909302,
          0.9841111302375793
         ]
        },
        {
         "mode": "lines",
         "type": "scatter",
         "x": [
          0.3157995641231537,
          -0.6274689435958862
         ],
         "y": [
          0.9488259553909302,
          0.7786415815353394
         ]
        },
        {
         "mode": "lines",
         "type": "scatter",
         "x": [
          0.3157995641231537,
          -3.3776623808989825e-7
         ],
         "y": [
          0.9488259553909302,
          1
         ]
        },
        {
         "mode": "lines",
         "type": "scatter",
         "x": [
          0.3157995641231537,
          -0.21256519854068756
         ],
         "y": [
          0.9488259553909302,
          0.9771468639373779
         ]
        },
        {
         "mode": "lines",
         "type": "scatter",
         "x": [
          0.3157995641231537,
          -0.9974521398544312
         ],
         "y": [
          0.9488259553909302,
          0.07133901864290237
         ]
        },
        {
         "mode": "lines",
         "type": "scatter",
         "x": [
          0.3157995641231537,
          -0.7071065902709961
         ],
         "y": [
          0.9488259553909302,
          0.7071070075035095
         ]
        },
        {
         "mode": "lines",
         "type": "scatter",
         "x": [
          0.28173258900642395,
          -0.7318942546844482
         ],
         "y": [
          0.9594929814338684,
          0.681418240070343
         ]
        },
        {
         "mode": "lines",
         "type": "scatter",
         "x": [
          0.28173258900642395,
          -0.7557498812675476
         ],
         "y": [
          0.9594929814338684,
          0.6548603773117065
         ]
        },
        {
         "mode": "lines",
         "type": "scatter",
         "x": [
          0.28173258900642395,
          -0.7786418199539185
         ],
         "y": [
          0.9594929814338684,
          0.6274687051773071
         ]
        },
        {
         "mode": "lines",
         "type": "scatter",
         "x": [
          0.28173258900642395,
          0.14231516420841217
         ],
         "y": [
          0.9594929814338684,
          0.9898213744163513
         ]
        },
        {
         "mode": "lines",
         "type": "scatter",
         "x": [
          0.28173258900642395,
          -0.8776790499687195
         ],
         "y": [
          0.9594929814338684,
          0.47924891114234924
         ]
        },
        {
         "mode": "lines",
         "type": "scatter",
         "x": [
          0.28173258900642395,
          -0.8942252993583679
         ],
         "y": [
          0.9594929814338684,
          0.44761720299720764
         ]
        },
        {
         "mode": "lines",
         "type": "scatter",
         "x": [
          0.28173258900642395,
          -0.10689523816108704
         ],
         "y": [
          0.9594929814338684,
          0.9942702651023865
         ]
        },
        {
         "mode": "lines",
         "type": "scatter",
         "x": [
          0.28173258900642395,
          -0.9096319675445557
         ],
         "y": [
          0.9594929814338684,
          0.41541507840156555
         ]
        },
        {
         "mode": "lines",
         "type": "scatter",
         "x": [
          0.24730660021305084,
          -0.21256519854068756
         ],
         "y": [
          0.9689372777938843,
          0.9771468639373779
         ]
        },
        {
         "mode": "lines",
         "type": "scatter",
         "x": [
          0.21256546676158905,
          -0.8412536382675171
         ],
         "y": [
          0.9771468043327332,
          0.540640652179718
         ]
        },
        {
         "mode": "lines",
         "type": "scatter",
         "x": [
          0.21256546676158905,
          -0.8600143194198608
         ],
         "y": [
          0.9771468043327332,
          0.5102699398994446
         ]
        },
        {
         "mode": "lines",
         "type": "scatter",
         "x": [
          0.21256546676158905,
          0.1775534451007843
         ],
         "y": [
          0.9771468043327332,
          0.9841111302375793
         ]
        },
        {
         "mode": "lines",
         "type": "scatter",
         "x": [
          0.21256546676158905,
          0.10689457505941391
         ],
         "y": [
          0.9771468043327332,
          0.994270384311676
         ]
        },
        {
         "mode": "lines",
         "type": "scatter",
         "x": [
          0.1775534451007843,
          -0.4476175308227539
         ],
         "y": [
          0.9841111302375793,
          0.8942251205444336
         ]
        },
        {
         "mode": "lines",
         "type": "scatter",
         "x": [
          0.1775534451007843,
          -0.4792492091655731
         ],
         "y": [
          0.9841111302375793,
          0.8776788711547852
         ]
        },
        {
         "mode": "lines",
         "type": "scatter",
         "x": [
          0.1775534451007843,
          -0.5102702379226685
         ],
         "y": [
          0.9841111302375793,
          0.8600141406059265
         ]
        },
        {
         "mode": "lines",
         "type": "scatter",
         "x": [
          0.1775534451007843,
          -0.5406409502029419
         ],
         "y": [
          0.9841111302375793,
          0.8412534594535828
         ]
        },
        {
         "mode": "lines",
         "type": "scatter",
         "x": [
          0.1775534451007843,
          -0.5703226923942566
         ],
         "y": [
          0.9841111302375793,
          0.8214207291603088
         ]
        },
        {
         "mode": "lines",
         "type": "scatter",
         "x": [
          0.1775534451007843,
          -0.599277675151825
         ],
         "y": [
          0.9841111302375793,
          0.8005412220954895
         ]
        },
        {
         "mode": "lines",
         "type": "scatter",
         "x": [
          0.1775534451007843,
          -0.9488258361816406
         ],
         "y": [
          0.9841111302375793,
          0.31579986214637756
         ]
        },
        {
         "mode": "lines",
         "type": "scatter",
         "x": [
          0.1775534451007843,
          -0.1775531768798828
         ],
         "y": [
          0.9841111302375793,
          0.9841111898422241
         ]
        },
        {
         "mode": "lines",
         "type": "scatter",
         "x": [
          0.14231516420841217,
          -0.7318942546844482
         ],
         "y": [
          0.9898213744163513,
          0.681418240070343
         ]
        },
        {
         "mode": "lines",
         "type": "scatter",
         "x": [
          0.14231516420841217,
          -0.7557498812675476
         ],
         "y": [
          0.9898213744163513,
          0.6548603773117065
         ]
        },
        {
         "mode": "lines",
         "type": "scatter",
         "x": [
          0.14231516420841217,
          -0.7786418199539185
         ],
         "y": [
          0.9898213744163513,
          0.6274687051773071
         ]
        },
        {
         "mode": "lines",
         "type": "scatter",
         "x": [
          0.14231516420841217,
          0.0713387057185173
         ],
         "y": [
          0.9898213744163513,
          0.9974521398544312
         ]
        },
        {
         "mode": "lines",
         "type": "scatter",
         "x": [
          0.14231516420841217,
          0.03569192439317703
         ],
         "y": [
          0.9898213744163513,
          0.9993628263473511
         ]
        },
        {
         "mode": "lines",
         "type": "scatter",
         "x": [
          0.14231516420841217,
          -0.10689523816108704
         ],
         "y": [
          0.9898213744163513,
          0.9942702651023865
         ]
        },
        {
         "mode": "lines",
         "type": "scatter",
         "x": [
          0.14231516420841217,
          -0.9096319675445557
         ],
         "y": [
          0.9898213744163513,
          0.41541507840156555
         ]
        },
        {
         "mode": "lines",
         "type": "scatter",
         "x": [
          0.14231516420841217,
          -0.28173232078552246
         ],
         "y": [
          0.9898213744163513,
          0.9594930410385132
         ]
        },
        {
         "mode": "lines",
         "type": "scatter",
         "x": [
          0.14231516420841217,
          -0.3157992959022522
         ],
         "y": [
          0.9898213744163513,
          0.948826014995575
         ]
        },
        {
         "mode": "lines",
         "type": "scatter",
         "x": [
          0.10689457505941391,
          -0.9841112494468689
         ],
         "y": [
          0.994270384311676,
          0.17755281925201416
         ]
        },
        {
         "mode": "lines",
         "type": "scatter",
         "x": [
          0.10689457505941391,
          -0.9369496703147888
         ],
         "y": [
          0.994270384311676,
          0.3494643568992615
         ]
        },
        {
         "mode": "lines",
         "type": "scatter",
         "x": [
          0.10689457505941391,
          -0.9898214936256409
         ],
         "y": [
          0.994270384311676,
          0.14231452345848083
         ]
        },
        {
         "mode": "lines",
         "type": "scatter",
         "x": [
          0.0713387057185173,
          -0.7318942546844482
         ],
         "y": [
          0.9974521398544312,
          0.681418240070343
         ]
        },
        {
         "mode": "lines",
         "type": "scatter",
         "x": [
          0.0713387057185173,
          -0.7557498812675476
         ],
         "y": [
          0.9974521398544312,
          0.6548603773117065
         ]
        },
        {
         "mode": "lines",
         "type": "scatter",
         "x": [
          0.0713387057185173,
          -0.7786418199539185
         ],
         "y": [
          0.9974521398544312,
          0.6274687051773071
         ]
        },
        {
         "mode": "lines",
         "type": "scatter",
         "x": [
          0.0713387057185173,
          0.03569192439317703
         ],
         "y": [
          0.9974521398544312,
          0.9993628263473511
         ]
        },
        {
         "mode": "lines",
         "type": "scatter",
         "x": [
          0.0713387057185173,
          -0.10689523816108704
         ],
         "y": [
          0.9974521398544312,
          0.9942702651023865
         ]
        },
        {
         "mode": "lines",
         "type": "scatter",
         "x": [
          0.03569192439317703,
          -0.7318942546844482
         ],
         "y": [
          0.9993628263473511,
          0.681418240070343
         ]
        },
        {
         "mode": "lines",
         "type": "scatter",
         "x": [
          0.03569192439317703,
          -0.7557498812675476
         ],
         "y": [
          0.9993628263473511,
          0.6548603773117065
         ]
        },
        {
         "mode": "lines",
         "type": "scatter",
         "x": [
          0.03569192439317703,
          -0.7786418199539185
         ],
         "y": [
          0.9993628263473511,
          0.6274687051773071
         ]
        },
        {
         "mode": "lines",
         "type": "scatter",
         "x": [
          -3.3776623808989825e-7,
          -0.4476175308227539
         ],
         "y": [
          1,
          0.8942251205444336
         ]
        },
        {
         "mode": "lines",
         "type": "scatter",
         "x": [
          -3.3776623808989825e-7,
          -0.4792492091655731
         ],
         "y": [
          1,
          0.8776788711547852
         ]
        },
        {
         "mode": "lines",
         "type": "scatter",
         "x": [
          -3.3776623808989825e-7,
          -0.5102702379226685
         ],
         "y": [
          1,
          0.8600141406059265
         ]
        },
        {
         "mode": "lines",
         "type": "scatter",
         "x": [
          -3.3776623808989825e-7,
          -0.5703226923942566
         ],
         "y": [
          1,
          0.8214207291603088
         ]
        },
        {
         "mode": "lines",
         "type": "scatter",
         "x": [
          -3.3776623808989825e-7,
          -0.6274689435958862
         ],
         "y": [
          1,
          0.7786415815353394
         ]
        },
        {
         "mode": "lines",
         "type": "scatter",
         "x": [
          -3.3776623808989825e-7,
          -0.6548606157302856
         ],
         "y": [
          1,
          0.7557497024536133
         ]
        },
        {
         "mode": "lines",
         "type": "scatter",
         "x": [
          -3.3776623808989825e-7,
          -0.6814177632331848
         ],
         "y": [
          1,
          0.7318946719169617
         ]
        },
        {
         "mode": "lines",
         "type": "scatter",
         "x": [
          -0.07133937627077103,
          -0.1775531768798828
         ],
         "y": [
          0.9974520802497864,
          0.9841111898422241
         ]
        },
        {
         "mode": "lines",
         "type": "scatter",
         "x": [
          -0.07133937627077103,
          -0.21256519854068756
         ],
         "y": [
          0.9974520802497864,
          0.9771468639373779
         ]
        },
        {
         "mode": "lines",
         "type": "scatter",
         "x": [
          -0.07133937627077103,
          -0.24730634689331055
         ],
         "y": [
          0.9974520802497864,
          0.968937337398529
         ]
        },
        {
         "mode": "lines",
         "type": "scatter",
         "x": [
          -0.10689523816108704,
          -0.8005414605140686
         ],
         "y": [
          0.9942702651023865,
          0.5992773771286011
         ]
        },
        {
         "mode": "lines",
         "type": "scatter",
         "x": [
          -0.10689523816108704,
          -0.7318942546844482
         ],
         "y": [
          0.9942702651023865,
          0.681418240070343
         ]
        },
        {
         "mode": "lines",
         "type": "scatter",
         "x": [
          -0.10689523816108704,
          -0.7786418199539185
         ],
         "y": [
          0.9942702651023865,
          0.6274687051773071
         ]
        },
        {
         "mode": "lines",
         "type": "scatter",
         "x": [
          -0.10689523816108704,
          -0.4792492091655731
         ],
         "y": [
          0.9942702651023865,
          0.8776788711547852
         ]
        },
        {
         "mode": "lines",
         "type": "scatter",
         "x": [
          -0.10689523816108704,
          -0.9238795042037964
         ],
         "y": [
          0.9942702651023865,
          0.38268354535102844
         ]
        },
        {
         "mode": "lines",
         "type": "scatter",
         "x": [
          -0.10689523816108704,
          -0.8776790499687195
         ],
         "y": [
          0.9942702651023865,
          0.47924891114234924
         ]
        },
        {
         "mode": "lines",
         "type": "scatter",
         "x": [
          -0.10689523816108704,
          -0.8942252993583679
         ],
         "y": [
          0.9942702651023865,
          0.44761720299720764
         ]
        },
        {
         "mode": "lines",
         "type": "scatter",
         "x": [
          -0.10689523816108704,
          -0.14231489598751068
         ],
         "y": [
          0.9942702651023865,
          0.9898214340209961
         ]
        },
        {
         "mode": "lines",
         "type": "scatter",
         "x": [
          -0.10689523816108704,
          -0.28173232078552246
         ],
         "y": [
          0.9942702651023865,
          0.9594930410385132
         ]
        },
        {
         "mode": "lines",
         "type": "scatter",
         "x": [
          -0.10689523816108704,
          -0.3157992959022522
         ],
         "y": [
          0.9942702651023865,
          0.948826014995575
         ]
        },
        {
         "mode": "lines",
         "type": "scatter",
         "x": [
          -0.14231489598751068,
          -0.9594928622245789
         ],
         "y": [
          0.9898214340209961,
          0.2817328870296478
         ]
        },
        {
         "mode": "lines",
         "type": "scatter",
         "x": [
          -0.14231489598751068,
          -0.28173232078552246
         ],
         "y": [
          0.9898214340209961,
          0.9594930410385132
         ]
        },
        {
         "mode": "lines",
         "type": "scatter",
         "x": [
          -0.1775531768798828,
          -0.4476175308227539
         ],
         "y": [
          0.9841111898422241,
          0.8942251205444336
         ]
        },
        {
         "mode": "lines",
         "type": "scatter",
         "x": [
          -0.1775531768798828,
          -0.4792492091655731
         ],
         "y": [
          0.9841111898422241,
          0.8776788711547852
         ]
        },
        {
         "mode": "lines",
         "type": "scatter",
         "x": [
          -0.1775531768798828,
          -0.5102702379226685
         ],
         "y": [
          0.9841111898422241,
          0.8600141406059265
         ]
        },
        {
         "mode": "lines",
         "type": "scatter",
         "x": [
          -0.21256519854068756,
          -0.9974521398544312
         ],
         "y": [
          0.9771468639373779,
          0.07133901864290237
         ]
        },
        {
         "mode": "lines",
         "type": "scatter",
         "x": [
          -0.24730634689331055,
          -0.5406409502029419
         ],
         "y": [
          0.968937337398529,
          0.8412534594535828
         ]
        },
        {
         "mode": "lines",
         "type": "scatter",
         "x": [
          -0.24730634689331055,
          -0.9942703247070312
         ],
         "y": [
          0.968937337398529,
          0.10689488053321838
         ]
        },
        {
         "mode": "lines",
         "type": "scatter",
         "x": [
          -0.28173232078552246,
          -0.9096319675445557
         ],
         "y": [
          0.9594930410385132,
          0.41541507840156555
         ]
        },
        {
         "mode": "lines",
         "type": "scatter",
         "x": [
          -0.28173232078552246,
          -0.3157992959022522
         ],
         "y": [
          0.9594930410385132,
          0.948826014995575
         ]
        },
        {
         "mode": "lines",
         "type": "scatter",
         "x": [
          -0.3157992959022522,
          -0.9594928622245789
         ],
         "y": [
          0.948826014995575,
          0.2817328870296478
         ]
        },
        {
         "mode": "lines",
         "type": "scatter",
         "x": [
          -0.3826838731765747,
          -0.41541537642478943
         ],
         "y": [
          0.9238793253898621,
          0.9096318483352661
         ]
        },
        {
         "mode": "lines",
         "type": "scatter",
         "x": [
          -0.3826838731765747,
          -0.4476175308227539
         ],
         "y": [
          0.9238793253898621,
          0.8942251205444336
         ]
        },
        {
         "mode": "lines",
         "type": "scatter",
         "x": [
          -0.3826838731765747,
          -0.5406409502029419
         ],
         "y": [
          0.9238793253898621,
          0.8412534594535828
         ]
        },
        {
         "mode": "lines",
         "type": "scatter",
         "x": [
          -0.3826838731765747,
          -0.9369496703147888
         ],
         "y": [
          0.9238793253898621,
          0.3494643568992615
         ]
        },
        {
         "mode": "lines",
         "type": "scatter",
         "x": [
          -0.3826838731765747,
          -0.9488258361816406
         ],
         "y": [
          0.9238793253898621,
          0.31579986214637756
         ]
        },
        {
         "mode": "lines",
         "type": "scatter",
         "x": [
          -0.41541537642478943,
          -0.4476175308227539
         ],
         "y": [
          0.9096318483352661,
          0.8942251205444336
         ]
        },
        {
         "mode": "lines",
         "type": "scatter",
         "x": [
          -0.41541537642478943,
          -0.5406409502029419
         ],
         "y": [
          0.9096318483352661,
          0.8412534594535828
         ]
        },
        {
         "mode": "lines",
         "type": "scatter",
         "x": [
          -0.41541537642478943,
          -0.9369496703147888
         ],
         "y": [
          0.9096318483352661,
          0.3494643568992615
         ]
        },
        {
         "mode": "lines",
         "type": "scatter",
         "x": [
          -0.41541537642478943,
          -0.9488258361816406
         ],
         "y": [
          0.9096318483352661,
          0.31579986214637756
         ]
        },
        {
         "mode": "lines",
         "type": "scatter",
         "x": [
          -0.4476175308227539,
          -0.4792492091655731
         ],
         "y": [
          0.8942251205444336,
          0.8776788711547852
         ]
        },
        {
         "mode": "lines",
         "type": "scatter",
         "x": [
          -0.4476175308227539,
          -0.5102702379226685
         ],
         "y": [
          0.8942251205444336,
          0.8600141406059265
         ]
        },
        {
         "mode": "lines",
         "type": "scatter",
         "x": [
          -0.4476175308227539,
          -0.5703226923942566
         ],
         "y": [
          0.8942251205444336,
          0.8214207291603088
         ]
        },
        {
         "mode": "lines",
         "type": "scatter",
         "x": [
          -0.4476175308227539,
          -0.599277675151825
         ],
         "y": [
          0.8942251205444336,
          0.8005412220954895
         ]
        },
        {
         "mode": "lines",
         "type": "scatter",
         "x": [
          -0.4476175308227539,
          -0.6274689435958862
         ],
         "y": [
          0.8942251205444336,
          0.7786415815353394
         ]
        },
        {
         "mode": "lines",
         "type": "scatter",
         "x": [
          -0.4476175308227539,
          -0.6548606157302856
         ],
         "y": [
          0.8942251205444336,
          0.7557497024536133
         ]
        },
        {
         "mode": "lines",
         "type": "scatter",
         "x": [
          -0.4476175308227539,
          -0.9488258361816406
         ],
         "y": [
          0.8942251205444336,
          0.31579986214637756
         ]
        },
        {
         "mode": "lines",
         "type": "scatter",
         "x": [
          -0.4476175308227539,
          -0.6814177632331848
         ],
         "y": [
          0.8942251205444336,
          0.7318946719169617
         ]
        },
        {
         "mode": "lines",
         "type": "scatter",
         "x": [
          -0.4792492091655731,
          -0.5102702379226685
         ],
         "y": [
          0.8776788711547852,
          0.8600141406059265
         ]
        },
        {
         "mode": "lines",
         "type": "scatter",
         "x": [
          -0.4792492091655731,
          -0.5406409502029419
         ],
         "y": [
          0.8776788711547852,
          0.8412534594535828
         ]
        },
        {
         "mode": "lines",
         "type": "scatter",
         "x": [
          -0.4792492091655731,
          -0.5703226923942566
         ],
         "y": [
          0.8776788711547852,
          0.8214207291603088
         ]
        },
        {
         "mode": "lines",
         "type": "scatter",
         "x": [
          -0.4792492091655731,
          -0.599277675151825
         ],
         "y": [
          0.8776788711547852,
          0.8005412220954895
         ]
        },
        {
         "mode": "lines",
         "type": "scatter",
         "x": [
          -0.4792492091655731,
          -0.6274689435958862
         ],
         "y": [
          0.8776788711547852,
          0.7786415815353394
         ]
        },
        {
         "mode": "lines",
         "type": "scatter",
         "x": [
          -0.4792492091655731,
          -0.6548606157302856
         ],
         "y": [
          0.8776788711547852,
          0.7557497024536133
         ]
        },
        {
         "mode": "lines",
         "type": "scatter",
         "x": [
          -0.4792492091655731,
          -0.9488258361816406
         ],
         "y": [
          0.8776788711547852,
          0.31579986214637756
         ]
        },
        {
         "mode": "lines",
         "type": "scatter",
         "x": [
          -0.5102702379226685,
          -0.5406409502029419
         ],
         "y": [
          0.8600141406059265,
          0.8412534594535828
         ]
        },
        {
         "mode": "lines",
         "type": "scatter",
         "x": [
          -0.5102702379226685,
          -0.5703226923942566
         ],
         "y": [
          0.8600141406059265,
          0.8214207291603088
         ]
        },
        {
         "mode": "lines",
         "type": "scatter",
         "x": [
          -0.5102702379226685,
          -0.599277675151825
         ],
         "y": [
          0.8600141406059265,
          0.8005412220954895
         ]
        },
        {
         "mode": "lines",
         "type": "scatter",
         "x": [
          -0.5102702379226685,
          -0.6274689435958862
         ],
         "y": [
          0.8600141406059265,
          0.7786415815353394
         ]
        },
        {
         "mode": "lines",
         "type": "scatter",
         "x": [
          -0.5102702379226685,
          -0.6548606157302856
         ],
         "y": [
          0.8600141406059265,
          0.7557497024536133
         ]
        },
        {
         "mode": "lines",
         "type": "scatter",
         "x": [
          -0.5102702379226685,
          -0.9488258361816406
         ],
         "y": [
          0.8600141406059265,
          0.31579986214637756
         ]
        },
        {
         "mode": "lines",
         "type": "scatter",
         "x": [
          -0.5102702379226685,
          -0.7071065902709961
         ],
         "y": [
          0.8600141406059265,
          0.7071070075035095
         ]
        },
        {
         "mode": "lines",
         "type": "scatter",
         "x": [
          -0.5406409502029419,
          -0.5703226923942566
         ],
         "y": [
          0.8412534594535828,
          0.8214207291603088
         ]
        },
        {
         "mode": "lines",
         "type": "scatter",
         "x": [
          -0.5406409502029419,
          -0.6274689435958862
         ],
         "y": [
          0.8412534594535828,
          0.7786415815353394
         ]
        },
        {
         "mode": "lines",
         "type": "scatter",
         "x": [
          -0.5406409502029419,
          -0.6548606157302856
         ],
         "y": [
          0.8412534594535828,
          0.7557497024536133
         ]
        },
        {
         "mode": "lines",
         "type": "scatter",
         "x": [
          -0.5406409502029419,
          -0.9488258361816406
         ],
         "y": [
          0.8412534594535828,
          0.31579986214637756
         ]
        },
        {
         "mode": "lines",
         "type": "scatter",
         "x": [
          -0.5406409502029419,
          -0.9942703247070312
         ],
         "y": [
          0.8412534594535828,
          0.10689488053321838
         ]
        },
        {
         "mode": "lines",
         "type": "scatter",
         "x": [
          -0.5703226923942566,
          -0.599277675151825
         ],
         "y": [
          0.8214207291603088,
          0.8005412220954895
         ]
        },
        {
         "mode": "lines",
         "type": "scatter",
         "x": [
          -0.5703226923942566,
          -0.6274689435958862
         ],
         "y": [
          0.8214207291603088,
          0.7786415815353394
         ]
        },
        {
         "mode": "lines",
         "type": "scatter",
         "x": [
          -0.5703226923942566,
          -0.6548606157302856
         ],
         "y": [
          0.8214207291603088,
          0.7557497024536133
         ]
        },
        {
         "mode": "lines",
         "type": "scatter",
         "x": [
          -0.5703226923942566,
          -0.9488258361816406
         ],
         "y": [
          0.8214207291603088,
          0.31579986214637756
         ]
        },
        {
         "mode": "lines",
         "type": "scatter",
         "x": [
          -0.5703226923942566,
          -0.6814177632331848
         ],
         "y": [
          0.8214207291603088,
          0.7318946719169617
         ]
        },
        {
         "mode": "lines",
         "type": "scatter",
         "x": [
          -0.5703226923942566,
          -0.7071065902709961
         ],
         "y": [
          0.8214207291603088,
          0.7071070075035095
         ]
        },
        {
         "mode": "lines",
         "type": "scatter",
         "x": [
          -0.599277675151825,
          -0.7071065902709961
         ],
         "y": [
          0.8005412220954895,
          0.7071070075035095
         ]
        },
        {
         "mode": "lines",
         "type": "scatter",
         "x": [
          -0.6274689435958862,
          -0.6548606157302856
         ],
         "y": [
          0.7786415815353394,
          0.7557497024536133
         ]
        },
        {
         "mode": "lines",
         "type": "scatter",
         "x": [
          -0.6274689435958862,
          -0.9488258361816406
         ],
         "y": [
          0.7786415815353394,
          0.31579986214637756
         ]
        },
        {
         "mode": "lines",
         "type": "scatter",
         "x": [
          -0.6274689435958862,
          -0.6814177632331848
         ],
         "y": [
          0.7786415815353394,
          0.7318946719169617
         ]
        },
        {
         "mode": "lines",
         "type": "scatter",
         "x": [
          -0.6548606157302856,
          -0.9488258361816406
         ],
         "y": [
          0.7557497024536133,
          0.31579986214637756
         ]
        },
        {
         "mode": "lines",
         "type": "scatter",
         "x": [
          -0.6548606157302856,
          -0.6814177632331848
         ],
         "y": [
          0.7557497024536133,
          0.7318946719169617
         ]
        },
        {
         "mode": "lines",
         "type": "scatter",
         "x": [
          -0.6814177632331848,
          -0.9841112494468689
         ],
         "y": [
          0.7318946719169617,
          0.17755281925201416
         ]
        },
        {
         "mode": "lines",
         "type": "scatter",
         "x": [
          -0.6814177632331848,
          -0.9369496703147888
         ],
         "y": [
          0.7318946719169617,
          0.3494643568992615
         ]
        },
        {
         "mode": "lines",
         "type": "scatter",
         "x": [
          -0.6814177632331848,
          -0.9898214936256409
         ],
         "y": [
          0.7318946719169617,
          0.14231452345848083
         ]
        },
        {
         "mode": "lines",
         "type": "scatter",
         "x": [
          -0.6814177632331848,
          -0.9488258361816406
         ],
         "y": [
          0.7318946719169617,
          0.31579986214637756
         ]
        },
        {
         "mode": "lines",
         "type": "scatter",
         "x": [
          -0.7318942546844482,
          -0.8005414605140686
         ],
         "y": [
          0.681418240070343,
          0.5992773771286011
         ]
        },
        {
         "mode": "lines",
         "type": "scatter",
         "x": [
          -0.7318942546844482,
          -0.7557498812675476
         ],
         "y": [
          0.681418240070343,
          0.6548603773117065
         ]
        },
        {
         "mode": "lines",
         "type": "scatter",
         "x": [
          -0.7318942546844482,
          -0.7786418199539185
         ],
         "y": [
          0.681418240070343,
          0.6274687051773071
         ]
        },
        {
         "mode": "lines",
         "type": "scatter",
         "x": [
          -0.7318942546844482,
          -0.9238795042037964
         ],
         "y": [
          0.681418240070343,
          0.38268354535102844
         ]
        },
        {
         "mode": "lines",
         "type": "scatter",
         "x": [
          -0.7557498812675476,
          -0.8005414605140686
         ],
         "y": [
          0.6548603773117065,
          0.5992773771286011
         ]
        },
        {
         "mode": "lines",
         "type": "scatter",
         "x": [
          -0.7557498812675476,
          -0.7786418199539185
         ],
         "y": [
          0.6548603773117065,
          0.6274687051773071
         ]
        },
        {
         "mode": "lines",
         "type": "scatter",
         "x": [
          -0.7557498812675476,
          -0.9238795042037964
         ],
         "y": [
          0.6548603773117065,
          0.38268354535102844
         ]
        },
        {
         "mode": "lines",
         "type": "scatter",
         "x": [
          -0.7786418199539185,
          -0.8005414605140686
         ],
         "y": [
          0.6274687051773071,
          0.5992773771286011
         ]
        },
        {
         "mode": "lines",
         "type": "scatter",
         "x": [
          -0.7786418199539185,
          -0.9238795042037964
         ],
         "y": [
          0.6274687051773071,
          0.38268354535102844
         ]
        },
        {
         "mode": "lines",
         "type": "scatter",
         "x": [
          -0.8005414605140686,
          -0.9594928622245789
         ],
         "y": [
          0.5992773771286011,
          0.2817328870296478
         ]
        },
        {
         "mode": "lines",
         "type": "scatter",
         "x": [
          -0.8412536382675171,
          -0.8600143194198608
         ],
         "y": [
          0.540640652179718,
          0.5102699398994446
         ]
        },
        {
         "mode": "lines",
         "type": "scatter",
         "x": [
          -0.8776790499687195,
          -0.8942252993583679
         ],
         "y": [
          0.47924891114234924,
          0.44761720299720764
         ]
        },
        {
         "mode": "lines",
         "type": "scatter",
         "x": [
          -0.8776790499687195,
          -0.9096319675445557
         ],
         "y": [
          0.47924891114234924,
          0.41541507840156555
         ]
        },
        {
         "mode": "lines",
         "type": "scatter",
         "x": [
          -0.8942252993583679,
          -0.9096319675445557
         ],
         "y": [
          0.44761720299720764,
          0.41541507840156555
         ]
        },
        {
         "mode": "lines",
         "type": "scatter",
         "x": [
          -0.9369496703147888,
          -0.9841112494468689
         ],
         "y": [
          0.3494643568992615,
          0.17755281925201416
         ]
        },
        {
         "mode": "lines",
         "type": "scatter",
         "x": [
          -0.9369496703147888,
          -0.9898214936256409
         ],
         "y": [
          0.3494643568992615,
          0.14231452345848083
         ]
        },
        {
         "mode": "lines",
         "type": "scatter",
         "x": [
          -0.9689374566078186,
          -0.9771469831466675
         ],
         "y": [
          0.2473059892654419,
          0.2125648409128189
         ]
        },
        {
         "mode": "lines",
         "type": "scatter",
         "x": [
          -0.9841112494468689,
          -0.9898214936256409
         ],
         "y": [
          0.17755281925201416,
          0.14231452345848083
         ]
        },
        {
         "marker": {
          "size": 10
         },
         "mode": "markers",
         "type": "scatter",
         "x": [
          -1
         ],
         "y": [
          -8.742277657347586e-8
         ]
        },
        {
         "marker": {
          "size": 10
         },
         "mode": "markers",
         "type": "scatter",
         "x": [
          -0.9993628263473511
         ],
         "y": [
          -0.03569234907627106
         ]
        },
        {
         "marker": {
          "size": 10
         },
         "mode": "markers",
         "type": "scatter",
         "x": [
          -0.9974520802497864
         ],
         "y": [
          -0.07133936882019043
         ]
        },
        {
         "marker": {
          "size": 10
         },
         "mode": "markers",
         "type": "scatter",
         "x": [
          -0.9942702651023865
         ],
         "y": [
          -0.10689523071050644
         ]
        },
        {
         "marker": {
          "size": 10
         },
         "mode": "markers",
         "type": "scatter",
         "x": [
          -0.9898214340209961
         ],
         "y": [
          -0.1423148810863495
         ]
        },
        {
         "marker": {
          "size": 10
         },
         "mode": "markers",
         "type": "scatter",
         "x": [
          -0.9841111898422241
         ],
         "y": [
          -0.17755316197872162
         ]
        },
        {
         "marker": {
          "size": 10
         },
         "mode": "markers",
         "type": "scatter",
         "x": [
          -0.9771468639373779
         ],
         "y": [
          -0.21256542205810547
         ]
        },
        {
         "marker": {
          "size": 10
         },
         "mode": "markers",
         "type": "scatter",
         "x": [
          -0.9689372777938843
         ],
         "y": [
          -0.24730655550956726
         ]
        },
        {
         "marker": {
          "size": 10
         },
         "mode": "markers",
         "type": "scatter",
         "x": [
          -0.9594929814338684
         ],
         "y": [
          -0.28173255920410156
         ]
        },
        {
         "marker": {
          "size": 10
         },
         "mode": "markers",
         "type": "scatter",
         "x": [
          -0.9488258957862854
         ],
         "y": [
          -0.315799742937088
         ]
        },
        {
         "marker": {
          "size": 10
         },
         "mode": "markers",
         "type": "scatter",
         "x": [
          -0.9369496703147888
         ],
         "y": [
          -0.3494642674922943
         ]
        },
        {
         "marker": {
          "size": 10
         },
         "mode": "markers",
         "type": "scatter",
         "x": [
          -0.9238795042037964
         ],
         "y": [
          -0.3826834559440613
         ]
        },
        {
         "marker": {
          "size": 10
         },
         "mode": "markers",
         "type": "scatter",
         "x": [
          -0.9096319079399109
         ],
         "y": [
          -0.4154151678085327
         ]
        },
        {
         "marker": {
          "size": 10
         },
         "mode": "markers",
         "type": "scatter",
         "x": [
          -0.8942252397537231
         ],
         "y": [
          -0.4476172924041748
         ]
        },
        {
         "marker": {
          "size": 10
         },
         "mode": "markers",
         "type": "scatter",
         "x": [
          -0.8776789903640747
         ],
         "y": [
          -0.4792490005493164
         ]
        },
        {
         "marker": {
          "size": 10
         },
         "mode": "markers",
         "type": "scatter",
         "x": [
          -0.8600141406059265
         ],
         "y": [
          -0.5102701783180237
         ]
        },
        {
         "marker": {
          "size": 10
         },
         "mode": "markers",
         "type": "scatter",
         "x": [
          -0.8412534594535828
         ],
         "y": [
          -0.5406408905982971
         ]
        },
        {
         "marker": {
          "size": 10
         },
         "mode": "markers",
         "type": "scatter",
         "x": [
          -0.8214207887649536
         ],
         "y": [
          -0.5703226327896118
         ]
        },
        {
         "marker": {
          "size": 10
         },
         "mode": "markers",
         "type": "scatter",
         "x": [
          -0.8005412817001343
         ],
         "y": [
          -0.5992776155471802
         ]
        },
        {
         "marker": {
          "size": 10
         },
         "mode": "markers",
         "type": "scatter",
         "x": [
          -0.7786414623260498
         ],
         "y": [
          -0.6274691224098206
         ]
        },
        {
         "marker": {
          "size": 10
         },
         "mode": "markers",
         "type": "scatter",
         "x": [
          -0.755749523639679
         ],
         "y": [
          -0.65486079454422
         ]
        },
        {
         "marker": {
          "size": 10
         },
         "mode": "markers",
         "type": "scatter",
         "x": [
          -0.7318945527076721
         ],
         "y": [
          -0.6814179420471191
         ]
        },
        {
         "marker": {
          "size": 10
         },
         "mode": "markers",
         "type": "scatter",
         "x": [
          -0.7071066498756409
         ],
         "y": [
          -0.70710688829422
         ]
        },
        {
         "marker": {
          "size": 10
         },
         "mode": "markers",
         "type": "scatter",
         "x": [
          -0.6814178824424744
         ],
         "y": [
          -0.7318945527076721
         ]
        },
        {
         "marker": {
          "size": 10
         },
         "mode": "markers",
         "type": "scatter",
         "x": [
          -0.6548607349395752
         ],
         "y": [
          -0.7557495832443237
         ]
        },
        {
         "marker": {
          "size": 10
         },
         "mode": "markers",
         "type": "scatter",
         "x": [
          -0.6274690628051758
         ],
         "y": [
          -0.7786415219306946
         ]
        },
        {
         "marker": {
          "size": 10
         },
         "mode": "markers",
         "type": "scatter",
         "x": [
          -0.5992777943611145
         ],
         "y": [
          -0.8005411624908447
         ]
        },
        {
         "marker": {
          "size": 10
         },
         "mode": "markers",
         "type": "scatter",
         "x": [
          -0.5703223943710327
         ],
         "y": [
          -0.8214209079742432
         ]
        },
        {
         "marker": {
          "size": 10
         },
         "mode": "markers",
         "type": "scatter",
         "x": [
          -0.540640652179718
         ],
         "y": [
          -0.8412536382675171
         ]
        },
        {
         "marker": {
          "size": 10
         },
         "mode": "markers",
         "type": "scatter",
         "x": [
          -0.5102699398994446
         ],
         "y": [
          -0.8600143194198608
         ]
        },
        {
         "marker": {
          "size": 10
         },
         "mode": "markers",
         "type": "scatter",
         "x": [
          -0.47924894094467163
         ],
         "y": [
          -0.8776789903640747
         ]
        },
        {
         "marker": {
          "size": 10
         },
         "mode": "markers",
         "type": "scatter",
         "x": [
          -0.44761723279953003
         ],
         "y": [
          -0.8942252397537231
         ]
        },
        {
         "marker": {
          "size": 10
         },
         "mode": "markers",
         "type": "scatter",
         "x": [
          -0.41541510820388794
         ],
         "y": [
          -0.9096319675445557
         ]
        },
        {
         "marker": {
          "size": 10
         },
         "mode": "markers",
         "type": "scatter",
         "x": [
          -0.38268357515335083
         ],
         "y": [
          -0.9238794445991516
         ]
        },
        {
         "marker": {
          "size": 10
         },
         "mode": "markers",
         "type": "scatter",
         "x": [
          -0.34946393966674805
         ],
         "y": [
          -0.9369497895240784
         ]
        },
        {
         "marker": {
          "size": 10
         },
         "mode": "markers",
         "type": "scatter",
         "x": [
          -0.31579941511154175
         ],
         "y": [
          -0.9488259553909302
         ]
        },
        {
         "marker": {
          "size": 10
         },
         "mode": "markers",
         "type": "scatter",
         "x": [
          -0.2817324697971344
         ],
         "y": [
          -0.9594929814338684
         ]
        },
        {
         "marker": {
          "size": 10
         },
         "mode": "markers",
         "type": "scatter",
         "x": [
          -0.2473064661026001
         ],
         "y": [
          -0.968937337398529
         ]
        },
        {
         "marker": {
          "size": 10
         },
         "mode": "markers",
         "type": "scatter",
         "x": [
          -0.2125653177499771
         ],
         "y": [
          -0.9771468639373779
         ]
        },
        {
         "marker": {
          "size": 10
         },
         "mode": "markers",
         "type": "scatter",
         "x": [
          -0.17755281925201416
         ],
         "y": [
          -0.9841112494468689
         ]
        },
        {
         "marker": {
          "size": 10
         },
         "mode": "markers",
         "type": "scatter",
         "x": [
          -0.14231453835964203
         ],
         "y": [
          -0.9898214936256409
         ]
        },
        {
         "marker": {
          "size": 10
         },
         "mode": "markers",
         "type": "scatter",
         "x": [
          -0.10689488798379898
         ],
         "y": [
          -0.9942703247070312
         ]
        },
        {
         "marker": {
          "size": 10
         },
         "mode": "markers",
         "type": "scatter",
         "x": [
          -0.07133902609348297
         ],
         "y": [
          -0.9974521398544312
         ]
        },
        {
         "marker": {
          "size": 10
         },
         "mode": "markers",
         "type": "scatter",
         "x": [
          -0.0356922522187233
         ],
         "y": [
          -0.9993628263473511
         ]
        },
        {
         "marker": {
          "size": 10
         },
         "mode": "markers",
         "type": "scatter",
         "x": [
          1.1924880638503055e-8
         ],
         "y": [
          -1
         ]
        },
        {
         "marker": {
          "size": 10
         },
         "mode": "markers",
         "type": "scatter",
         "x": [
          0.03569227457046509
         ],
         "y": [
          -0.9993628263473511
         ]
        },
        {
         "marker": {
          "size": 10
         },
         "mode": "markers",
         "type": "scatter",
         "x": [
          0.07133905589580536
         ],
         "y": [
          -0.9974521398544312
         ]
        },
        {
         "marker": {
          "size": 10
         },
         "mode": "markers",
         "type": "scatter",
         "x": [
          0.10689491778612137
         ],
         "y": [
          -0.9942703247070312
         ]
        },
        {
         "marker": {
          "size": 10
         },
         "mode": "markers",
         "type": "scatter",
         "x": [
          0.14231504499912262
         ],
         "y": [
          -0.9898214340209961
         ]
        },
        {
         "marker": {
          "size": 10
         },
         "mode": "markers",
         "type": "scatter",
         "x": [
          0.17755332589149475
         ],
         "y": [
          -0.9841111898422241
         ]
        },
        {
         "marker": {
          "size": 10
         },
         "mode": "markers",
         "type": "scatter",
         "x": [
          0.2125653475522995
         ],
         "y": [
          -0.9771468639373779
         ]
        },
        {
         "marker": {
          "size": 10
         },
         "mode": "markers",
         "type": "scatter",
         "x": [
          0.2473064810037613
         ],
         "y": [
          -0.9689372777938843
         ]
        },
        {
         "marker": {
          "size": 10
         },
         "mode": "markers",
         "type": "scatter",
         "x": [
          0.2817324697971344
         ],
         "y": [
          -0.9594929814338684
         ]
        },
        {
         "marker": {
          "size": 10
         },
         "mode": "markers",
         "type": "scatter",
         "x": [
          0.31579986214637756
         ],
         "y": [
          -0.9488258361816406
         ]
        },
        {
         "marker": {
          "size": 10
         },
         "mode": "markers",
         "type": "scatter",
         "x": [
          0.34946438670158386
         ],
         "y": [
          -0.9369496703147888
         ]
        },
        {
         "marker": {
          "size": 10
         },
         "mode": "markers",
         "type": "scatter",
         "x": [
          0.38268357515335083
         ],
         "y": [
          -0.9238794445991516
         ]
        },
        {
         "marker": {
          "size": 10
         },
         "mode": "markers",
         "type": "scatter",
         "x": [
          0.41541510820388794
         ],
         "y": [
          -0.9096319675445557
         ]
        },
        {
         "marker": {
          "size": 10
         },
         "mode": "markers",
         "type": "scatter",
         "x": [
          0.44761723279953003
         ],
         "y": [
          -0.8942252397537231
         ]
        },
        {
         "marker": {
          "size": 10
         },
         "mode": "markers",
         "type": "scatter",
         "x": [
          0.47924894094467163
         ],
         "y": [
          -0.8776789903640747
         ]
        },
        {
         "marker": {
          "size": 10
         },
         "mode": "markers",
         "type": "scatter",
         "x": [
          0.5102699398994446
         ],
         "y": [
          -0.8600143194198608
         ]
        },
        {
         "marker": {
          "size": 10
         },
         "mode": "markers",
         "type": "scatter",
         "x": [
          0.540640652179718
         ],
         "y": [
          -0.8412536382675171
         ]
        },
        {
         "marker": {
          "size": 10
         },
         "mode": "markers",
         "type": "scatter",
         "x": [
          0.5703223943710327
         ],
         "y": [
          -0.8214209079742432
         ]
        },
        {
         "marker": {
          "size": 10
         },
         "mode": "markers",
         "type": "scatter",
         "x": [
          0.5992777943611145
         ],
         "y": [
          -0.8005411624908447
         ]
        },
        {
         "marker": {
          "size": 10
         },
         "mode": "markers",
         "type": "scatter",
         "x": [
          0.6274690628051758
         ],
         "y": [
          -0.7786415219306946
         ]
        },
        {
         "marker": {
          "size": 10
         },
         "mode": "markers",
         "type": "scatter",
         "x": [
          0.6548607349395752
         ],
         "y": [
          -0.7557495832443237
         ]
        },
        {
         "marker": {
          "size": 10
         },
         "mode": "markers",
         "type": "scatter",
         "x": [
          0.681418240070343
         ],
         "y": [
          -0.7318942546844482
         ]
        },
        {
         "marker": {
          "size": 10
         },
         "mode": "markers",
         "type": "scatter",
         "x": [
          0.7071070075035095
         ],
         "y": [
          -0.7071065306663513
         ]
        },
        {
         "marker": {
          "size": 10
         },
         "mode": "markers",
         "type": "scatter",
         "x": [
          0.7318947315216064
         ],
         "y": [
          -0.6814177632331848
         ]
        },
        {
         "marker": {
          "size": 10
         },
         "mode": "markers",
         "type": "scatter",
         "x": [
          0.7557497024536133
         ],
         "y": [
          -0.6548605561256409
         ]
        },
        {
         "marker": {
          "size": 10
         },
         "mode": "markers",
         "type": "scatter",
         "x": [
          0.7786415815353394
         ],
         "y": [
          -0.6274688839912415
         ]
        },
        {
         "marker": {
          "size": 10
         },
         "mode": "markers",
         "type": "scatter",
         "x": [
          0.8005412817001343
         ],
         "y": [
          -0.5992776155471802
         ]
        },
        {
         "marker": {
          "size": 10
         },
         "mode": "markers",
         "type": "scatter",
         "x": [
          0.8214207887649536
         ],
         "y": [
          -0.5703226327896118
         ]
        },
        {
         "marker": {
          "size": 10
         },
         "mode": "markers",
         "type": "scatter",
         "x": [
          0.8412534594535828
         ],
         "y": [
          -0.5406408905982971
         ]
        },
        {
         "marker": {
          "size": 10
         },
         "mode": "markers",
         "type": "scatter",
         "x": [
          0.8600141406059265
         ],
         "y": [
          -0.5102701783180237
         ]
        },
        {
         "marker": {
          "size": 10
         },
         "mode": "markers",
         "type": "scatter",
         "x": [
          0.8776788711547852
         ],
         "y": [
          -0.4792492091655731
         ]
        },
        {
         "marker": {
          "size": 10
         },
         "mode": "markers",
         "type": "scatter",
         "x": [
          0.8942253589630127
         ],
         "y": [
          -0.4476170539855957
         ]
        },
        {
         "marker": {
          "size": 10
         },
         "mode": "markers",
         "type": "scatter",
         "x": [
          0.9096320271492004
         ],
         "y": [
          -0.4154149293899536
         ]
        },
        {
         "marker": {
          "size": 10
         },
         "mode": "markers",
         "type": "scatter",
         "x": [
          0.9238795638084412
         ],
         "y": [
          -0.3826834261417389
         ]
        },
        {
         "marker": {
          "size": 10
         },
         "mode": "markers",
         "type": "scatter",
         "x": [
          0.9369498491287231
         ],
         "y": [
          -0.3494637906551361
         ]
        },
        {
         "marker": {
          "size": 10
         },
         "mode": "markers",
         "type": "scatter",
         "x": [
          0.948826014995575
         ],
         "y": [
          -0.3157992660999298
         ]
        },
        {
         "marker": {
          "size": 10
         },
         "mode": "markers",
         "type": "scatter",
         "x": [
          0.9594930410385132
         ],
         "y": [
          -0.2817322909832001
         ]
        },
        {
         "marker": {
          "size": 10
         },
         "mode": "markers",
         "type": "scatter",
         "x": [
          0.968937337398529
         ],
         "y": [
          -0.24730630218982697
         ]
        },
        {
         "marker": {
          "size": 10
         },
         "mode": "markers",
         "type": "scatter",
         "x": [
          0.9771469235420227
         ],
         "y": [
          -0.21256515383720398
         ]
        },
        {
         "marker": {
          "size": 10
         },
         "mode": "markers",
         "type": "scatter",
         "x": [
          0.9841111898422241
         ],
         "y": [
          -0.17755313217639923
         ]
        },
        {
         "marker": {
          "size": 10
         },
         "mode": "markers",
         "type": "scatter",
         "x": [
          0.9898214340209961
         ],
         "y": [
          -0.1423148512840271
         ]
        },
        {
         "marker": {
          "size": 10
         },
         "mode": "markers",
         "type": "scatter",
         "x": [
          0.9942702651023865
         ],
         "y": [
          -0.10689520835876465
         ]
        },
        {
         "marker": {
          "size": 10
         },
         "mode": "markers",
         "type": "scatter",
         "x": [
          0.9974520802497864
         ],
         "y": [
          -0.07133934646844864
         ]
        },
        {
         "marker": {
          "size": 10
         },
         "mode": "markers",
         "type": "scatter",
         "x": [
          0.9993628263473511
         ],
         "y": [
          -0.03569256514310837
         ]
        },
        {
         "marker": {
          "size": 10
         },
         "mode": "markers",
         "type": "scatter",
         "x": [
          1
         ],
         "y": [
          1.7484555314695172e-7
         ]
        },
        {
         "marker": {
          "size": 10
         },
         "mode": "markers",
         "type": "scatter",
         "x": [
          0.9993628263473511
         ],
         "y": [
          0.03569243848323822
         ]
        },
        {
         "marker": {
          "size": 10
         },
         "mode": "markers",
         "type": "scatter",
         "x": [
          0.9974521398544312
         ],
         "y": [
          0.0713392123579979
         ]
        },
        {
         "marker": {
          "size": 10
         },
         "mode": "markers",
         "type": "scatter",
         "x": [
          0.9942702651023865
         ],
         "y": [
          0.1068955510854721
         ]
        },
        {
         "marker": {
          "size": 10
         },
         "mode": "markers",
         "type": "scatter",
         "x": [
          0.9898213744163513
         ],
         "y": [
          0.14231520891189575
         ]
        },
        {
         "marker": {
          "size": 10
         },
         "mode": "markers",
         "type": "scatter",
         "x": [
          0.9841111302375793
         ],
         "y": [
          0.17755348980426788
         ]
        },
        {
         "marker": {
          "size": 10
         },
         "mode": "markers",
         "type": "scatter",
         "x": [
          0.9771468043327332
         ],
         "y": [
          0.21256551146507263
         ]
        },
        {
         "marker": {
          "size": 10
         },
         "mode": "markers",
         "type": "scatter",
         "x": [
          0.9689372777938843
         ],
         "y": [
          0.24730664491653442
         ]
        },
        {
         "marker": {
          "size": 10
         },
         "mode": "markers",
         "type": "scatter",
         "x": [
          0.9594929218292236
         ],
         "y": [
          0.28173261880874634
         ]
        },
        {
         "marker": {
          "size": 10
         },
         "mode": "markers",
         "type": "scatter",
         "x": [
          0.9488258957862854
         ],
         "y": [
          0.3157995939254761
         ]
        },
        {
         "marker": {
          "size": 10
         },
         "mode": "markers",
         "type": "scatter",
         "x": [
          0.9369497299194336
         ],
         "y": [
          0.3494641184806824
         ]
        },
        {
         "marker": {
          "size": 10
         },
         "mode": "markers",
         "type": "scatter",
         "x": [
          0.9238795638084412
         ],
         "y": [
          0.38268330693244934
         ]
        },
        {
         "marker": {
          "size": 10
         },
         "mode": "markers",
         "type": "scatter",
         "x": [
          0.9096320867538452
         ],
         "y": [
          0.41541481018066406
         ]
        },
        {
         "marker": {
          "size": 10
         },
         "mode": "markers",
         "type": "scatter",
         "x": [
          0.8942251801490784
         ],
         "y": [
          0.44761738181114197
         ]
        },
        {
         "marker": {
          "size": 10
         },
         "mode": "markers",
         "type": "scatter",
         "x": [
          0.8776789307594299
         ],
         "y": [
          0.47924908995628357
         ]
        },
        {
         "marker": {
          "size": 10
         },
         "mode": "markers",
         "type": "scatter",
         "x": [
          0.8600142002105713
         ],
         "y": [
          0.5102700591087341
         ]
        },
        {
         "marker": {
          "size": 10
         },
         "mode": "markers",
         "type": "scatter",
         "x": [
          0.8412535190582275
         ],
         "y": [
          0.5406407713890076
         ]
        },
        {
         "marker": {
          "size": 10
         },
         "mode": "markers",
         "type": "scatter",
         "x": [
          0.8214205503463745
         ],
         "y": [
          0.5703229308128357
         ]
        },
        {
         "marker": {
          "size": 10
         },
         "mode": "markers",
         "type": "scatter",
         "x": [
          0.8005410432815552
         ],
         "y": [
          0.599277913570404
         ]
        },
        {
         "marker": {
          "size": 10
         },
         "mode": "markers",
         "type": "scatter",
         "x": [
          0.778641402721405
         ],
         "y": [
          0.6274691820144653
         ]
        },
        {
         "marker": {
          "size": 10
         },
         "mode": "markers",
         "type": "scatter",
         "x": [
          0.7557494640350342
         ],
         "y": [
          0.6548608541488647
         ]
        },
        {
         "marker": {
          "size": 10
         },
         "mode": "markers",
         "type": "scatter",
         "x": [
          0.7318944334983826
         ],
         "y": [
          0.6814180016517639
         ]
        },
        {
         "marker": {
          "size": 10
         },
         "mode": "markers",
         "type": "scatter",
         "x": [
          0.7071067690849304
         ],
         "y": [
          0.7071067690849304
         ]
        },
        {
         "marker": {
          "size": 10
         },
         "mode": "markers",
         "type": "scatter",
         "x": [
          0.6814179420471191
         ],
         "y": [
          0.7318944931030273
         ]
        },
        {
         "marker": {
          "size": 10
         },
         "mode": "markers",
         "type": "scatter",
         "x": [
          0.65486079454422
         ],
         "y": [
          0.755749523639679
         ]
        },
        {
         "marker": {
          "size": 10
         },
         "mode": "markers",
         "type": "scatter",
         "x": [
          0.6274691224098206
         ],
         "y": [
          0.7786414623260498
         ]
        },
        {
         "marker": {
          "size": 10
         },
         "mode": "markers",
         "type": "scatter",
         "x": [
          0.5992778539657593
         ],
         "y": [
          0.8005411028862
         ]
        },
        {
         "marker": {
          "size": 10
         },
         "mode": "markers",
         "type": "scatter",
         "x": [
          0.5703229308128357
         ],
         "y": [
          0.8214206099510193
         ]
        },
        {
         "marker": {
          "size": 10
         },
         "mode": "markers",
         "type": "scatter",
         "x": [
          0.5406403541564941
         ],
         "y": [
          0.8412538170814514
         ]
        },
        {
         "marker": {
          "size": 10
         },
         "mode": "markers",
         "type": "scatter",
         "x": [
          0.5102696418762207
         ],
         "y": [
          0.8600144982337952
         ]
        },
        {
         "marker": {
          "size": 10
         },
         "mode": "markers",
         "type": "scatter",
         "x": [
          0.47924864292144775
         ],
         "y": [
          0.877679169178009
         ]
        },
        {
         "marker": {
          "size": 10
         },
         "mode": "markers",
         "type": "scatter",
         "x": [
          0.44761693477630615
         ],
         "y": [
          0.8942254185676575
         ]
        },
        {
         "marker": {
          "size": 10
         },
         "mode": "markers",
         "type": "scatter",
         "x": [
          0.4154147803783417
         ],
         "y": [
          0.9096320867538452
         ]
        },
        {
         "marker": {
          "size": 10
         },
         "mode": "markers",
         "type": "scatter",
         "x": [
          0.38268327713012695
         ],
         "y": [
          0.9238796234130859
         ]
        },
        {
         "marker": {
          "size": 10
         },
         "mode": "markers",
         "type": "scatter",
         "x": [
          0.34946408867836
         ],
         "y": [
          0.9369497299194336
         ]
        },
        {
         "marker": {
          "size": 10
         },
         "mode": "markers",
         "type": "scatter",
         "x": [
          0.3157995641231537
         ],
         "y": [
          0.9488259553909302
         ]
        },
        {
         "marker": {
          "size": 10
         },
         "mode": "markers",
         "type": "scatter",
         "x": [
          0.28173258900642395
         ],
         "y": [
          0.9594929814338684
         ]
        },
        {
         "marker": {
          "size": 10
         },
         "mode": "markers",
         "type": "scatter",
         "x": [
          0.24730660021305084
         ],
         "y": [
          0.9689372777938843
         ]
        },
        {
         "marker": {
          "size": 10
         },
         "mode": "markers",
         "type": "scatter",
         "x": [
          0.21256546676158905
         ],
         "y": [
          0.9771468043327332
         ]
        },
        {
         "marker": {
          "size": 10
         },
         "mode": "markers",
         "type": "scatter",
         "x": [
          0.1775534451007843
         ],
         "y": [
          0.9841111302375793
         ]
        },
        {
         "marker": {
          "size": 10
         },
         "mode": "markers",
         "type": "scatter",
         "x": [
          0.14231516420841217
         ],
         "y": [
          0.9898213744163513
         ]
        },
        {
         "marker": {
          "size": 10
         },
         "mode": "markers",
         "type": "scatter",
         "x": [
          0.10689457505941391
         ],
         "y": [
          0.994270384311676
         ]
        },
        {
         "marker": {
          "size": 10
         },
         "mode": "markers",
         "type": "scatter",
         "x": [
          0.0713387057185173
         ],
         "y": [
          0.9974521398544312
         ]
        },
        {
         "marker": {
          "size": 10
         },
         "mode": "markers",
         "type": "scatter",
         "x": [
          0.03569192439317703
         ],
         "y": [
          0.9993628263473511
         ]
        },
        {
         "marker": {
          "size": 10
         },
         "mode": "markers",
         "type": "scatter",
         "x": [
          -3.3776623808989825e-7
         ],
         "y": [
          1
         ]
        },
        {
         "marker": {
          "size": 10
         },
         "mode": "markers",
         "type": "scatter",
         "x": [
          -0.035692598670721054
         ],
         "y": [
          0.9993628263473511
         ]
        },
        {
         "marker": {
          "size": 10
         },
         "mode": "markers",
         "type": "scatter",
         "x": [
          -0.07133937627077103
         ],
         "y": [
          0.9974520802497864
         ]
        },
        {
         "marker": {
          "size": 10
         },
         "mode": "markers",
         "type": "scatter",
         "x": [
          -0.10689523816108704
         ],
         "y": [
          0.9942702651023865
         ]
        },
        {
         "marker": {
          "size": 10
         },
         "mode": "markers",
         "type": "scatter",
         "x": [
          -0.14231489598751068
         ],
         "y": [
          0.9898214340209961
         ]
        },
        {
         "marker": {
          "size": 10
         },
         "mode": "markers",
         "type": "scatter",
         "x": [
          -0.1775531768798828
         ],
         "y": [
          0.9841111898422241
         ]
        },
        {
         "marker": {
          "size": 10
         },
         "mode": "markers",
         "type": "scatter",
         "x": [
          -0.21256519854068756
         ],
         "y": [
          0.9771468639373779
         ]
        },
        {
         "marker": {
          "size": 10
         },
         "mode": "markers",
         "type": "scatter",
         "x": [
          -0.24730634689331055
         ],
         "y": [
          0.968937337398529
         ]
        },
        {
         "marker": {
          "size": 10
         },
         "mode": "markers",
         "type": "scatter",
         "x": [
          -0.28173232078552246
         ],
         "y": [
          0.9594930410385132
         ]
        },
        {
         "marker": {
          "size": 10
         },
         "mode": "markers",
         "type": "scatter",
         "x": [
          -0.3157992959022522
         ],
         "y": [
          0.948826014995575
         ]
        },
        {
         "marker": {
          "size": 10
         },
         "mode": "markers",
         "type": "scatter",
         "x": [
          -0.3494638204574585
         ],
         "y": [
          0.9369498491287231
         ]
        },
        {
         "marker": {
          "size": 10
         },
         "mode": "markers",
         "type": "scatter",
         "x": [
          -0.3826838731765747
         ],
         "y": [
          0.9238793253898621
         ]
        },
        {
         "marker": {
          "size": 10
         },
         "mode": "markers",
         "type": "scatter",
         "x": [
          -0.41541537642478943
         ],
         "y": [
          0.9096318483352661
         ]
        },
        {
         "marker": {
          "size": 10
         },
         "mode": "markers",
         "type": "scatter",
         "x": [
          -0.4476175308227539
         ],
         "y": [
          0.8942251205444336
         ]
        },
        {
         "marker": {
          "size": 10
         },
         "mode": "markers",
         "type": "scatter",
         "x": [
          -0.4792492091655731
         ],
         "y": [
          0.8776788711547852
         ]
        },
        {
         "marker": {
          "size": 10
         },
         "mode": "markers",
         "type": "scatter",
         "x": [
          -0.5102702379226685
         ],
         "y": [
          0.8600141406059265
         ]
        },
        {
         "marker": {
          "size": 10
         },
         "mode": "markers",
         "type": "scatter",
         "x": [
          -0.5406409502029419
         ],
         "y": [
          0.8412534594535828
         ]
        },
        {
         "marker": {
          "size": 10
         },
         "mode": "markers",
         "type": "scatter",
         "x": [
          -0.5703226923942566
         ],
         "y": [
          0.8214207291603088
         ]
        },
        {
         "marker": {
          "size": 10
         },
         "mode": "markers",
         "type": "scatter",
         "x": [
          -0.599277675151825
         ],
         "y": [
          0.8005412220954895
         ]
        },
        {
         "marker": {
          "size": 10
         },
         "mode": "markers",
         "type": "scatter",
         "x": [
          -0.6274689435958862
         ],
         "y": [
          0.7786415815353394
         ]
        },
        {
         "marker": {
          "size": 10
         },
         "mode": "markers",
         "type": "scatter",
         "x": [
          -0.6548606157302856
         ],
         "y": [
          0.7557497024536133
         ]
        },
        {
         "marker": {
          "size": 10
         },
         "mode": "markers",
         "type": "scatter",
         "x": [
          -0.6814177632331848
         ],
         "y": [
          0.7318946719169617
         ]
        },
        {
         "marker": {
          "size": 10
         },
         "mode": "markers",
         "type": "scatter",
         "x": [
          -0.7071065902709961
         ],
         "y": [
          0.7071070075035095
         ]
        },
        {
         "marker": {
          "size": 10
         },
         "mode": "markers",
         "type": "scatter",
         "x": [
          -0.7318942546844482
         ],
         "y": [
          0.681418240070343
         ]
        },
        {
         "marker": {
          "size": 10
         },
         "mode": "markers",
         "type": "scatter",
         "x": [
          -0.7557498812675476
         ],
         "y": [
          0.6548603773117065
         ]
        },
        {
         "marker": {
          "size": 10
         },
         "mode": "markers",
         "type": "scatter",
         "x": [
          -0.7786418199539185
         ],
         "y": [
          0.6274687051773071
         ]
        },
        {
         "marker": {
          "size": 10
         },
         "mode": "markers",
         "type": "scatter",
         "x": [
          -0.8005414605140686
         ],
         "y": [
          0.5992773771286011
         ]
        },
        {
         "marker": {
          "size": 10
         },
         "mode": "markers",
         "type": "scatter",
         "x": [
          -0.8214209079742432
         ],
         "y": [
          0.5703223943710327
         ]
        },
        {
         "marker": {
          "size": 10
         },
         "mode": "markers",
         "type": "scatter",
         "x": [
          -0.8412536382675171
         ],
         "y": [
          0.540640652179718
         ]
        },
        {
         "marker": {
          "size": 10
         },
         "mode": "markers",
         "type": "scatter",
         "x": [
          -0.8600143194198608
         ],
         "y": [
          0.5102699398994446
         ]
        },
        {
         "marker": {
          "size": 10
         },
         "mode": "markers",
         "type": "scatter",
         "x": [
          -0.8776790499687195
         ],
         "y": [
          0.47924891114234924
         ]
        },
        {
         "marker": {
          "size": 10
         },
         "mode": "markers",
         "type": "scatter",
         "x": [
          -0.8942252993583679
         ],
         "y": [
          0.44761720299720764
         ]
        },
        {
         "marker": {
          "size": 10
         },
         "mode": "markers",
         "type": "scatter",
         "x": [
          -0.9096319675445557
         ],
         "y": [
          0.41541507840156555
         ]
        },
        {
         "marker": {
          "size": 10
         },
         "mode": "markers",
         "type": "scatter",
         "x": [
          -0.9238795042037964
         ],
         "y": [
          0.38268354535102844
         ]
        },
        {
         "marker": {
          "size": 10
         },
         "mode": "markers",
         "type": "scatter",
         "x": [
          -0.9369496703147888
         ],
         "y": [
          0.3494643568992615
         ]
        },
        {
         "marker": {
          "size": 10
         },
         "mode": "markers",
         "type": "scatter",
         "x": [
          -0.9488258361816406
         ],
         "y": [
          0.31579986214637756
         ]
        },
        {
         "marker": {
          "size": 10
         },
         "mode": "markers",
         "type": "scatter",
         "x": [
          -0.9594928622245789
         ],
         "y": [
          0.2817328870296478
         ]
        },
        {
         "marker": {
          "size": 10
         },
         "mode": "markers",
         "type": "scatter",
         "x": [
          -0.9689374566078186
         ],
         "y": [
          0.2473059892654419
         ]
        },
        {
         "marker": {
          "size": 10
         },
         "mode": "markers",
         "type": "scatter",
         "x": [
          -0.9771469831466675
         ],
         "y": [
          0.2125648409128189
         ]
        },
        {
         "marker": {
          "size": 10
         },
         "mode": "markers",
         "type": "scatter",
         "x": [
          -0.9841112494468689
         ],
         "y": [
          0.17755281925201416
         ]
        },
        {
         "marker": {
          "size": 10
         },
         "mode": "markers",
         "type": "scatter",
         "x": [
          -0.9898214936256409
         ],
         "y": [
          0.14231452345848083
         ]
        },
        {
         "marker": {
          "size": 10
         },
         "mode": "markers",
         "type": "scatter",
         "x": [
          -0.9942703247070312
         ],
         "y": [
          0.10689488053321838
         ]
        },
        {
         "marker": {
          "size": 10
         },
         "mode": "markers",
         "type": "scatter",
         "x": [
          -0.9974521398544312
         ],
         "y": [
          0.07133901864290237
         ]
        },
        {
         "marker": {
          "size": 10
         },
         "mode": "markers",
         "type": "scatter",
         "x": [
          -0.9993628263473511
         ],
         "y": [
          0.0356922410428524
         ]
        }
       ],
       "layout": {
        "template": {
         "data": {
          "bar": [
           {
            "error_x": {
             "color": "#2a3f5f"
            },
            "error_y": {
             "color": "#2a3f5f"
            },
            "marker": {
             "line": {
              "color": "#E5ECF6",
              "width": 0.5
             },
             "pattern": {
              "fillmode": "overlay",
              "size": 10,
              "solidity": 0.2
             }
            },
            "type": "bar"
           }
          ],
          "barpolar": [
           {
            "marker": {
             "line": {
              "color": "#E5ECF6",
              "width": 0.5
             },
             "pattern": {
              "fillmode": "overlay",
              "size": 10,
              "solidity": 0.2
             }
            },
            "type": "barpolar"
           }
          ],
          "carpet": [
           {
            "aaxis": {
             "endlinecolor": "#2a3f5f",
             "gridcolor": "white",
             "linecolor": "white",
             "minorgridcolor": "white",
             "startlinecolor": "#2a3f5f"
            },
            "baxis": {
             "endlinecolor": "#2a3f5f",
             "gridcolor": "white",
             "linecolor": "white",
             "minorgridcolor": "white",
             "startlinecolor": "#2a3f5f"
            },
            "type": "carpet"
           }
          ],
          "choropleth": [
           {
            "colorbar": {
             "outlinewidth": 0,
             "ticks": ""
            },
            "type": "choropleth"
           }
          ],
          "contour": [
           {
            "colorbar": {
             "outlinewidth": 0,
             "ticks": ""
            },
            "colorscale": [
             [
              0,
              "#0d0887"
             ],
             [
              0.1111111111111111,
              "#46039f"
             ],
             [
              0.2222222222222222,
              "#7201a8"
             ],
             [
              0.3333333333333333,
              "#9c179e"
             ],
             [
              0.4444444444444444,
              "#bd3786"
             ],
             [
              0.5555555555555556,
              "#d8576b"
             ],
             [
              0.6666666666666666,
              "#ed7953"
             ],
             [
              0.7777777777777778,
              "#fb9f3a"
             ],
             [
              0.8888888888888888,
              "#fdca26"
             ],
             [
              1,
              "#f0f921"
             ]
            ],
            "type": "contour"
           }
          ],
          "contourcarpet": [
           {
            "colorbar": {
             "outlinewidth": 0,
             "ticks": ""
            },
            "type": "contourcarpet"
           }
          ],
          "heatmap": [
           {
            "colorbar": {
             "outlinewidth": 0,
             "ticks": ""
            },
            "colorscale": [
             [
              0,
              "#0d0887"
             ],
             [
              0.1111111111111111,
              "#46039f"
             ],
             [
              0.2222222222222222,
              "#7201a8"
             ],
             [
              0.3333333333333333,
              "#9c179e"
             ],
             [
              0.4444444444444444,
              "#bd3786"
             ],
             [
              0.5555555555555556,
              "#d8576b"
             ],
             [
              0.6666666666666666,
              "#ed7953"
             ],
             [
              0.7777777777777778,
              "#fb9f3a"
             ],
             [
              0.8888888888888888,
              "#fdca26"
             ],
             [
              1,
              "#f0f921"
             ]
            ],
            "type": "heatmap"
           }
          ],
          "heatmapgl": [
           {
            "colorbar": {
             "outlinewidth": 0,
             "ticks": ""
            },
            "colorscale": [
             [
              0,
              "#0d0887"
             ],
             [
              0.1111111111111111,
              "#46039f"
             ],
             [
              0.2222222222222222,
              "#7201a8"
             ],
             [
              0.3333333333333333,
              "#9c179e"
             ],
             [
              0.4444444444444444,
              "#bd3786"
             ],
             [
              0.5555555555555556,
              "#d8576b"
             ],
             [
              0.6666666666666666,
              "#ed7953"
             ],
             [
              0.7777777777777778,
              "#fb9f3a"
             ],
             [
              0.8888888888888888,
              "#fdca26"
             ],
             [
              1,
              "#f0f921"
             ]
            ],
            "type": "heatmapgl"
           }
          ],
          "histogram": [
           {
            "marker": {
             "pattern": {
              "fillmode": "overlay",
              "size": 10,
              "solidity": 0.2
             }
            },
            "type": "histogram"
           }
          ],
          "histogram2d": [
           {
            "colorbar": {
             "outlinewidth": 0,
             "ticks": ""
            },
            "colorscale": [
             [
              0,
              "#0d0887"
             ],
             [
              0.1111111111111111,
              "#46039f"
             ],
             [
              0.2222222222222222,
              "#7201a8"
             ],
             [
              0.3333333333333333,
              "#9c179e"
             ],
             [
              0.4444444444444444,
              "#bd3786"
             ],
             [
              0.5555555555555556,
              "#d8576b"
             ],
             [
              0.6666666666666666,
              "#ed7953"
             ],
             [
              0.7777777777777778,
              "#fb9f3a"
             ],
             [
              0.8888888888888888,
              "#fdca26"
             ],
             [
              1,
              "#f0f921"
             ]
            ],
            "type": "histogram2d"
           }
          ],
          "histogram2dcontour": [
           {
            "colorbar": {
             "outlinewidth": 0,
             "ticks": ""
            },
            "colorscale": [
             [
              0,
              "#0d0887"
             ],
             [
              0.1111111111111111,
              "#46039f"
             ],
             [
              0.2222222222222222,
              "#7201a8"
             ],
             [
              0.3333333333333333,
              "#9c179e"
             ],
             [
              0.4444444444444444,
              "#bd3786"
             ],
             [
              0.5555555555555556,
              "#d8576b"
             ],
             [
              0.6666666666666666,
              "#ed7953"
             ],
             [
              0.7777777777777778,
              "#fb9f3a"
             ],
             [
              0.8888888888888888,
              "#fdca26"
             ],
             [
              1,
              "#f0f921"
             ]
            ],
            "type": "histogram2dcontour"
           }
          ],
          "mesh3d": [
           {
            "colorbar": {
             "outlinewidth": 0,
             "ticks": ""
            },
            "type": "mesh3d"
           }
          ],
          "parcoords": [
           {
            "line": {
             "colorbar": {
              "outlinewidth": 0,
              "ticks": ""
             }
            },
            "type": "parcoords"
           }
          ],
          "pie": [
           {
            "automargin": true,
            "type": "pie"
           }
          ],
          "scatter": [
           {
            "fillpattern": {
             "fillmode": "overlay",
             "size": 10,
             "solidity": 0.2
            },
            "type": "scatter"
           }
          ],
          "scatter3d": [
           {
            "line": {
             "colorbar": {
              "outlinewidth": 0,
              "ticks": ""
             }
            },
            "marker": {
             "colorbar": {
              "outlinewidth": 0,
              "ticks": ""
             }
            },
            "type": "scatter3d"
           }
          ],
          "scattercarpet": [
           {
            "marker": {
             "colorbar": {
              "outlinewidth": 0,
              "ticks": ""
             }
            },
            "type": "scattercarpet"
           }
          ],
          "scattergeo": [
           {
            "marker": {
             "colorbar": {
              "outlinewidth": 0,
              "ticks": ""
             }
            },
            "type": "scattergeo"
           }
          ],
          "scattergl": [
           {
            "marker": {
             "colorbar": {
              "outlinewidth": 0,
              "ticks": ""
             }
            },
            "type": "scattergl"
           }
          ],
          "scattermapbox": [
           {
            "marker": {
             "colorbar": {
              "outlinewidth": 0,
              "ticks": ""
             }
            },
            "type": "scattermapbox"
           }
          ],
          "scatterpolar": [
           {
            "marker": {
             "colorbar": {
              "outlinewidth": 0,
              "ticks": ""
             }
            },
            "type": "scatterpolar"
           }
          ],
          "scatterpolargl": [
           {
            "marker": {
             "colorbar": {
              "outlinewidth": 0,
              "ticks": ""
             }
            },
            "type": "scatterpolargl"
           }
          ],
          "scatterternary": [
           {
            "marker": {
             "colorbar": {
              "outlinewidth": 0,
              "ticks": ""
             }
            },
            "type": "scatterternary"
           }
          ],
          "surface": [
           {
            "colorbar": {
             "outlinewidth": 0,
             "ticks": ""
            },
            "colorscale": [
             [
              0,
              "#0d0887"
             ],
             [
              0.1111111111111111,
              "#46039f"
             ],
             [
              0.2222222222222222,
              "#7201a8"
             ],
             [
              0.3333333333333333,
              "#9c179e"
             ],
             [
              0.4444444444444444,
              "#bd3786"
             ],
             [
              0.5555555555555556,
              "#d8576b"
             ],
             [
              0.6666666666666666,
              "#ed7953"
             ],
             [
              0.7777777777777778,
              "#fb9f3a"
             ],
             [
              0.8888888888888888,
              "#fdca26"
             ],
             [
              1,
              "#f0f921"
             ]
            ],
            "type": "surface"
           }
          ],
          "table": [
           {
            "cells": {
             "fill": {
              "color": "#EBF0F8"
             },
             "line": {
              "color": "white"
             }
            },
            "header": {
             "fill": {
              "color": "#C8D4E3"
             },
             "line": {
              "color": "white"
             }
            },
            "type": "table"
           }
          ]
         },
         "layout": {
          "annotationdefaults": {
           "arrowcolor": "#2a3f5f",
           "arrowhead": 0,
           "arrowwidth": 1
          },
          "autotypenumbers": "strict",
          "coloraxis": {
           "colorbar": {
            "outlinewidth": 0,
            "ticks": ""
           }
          },
          "colorscale": {
           "diverging": [
            [
             0,
             "#8e0152"
            ],
            [
             0.1,
             "#c51b7d"
            ],
            [
             0.2,
             "#de77ae"
            ],
            [
             0.3,
             "#f1b6da"
            ],
            [
             0.4,
             "#fde0ef"
            ],
            [
             0.5,
             "#f7f7f7"
            ],
            [
             0.6,
             "#e6f5d0"
            ],
            [
             0.7,
             "#b8e186"
            ],
            [
             0.8,
             "#7fbc41"
            ],
            [
             0.9,
             "#4d9221"
            ],
            [
             1,
             "#276419"
            ]
           ],
           "sequential": [
            [
             0,
             "#0d0887"
            ],
            [
             0.1111111111111111,
             "#46039f"
            ],
            [
             0.2222222222222222,
             "#7201a8"
            ],
            [
             0.3333333333333333,
             "#9c179e"
            ],
            [
             0.4444444444444444,
             "#bd3786"
            ],
            [
             0.5555555555555556,
             "#d8576b"
            ],
            [
             0.6666666666666666,
             "#ed7953"
            ],
            [
             0.7777777777777778,
             "#fb9f3a"
            ],
            [
             0.8888888888888888,
             "#fdca26"
            ],
            [
             1,
             "#f0f921"
            ]
           ],
           "sequentialminus": [
            [
             0,
             "#0d0887"
            ],
            [
             0.1111111111111111,
             "#46039f"
            ],
            [
             0.2222222222222222,
             "#7201a8"
            ],
            [
             0.3333333333333333,
             "#9c179e"
            ],
            [
             0.4444444444444444,
             "#bd3786"
            ],
            [
             0.5555555555555556,
             "#d8576b"
            ],
            [
             0.6666666666666666,
             "#ed7953"
            ],
            [
             0.7777777777777778,
             "#fb9f3a"
            ],
            [
             0.8888888888888888,
             "#fdca26"
            ],
            [
             1,
             "#f0f921"
            ]
           ]
          },
          "colorway": [
           "#636efa",
           "#EF553B",
           "#00cc96",
           "#ab63fa",
           "#FFA15A",
           "#19d3f3",
           "#FF6692",
           "#B6E880",
           "#FF97FF",
           "#FECB52"
          ],
          "font": {
           "color": "#2a3f5f"
          },
          "geo": {
           "bgcolor": "white",
           "lakecolor": "white",
           "landcolor": "#E5ECF6",
           "showlakes": true,
           "showland": true,
           "subunitcolor": "white"
          },
          "hoverlabel": {
           "align": "left"
          },
          "hovermode": "closest",
          "mapbox": {
           "style": "light"
          },
          "paper_bgcolor": "white",
          "plot_bgcolor": "#E5ECF6",
          "polar": {
           "angularaxis": {
            "gridcolor": "white",
            "linecolor": "white",
            "ticks": ""
           },
           "bgcolor": "#E5ECF6",
           "radialaxis": {
            "gridcolor": "white",
            "linecolor": "white",
            "ticks": ""
           }
          },
          "scene": {
           "xaxis": {
            "backgroundcolor": "#E5ECF6",
            "gridcolor": "white",
            "gridwidth": 2,
            "linecolor": "white",
            "showbackground": true,
            "ticks": "",
            "zerolinecolor": "white"
           },
           "yaxis": {
            "backgroundcolor": "#E5ECF6",
            "gridcolor": "white",
            "gridwidth": 2,
            "linecolor": "white",
            "showbackground": true,
            "ticks": "",
            "zerolinecolor": "white"
           },
           "zaxis": {
            "backgroundcolor": "#E5ECF6",
            "gridcolor": "white",
            "gridwidth": 2,
            "linecolor": "white",
            "showbackground": true,
            "ticks": "",
            "zerolinecolor": "white"
           }
          },
          "shapedefaults": {
           "line": {
            "color": "#2a3f5f"
           }
          },
          "ternary": {
           "aaxis": {
            "gridcolor": "white",
            "linecolor": "white",
            "ticks": ""
           },
           "baxis": {
            "gridcolor": "white",
            "linecolor": "white",
            "ticks": ""
           },
           "bgcolor": "#E5ECF6",
           "caxis": {
            "gridcolor": "white",
            "linecolor": "white",
            "ticks": ""
           }
          },
          "title": {
           "x": 0.05
          },
          "xaxis": {
           "automargin": true,
           "gridcolor": "white",
           "linecolor": "white",
           "ticks": "",
           "title": {
            "standoff": 15
           },
           "zerolinecolor": "white",
           "zerolinewidth": 2
          },
          "yaxis": {
           "automargin": true,
           "gridcolor": "white",
           "linecolor": "white",
           "ticks": "",
           "title": {
            "standoff": 15
           },
           "zerolinecolor": "white",
           "zerolinewidth": 2
          }
         }
        }
       }
      }
     },
     "metadata": {},
     "output_type": "display_data"
    }
   ],
   "source": [
    "pos = nx.shell_layout(g)\n",
    "\n",
    "fig = go.Figure()\n",
    "\n",
    "for u, v, data in g.edges(data=True):\n",
    "    x0, y0 = pos[u]\n",
    "    x1, y1 = pos[v]\n",
    "    fig.add_trace(go.Scatter(x=[x0, x1], y=[y0, y1], mode='lines'))\n",
    "\n",
    "# Add nodes to the figure\n",
    "for node in g.nodes():\n",
    "    x, y = pos[node]\n",
    "    fig.add_trace(go.Scatter(x=[x], y=[y], mode='markers', marker=dict(size=10)))\n",
    "\n",
    "# Show the figure\n",
    "fig.show()"
   ]
  }
 ],
 "metadata": {
  "kernelspec": {
   "display_name": ".venv",
   "language": "python",
   "name": "python3"
  },
  "language_info": {
   "codemirror_mode": {
    "name": "ipython",
    "version": 3
   },
   "file_extension": ".py",
   "mimetype": "text/x-python",
   "name": "python",
   "nbconvert_exporter": "python",
   "pygments_lexer": "ipython3",
   "version": "3.12.3"
  }
 },
 "nbformat": 4,
 "nbformat_minor": 2
}
